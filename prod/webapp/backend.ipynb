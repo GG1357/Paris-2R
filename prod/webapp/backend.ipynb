{
 "cells": [
  {
   "cell_type": "markdown",
   "metadata": {},
   "source": [
    "# Backend : iteraction with user"
   ]
  },
  {
   "cell_type": "code",
   "execution_count": 29,
   "metadata": {
    "ExecuteTime": {
     "end_time": "2021-11-23T18:55:49.810338Z",
     "start_time": "2021-11-23T18:55:49.803594Z"
    }
   },
   "outputs": [],
   "source": [
    "# import\n",
    "import os\n",
    "import folium\n",
    "import pyproj\n",
    "from functools import partial\n",
    "import pandas as pd\n",
    "from shapely.ops import transform\n",
    "import geopandas as gpd\n",
    "import openrouteservice as ors\n",
    "from IPython.display import display\n",
    "from shapely.geometry import Point, LineString, Polygon"
   ]
  },
  {
   "cell_type": "markdown",
   "metadata": {},
   "source": [
    "### User input coordinates : addresses later."
   ]
  },
  {
   "cell_type": "code",
   "execution_count": 2,
   "metadata": {
    "ExecuteTime": {
     "end_time": "2021-11-23T18:49:38.052755Z",
     "start_time": "2021-11-23T18:49:38.045466Z"
    }
   },
   "outputs": [],
   "source": [
    "# input coordinates\n",
    "coordinates = [[2.3668617010116577,48.86100925394748 ], [2.4125343561172485, 48.83392954811057]]"
   ]
  },
  {
   "cell_type": "code",
   "execution_count": 3,
   "metadata": {
    "ExecuteTime": {
     "end_time": "2021-11-23T18:49:39.490502Z",
     "start_time": "2021-11-23T18:49:39.273805Z"
    }
   },
   "outputs": [],
   "source": [
    "# openrouteservices \n",
    "client = ors.Client(key='5b3ce3597851110001cf62485169f9e2d05c419eaf0607fe2b5b0bfa')\n",
    "\n",
    "#requete openrouteservice\n",
    "route = client.directions(\n",
    "    coordinates=coordinates,\n",
    "    profile='cycling-regular',\n",
    "    format ='geojson',\n",
    "    units ='km'\n",
    ")"
   ]
  },
  {
   "cell_type": "code",
   "execution_count": 31,
   "metadata": {
    "ExecuteTime": {
     "end_time": "2021-11-23T18:55:59.745373Z",
     "start_time": "2021-11-23T18:55:59.630429Z"
    }
   },
   "outputs": [
    {
     "data": {
      "text/html": [
       "<div>\n",
       "<style scoped>\n",
       "    .dataframe tbody tr th:only-of-type {\n",
       "        vertical-align: middle;\n",
       "    }\n",
       "\n",
       "    .dataframe tbody tr th {\n",
       "        vertical-align: top;\n",
       "    }\n",
       "\n",
       "    .dataframe thead th {\n",
       "        text-align: right;\n",
       "    }\n",
       "</style>\n",
       "<table border=\"1\" class=\"dataframe\">\n",
       "  <thead>\n",
       "    <tr style=\"text-align: right;\">\n",
       "      <th></th>\n",
       "      <th>cluster_index</th>\n",
       "      <th>geometry</th>\n",
       "    </tr>\n",
       "  </thead>\n",
       "  <tbody>\n",
       "    <tr>\n",
       "      <th>45</th>\n",
       "      <td>45</td>\n",
       "      <td>POLYGON ((2.36170 48.83985, 2.36174 48.83999, ...</td>\n",
       "    </tr>\n",
       "    <tr>\n",
       "      <th>100</th>\n",
       "      <td>100</td>\n",
       "      <td>POLYGON ((2.29236 48.83907, 2.29146 48.83913, ...</td>\n",
       "    </tr>\n",
       "  </tbody>\n",
       "</table>\n",
       "</div>"
      ],
      "text/plain": [
       "     cluster_index                                           geometry\n",
       "45              45  POLYGON ((2.36170 48.83985, 2.36174 48.83999, ...\n",
       "100            100  POLYGON ((2.29236 48.83907, 2.29146 48.83913, ..."
      ]
     },
     "metadata": {},
     "output_type": "display_data"
    },
    {
     "name": "stderr",
     "output_type": "stream",
     "text": [
      "/Users/mac/Desktop/2R/env/lib/python3.8/site-packages/pyproj/crs/crs.py:131: FutureWarning: '+init=<authority>:<code>' syntax is deprecated. '<authority>:<code>' is the preferred initialization method. When making the change, be mindful of axis order changes: https://pyproj4.github.io/pyproj/stable/gotchas.html#axis-order-changes-in-proj-6\n",
      "  in_crs_string = _prepare_from_proj_string(in_crs_string)\n",
      "/Users/mac/Desktop/2R/env/lib/python3.8/site-packages/pyproj/crs/crs.py:131: FutureWarning: '+init=<authority>:<code>' syntax is deprecated. '<authority>:<code>' is the preferred initialization method. When making the change, be mindful of axis order changes: https://pyproj4.github.io/pyproj/stable/gotchas.html#axis-order-changes-in-proj-6\n",
      "  in_crs_string = _prepare_from_proj_string(in_crs_string)\n"
     ]
    },
    {
     "data": {
      "image/svg+xml": [
       "<svg xmlns=\"http://www.w3.org/2000/svg\" xmlns:xlink=\"http://www.w3.org/1999/xlink\" width=\"100.0\" height=\"100.0\" viewBox=\"2.3099902981949314 48.85999337132064 1.9403610137302962e-05 1.3257358013163412e-05\" preserveAspectRatio=\"xMinYMin meet\"><g transform=\"matrix(1,0,0,-1,0,97.71999999999929)\"><path fill-rule=\"evenodd\" fill=\"#66cc99\" stroke=\"#555555\" stroke-width=\"3.8807220274605926e-07\" opacity=\"0.6\" d=\"M 2.310008983152841,48.85999999999999 L 2.310008939896505,48.859999420716065 L 2.3100088105440784,48.85999884701096 L 2.310008596341296,48.85999828440975 L 2.3100082993510473,48.859997738330605 L 2.3100079224335115,48.85999721403258 L 2.3100074692186103,48.859996716564936 L 2.3100069440710507,48.85999625071856 L 2.3100063520482905,48.859995820979805 L 2.310005698851833,48.859995431487306 L 2.3100049907723172,48.859995085992075 L 2.3100042346289356,48.859994787821435 L 2.310003437703763,48.85999453984692 L 2.3100026076716236,48.85999434445666 L 2.3100017525261807,48.85999420353239 L 2.3100008805029524,48.85999411843127 L 2.31,48.859994089972865 L 2.3099991194970477,48.85999411843127 L 2.3099982474738194,48.85999420353239 L 2.309997392328377,48.85999434445666 L 2.309996562296237,48.85999453984692 L 2.309995765371064,48.859994787821435 L 2.309995009227683,48.859995085992075 L 2.309994301148167,48.859995431487306 L 2.3099936479517096,48.859995820979805 L 2.3099930559289494,48.85999625071856 L 2.3099925307813898,48.859996716564936 L 2.3099920775664886,48.85999721403258 L 2.3099917006489523,48.859997738330605 L 2.309991403658704,48.85999828440975 L 2.3099911894559217,48.85999884701096 L 2.309991060103495,48.859999420716065 L 2.309991016847159,48.85999999999999 L 2.309991060103495,48.86000057928392 L 2.3099911894559217,48.86000115298901 L 2.309991403658704,48.86000171559018 L 2.3099917006489523,48.86000226166928 L 2.3099920775664886,48.860002785967254 L 2.3099925307813898,48.860003283434835 L 2.3099930559289494,48.860003749281155 L 2.3099936479517096,48.86000417901983 L 2.309994301148167,48.860004568512274 L 2.309995009227683,48.86000491400743 L 2.309995765371064,48.86000521217802 L 2.309996562296237,48.86000546015248 L 2.309997392328377,48.86000565554269 L 2.3099982474738194,48.860005796466936 L 2.3099991194970477,48.860005881568036 L 2.31,48.86000591002643 L 2.3100008805029524,48.860005881568036 L 2.3100017525261807,48.860005796466936 L 2.3100026076716236,48.86000565554269 L 2.310003437703763,48.86000546015248 L 2.3100042346289356,48.86000521217802 L 2.3100049907723172,48.86000491400743 L 2.310005698851833,48.860004568512274 L 2.3100063520482905,48.86000417901983 L 2.3100069440710507,48.860003749281155 L 2.3100074692186103,48.860003283434835 L 2.3100079224335115,48.860002785967254 L 2.3100082993510473,48.86000226166928 L 2.310008596341296,48.86000171559018 L 2.3100088105440784,48.86000115298901 L 2.310008939896505,48.86000057928392 L 2.310008983152841,48.85999999999999 z\" /></g></svg>"
      ],
      "text/plain": [
       "<shapely.geometry.polygon.Polygon at 0x7f88251cd370>"
      ]
     },
     "execution_count": 31,
     "metadata": {},
     "output_type": "execute_result"
    }
   ],
   "source": [
    "# get clusters\n",
    "cluster_polygons_file = \"../model/model_cluster/cluster_polygons.geojson\"\n",
    "gdf_cluster = gpd.read_file(cluster_polygons_file)\n",
    "\n",
    "display(gdf_cluster.sample(2))\n",
    "\n",
    "# buffer on cluster data\n",
    "buffer_in_meters(2.31, 48.86, 1)"
   ]
  },
  {
   "cell_type": "code",
   "execution_count": 5,
   "metadata": {
    "ExecuteTime": {
     "end_time": "2021-11-23T18:49:42.854517Z",
     "start_time": "2021-11-23T18:49:42.829514Z"
    }
   },
   "outputs": [
    {
     "data": {
      "text/html": [
       "<div>\n",
       "<style scoped>\n",
       "    .dataframe tbody tr th:only-of-type {\n",
       "        vertical-align: middle;\n",
       "    }\n",
       "\n",
       "    .dataframe tbody tr th {\n",
       "        vertical-align: top;\n",
       "    }\n",
       "\n",
       "    .dataframe thead th {\n",
       "        text-align: right;\n",
       "    }\n",
       "</style>\n",
       "<table border=\"1\" class=\"dataframe\">\n",
       "  <thead>\n",
       "    <tr style=\"text-align: right;\">\n",
       "      <th></th>\n",
       "      <th>lon</th>\n",
       "      <th>lat</th>\n",
       "      <th>geometry</th>\n",
       "    </tr>\n",
       "  </thead>\n",
       "  <tbody>\n",
       "    <tr>\n",
       "      <th>127</th>\n",
       "      <td>2.398968</td>\n",
       "      <td>48.841036</td>\n",
       "      <td>POINT (2.39897 48.84104)</td>\n",
       "    </tr>\n",
       "    <tr>\n",
       "      <th>57</th>\n",
       "      <td>2.380408</td>\n",
       "      <td>48.857554</td>\n",
       "      <td>POINT (2.38041 48.85755)</td>\n",
       "    </tr>\n",
       "  </tbody>\n",
       "</table>\n",
       "</div>"
      ],
      "text/plain": [
       "          lon        lat                  geometry\n",
       "127  2.398968  48.841036  POINT (2.39897 48.84104)\n",
       "57   2.380408  48.857554  POINT (2.38041 48.85755)"
      ]
     },
     "metadata": {},
     "output_type": "display_data"
    }
   ],
   "source": [
    "# user route to df\n",
    "user_line_df = pd.DataFrame(route['features'][0]['geometry']['coordinates'],\n",
    "                            columns=[\"lon\", \"lat\"])\n",
    "\n",
    "# df to gdf\n",
    "user_line_gdf = gpd.GeoDataFrame(user_line_df, \n",
    "                    geometry=gpd.points_from_xy(user_line_df.lon, user_line_df.lat),\n",
    "                    crs=\"epsg:4326\")\n",
    "\n",
    "display(user_line_gdf.sample(2))"
   ]
  },
  {
   "cell_type": "code",
   "execution_count": 21,
   "metadata": {
    "ExecuteTime": {
     "end_time": "2021-11-23T18:52:44.741464Z",
     "start_time": "2021-11-23T18:52:44.730576Z"
    }
   },
   "outputs": [],
   "source": [
    "#!pip install rtree\n",
    "#!pip install pygeos"
   ]
  },
  {
   "cell_type": "code",
   "execution_count": 22,
   "metadata": {
    "ExecuteTime": {
     "end_time": "2021-11-23T18:52:45.609358Z",
     "start_time": "2021-11-23T18:52:45.568772Z"
    }
   },
   "outputs": [],
   "source": [
    "# intersect : spatial join\n",
    "cluster_on_route = gpd.sjoin(gdf_cluster, user_line_gdf)[gdf_cluster.columns]"
   ]
  },
  {
   "cell_type": "code",
   "execution_count": 10,
   "metadata": {
    "ExecuteTime": {
     "end_time": "2021-11-23T18:50:15.634706Z",
     "start_time": "2021-11-23T18:50:15.622737Z"
    },
    "scrolled": true
   },
   "outputs": [
    {
     "data": {
      "text/html": [
       "<div>\n",
       "<style scoped>\n",
       "    .dataframe tbody tr th:only-of-type {\n",
       "        vertical-align: middle;\n",
       "    }\n",
       "\n",
       "    .dataframe tbody tr th {\n",
       "        vertical-align: top;\n",
       "    }\n",
       "\n",
       "    .dataframe thead th {\n",
       "        text-align: right;\n",
       "    }\n",
       "</style>\n",
       "<table border=\"1\" class=\"dataframe\">\n",
       "  <thead>\n",
       "    <tr style=\"text-align: right;\">\n",
       "      <th></th>\n",
       "      <th>cluster_index</th>\n",
       "      <th>geometry</th>\n",
       "    </tr>\n",
       "  </thead>\n",
       "  <tbody>\n",
       "    <tr>\n",
       "      <th>18</th>\n",
       "      <td>18</td>\n",
       "      <td>POLYGON ((2.40658 48.83535, 2.40694 48.83559, ...</td>\n",
       "    </tr>\n",
       "  </tbody>\n",
       "</table>\n",
       "</div>"
      ],
      "text/plain": [
       "    cluster_index                                           geometry\n",
       "18             18  POLYGON ((2.40658 48.83535, 2.40694 48.83559, ..."
      ]
     },
     "execution_count": 10,
     "metadata": {},
     "output_type": "execute_result"
    }
   ],
   "source": [
    "cluster_on_route"
   ]
  },
  {
   "cell_type": "code",
   "execution_count": 19,
   "metadata": {
    "ExecuteTime": {
     "end_time": "2021-11-23T18:51:37.871758Z",
     "start_time": "2021-11-23T18:51:37.854252Z"
    }
   },
   "outputs": [],
   "source": [
    "# localisation Paris\n",
    "m = folium.Map(location=[48.862, 2.346], tiles='cartodbpositron', zoom_start=12)\n",
    "\n",
    "# add user itinerary polyline\n",
    "folium.PolyLine(locations=[list(reversed(coord)) \n",
    "                           for coord in \n",
    "                           route['features'][0]['geometry']['coordinates']]).add_to(m)\n",
    "\n",
    "# cluster on map\n",
    "gdf = cluster_on_route\n",
    "for _, r in gdf.iterrows():\n",
    "    # Without simplifying the representation of each borough,\n",
    "    # the map might not be displayed\n",
    "    sim_geo = gpd.GeoSeries(r['geometry']).simplify(tolerance=0.001)\n",
    "    geo_j = sim_geo.to_json()\n",
    "    geo_j = folium.GeoJson(data=geo_j,\n",
    "                           style_function=lambda x: {'fillColor': '#ff0000'})\n",
    "    folium.Popup(r['cluster_index']).add_to(geo_j)\n",
    "    geo_j.add_to(m)"
   ]
  },
  {
   "cell_type": "code",
   "execution_count": 20,
   "metadata": {
    "ExecuteTime": {
     "end_time": "2021-11-23T18:51:38.772914Z",
     "start_time": "2021-11-23T18:51:38.753842Z"
    }
   },
   "outputs": [
    {
     "data": {
      "text/html": [
       "<div style=\"width:100%;\"><div style=\"position:relative;width:100%;height:0;padding-bottom:60%;\"><span style=\"color:#565656\">Make this Notebook Trusted to load map: File -> Trust Notebook</span><iframe src=\"about:blank\" style=\"position:absolute;width:100%;height:100%;left:0;top:0;border:none !important;\" data-html=%3C%21DOCTYPE%20html%3E%0A%3Chead%3E%20%20%20%20%0A%20%20%20%20%3Cmeta%20http-equiv%3D%22content-type%22%20content%3D%22text/html%3B%20charset%3DUTF-8%22%20/%3E%0A%20%20%20%20%0A%20%20%20%20%20%20%20%20%3Cscript%3E%0A%20%20%20%20%20%20%20%20%20%20%20%20L_NO_TOUCH%20%3D%20false%3B%0A%20%20%20%20%20%20%20%20%20%20%20%20L_DISABLE_3D%20%3D%20false%3B%0A%20%20%20%20%20%20%20%20%3C/script%3E%0A%20%20%20%20%0A%20%20%20%20%3Cstyle%3Ehtml%2C%20body%20%7Bwidth%3A%20100%25%3Bheight%3A%20100%25%3Bmargin%3A%200%3Bpadding%3A%200%3B%7D%3C/style%3E%0A%20%20%20%20%3Cstyle%3E%23map%20%7Bposition%3Aabsolute%3Btop%3A0%3Bbottom%3A0%3Bright%3A0%3Bleft%3A0%3B%7D%3C/style%3E%0A%20%20%20%20%3Cscript%20src%3D%22https%3A//cdn.jsdelivr.net/npm/leaflet%401.6.0/dist/leaflet.js%22%3E%3C/script%3E%0A%20%20%20%20%3Cscript%20src%3D%22https%3A//code.jquery.com/jquery-1.12.4.min.js%22%3E%3C/script%3E%0A%20%20%20%20%3Cscript%20src%3D%22https%3A//maxcdn.bootstrapcdn.com/bootstrap/3.2.0/js/bootstrap.min.js%22%3E%3C/script%3E%0A%20%20%20%20%3Cscript%20src%3D%22https%3A//cdnjs.cloudflare.com/ajax/libs/Leaflet.awesome-markers/2.0.2/leaflet.awesome-markers.js%22%3E%3C/script%3E%0A%20%20%20%20%3Clink%20rel%3D%22stylesheet%22%20href%3D%22https%3A//cdn.jsdelivr.net/npm/leaflet%401.6.0/dist/leaflet.css%22/%3E%0A%20%20%20%20%3Clink%20rel%3D%22stylesheet%22%20href%3D%22https%3A//maxcdn.bootstrapcdn.com/bootstrap/3.2.0/css/bootstrap.min.css%22/%3E%0A%20%20%20%20%3Clink%20rel%3D%22stylesheet%22%20href%3D%22https%3A//maxcdn.bootstrapcdn.com/bootstrap/3.2.0/css/bootstrap-theme.min.css%22/%3E%0A%20%20%20%20%3Clink%20rel%3D%22stylesheet%22%20href%3D%22https%3A//maxcdn.bootstrapcdn.com/font-awesome/4.6.3/css/font-awesome.min.css%22/%3E%0A%20%20%20%20%3Clink%20rel%3D%22stylesheet%22%20href%3D%22https%3A//cdnjs.cloudflare.com/ajax/libs/Leaflet.awesome-markers/2.0.2/leaflet.awesome-markers.css%22/%3E%0A%20%20%20%20%3Clink%20rel%3D%22stylesheet%22%20href%3D%22https%3A//cdn.jsdelivr.net/gh/python-visualization/folium/folium/templates/leaflet.awesome.rotate.min.css%22/%3E%0A%20%20%20%20%0A%20%20%20%20%20%20%20%20%20%20%20%20%3Cmeta%20name%3D%22viewport%22%20content%3D%22width%3Ddevice-width%2C%0A%20%20%20%20%20%20%20%20%20%20%20%20%20%20%20%20initial-scale%3D1.0%2C%20maximum-scale%3D1.0%2C%20user-scalable%3Dno%22%20/%3E%0A%20%20%20%20%20%20%20%20%20%20%20%20%3Cstyle%3E%0A%20%20%20%20%20%20%20%20%20%20%20%20%20%20%20%20%23map_45e0699f97c44fd49566be086f4ea69f%20%7B%0A%20%20%20%20%20%20%20%20%20%20%20%20%20%20%20%20%20%20%20%20position%3A%20relative%3B%0A%20%20%20%20%20%20%20%20%20%20%20%20%20%20%20%20%20%20%20%20width%3A%20100.0%25%3B%0A%20%20%20%20%20%20%20%20%20%20%20%20%20%20%20%20%20%20%20%20height%3A%20100.0%25%3B%0A%20%20%20%20%20%20%20%20%20%20%20%20%20%20%20%20%20%20%20%20left%3A%200.0%25%3B%0A%20%20%20%20%20%20%20%20%20%20%20%20%20%20%20%20%20%20%20%20top%3A%200.0%25%3B%0A%20%20%20%20%20%20%20%20%20%20%20%20%20%20%20%20%7D%0A%20%20%20%20%20%20%20%20%20%20%20%20%3C/style%3E%0A%20%20%20%20%20%20%20%20%0A%3C/head%3E%0A%3Cbody%3E%20%20%20%20%0A%20%20%20%20%0A%20%20%20%20%20%20%20%20%20%20%20%20%3Cdiv%20class%3D%22folium-map%22%20id%3D%22map_45e0699f97c44fd49566be086f4ea69f%22%20%3E%3C/div%3E%0A%20%20%20%20%20%20%20%20%0A%3C/body%3E%0A%3Cscript%3E%20%20%20%20%0A%20%20%20%20%0A%20%20%20%20%20%20%20%20%20%20%20%20var%20map_45e0699f97c44fd49566be086f4ea69f%20%3D%20L.map%28%0A%20%20%20%20%20%20%20%20%20%20%20%20%20%20%20%20%22map_45e0699f97c44fd49566be086f4ea69f%22%2C%0A%20%20%20%20%20%20%20%20%20%20%20%20%20%20%20%20%7B%0A%20%20%20%20%20%20%20%20%20%20%20%20%20%20%20%20%20%20%20%20center%3A%20%5B48.862%2C%202.346%5D%2C%0A%20%20%20%20%20%20%20%20%20%20%20%20%20%20%20%20%20%20%20%20crs%3A%20L.CRS.EPSG3857%2C%0A%20%20%20%20%20%20%20%20%20%20%20%20%20%20%20%20%20%20%20%20zoom%3A%2012%2C%0A%20%20%20%20%20%20%20%20%20%20%20%20%20%20%20%20%20%20%20%20zoomControl%3A%20true%2C%0A%20%20%20%20%20%20%20%20%20%20%20%20%20%20%20%20%20%20%20%20preferCanvas%3A%20false%2C%0A%20%20%20%20%20%20%20%20%20%20%20%20%20%20%20%20%7D%0A%20%20%20%20%20%20%20%20%20%20%20%20%29%3B%0A%0A%20%20%20%20%20%20%20%20%20%20%20%20%0A%0A%20%20%20%20%20%20%20%20%0A%20%20%20%20%0A%20%20%20%20%20%20%20%20%20%20%20%20var%20tile_layer_4fbd1cbc788b4fb9a08cc49b4a64bd0d%20%3D%20L.tileLayer%28%0A%20%20%20%20%20%20%20%20%20%20%20%20%20%20%20%20%22https%3A//cartodb-basemaps-%7Bs%7D.global.ssl.fastly.net/light_all/%7Bz%7D/%7Bx%7D/%7By%7D.png%22%2C%0A%20%20%20%20%20%20%20%20%20%20%20%20%20%20%20%20%7B%22attribution%22%3A%20%22%5Cu0026copy%3B%20%5Cu003ca%20href%3D%5C%22http%3A//www.openstreetmap.org/copyright%5C%22%5Cu003eOpenStreetMap%5Cu003c/a%5Cu003e%20contributors%20%5Cu0026copy%3B%20%5Cu003ca%20href%3D%5C%22http%3A//cartodb.com/attributions%5C%22%5Cu003eCartoDB%5Cu003c/a%5Cu003e%2C%20CartoDB%20%5Cu003ca%20href%20%3D%5C%22http%3A//cartodb.com/attributions%5C%22%5Cu003eattributions%5Cu003c/a%5Cu003e%22%2C%20%22detectRetina%22%3A%20false%2C%20%22maxNativeZoom%22%3A%2018%2C%20%22maxZoom%22%3A%2018%2C%20%22minZoom%22%3A%200%2C%20%22noWrap%22%3A%20false%2C%20%22opacity%22%3A%201%2C%20%22subdomains%22%3A%20%22abc%22%2C%20%22tms%22%3A%20false%7D%0A%20%20%20%20%20%20%20%20%20%20%20%20%29.addTo%28map_45e0699f97c44fd49566be086f4ea69f%29%3B%0A%20%20%20%20%20%20%20%20%0A%20%20%20%20%0A%20%20%20%20%20%20%20%20%20%20%20%20var%20poly_line_fd04af6cc84e4797b2b171ad9ed7731b%20%3D%20L.polyline%28%0A%20%20%20%20%20%20%20%20%20%20%20%20%20%20%20%20%5B%5B48.861006%2C%202.36686%5D%2C%20%5B48.861313%2C%202.364678%5D%2C%20%5B48.861326%2C%202.364594%5D%2C%20%5B48.861389%2C%202.364598%5D%2C%20%5B48.861487%2C%202.364603%5D%2C%20%5B48.861528%2C%202.364699%5D%2C%20%5B48.861724%2C%202.365158%5D%2C%20%5B48.861762%2C%202.365248%5D%2C%20%5B48.861804%2C%202.365345%5D%2C%20%5B48.861899%2C%202.365568%5D%2C%20%5B48.862078%2C%202.365988%5D%2C%20%5B48.862382%2C%202.366702%5D%2C%20%5B48.862463%2C%202.366891%5D%2C%20%5B48.862598%2C%202.367196%5D%2C%20%5B48.862611%2C%202.367225%5D%2C%20%5B48.862649%2C%202.367312%5D%2C%20%5B48.862685%2C%202.367404%5D%2C%20%5B48.86298%2C%202.36815%5D%2C%20%5B48.863384%2C%202.369185%5D%2C%20%5B48.863407%2C%202.369245%5D%2C%20%5B48.863437%2C%202.36932%5D%2C%20%5B48.863696%2C%202.369964%5D%2C%20%5B48.863729%2C%202.37004%5D%2C%20%5B48.863027%2C%202.371217%5D%2C%20%5B48.862911%2C%202.371413%5D%2C%20%5B48.862798%2C%202.371602%5D%2C%20%5B48.862697%2C%202.371772%5D%2C%20%5B48.862599%2C%202.371938%5D%2C%20%5B48.862315%2C%202.372417%5D%2C%20%5B48.862237%2C%202.372547%5D%2C%20%5B48.862187%2C%202.372631%5D%2C%20%5B48.862116%2C%202.372751%5D%2C%20%5B48.862052%2C%202.372858%5D%2C%20%5B48.862027%2C%202.372898%5D%2C%20%5B48.861974%2C%202.372981%5D%2C%20%5B48.860966%2C%202.374674%5D%2C%20%5B48.860949%2C%202.374702%5D%2C%20%5B48.860926%2C%202.374742%5D%2C%20%5B48.860727%2C%202.375066%5D%2C%20%5B48.860647%2C%202.375197%5D%2C%20%5B48.860531%2C%202.375392%5D%2C%20%5B48.860484%2C%202.375468%5D%2C%20%5B48.860458%2C%202.37551%5D%2C%20%5B48.859725%2C%202.376768%5D%2C%20%5B48.85937%2C%202.377361%5D%2C%20%5B48.858679%2C%202.378509%5D%2C%20%5B48.85824%2C%202.379264%5D%2C%20%5B48.85787%2C%202.379879%5D%2C%20%5B48.857845%2C%202.379921%5D%2C%20%5B48.857828%2C%202.379911%5D%2C%20%5B48.857798%2C%202.379891%5D%2C%20%5B48.857701%2C%202.379906%5D%2C%20%5B48.857693%2C%202.379922%5D%2C%20%5B48.85764%2C%202.380015%5D%2C%20%5B48.857556%2C%202.380165%5D%2C%20%5B48.857564%2C%202.380364%5D%2C%20%5B48.857569%2C%202.380384%5D%2C%20%5B48.857554%2C%202.380408%5D%2C%20%5B48.857314%2C%202.380796%5D%2C%20%5B48.856641%2C%202.381932%5D%2C%20%5B48.856504%2C%202.382168%5D%2C%20%5B48.85616%2C%202.382741%5D%2C%20%5B48.855854%2C%202.383253%5D%2C%20%5B48.855276%2C%202.384228%5D%2C%20%5B48.854929%2C%202.384809%5D%2C%20%5B48.854681%2C%202.385213%5D%2C%20%5B48.854601%2C%202.385345%5D%2C%20%5B48.853302%2C%202.387522%5D%2C%20%5B48.853242%2C%202.387621%5D%2C%20%5B48.853169%2C%202.387744%5D%2C%20%5B48.852868%2C%202.388247%5D%2C%20%5B48.852844%2C%202.388289%5D%2C%20%5B48.852695%2C%202.388538%5D%2C%20%5B48.852394%2C%202.389044%5D%2C%20%5B48.852281%2C%202.389231%5D%2C%20%5B48.851135%2C%202.391151%5D%2C%20%5B48.850552%2C%202.392128%5D%2C%20%5B48.850515%2C%202.39219%5D%2C%20%5B48.850397%2C%202.392387%5D%2C%20%5B48.85032%2C%202.392518%5D%2C%20%5B48.849116%2C%202.394581%5D%2C%20%5B48.849093%2C%202.394733%5D%2C%20%5B48.848934%2C%202.395001%5D%2C%20%5B48.848855%2C%202.395131%5D%2C%20%5B48.84879%2C%202.395237%5D%2C%20%5B48.848728%2C%202.395162%5D%2C%20%5B48.848619%2C%202.395071%5D%2C%20%5B48.84859%2C%202.395054%5D%2C%20%5B48.848517%2C%202.395021%5D%2C%20%5B48.848403%2C%202.394999%5D%2C%20%5B48.848287%2C%202.39501%5D%2C%20%5B48.848184%2C%202.39505%5D%2C%20%5B48.848087%2C%202.395116%5D%2C%20%5B48.848%2C%202.395206%5D%2C%20%5B48.847932%2C%202.395304%5D%2C%20%5B48.84783%2C%202.395541%5D%2C%20%5B48.847798%2C%202.395674%5D%2C%20%5B48.847781%2C%202.395813%5D%2C%20%5B48.847684%2C%202.395795%5D%2C%20%5B48.847578%2C%202.395775%5D%2C%20%5B48.847443%2C%202.39575%5D%2C%20%5B48.847336%2C%202.39573%5D%2C%20%5B48.847247%2C%202.395709%5D%2C%20%5B48.845713%2C%202.395409%5D%2C%20%5B48.845547%2C%202.395381%5D%2C%20%5B48.845455%2C%202.395367%5D%2C%20%5B48.845292%2C%202.395339%5D%2C%20%5B48.845276%2C%202.395352%5D%2C%20%5B48.845228%2C%202.395392%5D%2C%20%5B48.844972%2C%202.395606%5D%2C%20%5B48.844942%2C%202.395631%5D%2C%20%5B48.84392%2C%202.396485%5D%2C%20%5B48.843826%2C%202.396563%5D%2C%20%5B48.843753%2C%202.396623%5D%2C%20%5B48.843637%2C%202.396718%5D%2C%20%5B48.843421%2C%202.396897%5D%2C%20%5B48.843319%2C%202.396985%5D%2C%20%5B48.842933%2C%202.397303%5D%2C%20%5B48.84277%2C%202.397438%5D%2C%20%5B48.842711%2C%202.397491%5D%2C%20%5B48.842648%2C%202.397545%5D%2C%20%5B48.842473%2C%202.397703%5D%2C%20%5B48.842344%2C%202.397817%5D%2C%20%5B48.842282%2C%202.397868%5D%2C%20%5B48.841249%2C%202.398782%5D%2C%20%5B48.841164%2C%202.398856%5D%2C%20%5B48.841103%2C%202.398909%5D%2C%20%5B48.841036%2C%202.398968%5D%2C%20%5B48.840694%2C%202.399264%5D%2C%20%5B48.840606%2C%202.399339%5D%2C%20%5B48.840502%2C%202.399431%5D%2C%20%5B48.840455%2C%202.399471%5D%2C%20%5B48.839988%2C%202.399877%5D%2C%20%5B48.839889%2C%202.399895%5D%2C%20%5B48.839743%2C%202.399926%5D%2C%20%5B48.839711%2C%202.399935%5D%2C%20%5B48.839642%2C%202.400033%5D%2C%20%5B48.839633%2C%202.400081%5D%2C%20%5B48.839635%2C%202.400141%5D%2C%20%5B48.83965%2C%202.400197%5D%2C%20%5B48.839563%2C%202.400285%5D%2C%20%5B48.839249%2C%202.400605%5D%2C%20%5B48.839192%2C%202.400664%5D%2C%20%5B48.83913%2C%202.400727%5D%2C%20%5B48.83886%2C%202.401017%5D%2C%20%5B48.838829%2C%202.401051%5D%2C%20%5B48.838612%2C%202.401268%5D%2C%20%5B48.837467%2C%202.402203%5D%2C%20%5B48.837358%2C%202.402247%5D%2C%20%5B48.837331%2C%202.402237%5D%2C%20%5B48.837154%2C%202.402172%5D%2C%20%5B48.837026%2C%202.402547%5D%2C%20%5B48.836751%2C%202.403333%5D%2C%20%5B48.836697%2C%202.403487%5D%2C%20%5B48.83665%2C%202.403614%5D%2C%20%5B48.836471%2C%202.404068%5D%2C%20%5B48.835923%2C%202.405565%5D%2C%20%5B48.835896%2C%202.405637%5D%2C%20%5B48.835877%2C%202.405694%5D%2C%20%5B48.835733%2C%202.406065%5D%2C%20%5B48.835702%2C%202.406115%5D%2C%20%5B48.835594%2C%202.406323%5D%2C%20%5B48.835486%2C%202.406434%5D%2C%20%5B48.83544%2C%202.406492%5D%2C%20%5B48.835412%2C%202.406527%5D%2C%20%5B48.83536%2C%202.406596%5D%2C%20%5B48.835304%2C%202.406569%5D%2C%20%5B48.835288%2C%202.406593%5D%2C%20%5B48.835197%2C%202.406855%5D%2C%20%5B48.835177%2C%202.40684%5D%2C%20%5B48.835033%2C%202.407237%5D%2C%20%5B48.8348%2C%202.407877%5D%2C%20%5B48.834775%2C%202.407942%5D%2C%20%5B48.834758%2C%202.407989%5D%2C%20%5B48.834758%2C%202.408%5D%2C%20%5B48.834758%2C%202.408014%5D%2C%20%5B48.834804%2C%202.40812%5D%2C%20%5B48.834816%2C%202.408188%5D%2C%20%5B48.834817%2C%202.408267%5D%2C%20%5B48.83435%2C%202.409537%5D%2C%20%5B48.83405%2C%202.410324%5D%2C%20%5B48.833994%2C%202.410527%5D%2C%20%5B48.833943%2C%202.410758%5D%2C%20%5B48.833916%2C%202.410897%5D%2C%20%5B48.833905%2C%202.411035%5D%2C%20%5B48.833847%2C%202.411462%5D%2C%20%5B48.833757%2C%202.412037%5D%2C%20%5B48.833703%2C%202.412235%5D%2C%20%5B48.833635%2C%202.412502%5D%2C%20%5B48.833568%2C%202.412662%5D%2C%20%5B48.833494%2C%202.412759%5D%2C%20%5B48.833551%2C%202.412849%5D%2C%20%5B48.83363%2C%202.412773%5D%2C%20%5B48.833771%2C%202.412632%5D%2C%20%5B48.833878%2C%202.412627%5D%5D%2C%0A%20%20%20%20%20%20%20%20%20%20%20%20%20%20%20%20%7B%22bubblingMouseEvents%22%3A%20true%2C%20%22color%22%3A%20%22%233388ff%22%2C%20%22dashArray%22%3A%20null%2C%20%22dashOffset%22%3A%20null%2C%20%22fill%22%3A%20false%2C%20%22fillColor%22%3A%20%22%233388ff%22%2C%20%22fillOpacity%22%3A%200.2%2C%20%22fillRule%22%3A%20%22evenodd%22%2C%20%22lineCap%22%3A%20%22round%22%2C%20%22lineJoin%22%3A%20%22round%22%2C%20%22noClip%22%3A%20false%2C%20%22opacity%22%3A%201.0%2C%20%22smoothFactor%22%3A%201.0%2C%20%22stroke%22%3A%20true%2C%20%22weight%22%3A%203%7D%0A%20%20%20%20%20%20%20%20%20%20%20%20%29.addTo%28map_45e0699f97c44fd49566be086f4ea69f%29%3B%0A%20%20%20%20%20%20%20%20%0A%20%20%20%20%0A%20%20%20%20%20%20%20%20function%20geo_json_89694b126ec84de0b17a7561a300aa4b_styler%28feature%29%20%7B%0A%20%20%20%20%20%20%20%20%20%20%20%20switch%28feature.id%29%20%7B%0A%20%20%20%20%20%20%20%20%20%20%20%20%20%20%20%20default%3A%0A%20%20%20%20%20%20%20%20%20%20%20%20%20%20%20%20%20%20%20%20return%20%7B%22fillColor%22%3A%20%22%23ff0000%22%7D%3B%0A%20%20%20%20%20%20%20%20%20%20%20%20%7D%0A%20%20%20%20%20%20%20%20%7D%0A%0A%20%20%20%20%20%20%20%20function%20geo_json_89694b126ec84de0b17a7561a300aa4b_onEachFeature%28feature%2C%20layer%29%20%7B%0A%20%20%20%20%20%20%20%20%20%20%20%20layer.on%28%7B%0A%20%20%20%20%20%20%20%20%20%20%20%20%7D%29%3B%0A%20%20%20%20%20%20%20%20%7D%3B%0A%20%20%20%20%20%20%20%20var%20geo_json_89694b126ec84de0b17a7561a300aa4b%20%3D%20L.geoJson%28null%2C%20%7B%0A%20%20%20%20%20%20%20%20%20%20%20%20%20%20%20%20onEachFeature%3A%20geo_json_89694b126ec84de0b17a7561a300aa4b_onEachFeature%2C%0A%20%20%20%20%20%20%20%20%20%20%20%20%0A%20%20%20%20%20%20%20%20%20%20%20%20%20%20%20%20style%3A%20geo_json_89694b126ec84de0b17a7561a300aa4b_styler%2C%0A%20%20%20%20%20%20%20%20%7D%29%3B%0A%0A%20%20%20%20%20%20%20%20function%20geo_json_89694b126ec84de0b17a7561a300aa4b_add%20%28data%29%20%7B%0A%20%20%20%20%20%20%20%20%20%20%20%20geo_json_89694b126ec84de0b17a7561a300aa4b%0A%20%20%20%20%20%20%20%20%20%20%20%20%20%20%20%20.addData%28data%29%0A%20%20%20%20%20%20%20%20%20%20%20%20%20%20%20%20.addTo%28map_45e0699f97c44fd49566be086f4ea69f%29%3B%0A%20%20%20%20%20%20%20%20%7D%0A%20%20%20%20%20%20%20%20%20%20%20%20geo_json_89694b126ec84de0b17a7561a300aa4b_add%28%7B%22bbox%22%3A%20%5B2.406576%2C%2048.835355%2C%202.4069445%2C%2048.8355925%5D%2C%20%22features%22%3A%20%5B%7B%22bbox%22%3A%20%5B2.406576%2C%2048.835355%2C%202.4069445%2C%2048.8355925%5D%2C%20%22geometry%22%3A%20%7B%22coordinates%22%3A%20%5B%5B%5B2.406576%2C%2048.835355%5D%2C%20%5B2.4069445%2C%2048.8355925%5D%2C%20%5B2.4066%2C%2048.835361%5D%2C%20%5B2.406576%2C%2048.835355%5D%5D%5D%2C%20%22type%22%3A%20%22Polygon%22%7D%2C%20%22id%22%3A%20%220%22%2C%20%22properties%22%3A%20%7B%7D%2C%20%22type%22%3A%20%22Feature%22%7D%5D%2C%20%22type%22%3A%20%22FeatureCollection%22%7D%29%3B%0A%0A%20%20%20%20%20%20%20%20%0A%20%20%20%20%0A%20%20%20%20%20%20%20%20var%20popup_42e3d1d19eb94d4d98487a45a942b000%20%3D%20L.popup%28%7B%22maxWidth%22%3A%20%22100%25%22%7D%29%3B%0A%0A%20%20%20%20%20%20%20%20%0A%0A%20%20%20%20%20%20%20%20geo_json_89694b126ec84de0b17a7561a300aa4b.bindPopup%28popup_42e3d1d19eb94d4d98487a45a942b000%29%0A%20%20%20%20%20%20%20%20%3B%0A%0A%20%20%20%20%20%20%20%20%0A%20%20%20%20%0A%3C/script%3E onload=\"this.contentDocument.open();this.contentDocument.write(    decodeURIComponent(this.getAttribute('data-html')));this.contentDocument.close();\" allowfullscreen webkitallowfullscreen mozallowfullscreen></iframe></div></div>"
      ],
      "text/plain": [
       "<folium.folium.Map at 0x7f88251b9310>"
      ]
     },
     "execution_count": 20,
     "metadata": {},
     "output_type": "execute_result"
    }
   ],
   "source": [
    "m"
   ]
  },
  {
   "cell_type": "code",
   "execution_count": null,
   "metadata": {},
   "outputs": [],
   "source": [
    "# export map\n",
    "m.save(\"./templates/map.html\")"
   ]
  }
 ],
 "metadata": {
  "interpreter": {
   "hash": "982905b65b5f75b92a9ba9d4e9278911d600b6ec40333eb59f4e1881aba0ac28"
  },
  "kernelspec": {
   "display_name": "env",
   "language": "python",
   "name": "env"
  },
  "language_info": {
   "codemirror_mode": {
    "name": "ipython",
    "version": 3
   },
   "file_extension": ".py",
   "mimetype": "text/x-python",
   "name": "python",
   "nbconvert_exporter": "python",
   "pygments_lexer": "ipython3",
   "version": "3.8.3"
  },
  "toc": {
   "base_numbering": 1,
   "nav_menu": {},
   "number_sections": true,
   "sideBar": true,
   "skip_h1_title": false,
   "title_cell": "Table of Contents",
   "title_sidebar": "Contents",
   "toc_cell": false,
   "toc_position": {},
   "toc_section_display": true,
   "toc_window_display": false
  }
 },
 "nbformat": 4,
 "nbformat_minor": 2
}
