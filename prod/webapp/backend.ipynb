{
 "cells": [
  {
   "cell_type": "markdown",
   "metadata": {},
   "source": [
    "# Backend : iteraction with user"
   ]
  },
  {
   "cell_type": "code",
   "execution_count": 1,
   "metadata": {
    "ExecuteTime": {
     "end_time": "2021-11-23T21:43:37.750618Z",
     "start_time": "2021-11-23T21:43:35.805036Z"
    }
   },
   "outputs": [
    {
     "name": "stderr",
     "output_type": "stream",
     "text": [
      "/Users/mac/Desktop/2R/env/lib/python3.8/site-packages/geopandas/_compat.py:111: UserWarning: The Shapely GEOS version (3.9.1-CAPI-1.14.2) is incompatible with the GEOS version PyGEOS was compiled with (3.10.0-CAPI-1.16.0). Conversions between both will be slow.\n",
      "  warnings.warn(\n"
     ]
    }
   ],
   "source": [
    "# import\n",
    "import os\n",
    "import folium\n",
    "import pyproj\n",
    "from functools import partial\n",
    "import pandas as pd\n",
    "from shapely.ops import transform\n",
    "import geopandas as gpd\n",
    "import openrouteservice as ors\n",
    "from IPython.display import display\n",
    "from shapely.geometry import Point, LineString, Polygon"
   ]
  },
  {
   "cell_type": "markdown",
   "metadata": {},
   "source": [
    "### User input coordinates : addresses later."
   ]
  },
  {
   "cell_type": "code",
   "execution_count": 2,
   "metadata": {
    "ExecuteTime": {
     "end_time": "2021-11-23T21:43:37.761263Z",
     "start_time": "2021-11-23T21:43:37.754478Z"
    }
   },
   "outputs": [],
   "source": [
    "# input coordinates\n",
    "coordinates = [[2.3668617010116577,48.86100925394748 ], [2.4125343561172485, 48.83392954811057]]"
   ]
  },
  {
   "cell_type": "code",
   "execution_count": 3,
   "metadata": {
    "ExecuteTime": {
     "end_time": "2021-11-23T22:01:26.237740Z",
     "start_time": "2021-11-23T22:01:26.063523Z"
    }
   },
   "outputs": [],
   "source": [
    "# openrouteservices \n",
    "client = ors.Client(key='5b3ce3597851110001cf62485169f9e2d05c419eaf0607fe2b5b0bfa')\n",
    "\n",
    "#requete openrouteservice\n",
    "route = client.directions(\n",
    "    coordinates=coordinates,\n",
    "    profile='cycling-regular',\n",
    "    format ='geojson',\n",
    "    units ='km'\n",
    ")"
   ]
  },
  {
   "cell_type": "code",
   "execution_count": 4,
   "metadata": {
    "ExecuteTime": {
     "end_time": "2021-11-23T22:03:07.960719Z",
     "start_time": "2021-11-23T22:03:07.818645Z"
    }
   },
   "outputs": [
    {
     "data": {
      "text/html": [
       "<div>\n",
       "<style scoped>\n",
       "    .dataframe tbody tr th:only-of-type {\n",
       "        vertical-align: middle;\n",
       "    }\n",
       "\n",
       "    .dataframe tbody tr th {\n",
       "        vertical-align: top;\n",
       "    }\n",
       "\n",
       "    .dataframe thead th {\n",
       "        text-align: right;\n",
       "    }\n",
       "</style>\n",
       "<table border=\"1\" class=\"dataframe\">\n",
       "  <thead>\n",
       "    <tr style=\"text-align: right;\">\n",
       "      <th></th>\n",
       "      <th>cluster_index</th>\n",
       "      <th>geometry</th>\n",
       "    </tr>\n",
       "  </thead>\n",
       "  <tbody>\n",
       "    <tr>\n",
       "      <th>0</th>\n",
       "      <td>0</td>\n",
       "      <td>POLYGON ((2.41149 48.84703, 2.41106 48.84705, ...</td>\n",
       "    </tr>\n",
       "    <tr>\n",
       "      <th>1</th>\n",
       "      <td>1</td>\n",
       "      <td>POLYGON ((2.36897 48.85400, 2.36893 48.85403, ...</td>\n",
       "    </tr>\n",
       "  </tbody>\n",
       "</table>\n",
       "</div>"
      ],
      "text/plain": [
       "   cluster_index                                           geometry\n",
       "0              0  POLYGON ((2.41149 48.84703, 2.41106 48.84705, ...\n",
       "1              1  POLYGON ((2.36897 48.85400, 2.36893 48.85403, ..."
      ]
     },
     "metadata": {},
     "output_type": "display_data"
    },
    {
     "data": {
      "text/html": [
       "<div>\n",
       "<style scoped>\n",
       "    .dataframe tbody tr th:only-of-type {\n",
       "        vertical-align: middle;\n",
       "    }\n",
       "\n",
       "    .dataframe tbody tr th {\n",
       "        vertical-align: top;\n",
       "    }\n",
       "\n",
       "    .dataframe thead th {\n",
       "        text-align: right;\n",
       "    }\n",
       "</style>\n",
       "<table border=\"1\" class=\"dataframe\">\n",
       "  <thead>\n",
       "    <tr style=\"text-align: right;\">\n",
       "      <th></th>\n",
       "      <th>cluster_index</th>\n",
       "      <th>geometry</th>\n",
       "    </tr>\n",
       "  </thead>\n",
       "  <tbody>\n",
       "    <tr>\n",
       "      <th>0</th>\n",
       "      <td>0</td>\n",
       "      <td>POLYGON ((2.41169 48.84707, 2.41170 48.84705, ...</td>\n",
       "    </tr>\n",
       "    <tr>\n",
       "      <th>1</th>\n",
       "      <td>1</td>\n",
       "      <td>POLYGON ((2.36917 48.85403, 2.36917 48.85401, ...</td>\n",
       "    </tr>\n",
       "    <tr>\n",
       "      <th>2</th>\n",
       "      <td>2</td>\n",
       "      <td>POLYGON ((2.37251 48.84846, 2.37249 48.84846, ...</td>\n",
       "    </tr>\n",
       "    <tr>\n",
       "      <th>3</th>\n",
       "      <td>3</td>\n",
       "      <td>POLYGON ((2.31386 48.86467, 2.31386 48.86465, ...</td>\n",
       "    </tr>\n",
       "    <tr>\n",
       "      <th>4</th>\n",
       "      <td>4</td>\n",
       "      <td>POLYGON ((2.29898 48.86840, 2.29897 48.86839, ...</td>\n",
       "    </tr>\n",
       "    <tr>\n",
       "      <th>...</th>\n",
       "      <td>...</td>\n",
       "      <td>...</td>\n",
       "    </tr>\n",
       "    <tr>\n",
       "      <th>139</th>\n",
       "      <td>139</td>\n",
       "      <td>POLYGON ((2.37868 48.85880, 2.37869 48.85879, ...</td>\n",
       "    </tr>\n",
       "    <tr>\n",
       "      <th>140</th>\n",
       "      <td>140</td>\n",
       "      <td>POLYGON ((2.36493 48.85404, 2.36495 48.85404, ...</td>\n",
       "    </tr>\n",
       "    <tr>\n",
       "      <th>141</th>\n",
       "      <td>141</td>\n",
       "      <td>POLYGON ((2.35992 48.87225, 2.35993 48.87223, ...</td>\n",
       "    </tr>\n",
       "    <tr>\n",
       "      <th>142</th>\n",
       "      <td>142</td>\n",
       "      <td>POLYGON ((2.37064 48.89819, 2.37062 48.89819, ...</td>\n",
       "    </tr>\n",
       "    <tr>\n",
       "      <th>143</th>\n",
       "      <td>143</td>\n",
       "      <td>POLYGON ((2.39582 48.88951, 2.39580 48.88951, ...</td>\n",
       "    </tr>\n",
       "  </tbody>\n",
       "</table>\n",
       "<p>144 rows × 2 columns</p>\n",
       "</div>"
      ],
      "text/plain": [
       "     cluster_index                                           geometry\n",
       "0                0  POLYGON ((2.41169 48.84707, 2.41170 48.84705, ...\n",
       "1                1  POLYGON ((2.36917 48.85403, 2.36917 48.85401, ...\n",
       "2                2  POLYGON ((2.37251 48.84846, 2.37249 48.84846, ...\n",
       "3                3  POLYGON ((2.31386 48.86467, 2.31386 48.86465, ...\n",
       "4                4  POLYGON ((2.29898 48.86840, 2.29897 48.86839, ...\n",
       "..             ...                                                ...\n",
       "139            139  POLYGON ((2.37868 48.85880, 2.37869 48.85879, ...\n",
       "140            140  POLYGON ((2.36493 48.85404, 2.36495 48.85404, ...\n",
       "141            141  POLYGON ((2.35992 48.87225, 2.35993 48.87223, ...\n",
       "142            142  POLYGON ((2.37064 48.89819, 2.37062 48.89819, ...\n",
       "143            143  POLYGON ((2.39582 48.88951, 2.39580 48.88951, ...\n",
       "\n",
       "[144 rows x 2 columns]"
      ]
     },
     "execution_count": 4,
     "metadata": {},
     "output_type": "execute_result"
    }
   ],
   "source": [
    "# get clusters\n",
    "cluster_polygons_file = \"../model/model_cluster/cluster_polygons.geojson\"\n",
    "gdf_cluster = gpd.read_file(cluster_polygons_file)\n",
    "display(gdf_cluster.head(2))\n",
    "\n",
    "# clusters with buffer\n",
    "orig_crs = 4326\n",
    "fr_crs = 2154\n",
    "gdf_cluster = gdf_cluster.to_crs(epsg=fr_crs)\n",
    "\n",
    "# crs\n",
    "buffer_m = 15\n",
    "gdf_cluster['geometry'] = gdf_cluster.geometry.buffer(buffer_m)\n",
    "#gdf_cluster = gdf_cluster.buffer(buffer_m)\n",
    "\n",
    "# set crs\n",
    "gdf_cluster = gdf_cluster.to_crs(epsg=orig_crs)\n",
    "\n",
    "type(gdf_cluster)\n",
    "gdf_cluster"
   ]
  },
  {
   "cell_type": "code",
   "execution_count": 19,
   "metadata": {
    "ExecuteTime": {
     "end_time": "2021-11-23T22:03:08.335035Z",
     "start_time": "2021-11-23T22:03:08.310793Z"
    }
   },
   "outputs": [
    {
     "data": {
      "text/html": [
       "<div>\n",
       "<style scoped>\n",
       "    .dataframe tbody tr th:only-of-type {\n",
       "        vertical-align: middle;\n",
       "    }\n",
       "\n",
       "    .dataframe tbody tr th {\n",
       "        vertical-align: top;\n",
       "    }\n",
       "\n",
       "    .dataframe thead th {\n",
       "        text-align: right;\n",
       "    }\n",
       "</style>\n",
       "<table border=\"1\" class=\"dataframe\">\n",
       "  <thead>\n",
       "    <tr style=\"text-align: right;\">\n",
       "      <th></th>\n",
       "      <th>lon</th>\n",
       "      <th>lat</th>\n",
       "      <th>geometry</th>\n",
       "    </tr>\n",
       "  </thead>\n",
       "  <tbody>\n",
       "    <tr>\n",
       "      <th>34</th>\n",
       "      <td>2.372981</td>\n",
       "      <td>48.861974</td>\n",
       "      <td>POINT (2.37298 48.86197)</td>\n",
       "    </tr>\n",
       "    <tr>\n",
       "      <th>184</th>\n",
       "      <td>2.411035</td>\n",
       "      <td>48.833905</td>\n",
       "      <td>POINT (2.41104 48.83391)</td>\n",
       "    </tr>\n",
       "  </tbody>\n",
       "</table>\n",
       "</div>"
      ],
      "text/plain": [
       "          lon        lat                  geometry\n",
       "34   2.372981  48.861974  POINT (2.37298 48.86197)\n",
       "184  2.411035  48.833905  POINT (2.41104 48.83391)"
      ]
     },
     "metadata": {},
     "output_type": "display_data"
    }
   ],
   "source": [
    "# user route to df\n",
    "user_line_df = pd.DataFrame(route['features'][0]['geometry']['coordinates'],\n",
    "                            columns=[\"lon\", \"lat\"])\n",
    "\n",
    "# df to gdf\n",
    "user_line_gdf = gpd.GeoDataFrame(user_line_df, \n",
    "                    geometry=gpd.points_from_xy(user_line_df.lon, user_line_df.lat),\n",
    "                    crs=\"epsg:4326\")\n",
    "\n",
    "display(user_line_gdf.sample(2))"
   ]
  },
  {
   "cell_type": "code",
   "execution_count": 20,
   "metadata": {
    "ExecuteTime": {
     "end_time": "2021-11-23T22:03:08.992954Z",
     "start_time": "2021-11-23T22:03:08.965281Z"
    }
   },
   "outputs": [],
   "source": [
    "# intersect : spatial join\n",
    "cluster_on_route = gpd.sjoin(gdf_cluster, user_line_gdf)[gdf_cluster.columns]"
   ]
  },
  {
   "cell_type": "code",
   "execution_count": 21,
   "metadata": {
    "ExecuteTime": {
     "end_time": "2021-11-23T22:03:12.363976Z",
     "start_time": "2021-11-23T22:03:12.343055Z"
    },
    "scrolled": false
   },
   "outputs": [
    {
     "data": {
      "text/html": [
       "<div>\n",
       "<style scoped>\n",
       "    .dataframe tbody tr th:only-of-type {\n",
       "        vertical-align: middle;\n",
       "    }\n",
       "\n",
       "    .dataframe tbody tr th {\n",
       "        vertical-align: top;\n",
       "    }\n",
       "\n",
       "    .dataframe thead th {\n",
       "        text-align: right;\n",
       "    }\n",
       "</style>\n",
       "<table border=\"1\" class=\"dataframe\">\n",
       "  <thead>\n",
       "    <tr style=\"text-align: right;\">\n",
       "      <th></th>\n",
       "      <th>cluster_index</th>\n",
       "      <th>geometry</th>\n",
       "    </tr>\n",
       "  </thead>\n",
       "  <tbody>\n",
       "    <tr>\n",
       "      <th>18</th>\n",
       "      <td>18</td>\n",
       "      <td>POLYGON ((2.40662 48.83522, 2.40660 48.83522, ...</td>\n",
       "    </tr>\n",
       "    <tr>\n",
       "      <th>18</th>\n",
       "      <td>18</td>\n",
       "      <td>POLYGON ((2.40662 48.83522, 2.40660 48.83522, ...</td>\n",
       "    </tr>\n",
       "    <tr>\n",
       "      <th>18</th>\n",
       "      <td>18</td>\n",
       "      <td>POLYGON ((2.40662 48.83522, 2.40660 48.83522, ...</td>\n",
       "    </tr>\n",
       "    <tr>\n",
       "      <th>18</th>\n",
       "      <td>18</td>\n",
       "      <td>POLYGON ((2.40662 48.83522, 2.40660 48.83522, ...</td>\n",
       "    </tr>\n",
       "    <tr>\n",
       "      <th>18</th>\n",
       "      <td>18</td>\n",
       "      <td>POLYGON ((2.40662 48.83522, 2.40660 48.83522, ...</td>\n",
       "    </tr>\n",
       "    <tr>\n",
       "      <th>36</th>\n",
       "      <td>36</td>\n",
       "      <td>POLYGON ((2.37022 48.86366, 2.37021 48.86365, ...</td>\n",
       "    </tr>\n",
       "    <tr>\n",
       "      <th>36</th>\n",
       "      <td>36</td>\n",
       "      <td>POLYGON ((2.37022 48.86366, 2.37021 48.86365, ...</td>\n",
       "    </tr>\n",
       "    <tr>\n",
       "      <th>68</th>\n",
       "      <td>68</td>\n",
       "      <td>POLYGON ((2.37695 48.85987, 2.37697 48.85986, ...</td>\n",
       "    </tr>\n",
       "    <tr>\n",
       "      <th>91</th>\n",
       "      <td>91</td>\n",
       "      <td>POLYGON ((2.38569 48.85466, 2.38570 48.85465, ...</td>\n",
       "    </tr>\n",
       "    <tr>\n",
       "      <th>91</th>\n",
       "      <td>91</td>\n",
       "      <td>POLYGON ((2.38569 48.85466, 2.38570 48.85465, ...</td>\n",
       "    </tr>\n",
       "    <tr>\n",
       "      <th>91</th>\n",
       "      <td>91</td>\n",
       "      <td>POLYGON ((2.38569 48.85466, 2.38570 48.85465, ...</td>\n",
       "    </tr>\n",
       "    <tr>\n",
       "      <th>139</th>\n",
       "      <td>139</td>\n",
       "      <td>POLYGON ((2.37868 48.85880, 2.37869 48.85879, ...</td>\n",
       "    </tr>\n",
       "  </tbody>\n",
       "</table>\n",
       "</div>"
      ],
      "text/plain": [
       "     cluster_index                                           geometry\n",
       "18              18  POLYGON ((2.40662 48.83522, 2.40660 48.83522, ...\n",
       "18              18  POLYGON ((2.40662 48.83522, 2.40660 48.83522, ...\n",
       "18              18  POLYGON ((2.40662 48.83522, 2.40660 48.83522, ...\n",
       "18              18  POLYGON ((2.40662 48.83522, 2.40660 48.83522, ...\n",
       "18              18  POLYGON ((2.40662 48.83522, 2.40660 48.83522, ...\n",
       "36              36  POLYGON ((2.37022 48.86366, 2.37021 48.86365, ...\n",
       "36              36  POLYGON ((2.37022 48.86366, 2.37021 48.86365, ...\n",
       "68              68  POLYGON ((2.37695 48.85987, 2.37697 48.85986, ...\n",
       "91              91  POLYGON ((2.38569 48.85466, 2.38570 48.85465, ...\n",
       "91              91  POLYGON ((2.38569 48.85466, 2.38570 48.85465, ...\n",
       "91              91  POLYGON ((2.38569 48.85466, 2.38570 48.85465, ...\n",
       "139            139  POLYGON ((2.37868 48.85880, 2.37869 48.85879, ..."
      ]
     },
     "execution_count": 21,
     "metadata": {},
     "output_type": "execute_result"
    }
   ],
   "source": [
    "cluster_on_route"
   ]
  },
  {
   "cell_type": "code",
   "execution_count": 60,
   "metadata": {
    "ExecuteTime": {
     "end_time": "2021-11-23T22:13:46.477500Z",
     "start_time": "2021-11-23T22:13:45.944457Z"
    }
   },
   "outputs": [
    {
     "data": {
      "text/plain": [
       "<folium.vector_layers.PolyLine at 0x7fc704883130>"
      ]
     },
     "execution_count": 60,
     "metadata": {},
     "output_type": "execute_result"
    }
   ],
   "source": [
    "# localisation Paris\n",
    "m = folium.Map(location=[48.862, 2.346], tiles='cartodbpositron', zoom_start=12)\n",
    "\n",
    "# # cluster on map\n",
    "# gdf = gdf_cluster\n",
    "# for _, r in gdf.iterrows():\n",
    "#     # Without simplifying the representation of each borough,\n",
    "#     # the map might not be displayed\n",
    "#     sim_geo = gpd.GeoSeries(r['geometry']).simplify(tolerance=0.001)\n",
    "#     geo_j = sim_geo.to_json()\n",
    "#     geo_j = folium.GeoJson(data=geo_j,\n",
    "#                            style_function=lambda x: \n",
    "#                            {'fillColor': '#669bbc',\n",
    "#                             'color': '#669bbc'}\n",
    "#     )\n",
    "    \n",
    "#     folium.Popup(r['cluster_index']).add_to(geo_j)\n",
    "#     geo_j.add_to(m)\n",
    "    \n",
    "# cluster intersection map\n",
    "gdf = cluster_on_route\n",
    "for _, r in gdf.iterrows():\n",
    "    # Without simplifying the representation of each borough,\n",
    "    # the map might not be displayed\n",
    "    sim_geo = gpd.GeoSeries(r['geometry']).simplify(tolerance=0.001)\n",
    "    geo_j = sim_geo.to_json()\n",
    "    geo_j = folium.GeoJson(data=geo_j,\n",
    "                           style_function=lambda x: \n",
    "                           {'fillColor': '#eb353c',\n",
    "                            'color': '#eb353c',\n",
    "                            'weight':5,\n",
    "                            'stroke':False}\n",
    "    )\n",
    "    \n",
    "    folium.Popup(r['cluster_index']).add_to(geo_j)\n",
    "    geo_j.add_to(m)\n",
    "    \n",
    "# add user itinerary polyline\n",
    "folium.PolyLine(locations=[list(reversed(coord)) \n",
    "                           for coord in \n",
    "                           route['features'][0]['geometry']['coordinates']],\n",
    "                           color = '#84dcc6',\n",
    "                           smooth_factor=0.9,\n",
    "                           weight = 1.5\n",
    "\n",
    ").add_to(m)"
   ]
  },
  {
   "cell_type": "code",
   "execution_count": 61,
   "metadata": {
    "ExecuteTime": {
     "end_time": "2021-11-23T22:13:46.969675Z",
     "start_time": "2021-11-23T22:13:46.614097Z"
    }
   },
   "outputs": [
    {
     "data": {
      "text/html": [
       "<div style=\"width:100%;\"><div style=\"position:relative;width:100%;height:0;padding-bottom:60%;\"><span style=\"color:#565656\">Make this Notebook Trusted to load map: File -> Trust Notebook</span><iframe src=\"about:blank\" style=\"position:absolute;width:100%;height:100%;left:0;top:0;border:none !important;\" data-html=%3C%21DOCTYPE%20html%3E%0A%3Chead%3E%20%20%20%20%0A%20%20%20%20%3Cmeta%20http-equiv%3D%22content-type%22%20content%3D%22text/html%3B%20charset%3DUTF-8%22%20/%3E%0A%20%20%20%20%0A%20%20%20%20%20%20%20%20%3Cscript%3E%0A%20%20%20%20%20%20%20%20%20%20%20%20L_NO_TOUCH%20%3D%20false%3B%0A%20%20%20%20%20%20%20%20%20%20%20%20L_DISABLE_3D%20%3D%20false%3B%0A%20%20%20%20%20%20%20%20%3C/script%3E%0A%20%20%20%20%0A%20%20%20%20%3Cstyle%3Ehtml%2C%20body%20%7Bwidth%3A%20100%25%3Bheight%3A%20100%25%3Bmargin%3A%200%3Bpadding%3A%200%3B%7D%3C/style%3E%0A%20%20%20%20%3Cstyle%3E%23map%20%7Bposition%3Aabsolute%3Btop%3A0%3Bbottom%3A0%3Bright%3A0%3Bleft%3A0%3B%7D%3C/style%3E%0A%20%20%20%20%3Cscript%20src%3D%22https%3A//cdn.jsdelivr.net/npm/leaflet%401.6.0/dist/leaflet.js%22%3E%3C/script%3E%0A%20%20%20%20%3Cscript%20src%3D%22https%3A//code.jquery.com/jquery-1.12.4.min.js%22%3E%3C/script%3E%0A%20%20%20%20%3Cscript%20src%3D%22https%3A//maxcdn.bootstrapcdn.com/bootstrap/3.2.0/js/bootstrap.min.js%22%3E%3C/script%3E%0A%20%20%20%20%3Cscript%20src%3D%22https%3A//cdnjs.cloudflare.com/ajax/libs/Leaflet.awesome-markers/2.0.2/leaflet.awesome-markers.js%22%3E%3C/script%3E%0A%20%20%20%20%3Clink%20rel%3D%22stylesheet%22%20href%3D%22https%3A//cdn.jsdelivr.net/npm/leaflet%401.6.0/dist/leaflet.css%22/%3E%0A%20%20%20%20%3Clink%20rel%3D%22stylesheet%22%20href%3D%22https%3A//maxcdn.bootstrapcdn.com/bootstrap/3.2.0/css/bootstrap.min.css%22/%3E%0A%20%20%20%20%3Clink%20rel%3D%22stylesheet%22%20href%3D%22https%3A//maxcdn.bootstrapcdn.com/bootstrap/3.2.0/css/bootstrap-theme.min.css%22/%3E%0A%20%20%20%20%3Clink%20rel%3D%22stylesheet%22%20href%3D%22https%3A//maxcdn.bootstrapcdn.com/font-awesome/4.6.3/css/font-awesome.min.css%22/%3E%0A%20%20%20%20%3Clink%20rel%3D%22stylesheet%22%20href%3D%22https%3A//cdnjs.cloudflare.com/ajax/libs/Leaflet.awesome-markers/2.0.2/leaflet.awesome-markers.css%22/%3E%0A%20%20%20%20%3Clink%20rel%3D%22stylesheet%22%20href%3D%22https%3A//cdn.jsdelivr.net/gh/python-visualization/folium/folium/templates/leaflet.awesome.rotate.min.css%22/%3E%0A%20%20%20%20%0A%20%20%20%20%20%20%20%20%20%20%20%20%3Cmeta%20name%3D%22viewport%22%20content%3D%22width%3Ddevice-width%2C%0A%20%20%20%20%20%20%20%20%20%20%20%20%20%20%20%20initial-scale%3D1.0%2C%20maximum-scale%3D1.0%2C%20user-scalable%3Dno%22%20/%3E%0A%20%20%20%20%20%20%20%20%20%20%20%20%3Cstyle%3E%0A%20%20%20%20%20%20%20%20%20%20%20%20%20%20%20%20%23map_0489824577b245b993c460c829500011%20%7B%0A%20%20%20%20%20%20%20%20%20%20%20%20%20%20%20%20%20%20%20%20position%3A%20relative%3B%0A%20%20%20%20%20%20%20%20%20%20%20%20%20%20%20%20%20%20%20%20width%3A%20100.0%25%3B%0A%20%20%20%20%20%20%20%20%20%20%20%20%20%20%20%20%20%20%20%20height%3A%20100.0%25%3B%0A%20%20%20%20%20%20%20%20%20%20%20%20%20%20%20%20%20%20%20%20left%3A%200.0%25%3B%0A%20%20%20%20%20%20%20%20%20%20%20%20%20%20%20%20%20%20%20%20top%3A%200.0%25%3B%0A%20%20%20%20%20%20%20%20%20%20%20%20%20%20%20%20%7D%0A%20%20%20%20%20%20%20%20%20%20%20%20%3C/style%3E%0A%20%20%20%20%20%20%20%20%0A%3C/head%3E%0A%3Cbody%3E%20%20%20%20%0A%20%20%20%20%0A%20%20%20%20%20%20%20%20%20%20%20%20%3Cdiv%20class%3D%22folium-map%22%20id%3D%22map_0489824577b245b993c460c829500011%22%20%3E%3C/div%3E%0A%20%20%20%20%20%20%20%20%0A%3C/body%3E%0A%3Cscript%3E%20%20%20%20%0A%20%20%20%20%0A%20%20%20%20%20%20%20%20%20%20%20%20var%20map_0489824577b245b993c460c829500011%20%3D%20L.map%28%0A%20%20%20%20%20%20%20%20%20%20%20%20%20%20%20%20%22map_0489824577b245b993c460c829500011%22%2C%0A%20%20%20%20%20%20%20%20%20%20%20%20%20%20%20%20%7B%0A%20%20%20%20%20%20%20%20%20%20%20%20%20%20%20%20%20%20%20%20center%3A%20%5B48.862%2C%202.346%5D%2C%0A%20%20%20%20%20%20%20%20%20%20%20%20%20%20%20%20%20%20%20%20crs%3A%20L.CRS.EPSG3857%2C%0A%20%20%20%20%20%20%20%20%20%20%20%20%20%20%20%20%20%20%20%20zoom%3A%2012%2C%0A%20%20%20%20%20%20%20%20%20%20%20%20%20%20%20%20%20%20%20%20zoomControl%3A%20true%2C%0A%20%20%20%20%20%20%20%20%20%20%20%20%20%20%20%20%20%20%20%20preferCanvas%3A%20false%2C%0A%20%20%20%20%20%20%20%20%20%20%20%20%20%20%20%20%7D%0A%20%20%20%20%20%20%20%20%20%20%20%20%29%3B%0A%0A%20%20%20%20%20%20%20%20%20%20%20%20%0A%0A%20%20%20%20%20%20%20%20%0A%20%20%20%20%0A%20%20%20%20%20%20%20%20%20%20%20%20var%20tile_layer_32af616696a3439f86d2b9fab5351362%20%3D%20L.tileLayer%28%0A%20%20%20%20%20%20%20%20%20%20%20%20%20%20%20%20%22https%3A//cartodb-basemaps-%7Bs%7D.global.ssl.fastly.net/light_all/%7Bz%7D/%7Bx%7D/%7By%7D.png%22%2C%0A%20%20%20%20%20%20%20%20%20%20%20%20%20%20%20%20%7B%22attribution%22%3A%20%22%5Cu0026copy%3B%20%5Cu003ca%20href%3D%5C%22http%3A//www.openstreetmap.org/copyright%5C%22%5Cu003eOpenStreetMap%5Cu003c/a%5Cu003e%20contributors%20%5Cu0026copy%3B%20%5Cu003ca%20href%3D%5C%22http%3A//cartodb.com/attributions%5C%22%5Cu003eCartoDB%5Cu003c/a%5Cu003e%2C%20CartoDB%20%5Cu003ca%20href%20%3D%5C%22http%3A//cartodb.com/attributions%5C%22%5Cu003eattributions%5Cu003c/a%5Cu003e%22%2C%20%22detectRetina%22%3A%20false%2C%20%22maxNativeZoom%22%3A%2018%2C%20%22maxZoom%22%3A%2018%2C%20%22minZoom%22%3A%200%2C%20%22noWrap%22%3A%20false%2C%20%22opacity%22%3A%201%2C%20%22subdomains%22%3A%20%22abc%22%2C%20%22tms%22%3A%20false%7D%0A%20%20%20%20%20%20%20%20%20%20%20%20%29.addTo%28map_0489824577b245b993c460c829500011%29%3B%0A%20%20%20%20%20%20%20%20%0A%20%20%20%20%0A%20%20%20%20%20%20%20%20function%20geo_json_e92ceae797714e849987186871acdcf4_styler%28feature%29%20%7B%0A%20%20%20%20%20%20%20%20%20%20%20%20switch%28feature.id%29%20%7B%0A%20%20%20%20%20%20%20%20%20%20%20%20%20%20%20%20default%3A%0A%20%20%20%20%20%20%20%20%20%20%20%20%20%20%20%20%20%20%20%20return%20%7B%22color%22%3A%20%22%23eb353c%22%2C%20%22fillColor%22%3A%20%22%23eb353c%22%2C%20%22stroke%22%3A%20false%2C%20%22weight%22%3A%205%7D%3B%0A%20%20%20%20%20%20%20%20%20%20%20%20%7D%0A%20%20%20%20%20%20%20%20%7D%0A%0A%20%20%20%20%20%20%20%20function%20geo_json_e92ceae797714e849987186871acdcf4_onEachFeature%28feature%2C%20layer%29%20%7B%0A%20%20%20%20%20%20%20%20%20%20%20%20layer.on%28%7B%0A%20%20%20%20%20%20%20%20%20%20%20%20%7D%29%3B%0A%20%20%20%20%20%20%20%20%7D%3B%0A%20%20%20%20%20%20%20%20var%20geo_json_e92ceae797714e849987186871acdcf4%20%3D%20L.geoJson%28null%2C%20%7B%0A%20%20%20%20%20%20%20%20%20%20%20%20%20%20%20%20onEachFeature%3A%20geo_json_e92ceae797714e849987186871acdcf4_onEachFeature%2C%0A%20%20%20%20%20%20%20%20%20%20%20%20%0A%20%20%20%20%20%20%20%20%20%20%20%20%20%20%20%20style%3A%20geo_json_e92ceae797714e849987186871acdcf4_styler%2C%0A%20%20%20%20%20%20%20%20%7D%29%3B%0A%0A%20%20%20%20%20%20%20%20function%20geo_json_e92ceae797714e849987186871acdcf4_add%20%28data%29%20%7B%0A%20%20%20%20%20%20%20%20%20%20%20%20geo_json_e92ceae797714e849987186871acdcf4%0A%20%20%20%20%20%20%20%20%20%20%20%20%20%20%20%20.addData%28data%29%0A%20%20%20%20%20%20%20%20%20%20%20%20%20%20%20%20.addTo%28map_0489824577b245b993c460c829500011%29%3B%0A%20%20%20%20%20%20%20%20%7D%0A%20%20%20%20%20%20%20%20%20%20%20%20geo_json_e92ceae797714e849987186871acdcf4_add%28%7B%22bbox%22%3A%20%5B2.4063974457525528%2C%2048.83522387577493%2C%202.4071246820605974%2C%2048.83565613991338%5D%2C%20%22features%22%3A%20%5B%7B%22bbox%22%3A%20%5B2.4063974457525528%2C%2048.83522387577493%2C%202.4071246820605974%2C%2048.83565613991338%5D%2C%20%22geometry%22%3A%20%7B%22coordinates%22%3A%20%5B%5B%5B2.406624013578073%2C%2048.83522387577493%5D%2C%20%5B2.4063974457525528%2C%2048.83542060789595%5D%2C%20%5B2.4071246820605974%2C%2048.83565613991338%5D%2C%20%5B2.4071035270014614%2C%2048.8355077814805%5D%2C%20%5B2.406624013578073%2C%2048.83522387577493%5D%5D%5D%2C%20%22type%22%3A%20%22Polygon%22%7D%2C%20%22id%22%3A%20%220%22%2C%20%22properties%22%3A%20%7B%7D%2C%20%22type%22%3A%20%22Feature%22%7D%5D%2C%20%22type%22%3A%20%22FeatureCollection%22%7D%29%3B%0A%0A%20%20%20%20%20%20%20%20%0A%20%20%20%20%0A%20%20%20%20%20%20%20%20var%20popup_c39b85a007c142598a68d325124e7819%20%3D%20L.popup%28%7B%22maxWidth%22%3A%20%22100%25%22%7D%29%3B%0A%0A%20%20%20%20%20%20%20%20%0A%0A%20%20%20%20%20%20%20%20geo_json_e92ceae797714e849987186871acdcf4.bindPopup%28popup_c39b85a007c142598a68d325124e7819%29%0A%20%20%20%20%20%20%20%20%3B%0A%0A%20%20%20%20%20%20%20%20%0A%20%20%20%20%0A%20%20%20%20%0A%20%20%20%20%20%20%20%20function%20geo_json_66822135ba0a49f097dfff8e46604536_styler%28feature%29%20%7B%0A%20%20%20%20%20%20%20%20%20%20%20%20switch%28feature.id%29%20%7B%0A%20%20%20%20%20%20%20%20%20%20%20%20%20%20%20%20default%3A%0A%20%20%20%20%20%20%20%20%20%20%20%20%20%20%20%20%20%20%20%20return%20%7B%22color%22%3A%20%22%23eb353c%22%2C%20%22fillColor%22%3A%20%22%23eb353c%22%2C%20%22stroke%22%3A%20false%2C%20%22weight%22%3A%205%7D%3B%0A%20%20%20%20%20%20%20%20%20%20%20%20%7D%0A%20%20%20%20%20%20%20%20%7D%0A%0A%20%20%20%20%20%20%20%20function%20geo_json_66822135ba0a49f097dfff8e46604536_onEachFeature%28feature%2C%20layer%29%20%7B%0A%20%20%20%20%20%20%20%20%20%20%20%20layer.on%28%7B%0A%20%20%20%20%20%20%20%20%20%20%20%20%7D%29%3B%0A%20%20%20%20%20%20%20%20%7D%3B%0A%20%20%20%20%20%20%20%20var%20geo_json_66822135ba0a49f097dfff8e46604536%20%3D%20L.geoJson%28null%2C%20%7B%0A%20%20%20%20%20%20%20%20%20%20%20%20%20%20%20%20onEachFeature%3A%20geo_json_66822135ba0a49f097dfff8e46604536_onEachFeature%2C%0A%20%20%20%20%20%20%20%20%20%20%20%20%0A%20%20%20%20%20%20%20%20%20%20%20%20%20%20%20%20style%3A%20geo_json_66822135ba0a49f097dfff8e46604536_styler%2C%0A%20%20%20%20%20%20%20%20%7D%29%3B%0A%0A%20%20%20%20%20%20%20%20function%20geo_json_66822135ba0a49f097dfff8e46604536_add%20%28data%29%20%7B%0A%20%20%20%20%20%20%20%20%20%20%20%20geo_json_66822135ba0a49f097dfff8e46604536%0A%20%20%20%20%20%20%20%20%20%20%20%20%20%20%20%20.addData%28data%29%0A%20%20%20%20%20%20%20%20%20%20%20%20%20%20%20%20.addTo%28map_0489824577b245b993c460c829500011%29%3B%0A%20%20%20%20%20%20%20%20%7D%0A%20%20%20%20%20%20%20%20%20%20%20%20geo_json_66822135ba0a49f097dfff8e46604536_add%28%7B%22bbox%22%3A%20%5B2.4063974457525528%2C%2048.83522387577493%2C%202.4071246820605974%2C%2048.83565613991338%5D%2C%20%22features%22%3A%20%5B%7B%22bbox%22%3A%20%5B2.4063974457525528%2C%2048.83522387577493%2C%202.4071246820605974%2C%2048.83565613991338%5D%2C%20%22geometry%22%3A%20%7B%22coordinates%22%3A%20%5B%5B%5B2.406624013578073%2C%2048.83522387577493%5D%2C%20%5B2.4063974457525528%2C%2048.83542060789595%5D%2C%20%5B2.4071246820605974%2C%2048.83565613991338%5D%2C%20%5B2.4071035270014614%2C%2048.8355077814805%5D%2C%20%5B2.406624013578073%2C%2048.83522387577493%5D%5D%5D%2C%20%22type%22%3A%20%22Polygon%22%7D%2C%20%22id%22%3A%20%220%22%2C%20%22properties%22%3A%20%7B%7D%2C%20%22type%22%3A%20%22Feature%22%7D%5D%2C%20%22type%22%3A%20%22FeatureCollection%22%7D%29%3B%0A%0A%20%20%20%20%20%20%20%20%0A%20%20%20%20%0A%20%20%20%20%20%20%20%20var%20popup_d16b81ac51ae453885e1dadd57717b1c%20%3D%20L.popup%28%7B%22maxWidth%22%3A%20%22100%25%22%7D%29%3B%0A%0A%20%20%20%20%20%20%20%20%0A%0A%20%20%20%20%20%20%20%20geo_json_66822135ba0a49f097dfff8e46604536.bindPopup%28popup_d16b81ac51ae453885e1dadd57717b1c%29%0A%20%20%20%20%20%20%20%20%3B%0A%0A%20%20%20%20%20%20%20%20%0A%20%20%20%20%0A%20%20%20%20%0A%20%20%20%20%20%20%20%20function%20geo_json_93bec51dbadf48c486860cc71e55ca8c_styler%28feature%29%20%7B%0A%20%20%20%20%20%20%20%20%20%20%20%20switch%28feature.id%29%20%7B%0A%20%20%20%20%20%20%20%20%20%20%20%20%20%20%20%20default%3A%0A%20%20%20%20%20%20%20%20%20%20%20%20%20%20%20%20%20%20%20%20return%20%7B%22color%22%3A%20%22%23eb353c%22%2C%20%22fillColor%22%3A%20%22%23eb353c%22%2C%20%22stroke%22%3A%20false%2C%20%22weight%22%3A%205%7D%3B%0A%20%20%20%20%20%20%20%20%20%20%20%20%7D%0A%20%20%20%20%20%20%20%20%7D%0A%0A%20%20%20%20%20%20%20%20function%20geo_json_93bec51dbadf48c486860cc71e55ca8c_onEachFeature%28feature%2C%20layer%29%20%7B%0A%20%20%20%20%20%20%20%20%20%20%20%20layer.on%28%7B%0A%20%20%20%20%20%20%20%20%20%20%20%20%7D%29%3B%0A%20%20%20%20%20%20%20%20%7D%3B%0A%20%20%20%20%20%20%20%20var%20geo_json_93bec51dbadf48c486860cc71e55ca8c%20%3D%20L.geoJson%28null%2C%20%7B%0A%20%20%20%20%20%20%20%20%20%20%20%20%20%20%20%20onEachFeature%3A%20geo_json_93bec51dbadf48c486860cc71e55ca8c_onEachFeature%2C%0A%20%20%20%20%20%20%20%20%20%20%20%20%0A%20%20%20%20%20%20%20%20%20%20%20%20%20%20%20%20style%3A%20geo_json_93bec51dbadf48c486860cc71e55ca8c_styler%2C%0A%20%20%20%20%20%20%20%20%7D%29%3B%0A%0A%20%20%20%20%20%20%20%20function%20geo_json_93bec51dbadf48c486860cc71e55ca8c_add%20%28data%29%20%7B%0A%20%20%20%20%20%20%20%20%20%20%20%20geo_json_93bec51dbadf48c486860cc71e55ca8c%0A%20%20%20%20%20%20%20%20%20%20%20%20%20%20%20%20.addData%28data%29%0A%20%20%20%20%20%20%20%20%20%20%20%20%20%20%20%20.addTo%28map_0489824577b245b993c460c829500011%29%3B%0A%20%20%20%20%20%20%20%20%7D%0A%20%20%20%20%20%20%20%20%20%20%20%20geo_json_93bec51dbadf48c486860cc71e55ca8c_add%28%7B%22bbox%22%3A%20%5B2.4063974457525528%2C%2048.83522387577493%2C%202.4071246820605974%2C%2048.83565613991338%5D%2C%20%22features%22%3A%20%5B%7B%22bbox%22%3A%20%5B2.4063974457525528%2C%2048.83522387577493%2C%202.4071246820605974%2C%2048.83565613991338%5D%2C%20%22geometry%22%3A%20%7B%22coordinates%22%3A%20%5B%5B%5B2.406624013578073%2C%2048.83522387577493%5D%2C%20%5B2.4063974457525528%2C%2048.83542060789595%5D%2C%20%5B2.4071246820605974%2C%2048.83565613991338%5D%2C%20%5B2.4071035270014614%2C%2048.8355077814805%5D%2C%20%5B2.406624013578073%2C%2048.83522387577493%5D%5D%5D%2C%20%22type%22%3A%20%22Polygon%22%7D%2C%20%22id%22%3A%20%220%22%2C%20%22properties%22%3A%20%7B%7D%2C%20%22type%22%3A%20%22Feature%22%7D%5D%2C%20%22type%22%3A%20%22FeatureCollection%22%7D%29%3B%0A%0A%20%20%20%20%20%20%20%20%0A%20%20%20%20%0A%20%20%20%20%20%20%20%20var%20popup_f5af42934d47430181041f61c38ca99b%20%3D%20L.popup%28%7B%22maxWidth%22%3A%20%22100%25%22%7D%29%3B%0A%0A%20%20%20%20%20%20%20%20%0A%0A%20%20%20%20%20%20%20%20geo_json_93bec51dbadf48c486860cc71e55ca8c.bindPopup%28popup_f5af42934d47430181041f61c38ca99b%29%0A%20%20%20%20%20%20%20%20%3B%0A%0A%20%20%20%20%20%20%20%20%0A%20%20%20%20%0A%20%20%20%20%0A%20%20%20%20%20%20%20%20function%20geo_json_f04502e4fc7745dca56e014f71a4bcce_styler%28feature%29%20%7B%0A%20%20%20%20%20%20%20%20%20%20%20%20switch%28feature.id%29%20%7B%0A%20%20%20%20%20%20%20%20%20%20%20%20%20%20%20%20default%3A%0A%20%20%20%20%20%20%20%20%20%20%20%20%20%20%20%20%20%20%20%20return%20%7B%22color%22%3A%20%22%23eb353c%22%2C%20%22fillColor%22%3A%20%22%23eb353c%22%2C%20%22stroke%22%3A%20false%2C%20%22weight%22%3A%205%7D%3B%0A%20%20%20%20%20%20%20%20%20%20%20%20%7D%0A%20%20%20%20%20%20%20%20%7D%0A%0A%20%20%20%20%20%20%20%20function%20geo_json_f04502e4fc7745dca56e014f71a4bcce_onEachFeature%28feature%2C%20layer%29%20%7B%0A%20%20%20%20%20%20%20%20%20%20%20%20layer.on%28%7B%0A%20%20%20%20%20%20%20%20%20%20%20%20%7D%29%3B%0A%20%20%20%20%20%20%20%20%7D%3B%0A%20%20%20%20%20%20%20%20var%20geo_json_f04502e4fc7745dca56e014f71a4bcce%20%3D%20L.geoJson%28null%2C%20%7B%0A%20%20%20%20%20%20%20%20%20%20%20%20%20%20%20%20onEachFeature%3A%20geo_json_f04502e4fc7745dca56e014f71a4bcce_onEachFeature%2C%0A%20%20%20%20%20%20%20%20%20%20%20%20%0A%20%20%20%20%20%20%20%20%20%20%20%20%20%20%20%20style%3A%20geo_json_f04502e4fc7745dca56e014f71a4bcce_styler%2C%0A%20%20%20%20%20%20%20%20%7D%29%3B%0A%0A%20%20%20%20%20%20%20%20function%20geo_json_f04502e4fc7745dca56e014f71a4bcce_add%20%28data%29%20%7B%0A%20%20%20%20%20%20%20%20%20%20%20%20geo_json_f04502e4fc7745dca56e014f71a4bcce%0A%20%20%20%20%20%20%20%20%20%20%20%20%20%20%20%20.addData%28data%29%0A%20%20%20%20%20%20%20%20%20%20%20%20%20%20%20%20.addTo%28map_0489824577b245b993c460c829500011%29%3B%0A%20%20%20%20%20%20%20%20%7D%0A%20%20%20%20%20%20%20%20%20%20%20%20geo_json_f04502e4fc7745dca56e014f71a4bcce_add%28%7B%22bbox%22%3A%20%5B2.4063974457525528%2C%2048.83522387577493%2C%202.4071246820605974%2C%2048.83565613991338%5D%2C%20%22features%22%3A%20%5B%7B%22bbox%22%3A%20%5B2.4063974457525528%2C%2048.83522387577493%2C%202.4071246820605974%2C%2048.83565613991338%5D%2C%20%22geometry%22%3A%20%7B%22coordinates%22%3A%20%5B%5B%5B2.406624013578073%2C%2048.83522387577493%5D%2C%20%5B2.4063974457525528%2C%2048.83542060789595%5D%2C%20%5B2.4071246820605974%2C%2048.83565613991338%5D%2C%20%5B2.4071035270014614%2C%2048.8355077814805%5D%2C%20%5B2.406624013578073%2C%2048.83522387577493%5D%5D%5D%2C%20%22type%22%3A%20%22Polygon%22%7D%2C%20%22id%22%3A%20%220%22%2C%20%22properties%22%3A%20%7B%7D%2C%20%22type%22%3A%20%22Feature%22%7D%5D%2C%20%22type%22%3A%20%22FeatureCollection%22%7D%29%3B%0A%0A%20%20%20%20%20%20%20%20%0A%20%20%20%20%0A%20%20%20%20%20%20%20%20var%20popup_7d322ee0f61f4cf189b89ae45adeb0c0%20%3D%20L.popup%28%7B%22maxWidth%22%3A%20%22100%25%22%7D%29%3B%0A%0A%20%20%20%20%20%20%20%20%0A%0A%20%20%20%20%20%20%20%20geo_json_f04502e4fc7745dca56e014f71a4bcce.bindPopup%28popup_7d322ee0f61f4cf189b89ae45adeb0c0%29%0A%20%20%20%20%20%20%20%20%3B%0A%0A%20%20%20%20%20%20%20%20%0A%20%20%20%20%0A%20%20%20%20%0A%20%20%20%20%20%20%20%20function%20geo_json_e3bbc0dcb94649e7a99aaa2cfed537ba_styler%28feature%29%20%7B%0A%20%20%20%20%20%20%20%20%20%20%20%20switch%28feature.id%29%20%7B%0A%20%20%20%20%20%20%20%20%20%20%20%20%20%20%20%20default%3A%0A%20%20%20%20%20%20%20%20%20%20%20%20%20%20%20%20%20%20%20%20return%20%7B%22color%22%3A%20%22%23eb353c%22%2C%20%22fillColor%22%3A%20%22%23eb353c%22%2C%20%22stroke%22%3A%20false%2C%20%22weight%22%3A%205%7D%3B%0A%20%20%20%20%20%20%20%20%20%20%20%20%7D%0A%20%20%20%20%20%20%20%20%7D%0A%0A%20%20%20%20%20%20%20%20function%20geo_json_e3bbc0dcb94649e7a99aaa2cfed537ba_onEachFeature%28feature%2C%20layer%29%20%7B%0A%20%20%20%20%20%20%20%20%20%20%20%20layer.on%28%7B%0A%20%20%20%20%20%20%20%20%20%20%20%20%7D%29%3B%0A%20%20%20%20%20%20%20%20%7D%3B%0A%20%20%20%20%20%20%20%20var%20geo_json_e3bbc0dcb94649e7a99aaa2cfed537ba%20%3D%20L.geoJson%28null%2C%20%7B%0A%20%20%20%20%20%20%20%20%20%20%20%20%20%20%20%20onEachFeature%3A%20geo_json_e3bbc0dcb94649e7a99aaa2cfed537ba_onEachFeature%2C%0A%20%20%20%20%20%20%20%20%20%20%20%20%0A%20%20%20%20%20%20%20%20%20%20%20%20%20%20%20%20style%3A%20geo_json_e3bbc0dcb94649e7a99aaa2cfed537ba_styler%2C%0A%20%20%20%20%20%20%20%20%7D%29%3B%0A%0A%20%20%20%20%20%20%20%20function%20geo_json_e3bbc0dcb94649e7a99aaa2cfed537ba_add%20%28data%29%20%7B%0A%20%20%20%20%20%20%20%20%20%20%20%20geo_json_e3bbc0dcb94649e7a99aaa2cfed537ba%0A%20%20%20%20%20%20%20%20%20%20%20%20%20%20%20%20.addData%28data%29%0A%20%20%20%20%20%20%20%20%20%20%20%20%20%20%20%20.addTo%28map_0489824577b245b993c460c829500011%29%3B%0A%20%20%20%20%20%20%20%20%7D%0A%20%20%20%20%20%20%20%20%20%20%20%20geo_json_e3bbc0dcb94649e7a99aaa2cfed537ba_add%28%7B%22bbox%22%3A%20%5B2.4063974457525528%2C%2048.83522387577493%2C%202.4071246820605974%2C%2048.83565613991338%5D%2C%20%22features%22%3A%20%5B%7B%22bbox%22%3A%20%5B2.4063974457525528%2C%2048.83522387577493%2C%202.4071246820605974%2C%2048.83565613991338%5D%2C%20%22geometry%22%3A%20%7B%22coordinates%22%3A%20%5B%5B%5B2.406624013578073%2C%2048.83522387577493%5D%2C%20%5B2.4063974457525528%2C%2048.83542060789595%5D%2C%20%5B2.4071246820605974%2C%2048.83565613991338%5D%2C%20%5B2.4071035270014614%2C%2048.8355077814805%5D%2C%20%5B2.406624013578073%2C%2048.83522387577493%5D%5D%5D%2C%20%22type%22%3A%20%22Polygon%22%7D%2C%20%22id%22%3A%20%220%22%2C%20%22properties%22%3A%20%7B%7D%2C%20%22type%22%3A%20%22Feature%22%7D%5D%2C%20%22type%22%3A%20%22FeatureCollection%22%7D%29%3B%0A%0A%20%20%20%20%20%20%20%20%0A%20%20%20%20%0A%20%20%20%20%20%20%20%20var%20popup_689761e0b6ce413c9a3bc98393cdd772%20%3D%20L.popup%28%7B%22maxWidth%22%3A%20%22100%25%22%7D%29%3B%0A%0A%20%20%20%20%20%20%20%20%0A%0A%20%20%20%20%20%20%20%20geo_json_e3bbc0dcb94649e7a99aaa2cfed537ba.bindPopup%28popup_689761e0b6ce413c9a3bc98393cdd772%29%0A%20%20%20%20%20%20%20%20%3B%0A%0A%20%20%20%20%20%20%20%20%0A%20%20%20%20%0A%20%20%20%20%0A%20%20%20%20%20%20%20%20function%20geo_json_8d6dc65c11314ff1bed085e9fc004b4b_styler%28feature%29%20%7B%0A%20%20%20%20%20%20%20%20%20%20%20%20switch%28feature.id%29%20%7B%0A%20%20%20%20%20%20%20%20%20%20%20%20%20%20%20%20default%3A%0A%20%20%20%20%20%20%20%20%20%20%20%20%20%20%20%20%20%20%20%20return%20%7B%22color%22%3A%20%22%23eb353c%22%2C%20%22fillColor%22%3A%20%22%23eb353c%22%2C%20%22stroke%22%3A%20false%2C%20%22weight%22%3A%205%7D%3B%0A%20%20%20%20%20%20%20%20%20%20%20%20%7D%0A%20%20%20%20%20%20%20%20%7D%0A%0A%20%20%20%20%20%20%20%20function%20geo_json_8d6dc65c11314ff1bed085e9fc004b4b_onEachFeature%28feature%2C%20layer%29%20%7B%0A%20%20%20%20%20%20%20%20%20%20%20%20layer.on%28%7B%0A%20%20%20%20%20%20%20%20%20%20%20%20%7D%29%3B%0A%20%20%20%20%20%20%20%20%7D%3B%0A%20%20%20%20%20%20%20%20var%20geo_json_8d6dc65c11314ff1bed085e9fc004b4b%20%3D%20L.geoJson%28null%2C%20%7B%0A%20%20%20%20%20%20%20%20%20%20%20%20%20%20%20%20onEachFeature%3A%20geo_json_8d6dc65c11314ff1bed085e9fc004b4b_onEachFeature%2C%0A%20%20%20%20%20%20%20%20%20%20%20%20%0A%20%20%20%20%20%20%20%20%20%20%20%20%20%20%20%20style%3A%20geo_json_8d6dc65c11314ff1bed085e9fc004b4b_styler%2C%0A%20%20%20%20%20%20%20%20%7D%29%3B%0A%0A%20%20%20%20%20%20%20%20function%20geo_json_8d6dc65c11314ff1bed085e9fc004b4b_add%20%28data%29%20%7B%0A%20%20%20%20%20%20%20%20%20%20%20%20geo_json_8d6dc65c11314ff1bed085e9fc004b4b%0A%20%20%20%20%20%20%20%20%20%20%20%20%20%20%20%20.addData%28data%29%0A%20%20%20%20%20%20%20%20%20%20%20%20%20%20%20%20.addTo%28map_0489824577b245b993c460c829500011%29%3B%0A%20%20%20%20%20%20%20%20%7D%0A%20%20%20%20%20%20%20%20%20%20%20%20geo_json_8d6dc65c11314ff1bed085e9fc004b4b_add%28%7B%22bbox%22%3A%20%5B2.3699235489220647%2C%2048.86365671235039%2C%202.3713890427016273%2C%2048.864254299360006%5D%2C%20%22features%22%3A%20%5B%7B%22bbox%22%3A%20%5B2.3699235489220647%2C%2048.86365671235039%2C%202.3713890427016273%2C%2048.864254299360006%5D%2C%20%22geometry%22%3A%20%7B%22coordinates%22%3A%20%5B%5B%5B2.370223162683263%2C%2048.86365671235039%5D%2C%20%5B2.3699235489220647%2C%2048.86381566957308%5D%2C%20%5B2.3713890427016273%2C%2048.864254299360006%5D%2C%20%5B2.371320802955038%2C%2048.86410064315664%5D%2C%20%5B2.370223162683263%2C%2048.86365671235039%5D%5D%5D%2C%20%22type%22%3A%20%22Polygon%22%7D%2C%20%22id%22%3A%20%220%22%2C%20%22properties%22%3A%20%7B%7D%2C%20%22type%22%3A%20%22Feature%22%7D%5D%2C%20%22type%22%3A%20%22FeatureCollection%22%7D%29%3B%0A%0A%20%20%20%20%20%20%20%20%0A%20%20%20%20%0A%20%20%20%20%20%20%20%20var%20popup_7fc050a6db4c469c895f1cb3e0314209%20%3D%20L.popup%28%7B%22maxWidth%22%3A%20%22100%25%22%7D%29%3B%0A%0A%20%20%20%20%20%20%20%20%0A%0A%20%20%20%20%20%20%20%20geo_json_8d6dc65c11314ff1bed085e9fc004b4b.bindPopup%28popup_7fc050a6db4c469c895f1cb3e0314209%29%0A%20%20%20%20%20%20%20%20%3B%0A%0A%20%20%20%20%20%20%20%20%0A%20%20%20%20%0A%20%20%20%20%0A%20%20%20%20%20%20%20%20function%20geo_json_00803b221fcc439199d494193d6d3d87_styler%28feature%29%20%7B%0A%20%20%20%20%20%20%20%20%20%20%20%20switch%28feature.id%29%20%7B%0A%20%20%20%20%20%20%20%20%20%20%20%20%20%20%20%20default%3A%0A%20%20%20%20%20%20%20%20%20%20%20%20%20%20%20%20%20%20%20%20return%20%7B%22color%22%3A%20%22%23eb353c%22%2C%20%22fillColor%22%3A%20%22%23eb353c%22%2C%20%22stroke%22%3A%20false%2C%20%22weight%22%3A%205%7D%3B%0A%20%20%20%20%20%20%20%20%20%20%20%20%7D%0A%20%20%20%20%20%20%20%20%7D%0A%0A%20%20%20%20%20%20%20%20function%20geo_json_00803b221fcc439199d494193d6d3d87_onEachFeature%28feature%2C%20layer%29%20%7B%0A%20%20%20%20%20%20%20%20%20%20%20%20layer.on%28%7B%0A%20%20%20%20%20%20%20%20%20%20%20%20%7D%29%3B%0A%20%20%20%20%20%20%20%20%7D%3B%0A%20%20%20%20%20%20%20%20var%20geo_json_00803b221fcc439199d494193d6d3d87%20%3D%20L.geoJson%28null%2C%20%7B%0A%20%20%20%20%20%20%20%20%20%20%20%20%20%20%20%20onEachFeature%3A%20geo_json_00803b221fcc439199d494193d6d3d87_onEachFeature%2C%0A%20%20%20%20%20%20%20%20%20%20%20%20%0A%20%20%20%20%20%20%20%20%20%20%20%20%20%20%20%20style%3A%20geo_json_00803b221fcc439199d494193d6d3d87_styler%2C%0A%20%20%20%20%20%20%20%20%7D%29%3B%0A%0A%20%20%20%20%20%20%20%20function%20geo_json_00803b221fcc439199d494193d6d3d87_add%20%28data%29%20%7B%0A%20%20%20%20%20%20%20%20%20%20%20%20geo_json_00803b221fcc439199d494193d6d3d87%0A%20%20%20%20%20%20%20%20%20%20%20%20%20%20%20%20.addData%28data%29%0A%20%20%20%20%20%20%20%20%20%20%20%20%20%20%20%20.addTo%28map_0489824577b245b993c460c829500011%29%3B%0A%20%20%20%20%20%20%20%20%7D%0A%20%20%20%20%20%20%20%20%20%20%20%20geo_json_00803b221fcc439199d494193d6d3d87_add%28%7B%22bbox%22%3A%20%5B2.3699235489220647%2C%2048.86365671235039%2C%202.3713890427016273%2C%2048.864254299360006%5D%2C%20%22features%22%3A%20%5B%7B%22bbox%22%3A%20%5B2.3699235489220647%2C%2048.86365671235039%2C%202.3713890427016273%2C%2048.864254299360006%5D%2C%20%22geometry%22%3A%20%7B%22coordinates%22%3A%20%5B%5B%5B2.370223162683263%2C%2048.86365671235039%5D%2C%20%5B2.3699235489220647%2C%2048.86381566957308%5D%2C%20%5B2.3713890427016273%2C%2048.864254299360006%5D%2C%20%5B2.371320802955038%2C%2048.86410064315664%5D%2C%20%5B2.370223162683263%2C%2048.86365671235039%5D%5D%5D%2C%20%22type%22%3A%20%22Polygon%22%7D%2C%20%22id%22%3A%20%220%22%2C%20%22properties%22%3A%20%7B%7D%2C%20%22type%22%3A%20%22Feature%22%7D%5D%2C%20%22type%22%3A%20%22FeatureCollection%22%7D%29%3B%0A%0A%20%20%20%20%20%20%20%20%0A%20%20%20%20%0A%20%20%20%20%20%20%20%20var%20popup_1dbbed02f77a4b90babcb54c5bc2a565%20%3D%20L.popup%28%7B%22maxWidth%22%3A%20%22100%25%22%7D%29%3B%0A%0A%20%20%20%20%20%20%20%20%0A%0A%20%20%20%20%20%20%20%20geo_json_00803b221fcc439199d494193d6d3d87.bindPopup%28popup_1dbbed02f77a4b90babcb54c5bc2a565%29%0A%20%20%20%20%20%20%20%20%3B%0A%0A%20%20%20%20%20%20%20%20%0A%20%20%20%20%0A%20%20%20%20%0A%20%20%20%20%20%20%20%20function%20geo_json_c5be23da8fdb42ab8c2e4c6ea9491fa3_styler%28feature%29%20%7B%0A%20%20%20%20%20%20%20%20%20%20%20%20switch%28feature.id%29%20%7B%0A%20%20%20%20%20%20%20%20%20%20%20%20%20%20%20%20default%3A%0A%20%20%20%20%20%20%20%20%20%20%20%20%20%20%20%20%20%20%20%20return%20%7B%22color%22%3A%20%22%23eb353c%22%2C%20%22fillColor%22%3A%20%22%23eb353c%22%2C%20%22stroke%22%3A%20false%2C%20%22weight%22%3A%205%7D%3B%0A%20%20%20%20%20%20%20%20%20%20%20%20%7D%0A%20%20%20%20%20%20%20%20%7D%0A%0A%20%20%20%20%20%20%20%20function%20geo_json_c5be23da8fdb42ab8c2e4c6ea9491fa3_onEachFeature%28feature%2C%20layer%29%20%7B%0A%20%20%20%20%20%20%20%20%20%20%20%20layer.on%28%7B%0A%20%20%20%20%20%20%20%20%20%20%20%20%7D%29%3B%0A%20%20%20%20%20%20%20%20%7D%3B%0A%20%20%20%20%20%20%20%20var%20geo_json_c5be23da8fdb42ab8c2e4c6ea9491fa3%20%3D%20L.geoJson%28null%2C%20%7B%0A%20%20%20%20%20%20%20%20%20%20%20%20%20%20%20%20onEachFeature%3A%20geo_json_c5be23da8fdb42ab8c2e4c6ea9491fa3_onEachFeature%2C%0A%20%20%20%20%20%20%20%20%20%20%20%20%0A%20%20%20%20%20%20%20%20%20%20%20%20%20%20%20%20style%3A%20geo_json_c5be23da8fdb42ab8c2e4c6ea9491fa3_styler%2C%0A%20%20%20%20%20%20%20%20%7D%29%3B%0A%0A%20%20%20%20%20%20%20%20function%20geo_json_c5be23da8fdb42ab8c2e4c6ea9491fa3_add%20%28data%29%20%7B%0A%20%20%20%20%20%20%20%20%20%20%20%20geo_json_c5be23da8fdb42ab8c2e4c6ea9491fa3%0A%20%20%20%20%20%20%20%20%20%20%20%20%20%20%20%20.addData%28data%29%0A%20%20%20%20%20%20%20%20%20%20%20%20%20%20%20%20.addTo%28map_0489824577b245b993c460c829500011%29%3B%0A%20%20%20%20%20%20%20%20%7D%0A%20%20%20%20%20%20%20%20%20%20%20%20geo_json_c5be23da8fdb42ab8c2e4c6ea9491fa3_add%28%7B%22bbox%22%3A%20%5B2.376650522189099%2C%2048.859642902270245%2C%202.3770157129678253%2C%2048.85986862191758%5D%2C%20%22features%22%3A%20%5B%7B%22bbox%22%3A%20%5B2.376650522189099%2C%2048.859642902270245%2C%202.3770157129678253%2C%2048.85986862191758%5D%2C%20%22geometry%22%3A%20%7B%22coordinates%22%3A%20%5B%5B%5B2.3769475067212964%2C%2048.85986862191758%5D%2C%20%5B2.3770157129678253%2C%2048.859642902270245%5D%2C%20%5B2.376650522189099%2C%2048.859700995066675%5D%2C%20%5B2.37671246172412%2C%2048.85985490110176%5D%2C%20%5B2.3769475067212964%2C%2048.85986862191758%5D%5D%5D%2C%20%22type%22%3A%20%22Polygon%22%7D%2C%20%22id%22%3A%20%220%22%2C%20%22properties%22%3A%20%7B%7D%2C%20%22type%22%3A%20%22Feature%22%7D%5D%2C%20%22type%22%3A%20%22FeatureCollection%22%7D%29%3B%0A%0A%20%20%20%20%20%20%20%20%0A%20%20%20%20%0A%20%20%20%20%20%20%20%20var%20popup_bb77c5ebb8284028a62022e7c60f57f4%20%3D%20L.popup%28%7B%22maxWidth%22%3A%20%22100%25%22%7D%29%3B%0A%0A%20%20%20%20%20%20%20%20%0A%0A%20%20%20%20%20%20%20%20geo_json_c5be23da8fdb42ab8c2e4c6ea9491fa3.bindPopup%28popup_bb77c5ebb8284028a62022e7c60f57f4%29%0A%20%20%20%20%20%20%20%20%3B%0A%0A%20%20%20%20%20%20%20%20%0A%20%20%20%20%0A%20%20%20%20%0A%20%20%20%20%20%20%20%20function%20geo_json_86200b1200ff436393ca3479459a1a17_styler%28feature%29%20%7B%0A%20%20%20%20%20%20%20%20%20%20%20%20switch%28feature.id%29%20%7B%0A%20%20%20%20%20%20%20%20%20%20%20%20%20%20%20%20default%3A%0A%20%20%20%20%20%20%20%20%20%20%20%20%20%20%20%20%20%20%20%20return%20%7B%22color%22%3A%20%22%23eb353c%22%2C%20%22fillColor%22%3A%20%22%23eb353c%22%2C%20%22stroke%22%3A%20false%2C%20%22weight%22%3A%205%7D%3B%0A%20%20%20%20%20%20%20%20%20%20%20%20%7D%0A%20%20%20%20%20%20%20%20%7D%0A%0A%20%20%20%20%20%20%20%20function%20geo_json_86200b1200ff436393ca3479459a1a17_onEachFeature%28feature%2C%20layer%29%20%7B%0A%20%20%20%20%20%20%20%20%20%20%20%20layer.on%28%7B%0A%20%20%20%20%20%20%20%20%20%20%20%20%7D%29%3B%0A%20%20%20%20%20%20%20%20%7D%3B%0A%20%20%20%20%20%20%20%20var%20geo_json_86200b1200ff436393ca3479459a1a17%20%3D%20L.geoJson%28null%2C%20%7B%0A%20%20%20%20%20%20%20%20%20%20%20%20%20%20%20%20onEachFeature%3A%20geo_json_86200b1200ff436393ca3479459a1a17_onEachFeature%2C%0A%20%20%20%20%20%20%20%20%20%20%20%20%0A%20%20%20%20%20%20%20%20%20%20%20%20%20%20%20%20style%3A%20geo_json_86200b1200ff436393ca3479459a1a17_styler%2C%0A%20%20%20%20%20%20%20%20%7D%29%3B%0A%0A%20%20%20%20%20%20%20%20function%20geo_json_86200b1200ff436393ca3479459a1a17_add%20%28data%29%20%7B%0A%20%20%20%20%20%20%20%20%20%20%20%20geo_json_86200b1200ff436393ca3479459a1a17%0A%20%20%20%20%20%20%20%20%20%20%20%20%20%20%20%20.addData%28data%29%0A%20%20%20%20%20%20%20%20%20%20%20%20%20%20%20%20.addTo%28map_0489824577b245b993c460c829500011%29%3B%0A%20%20%20%20%20%20%20%20%7D%0A%20%20%20%20%20%20%20%20%20%20%20%20geo_json_86200b1200ff436393ca3479459a1a17_add%28%7B%22bbox%22%3A%20%5B2.3846328653093196%2C%2048.854454758585945%2C%202.3856883070471784%2C%2048.85512846000987%5D%2C%20%22features%22%3A%20%5B%7B%22bbox%22%3A%20%5B2.3846328653093196%2C%2048.854454758585945%2C%202.3856883070471784%2C%2048.85512846000987%5D%2C%20%22geometry%22%3A%20%7B%22coordinates%22%3A%20%5B%5B%5B2.3856883070471784%2C%2048.8546579398117%5D%2C%20%5B2.38542826989542%2C%2048.854454758585945%5D%2C%20%5B2.3846328653093196%2C%2048.855039497168804%5D%2C%20%5B2.3849361664545476%2C%2048.85512846000987%5D%2C%20%5B2.3856883070471784%2C%2048.8546579398117%5D%5D%5D%2C%20%22type%22%3A%20%22Polygon%22%7D%2C%20%22id%22%3A%20%220%22%2C%20%22properties%22%3A%20%7B%7D%2C%20%22type%22%3A%20%22Feature%22%7D%5D%2C%20%22type%22%3A%20%22FeatureCollection%22%7D%29%3B%0A%0A%20%20%20%20%20%20%20%20%0A%20%20%20%20%0A%20%20%20%20%20%20%20%20var%20popup_3ca5deda0b50411d900e3c1bb0233f0e%20%3D%20L.popup%28%7B%22maxWidth%22%3A%20%22100%25%22%7D%29%3B%0A%0A%20%20%20%20%20%20%20%20%0A%0A%20%20%20%20%20%20%20%20geo_json_86200b1200ff436393ca3479459a1a17.bindPopup%28popup_3ca5deda0b50411d900e3c1bb0233f0e%29%0A%20%20%20%20%20%20%20%20%3B%0A%0A%20%20%20%20%20%20%20%20%0A%20%20%20%20%0A%20%20%20%20%0A%20%20%20%20%20%20%20%20function%20geo_json_768609b9e25a4ed68147260fad9232a2_styler%28feature%29%20%7B%0A%20%20%20%20%20%20%20%20%20%20%20%20switch%28feature.id%29%20%7B%0A%20%20%20%20%20%20%20%20%20%20%20%20%20%20%20%20default%3A%0A%20%20%20%20%20%20%20%20%20%20%20%20%20%20%20%20%20%20%20%20return%20%7B%22color%22%3A%20%22%23eb353c%22%2C%20%22fillColor%22%3A%20%22%23eb353c%22%2C%20%22stroke%22%3A%20false%2C%20%22weight%22%3A%205%7D%3B%0A%20%20%20%20%20%20%20%20%20%20%20%20%7D%0A%20%20%20%20%20%20%20%20%7D%0A%0A%20%20%20%20%20%20%20%20function%20geo_json_768609b9e25a4ed68147260fad9232a2_onEachFeature%28feature%2C%20layer%29%20%7B%0A%20%20%20%20%20%20%20%20%20%20%20%20layer.on%28%7B%0A%20%20%20%20%20%20%20%20%20%20%20%20%7D%29%3B%0A%20%20%20%20%20%20%20%20%7D%3B%0A%20%20%20%20%20%20%20%20var%20geo_json_768609b9e25a4ed68147260fad9232a2%20%3D%20L.geoJson%28null%2C%20%7B%0A%20%20%20%20%20%20%20%20%20%20%20%20%20%20%20%20onEachFeature%3A%20geo_json_768609b9e25a4ed68147260fad9232a2_onEachFeature%2C%0A%20%20%20%20%20%20%20%20%20%20%20%20%0A%20%20%20%20%20%20%20%20%20%20%20%20%20%20%20%20style%3A%20geo_json_768609b9e25a4ed68147260fad9232a2_styler%2C%0A%20%20%20%20%20%20%20%20%7D%29%3B%0A%0A%20%20%20%20%20%20%20%20function%20geo_json_768609b9e25a4ed68147260fad9232a2_add%20%28data%29%20%7B%0A%20%20%20%20%20%20%20%20%20%20%20%20geo_json_768609b9e25a4ed68147260fad9232a2%0A%20%20%20%20%20%20%20%20%20%20%20%20%20%20%20%20.addData%28data%29%0A%20%20%20%20%20%20%20%20%20%20%20%20%20%20%20%20.addTo%28map_0489824577b245b993c460c829500011%29%3B%0A%20%20%20%20%20%20%20%20%7D%0A%20%20%20%20%20%20%20%20%20%20%20%20geo_json_768609b9e25a4ed68147260fad9232a2_add%28%7B%22bbox%22%3A%20%5B2.3846328653093196%2C%2048.854454758585945%2C%202.3856883070471784%2C%2048.85512846000987%5D%2C%20%22features%22%3A%20%5B%7B%22bbox%22%3A%20%5B2.3846328653093196%2C%2048.854454758585945%2C%202.3856883070471784%2C%2048.85512846000987%5D%2C%20%22geometry%22%3A%20%7B%22coordinates%22%3A%20%5B%5B%5B2.3856883070471784%2C%2048.8546579398117%5D%2C%20%5B2.38542826989542%2C%2048.854454758585945%5D%2C%20%5B2.3846328653093196%2C%2048.855039497168804%5D%2C%20%5B2.3849361664545476%2C%2048.85512846000987%5D%2C%20%5B2.3856883070471784%2C%2048.8546579398117%5D%5D%5D%2C%20%22type%22%3A%20%22Polygon%22%7D%2C%20%22id%22%3A%20%220%22%2C%20%22properties%22%3A%20%7B%7D%2C%20%22type%22%3A%20%22Feature%22%7D%5D%2C%20%22type%22%3A%20%22FeatureCollection%22%7D%29%3B%0A%0A%20%20%20%20%20%20%20%20%0A%20%20%20%20%0A%20%20%20%20%20%20%20%20var%20popup_c86dac824c5847ab8b3477ad539af8ce%20%3D%20L.popup%28%7B%22maxWidth%22%3A%20%22100%25%22%7D%29%3B%0A%0A%20%20%20%20%20%20%20%20%0A%0A%20%20%20%20%20%20%20%20geo_json_768609b9e25a4ed68147260fad9232a2.bindPopup%28popup_c86dac824c5847ab8b3477ad539af8ce%29%0A%20%20%20%20%20%20%20%20%3B%0A%0A%20%20%20%20%20%20%20%20%0A%20%20%20%20%0A%20%20%20%20%0A%20%20%20%20%20%20%20%20function%20geo_json_4d3855aa3cd741ec9fbd8e2066a12658_styler%28feature%29%20%7B%0A%20%20%20%20%20%20%20%20%20%20%20%20switch%28feature.id%29%20%7B%0A%20%20%20%20%20%20%20%20%20%20%20%20%20%20%20%20default%3A%0A%20%20%20%20%20%20%20%20%20%20%20%20%20%20%20%20%20%20%20%20return%20%7B%22color%22%3A%20%22%23eb353c%22%2C%20%22fillColor%22%3A%20%22%23eb353c%22%2C%20%22stroke%22%3A%20false%2C%20%22weight%22%3A%205%7D%3B%0A%20%20%20%20%20%20%20%20%20%20%20%20%7D%0A%20%20%20%20%20%20%20%20%7D%0A%0A%20%20%20%20%20%20%20%20function%20geo_json_4d3855aa3cd741ec9fbd8e2066a12658_onEachFeature%28feature%2C%20layer%29%20%7B%0A%20%20%20%20%20%20%20%20%20%20%20%20layer.on%28%7B%0A%20%20%20%20%20%20%20%20%20%20%20%20%7D%29%3B%0A%20%20%20%20%20%20%20%20%7D%3B%0A%20%20%20%20%20%20%20%20var%20geo_json_4d3855aa3cd741ec9fbd8e2066a12658%20%3D%20L.geoJson%28null%2C%20%7B%0A%20%20%20%20%20%20%20%20%20%20%20%20%20%20%20%20onEachFeature%3A%20geo_json_4d3855aa3cd741ec9fbd8e2066a12658_onEachFeature%2C%0A%20%20%20%20%20%20%20%20%20%20%20%20%0A%20%20%20%20%20%20%20%20%20%20%20%20%20%20%20%20style%3A%20geo_json_4d3855aa3cd741ec9fbd8e2066a12658_styler%2C%0A%20%20%20%20%20%20%20%20%7D%29%3B%0A%0A%20%20%20%20%20%20%20%20function%20geo_json_4d3855aa3cd741ec9fbd8e2066a12658_add%20%28data%29%20%7B%0A%20%20%20%20%20%20%20%20%20%20%20%20geo_json_4d3855aa3cd741ec9fbd8e2066a12658%0A%20%20%20%20%20%20%20%20%20%20%20%20%20%20%20%20.addData%28data%29%0A%20%20%20%20%20%20%20%20%20%20%20%20%20%20%20%20.addTo%28map_0489824577b245b993c460c829500011%29%3B%0A%20%20%20%20%20%20%20%20%7D%0A%20%20%20%20%20%20%20%20%20%20%20%20geo_json_4d3855aa3cd741ec9fbd8e2066a12658_add%28%7B%22bbox%22%3A%20%5B2.3846328653093196%2C%2048.854454758585945%2C%202.3856883070471784%2C%2048.85512846000987%5D%2C%20%22features%22%3A%20%5B%7B%22bbox%22%3A%20%5B2.3846328653093196%2C%2048.854454758585945%2C%202.3856883070471784%2C%2048.85512846000987%5D%2C%20%22geometry%22%3A%20%7B%22coordinates%22%3A%20%5B%5B%5B2.3856883070471784%2C%2048.8546579398117%5D%2C%20%5B2.38542826989542%2C%2048.854454758585945%5D%2C%20%5B2.3846328653093196%2C%2048.855039497168804%5D%2C%20%5B2.3849361664545476%2C%2048.85512846000987%5D%2C%20%5B2.3856883070471784%2C%2048.8546579398117%5D%5D%5D%2C%20%22type%22%3A%20%22Polygon%22%7D%2C%20%22id%22%3A%20%220%22%2C%20%22properties%22%3A%20%7B%7D%2C%20%22type%22%3A%20%22Feature%22%7D%5D%2C%20%22type%22%3A%20%22FeatureCollection%22%7D%29%3B%0A%0A%20%20%20%20%20%20%20%20%0A%20%20%20%20%0A%20%20%20%20%20%20%20%20var%20popup_5a7773a486aa409ea941ace558886ad0%20%3D%20L.popup%28%7B%22maxWidth%22%3A%20%22100%25%22%7D%29%3B%0A%0A%20%20%20%20%20%20%20%20%0A%0A%20%20%20%20%20%20%20%20geo_json_4d3855aa3cd741ec9fbd8e2066a12658.bindPopup%28popup_5a7773a486aa409ea941ace558886ad0%29%0A%20%20%20%20%20%20%20%20%3B%0A%0A%20%20%20%20%20%20%20%20%0A%20%20%20%20%0A%20%20%20%20%0A%20%20%20%20%20%20%20%20function%20geo_json_d5d4fb77fcba48daa7498840315fd1ab_styler%28feature%29%20%7B%0A%20%20%20%20%20%20%20%20%20%20%20%20switch%28feature.id%29%20%7B%0A%20%20%20%20%20%20%20%20%20%20%20%20%20%20%20%20default%3A%0A%20%20%20%20%20%20%20%20%20%20%20%20%20%20%20%20%20%20%20%20return%20%7B%22color%22%3A%20%22%23eb353c%22%2C%20%22fillColor%22%3A%20%22%23eb353c%22%2C%20%22stroke%22%3A%20false%2C%20%22weight%22%3A%205%7D%3B%0A%20%20%20%20%20%20%20%20%20%20%20%20%7D%0A%20%20%20%20%20%20%20%20%7D%0A%0A%20%20%20%20%20%20%20%20function%20geo_json_d5d4fb77fcba48daa7498840315fd1ab_onEachFeature%28feature%2C%20layer%29%20%7B%0A%20%20%20%20%20%20%20%20%20%20%20%20layer.on%28%7B%0A%20%20%20%20%20%20%20%20%20%20%20%20%7D%29%3B%0A%20%20%20%20%20%20%20%20%7D%3B%0A%20%20%20%20%20%20%20%20var%20geo_json_d5d4fb77fcba48daa7498840315fd1ab%20%3D%20L.geoJson%28null%2C%20%7B%0A%20%20%20%20%20%20%20%20%20%20%20%20%20%20%20%20onEachFeature%3A%20geo_json_d5d4fb77fcba48daa7498840315fd1ab_onEachFeature%2C%0A%20%20%20%20%20%20%20%20%20%20%20%20%0A%20%20%20%20%20%20%20%20%20%20%20%20%20%20%20%20style%3A%20geo_json_d5d4fb77fcba48daa7498840315fd1ab_styler%2C%0A%20%20%20%20%20%20%20%20%7D%29%3B%0A%0A%20%20%20%20%20%20%20%20function%20geo_json_d5d4fb77fcba48daa7498840315fd1ab_add%20%28data%29%20%7B%0A%20%20%20%20%20%20%20%20%20%20%20%20geo_json_d5d4fb77fcba48daa7498840315fd1ab%0A%20%20%20%20%20%20%20%20%20%20%20%20%20%20%20%20.addData%28data%29%0A%20%20%20%20%20%20%20%20%20%20%20%20%20%20%20%20.addTo%28map_0489824577b245b993c460c829500011%29%3B%0A%20%20%20%20%20%20%20%20%7D%0A%20%20%20%20%20%20%20%20%20%20%20%20geo_json_d5d4fb77fcba48daa7498840315fd1ab_add%28%7B%22bbox%22%3A%20%5B2.3775353635522016%2C%2048.85859462572471%2C%202.378675213208933%2C%2048.85933641087823%5D%2C%20%22features%22%3A%20%5B%7B%22bbox%22%3A%20%5B2.3775353635522016%2C%2048.85859462572471%2C%202.378675213208933%2C%2048.85933641087823%5D%2C%20%22geometry%22%3A%20%7B%22coordinates%22%3A%20%5B%5B%5B2.378675213208933%2C%2048.858798506353864%5D%2C%20%5B2.378411898293631%2C%2048.85859462572471%5D%2C%20%5B2.3775353635522016%2C%2048.85926416633462%5D%2C%20%5B2.377846271259447%2C%2048.85933641087823%5D%2C%20%5B2.378675213208933%2C%2048.858798506353864%5D%5D%5D%2C%20%22type%22%3A%20%22Polygon%22%7D%2C%20%22id%22%3A%20%220%22%2C%20%22properties%22%3A%20%7B%7D%2C%20%22type%22%3A%20%22Feature%22%7D%5D%2C%20%22type%22%3A%20%22FeatureCollection%22%7D%29%3B%0A%0A%20%20%20%20%20%20%20%20%0A%20%20%20%20%0A%20%20%20%20%20%20%20%20var%20popup_f6077ebe9aec411d96fa77510ed9b745%20%3D%20L.popup%28%7B%22maxWidth%22%3A%20%22100%25%22%7D%29%3B%0A%0A%20%20%20%20%20%20%20%20%0A%0A%20%20%20%20%20%20%20%20geo_json_d5d4fb77fcba48daa7498840315fd1ab.bindPopup%28popup_f6077ebe9aec411d96fa77510ed9b745%29%0A%20%20%20%20%20%20%20%20%3B%0A%0A%20%20%20%20%20%20%20%20%0A%20%20%20%20%0A%20%20%20%20%0A%20%20%20%20%20%20%20%20%20%20%20%20var%20poly_line_b402c37630e04d4e8761f81b6cdc8e44%20%3D%20L.polyline%28%0A%20%20%20%20%20%20%20%20%20%20%20%20%20%20%20%20%5B%5B48.861006%2C%202.36686%5D%2C%20%5B48.861313%2C%202.364678%5D%2C%20%5B48.861326%2C%202.364594%5D%2C%20%5B48.861389%2C%202.364598%5D%2C%20%5B48.861487%2C%202.364603%5D%2C%20%5B48.861528%2C%202.364699%5D%2C%20%5B48.861724%2C%202.365158%5D%2C%20%5B48.861762%2C%202.365248%5D%2C%20%5B48.861804%2C%202.365345%5D%2C%20%5B48.861899%2C%202.365568%5D%2C%20%5B48.862078%2C%202.365988%5D%2C%20%5B48.862382%2C%202.366702%5D%2C%20%5B48.862463%2C%202.366891%5D%2C%20%5B48.862598%2C%202.367196%5D%2C%20%5B48.862611%2C%202.367225%5D%2C%20%5B48.862649%2C%202.367312%5D%2C%20%5B48.862685%2C%202.367404%5D%2C%20%5B48.86298%2C%202.36815%5D%2C%20%5B48.863384%2C%202.369185%5D%2C%20%5B48.863407%2C%202.369245%5D%2C%20%5B48.863437%2C%202.36932%5D%2C%20%5B48.863696%2C%202.369964%5D%2C%20%5B48.863729%2C%202.37004%5D%2C%20%5B48.863027%2C%202.371217%5D%2C%20%5B48.862911%2C%202.371413%5D%2C%20%5B48.862798%2C%202.371602%5D%2C%20%5B48.862697%2C%202.371772%5D%2C%20%5B48.862599%2C%202.371938%5D%2C%20%5B48.862315%2C%202.372417%5D%2C%20%5B48.862237%2C%202.372547%5D%2C%20%5B48.862187%2C%202.372631%5D%2C%20%5B48.862116%2C%202.372751%5D%2C%20%5B48.862052%2C%202.372858%5D%2C%20%5B48.862027%2C%202.372898%5D%2C%20%5B48.861974%2C%202.372981%5D%2C%20%5B48.860966%2C%202.374674%5D%2C%20%5B48.860949%2C%202.374702%5D%2C%20%5B48.860926%2C%202.374742%5D%2C%20%5B48.860727%2C%202.375066%5D%2C%20%5B48.860647%2C%202.375197%5D%2C%20%5B48.860531%2C%202.375392%5D%2C%20%5B48.860484%2C%202.375468%5D%2C%20%5B48.860458%2C%202.37551%5D%2C%20%5B48.859725%2C%202.376768%5D%2C%20%5B48.85937%2C%202.377361%5D%2C%20%5B48.858679%2C%202.378509%5D%2C%20%5B48.85824%2C%202.379264%5D%2C%20%5B48.85787%2C%202.379879%5D%2C%20%5B48.857845%2C%202.379921%5D%2C%20%5B48.857828%2C%202.379911%5D%2C%20%5B48.857798%2C%202.379891%5D%2C%20%5B48.857701%2C%202.379906%5D%2C%20%5B48.857693%2C%202.379922%5D%2C%20%5B48.85764%2C%202.380015%5D%2C%20%5B48.857556%2C%202.380165%5D%2C%20%5B48.857564%2C%202.380364%5D%2C%20%5B48.857569%2C%202.380384%5D%2C%20%5B48.857554%2C%202.380408%5D%2C%20%5B48.857314%2C%202.380796%5D%2C%20%5B48.856641%2C%202.381932%5D%2C%20%5B48.856504%2C%202.382168%5D%2C%20%5B48.85616%2C%202.382741%5D%2C%20%5B48.855854%2C%202.383253%5D%2C%20%5B48.855276%2C%202.384228%5D%2C%20%5B48.854929%2C%202.384809%5D%2C%20%5B48.854681%2C%202.385213%5D%2C%20%5B48.854601%2C%202.385345%5D%2C%20%5B48.853302%2C%202.387522%5D%2C%20%5B48.853242%2C%202.387621%5D%2C%20%5B48.853169%2C%202.387744%5D%2C%20%5B48.852868%2C%202.388247%5D%2C%20%5B48.852844%2C%202.388289%5D%2C%20%5B48.852695%2C%202.388538%5D%2C%20%5B48.852394%2C%202.389044%5D%2C%20%5B48.852281%2C%202.389231%5D%2C%20%5B48.851135%2C%202.391151%5D%2C%20%5B48.850552%2C%202.392128%5D%2C%20%5B48.850515%2C%202.39219%5D%2C%20%5B48.850397%2C%202.392387%5D%2C%20%5B48.85032%2C%202.392518%5D%2C%20%5B48.849116%2C%202.394581%5D%2C%20%5B48.849093%2C%202.394733%5D%2C%20%5B48.848934%2C%202.395001%5D%2C%20%5B48.848855%2C%202.395131%5D%2C%20%5B48.84879%2C%202.395237%5D%2C%20%5B48.848728%2C%202.395162%5D%2C%20%5B48.848619%2C%202.395071%5D%2C%20%5B48.84859%2C%202.395054%5D%2C%20%5B48.848517%2C%202.395021%5D%2C%20%5B48.848403%2C%202.394999%5D%2C%20%5B48.848287%2C%202.39501%5D%2C%20%5B48.848184%2C%202.39505%5D%2C%20%5B48.848087%2C%202.395116%5D%2C%20%5B48.848%2C%202.395206%5D%2C%20%5B48.847932%2C%202.395304%5D%2C%20%5B48.84783%2C%202.395541%5D%2C%20%5B48.847798%2C%202.395674%5D%2C%20%5B48.847781%2C%202.395813%5D%2C%20%5B48.847684%2C%202.395795%5D%2C%20%5B48.847578%2C%202.395775%5D%2C%20%5B48.847443%2C%202.39575%5D%2C%20%5B48.847336%2C%202.39573%5D%2C%20%5B48.847247%2C%202.395709%5D%2C%20%5B48.845713%2C%202.395409%5D%2C%20%5B48.845547%2C%202.395381%5D%2C%20%5B48.845455%2C%202.395367%5D%2C%20%5B48.845292%2C%202.395339%5D%2C%20%5B48.845276%2C%202.395352%5D%2C%20%5B48.845228%2C%202.395392%5D%2C%20%5B48.844972%2C%202.395606%5D%2C%20%5B48.844942%2C%202.395631%5D%2C%20%5B48.84392%2C%202.396485%5D%2C%20%5B48.843826%2C%202.396563%5D%2C%20%5B48.843753%2C%202.396623%5D%2C%20%5B48.843637%2C%202.396718%5D%2C%20%5B48.843421%2C%202.396897%5D%2C%20%5B48.843319%2C%202.396985%5D%2C%20%5B48.842933%2C%202.397303%5D%2C%20%5B48.84277%2C%202.397438%5D%2C%20%5B48.842711%2C%202.397491%5D%2C%20%5B48.842648%2C%202.397545%5D%2C%20%5B48.842473%2C%202.397703%5D%2C%20%5B48.842344%2C%202.397817%5D%2C%20%5B48.842282%2C%202.397868%5D%2C%20%5B48.841249%2C%202.398782%5D%2C%20%5B48.841164%2C%202.398856%5D%2C%20%5B48.841103%2C%202.398909%5D%2C%20%5B48.841036%2C%202.398968%5D%2C%20%5B48.840694%2C%202.399264%5D%2C%20%5B48.840606%2C%202.399339%5D%2C%20%5B48.840502%2C%202.399431%5D%2C%20%5B48.840455%2C%202.399471%5D%2C%20%5B48.839988%2C%202.399877%5D%2C%20%5B48.839889%2C%202.399895%5D%2C%20%5B48.839743%2C%202.399926%5D%2C%20%5B48.839711%2C%202.399935%5D%2C%20%5B48.839642%2C%202.400033%5D%2C%20%5B48.839633%2C%202.400081%5D%2C%20%5B48.839635%2C%202.400141%5D%2C%20%5B48.83965%2C%202.400197%5D%2C%20%5B48.839563%2C%202.400285%5D%2C%20%5B48.839249%2C%202.400605%5D%2C%20%5B48.839192%2C%202.400664%5D%2C%20%5B48.83913%2C%202.400727%5D%2C%20%5B48.83886%2C%202.401017%5D%2C%20%5B48.838829%2C%202.401051%5D%2C%20%5B48.838612%2C%202.401268%5D%2C%20%5B48.837467%2C%202.402203%5D%2C%20%5B48.837358%2C%202.402247%5D%2C%20%5B48.837331%2C%202.402237%5D%2C%20%5B48.837154%2C%202.402172%5D%2C%20%5B48.837026%2C%202.402547%5D%2C%20%5B48.836751%2C%202.403333%5D%2C%20%5B48.836697%2C%202.403487%5D%2C%20%5B48.83665%2C%202.403614%5D%2C%20%5B48.836471%2C%202.404068%5D%2C%20%5B48.835923%2C%202.405565%5D%2C%20%5B48.835896%2C%202.405637%5D%2C%20%5B48.835877%2C%202.405694%5D%2C%20%5B48.835733%2C%202.406065%5D%2C%20%5B48.835702%2C%202.406115%5D%2C%20%5B48.835594%2C%202.406323%5D%2C%20%5B48.835486%2C%202.406434%5D%2C%20%5B48.83544%2C%202.406492%5D%2C%20%5B48.835412%2C%202.406527%5D%2C%20%5B48.83536%2C%202.406596%5D%2C%20%5B48.835304%2C%202.406569%5D%2C%20%5B48.835288%2C%202.406593%5D%2C%20%5B48.835197%2C%202.406855%5D%2C%20%5B48.835177%2C%202.40684%5D%2C%20%5B48.835033%2C%202.407237%5D%2C%20%5B48.8348%2C%202.407877%5D%2C%20%5B48.834775%2C%202.407942%5D%2C%20%5B48.834758%2C%202.407989%5D%2C%20%5B48.834758%2C%202.408%5D%2C%20%5B48.834758%2C%202.408014%5D%2C%20%5B48.834804%2C%202.40812%5D%2C%20%5B48.834816%2C%202.408188%5D%2C%20%5B48.834817%2C%202.408267%5D%2C%20%5B48.83435%2C%202.409537%5D%2C%20%5B48.83405%2C%202.410324%5D%2C%20%5B48.833994%2C%202.410527%5D%2C%20%5B48.833943%2C%202.410758%5D%2C%20%5B48.833916%2C%202.410897%5D%2C%20%5B48.833905%2C%202.411035%5D%2C%20%5B48.833847%2C%202.411462%5D%2C%20%5B48.833757%2C%202.412037%5D%2C%20%5B48.833703%2C%202.412235%5D%2C%20%5B48.833635%2C%202.412502%5D%2C%20%5B48.833568%2C%202.412662%5D%2C%20%5B48.833494%2C%202.412759%5D%2C%20%5B48.833551%2C%202.412849%5D%2C%20%5B48.83363%2C%202.412773%5D%2C%20%5B48.833771%2C%202.412632%5D%2C%20%5B48.833878%2C%202.412627%5D%5D%2C%0A%20%20%20%20%20%20%20%20%20%20%20%20%20%20%20%20%7B%22bubblingMouseEvents%22%3A%20true%2C%20%22color%22%3A%20%22%2384dcc6%22%2C%20%22dashArray%22%3A%20null%2C%20%22dashOffset%22%3A%20null%2C%20%22fill%22%3A%20false%2C%20%22fillColor%22%3A%20%22%2384dcc6%22%2C%20%22fillOpacity%22%3A%200.2%2C%20%22fillRule%22%3A%20%22evenodd%22%2C%20%22lineCap%22%3A%20%22round%22%2C%20%22lineJoin%22%3A%20%22round%22%2C%20%22noClip%22%3A%20false%2C%20%22opacity%22%3A%201.0%2C%20%22smoothFactor%22%3A%200.9%2C%20%22stroke%22%3A%20true%2C%20%22weight%22%3A%201.5%7D%0A%20%20%20%20%20%20%20%20%20%20%20%20%29.addTo%28map_0489824577b245b993c460c829500011%29%3B%0A%20%20%20%20%20%20%20%20%0A%3C/script%3E onload=\"this.contentDocument.open();this.contentDocument.write(    decodeURIComponent(this.getAttribute('data-html')));this.contentDocument.close();\" allowfullscreen webkitallowfullscreen mozallowfullscreen></iframe></div></div>"
      ],
      "text/plain": [
       "<folium.folium.Map at 0x7fc7049a42e0>"
      ]
     },
     "execution_count": 61,
     "metadata": {},
     "output_type": "execute_result"
    }
   ],
   "source": [
    "m"
   ]
  },
  {
   "cell_type": "code",
   "execution_count": 10,
   "metadata": {
    "ExecuteTime": {
     "end_time": "2021-11-23T22:06:59.537586Z",
     "start_time": "2021-11-23T22:06:59.499073Z"
    }
   },
   "outputs": [],
   "source": [
    "# export map\n",
    "m.save(\"./templates/map.html\")"
   ]
  },
  {
   "cell_type": "code",
   "execution_count": null,
   "metadata": {},
   "outputs": [],
   "source": []
  }
 ],
 "metadata": {
  "interpreter": {
   "hash": "982905b65b5f75b92a9ba9d4e9278911d600b6ec40333eb59f4e1881aba0ac28"
  },
  "kernelspec": {
   "display_name": "env",
   "language": "python",
   "name": "python3"
  },
  "language_info": {
   "codemirror_mode": {
    "name": "ipython",
    "version": 3
   },
   "file_extension": ".py",
   "mimetype": "text/x-python",
   "name": "python",
   "nbconvert_exporter": "python",
   "pygments_lexer": "ipython3",
   "version": "3.8.3"
  },
  "toc": {
   "base_numbering": 1,
   "nav_menu": {},
   "number_sections": true,
   "sideBar": true,
   "skip_h1_title": false,
   "title_cell": "Table of Contents",
   "title_sidebar": "Contents",
   "toc_cell": false,
   "toc_position": {},
   "toc_section_display": true,
   "toc_window_display": false
  }
 },
 "nbformat": 4,
 "nbformat_minor": 2
}
