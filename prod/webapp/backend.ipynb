{
 "cells": [
  {
   "cell_type": "markdown",
   "metadata": {},
   "source": [
    "# Backend : iteraction with user"
   ]
  },
  {
   "cell_type": "code",
   "execution_count": 1,
   "metadata": {
    "ExecuteTime": {
     "end_time": "2021-11-23T21:43:37.750618Z",
     "start_time": "2021-11-23T21:43:35.805036Z"
    }
   },
   "outputs": [
    {
     "name": "stderr",
     "output_type": "stream",
     "text": [
      "/Users/mac/Desktop/2R/env/lib/python3.8/site-packages/geopandas/_compat.py:111: UserWarning: The Shapely GEOS version (3.9.1-CAPI-1.14.2) is incompatible with the GEOS version PyGEOS was compiled with (3.10.0-CAPI-1.16.0). Conversions between both will be slow.\n",
      "  warnings.warn(\n"
     ]
    }
   ],
   "source": [
    "# import\n",
    "import os\n",
    "import folium\n",
    "import pyproj\n",
    "import pandas as pd\n",
    "import geopandas as gpd\n",
    "import plotly_express as px\n",
    "from datetime import datetime, date\n",
    "import openrouteservice as ors\n",
    "import matplotlib.pyplot as plt\n",
    "from shapely.ops import transform\n",
    "from IPython.display import display\n",
    "from shapely.geometry import Point, LineString, Polygon"
   ]
  },
  {
   "cell_type": "markdown",
   "metadata": {},
   "source": [
    "### User input coordinates : addresses later."
   ]
  },
  {
   "cell_type": "code",
   "execution_count": 2,
   "metadata": {
    "ExecuteTime": {
     "end_time": "2021-11-23T21:43:37.761263Z",
     "start_time": "2021-11-23T21:43:37.754478Z"
    }
   },
   "outputs": [],
   "source": [
    "# input coordinates\n",
    "coordinates = [[2.3668617010116577,48.86100925394748 ], [2.4125343561172485, 48.83392954811057]]"
   ]
  },
  {
   "cell_type": "code",
   "execution_count": 3,
   "metadata": {
    "ExecuteTime": {
     "end_time": "2021-11-23T22:01:26.237740Z",
     "start_time": "2021-11-23T22:01:26.063523Z"
    }
   },
   "outputs": [
    {
     "data": {
      "text/plain": [
       "{'type': 'FeatureCollection',\n",
       " 'features': [{'bbox': [2.364594, 48.833494, 2.412849, 48.863729],\n",
       "   'type': 'Feature',\n",
       "   'properties': {'segments': [{'distance': 5.578,\n",
       "      'duration': 1115.6,\n",
       "      'steps': [{'distance': 0.17,\n",
       "        'duration': 33.9,\n",
       "        'type': 11,\n",
       "        'instruction': 'Head west on Rue du Pont aux Choux',\n",
       "        'name': 'Rue du Pont aux Choux',\n",
       "        'way_points': [0, 2]},\n",
       "       {'distance': 0.018,\n",
       "        'duration': 3.6,\n",
       "        'type': 1,\n",
       "        'instruction': 'Turn right onto Rue de Turenne',\n",
       "        'name': 'Rue de Turenne',\n",
       "        'way_points': [2, 4]},\n",
       "       {'distance': 0.47,\n",
       "        'duration': 93.9,\n",
       "        'type': 1,\n",
       "        'instruction': 'Turn right onto Rue Commines',\n",
       "        'name': 'Rue Commines',\n",
       "        'way_points': [4, 22]},\n",
       "       {'distance': 0.154,\n",
       "        'duration': 30.8,\n",
       "        'type': 1,\n",
       "        'instruction': 'Turn right onto Boulevard Voltaire',\n",
       "        'name': 'Boulevard Voltaire',\n",
       "        'way_points': [22, 25]},\n",
       "       {'distance': 0.017,\n",
       "        'duration': 3.4,\n",
       "        'type': 6,\n",
       "        'instruction': 'Continue straight onto Boulevard Voltaire',\n",
       "        'name': 'Boulevard Voltaire',\n",
       "        'way_points': [25, 26]},\n",
       "       {'distance': 0.804,\n",
       "        'duration': 160.8,\n",
       "        'type': 6,\n",
       "        'instruction': 'Continue straight onto Boulevard Voltaire',\n",
       "        'name': 'Boulevard Voltaire',\n",
       "        'way_points': [26, 48]},\n",
       "       {'distance': 0.057,\n",
       "        'duration': 11.5,\n",
       "        'type': 1,\n",
       "        'instruction': 'Turn right onto Place Léon Blum',\n",
       "        'name': 'Place Léon Blum',\n",
       "        'way_points': [48, 56]},\n",
       "       {'distance': 1.412,\n",
       "        'duration': 282.5,\n",
       "        'type': 1,\n",
       "        'instruction': 'Turn right onto Boulevard Voltaire',\n",
       "        'name': 'Boulevard Voltaire',\n",
       "        'way_points': [56, 81]},\n",
       "       {'distance': 0.05,\n",
       "        'duration': 10.0,\n",
       "        'type': 5,\n",
       "        'instruction': 'Turn slight right onto Boulevard Voltaire',\n",
       "        'name': 'Boulevard Voltaire',\n",
       "        'way_points': [81, 84]},\n",
       "       {'distance': 1.103,\n",
       "        'duration': 220.7,\n",
       "        'type': 7,\n",
       "        'instruction': \"Enter the roundabout and take the 5th exit onto Rue Fabre d'Églantine\",\n",
       "        'name': \"Rue Fabre d'Églantine\",\n",
       "        'exit_number': 5,\n",
       "        'way_points': [84, 132]},\n",
       "       {'distance': 0.027,\n",
       "        'duration': 5.5,\n",
       "        'type': 5,\n",
       "        'instruction': 'Turn slight right onto Rue de Picpus',\n",
       "        'name': 'Rue de Picpus',\n",
       "        'way_points': [132, 134]},\n",
       "       {'distance': 0.324,\n",
       "        'duration': 64.7,\n",
       "        'type': 7,\n",
       "        'instruction': 'Enter the roundabout and take the 2nd exit onto Rue de Picpus',\n",
       "        'name': 'Rue de Picpus',\n",
       "        'exit_number': 2,\n",
       "        'way_points': [134, 148]},\n",
       "       {'distance': 0.023,\n",
       "        'duration': 4.7,\n",
       "        'type': 5,\n",
       "        'instruction': 'Turn slight right onto Rue de Picpus',\n",
       "        'name': 'Rue de Picpus',\n",
       "        'way_points': [148, 150]},\n",
       "       {'distance': 0.383,\n",
       "        'duration': 76.6,\n",
       "        'type': 0,\n",
       "        'instruction': 'Turn left onto Avenue Daumesnil',\n",
       "        'name': 'Avenue Daumesnil',\n",
       "        'way_points': [150, 165]},\n",
       "       {'distance': 0.031,\n",
       "        'duration': 6.1,\n",
       "        'type': 1,\n",
       "        'instruction': 'Turn right onto Place Édouard Renard',\n",
       "        'name': 'Place Édouard Renard',\n",
       "        'way_points': [165, 168]},\n",
       "       {'distance': 0.002,\n",
       "        'duration': 0.5,\n",
       "        'type': 1,\n",
       "        'instruction': 'Turn right onto Place Édouard Renard',\n",
       "        'name': 'Place Édouard Renard',\n",
       "        'way_points': [168, 169]},\n",
       "       {'distance': 0.097,\n",
       "        'duration': 19.4,\n",
       "        'type': 0,\n",
       "        'instruction': 'Turn left onto Place Édouard Renard',\n",
       "        'name': 'Place Édouard Renard',\n",
       "        'way_points': [169, 174]},\n",
       "       {'distance': 0.021,\n",
       "        'duration': 4.2,\n",
       "        'type': 6,\n",
       "        'instruction': 'Continue straight onto Place Édouard Renard',\n",
       "        'name': 'Place Édouard Renard',\n",
       "        'way_points': [174, 178]},\n",
       "       {'distance': 0.373,\n",
       "        'duration': 74.7,\n",
       "        'type': 5,\n",
       "        'instruction': 'Turn slight right onto Place Édouard Renard',\n",
       "        'name': 'Place Édouard Renard',\n",
       "        'way_points': [178, 191]},\n",
       "       {'distance': 0.029,\n",
       "        'duration': 5.8,\n",
       "        'type': 0,\n",
       "        'instruction': 'Turn left onto Route de la Ceinture du Lac Daumesnil',\n",
       "        'name': 'Route de la Ceinture du Lac Daumesnil',\n",
       "        'way_points': [191, 193]},\n",
       "       {'distance': 0.012,\n",
       "        'duration': 2.4,\n",
       "        'type': 5,\n",
       "        'instruction': 'Turn slight right onto Avenue Robert-André Vivien',\n",
       "        'name': 'Avenue Robert-André Vivien',\n",
       "        'way_points': [193, 194]},\n",
       "       {'distance': 0.0,\n",
       "        'duration': 0.0,\n",
       "        'type': 10,\n",
       "        'instruction': 'Arrive at Avenue Robert-André Vivien, on the left',\n",
       "        'name': '-',\n",
       "        'way_points': [194, 194]}]}],\n",
       "    'summary': {'distance': 5.578, 'duration': 1115.6},\n",
       "    'way_points': [0, 194]},\n",
       "   'geometry': {'coordinates': [[2.36686, 48.861006],\n",
       "     [2.364678, 48.861313],\n",
       "     [2.364594, 48.861326],\n",
       "     [2.364598, 48.861389],\n",
       "     [2.364603, 48.861487],\n",
       "     [2.364699, 48.861528],\n",
       "     [2.365158, 48.861724],\n",
       "     [2.365248, 48.861762],\n",
       "     [2.365345, 48.861804],\n",
       "     [2.365568, 48.861899],\n",
       "     [2.365988, 48.862078],\n",
       "     [2.366702, 48.862382],\n",
       "     [2.366891, 48.862463],\n",
       "     [2.367196, 48.862598],\n",
       "     [2.367225, 48.862611],\n",
       "     [2.367312, 48.862649],\n",
       "     [2.367404, 48.862685],\n",
       "     [2.36815, 48.86298],\n",
       "     [2.369185, 48.863384],\n",
       "     [2.369245, 48.863407],\n",
       "     [2.36932, 48.863437],\n",
       "     [2.369964, 48.863696],\n",
       "     [2.37004, 48.863729],\n",
       "     [2.371217, 48.863027],\n",
       "     [2.371413, 48.862911],\n",
       "     [2.371602, 48.862798],\n",
       "     [2.371772, 48.862697],\n",
       "     [2.371938, 48.862599],\n",
       "     [2.372417, 48.862315],\n",
       "     [2.372547, 48.862237],\n",
       "     [2.372631, 48.862187],\n",
       "     [2.372751, 48.862116],\n",
       "     [2.372858, 48.862052],\n",
       "     [2.372898, 48.862027],\n",
       "     [2.372981, 48.861974],\n",
       "     [2.374674, 48.860966],\n",
       "     [2.374702, 48.860949],\n",
       "     [2.374742, 48.860926],\n",
       "     [2.375066, 48.860727],\n",
       "     [2.375197, 48.860647],\n",
       "     [2.375392, 48.860531],\n",
       "     [2.375468, 48.860484],\n",
       "     [2.37551, 48.860458],\n",
       "     [2.376768, 48.859725],\n",
       "     [2.377361, 48.85937],\n",
       "     [2.378509, 48.858679],\n",
       "     [2.379264, 48.85824],\n",
       "     [2.379879, 48.85787],\n",
       "     [2.379921, 48.857845],\n",
       "     [2.379911, 48.857828],\n",
       "     [2.379891, 48.857798],\n",
       "     [2.379906, 48.857701],\n",
       "     [2.379922, 48.857693],\n",
       "     [2.380015, 48.85764],\n",
       "     [2.380165, 48.857556],\n",
       "     [2.380364, 48.857564],\n",
       "     [2.380384, 48.857569],\n",
       "     [2.380408, 48.857554],\n",
       "     [2.380796, 48.857314],\n",
       "     [2.381932, 48.856641],\n",
       "     [2.382168, 48.856504],\n",
       "     [2.382741, 48.85616],\n",
       "     [2.383253, 48.855854],\n",
       "     [2.384228, 48.855276],\n",
       "     [2.384809, 48.854929],\n",
       "     [2.385213, 48.854681],\n",
       "     [2.385345, 48.854601],\n",
       "     [2.387522, 48.853302],\n",
       "     [2.387621, 48.853242],\n",
       "     [2.387744, 48.853169],\n",
       "     [2.388247, 48.852868],\n",
       "     [2.388289, 48.852844],\n",
       "     [2.388538, 48.852695],\n",
       "     [2.389044, 48.852394],\n",
       "     [2.389231, 48.852281],\n",
       "     [2.391151, 48.851135],\n",
       "     [2.392128, 48.850552],\n",
       "     [2.39219, 48.850515],\n",
       "     [2.392387, 48.850397],\n",
       "     [2.392518, 48.85032],\n",
       "     [2.394581, 48.849116],\n",
       "     [2.394733, 48.849093],\n",
       "     [2.395001, 48.848934],\n",
       "     [2.395131, 48.848855],\n",
       "     [2.395237, 48.84879],\n",
       "     [2.395162, 48.848728],\n",
       "     [2.395071, 48.848619],\n",
       "     [2.395054, 48.84859],\n",
       "     [2.395021, 48.848517],\n",
       "     [2.394999, 48.848403],\n",
       "     [2.39501, 48.848287],\n",
       "     [2.39505, 48.848184],\n",
       "     [2.395116, 48.848087],\n",
       "     [2.395206, 48.848],\n",
       "     [2.395304, 48.847932],\n",
       "     [2.395541, 48.84783],\n",
       "     [2.395674, 48.847798],\n",
       "     [2.395813, 48.847781],\n",
       "     [2.395795, 48.847684],\n",
       "     [2.395775, 48.847578],\n",
       "     [2.39575, 48.847443],\n",
       "     [2.39573, 48.847336],\n",
       "     [2.395709, 48.847247],\n",
       "     [2.395409, 48.845713],\n",
       "     [2.395381, 48.845547],\n",
       "     [2.395367, 48.845455],\n",
       "     [2.395339, 48.845292],\n",
       "     [2.395352, 48.845276],\n",
       "     [2.395392, 48.845228],\n",
       "     [2.395606, 48.844972],\n",
       "     [2.395631, 48.844942],\n",
       "     [2.396485, 48.84392],\n",
       "     [2.396563, 48.843826],\n",
       "     [2.396623, 48.843753],\n",
       "     [2.396718, 48.843637],\n",
       "     [2.396897, 48.843421],\n",
       "     [2.396985, 48.843319],\n",
       "     [2.397303, 48.842933],\n",
       "     [2.397438, 48.84277],\n",
       "     [2.397491, 48.842711],\n",
       "     [2.397545, 48.842648],\n",
       "     [2.397703, 48.842473],\n",
       "     [2.397817, 48.842344],\n",
       "     [2.397868, 48.842282],\n",
       "     [2.398782, 48.841249],\n",
       "     [2.398856, 48.841164],\n",
       "     [2.398909, 48.841103],\n",
       "     [2.398968, 48.841036],\n",
       "     [2.399264, 48.840694],\n",
       "     [2.399339, 48.840606],\n",
       "     [2.399431, 48.840502],\n",
       "     [2.399471, 48.840455],\n",
       "     [2.399877, 48.839988],\n",
       "     [2.399895, 48.839889],\n",
       "     [2.399926, 48.839743],\n",
       "     [2.399935, 48.839711],\n",
       "     [2.400033, 48.839642],\n",
       "     [2.400081, 48.839633],\n",
       "     [2.400141, 48.839635],\n",
       "     [2.400197, 48.83965],\n",
       "     [2.400285, 48.839563],\n",
       "     [2.400605, 48.839249],\n",
       "     [2.400664, 48.839192],\n",
       "     [2.400727, 48.83913],\n",
       "     [2.401017, 48.83886],\n",
       "     [2.401051, 48.838829],\n",
       "     [2.401268, 48.838612],\n",
       "     [2.402203, 48.837467],\n",
       "     [2.402247, 48.837358],\n",
       "     [2.402237, 48.837331],\n",
       "     [2.402172, 48.837154],\n",
       "     [2.402547, 48.837026],\n",
       "     [2.403333, 48.836751],\n",
       "     [2.403487, 48.836697],\n",
       "     [2.403614, 48.83665],\n",
       "     [2.404068, 48.836471],\n",
       "     [2.405565, 48.835923],\n",
       "     [2.405637, 48.835896],\n",
       "     [2.405694, 48.835877],\n",
       "     [2.406065, 48.835733],\n",
       "     [2.406115, 48.835702],\n",
       "     [2.406323, 48.835594],\n",
       "     [2.406434, 48.835486],\n",
       "     [2.406492, 48.83544],\n",
       "     [2.406527, 48.835412],\n",
       "     [2.406596, 48.83536],\n",
       "     [2.406569, 48.835304],\n",
       "     [2.406593, 48.835288],\n",
       "     [2.406855, 48.835197],\n",
       "     [2.40684, 48.835177],\n",
       "     [2.407237, 48.835033],\n",
       "     [2.407877, 48.8348],\n",
       "     [2.407942, 48.834775],\n",
       "     [2.407989, 48.834758],\n",
       "     [2.408, 48.834758],\n",
       "     [2.408014, 48.834758],\n",
       "     [2.40812, 48.834804],\n",
       "     [2.408188, 48.834816],\n",
       "     [2.408267, 48.834817],\n",
       "     [2.409537, 48.83435],\n",
       "     [2.410324, 48.83405],\n",
       "     [2.410527, 48.833994],\n",
       "     [2.410758, 48.833943],\n",
       "     [2.410897, 48.833916],\n",
       "     [2.411035, 48.833905],\n",
       "     [2.411462, 48.833847],\n",
       "     [2.412037, 48.833757],\n",
       "     [2.412235, 48.833703],\n",
       "     [2.412502, 48.833635],\n",
       "     [2.412662, 48.833568],\n",
       "     [2.412759, 48.833494],\n",
       "     [2.412849, 48.833551],\n",
       "     [2.412773, 48.83363],\n",
       "     [2.412632, 48.833771],\n",
       "     [2.412627, 48.833878]],\n",
       "    'type': 'LineString'}}],\n",
       " 'bbox': [2.364594, 48.833494, 2.412849, 48.863729],\n",
       " 'metadata': {'attribution': 'openrouteservice.org | OpenStreetMap contributors',\n",
       "  'service': 'routing',\n",
       "  'timestamp': 1637768606243,\n",
       "  'query': {'coordinates': [[2.3668617010116577, 48.86100925394748],\n",
       "    [2.4125343561172485, 48.83392954811057]],\n",
       "   'profile': 'cycling-regular',\n",
       "   'format': 'geojson',\n",
       "   'units': 'km'},\n",
       "  'engine': {'version': '6.6.1',\n",
       "   'build_date': '2021-07-05T10:57:48Z',\n",
       "   'graph_date': '2021-11-14T05:15:55Z'}}}"
      ]
     },
     "execution_count": 3,
     "metadata": {},
     "output_type": "execute_result"
    }
   ],
   "source": [
    "# openrouteservices \n",
    "client = ors.Client(key='5b3ce3597851110001cf62485169f9e2d05c419eaf0607fe2b5b0bfa')\n",
    "\n",
    "#requete openrouteservice\n",
    "route = client.directions(\n",
    "    coordinates=coordinates,\n",
    "    profile='cycling-regular',\n",
    "    format ='geojson',\n",
    "    units ='km'\n",
    ")\n",
    "\n",
    "route"
   ]
  },
  {
   "cell_type": "code",
   "execution_count": 4,
   "metadata": {
    "ExecuteTime": {
     "end_time": "2021-11-23T22:03:07.960719Z",
     "start_time": "2021-11-23T22:03:07.818645Z"
    }
   },
   "outputs": [
    {
     "data": {
      "text/html": [
       "<div>\n",
       "<style scoped>\n",
       "    .dataframe tbody tr th:only-of-type {\n",
       "        vertical-align: middle;\n",
       "    }\n",
       "\n",
       "    .dataframe tbody tr th {\n",
       "        vertical-align: top;\n",
       "    }\n",
       "\n",
       "    .dataframe thead th {\n",
       "        text-align: right;\n",
       "    }\n",
       "</style>\n",
       "<table border=\"1\" class=\"dataframe\">\n",
       "  <thead>\n",
       "    <tr style=\"text-align: right;\">\n",
       "      <th></th>\n",
       "      <th>cluster_index</th>\n",
       "      <th>n_accidents</th>\n",
       "      <th>geometry</th>\n",
       "    </tr>\n",
       "  </thead>\n",
       "  <tbody>\n",
       "    <tr>\n",
       "      <th>0</th>\n",
       "      <td>0</td>\n",
       "      <td>8</td>\n",
       "      <td>POLYGON ((2.41149 48.84703, 2.41106 48.84705, ...</td>\n",
       "    </tr>\n",
       "    <tr>\n",
       "      <th>1</th>\n",
       "      <td>1</td>\n",
       "      <td>8</td>\n",
       "      <td>POLYGON ((2.36897 48.85400, 2.36893 48.85403, ...</td>\n",
       "    </tr>\n",
       "  </tbody>\n",
       "</table>\n",
       "</div>"
      ],
      "text/plain": [
       "   cluster_index  n_accidents  \\\n",
       "0              0            8   \n",
       "1              1            8   \n",
       "\n",
       "                                            geometry  \n",
       "0  POLYGON ((2.41149 48.84703, 2.41106 48.84705, ...  \n",
       "1  POLYGON ((2.36897 48.85400, 2.36893 48.85403, ...  "
      ]
     },
     "metadata": {},
     "output_type": "display_data"
    },
    {
     "data": {
      "text/html": [
       "<div>\n",
       "<style scoped>\n",
       "    .dataframe tbody tr th:only-of-type {\n",
       "        vertical-align: middle;\n",
       "    }\n",
       "\n",
       "    .dataframe tbody tr th {\n",
       "        vertical-align: top;\n",
       "    }\n",
       "\n",
       "    .dataframe thead th {\n",
       "        text-align: right;\n",
       "    }\n",
       "</style>\n",
       "<table border=\"1\" class=\"dataframe\">\n",
       "  <thead>\n",
       "    <tr style=\"text-align: right;\">\n",
       "      <th></th>\n",
       "      <th>cluster_index</th>\n",
       "      <th>n_accidents</th>\n",
       "      <th>geometry</th>\n",
       "    </tr>\n",
       "  </thead>\n",
       "  <tbody>\n",
       "    <tr>\n",
       "      <th>0</th>\n",
       "      <td>0</td>\n",
       "      <td>8</td>\n",
       "      <td>POLYGON ((2.41169 48.84707, 2.41170 48.84705, ...</td>\n",
       "    </tr>\n",
       "    <tr>\n",
       "      <th>1</th>\n",
       "      <td>1</td>\n",
       "      <td>8</td>\n",
       "      <td>POLYGON ((2.36917 48.85403, 2.36917 48.85401, ...</td>\n",
       "    </tr>\n",
       "    <tr>\n",
       "      <th>2</th>\n",
       "      <td>2</td>\n",
       "      <td>7</td>\n",
       "      <td>POLYGON ((2.37251 48.84846, 2.37249 48.84846, ...</td>\n",
       "    </tr>\n",
       "    <tr>\n",
       "      <th>3</th>\n",
       "      <td>3</td>\n",
       "      <td>5</td>\n",
       "      <td>POLYGON ((2.31386 48.86467, 2.31386 48.86465, ...</td>\n",
       "    </tr>\n",
       "    <tr>\n",
       "      <th>4</th>\n",
       "      <td>4</td>\n",
       "      <td>5</td>\n",
       "      <td>POLYGON ((2.29898 48.86840, 2.29897 48.86839, ...</td>\n",
       "    </tr>\n",
       "    <tr>\n",
       "      <th>...</th>\n",
       "      <td>...</td>\n",
       "      <td>...</td>\n",
       "      <td>...</td>\n",
       "    </tr>\n",
       "    <tr>\n",
       "      <th>139</th>\n",
       "      <td>139</td>\n",
       "      <td>5</td>\n",
       "      <td>POLYGON ((2.37868 48.85880, 2.37869 48.85879, ...</td>\n",
       "    </tr>\n",
       "    <tr>\n",
       "      <th>140</th>\n",
       "      <td>140</td>\n",
       "      <td>6</td>\n",
       "      <td>POLYGON ((2.36493 48.85404, 2.36495 48.85404, ...</td>\n",
       "    </tr>\n",
       "    <tr>\n",
       "      <th>141</th>\n",
       "      <td>141</td>\n",
       "      <td>5</td>\n",
       "      <td>POLYGON ((2.35992 48.87225, 2.35993 48.87223, ...</td>\n",
       "    </tr>\n",
       "    <tr>\n",
       "      <th>142</th>\n",
       "      <td>142</td>\n",
       "      <td>6</td>\n",
       "      <td>POLYGON ((2.37064 48.89819, 2.37062 48.89819, ...</td>\n",
       "    </tr>\n",
       "    <tr>\n",
       "      <th>143</th>\n",
       "      <td>143</td>\n",
       "      <td>5</td>\n",
       "      <td>POLYGON ((2.39582 48.88951, 2.39580 48.88951, ...</td>\n",
       "    </tr>\n",
       "  </tbody>\n",
       "</table>\n",
       "<p>144 rows × 3 columns</p>\n",
       "</div>"
      ],
      "text/plain": [
       "     cluster_index  n_accidents  \\\n",
       "0                0            8   \n",
       "1                1            8   \n",
       "2                2            7   \n",
       "3                3            5   \n",
       "4                4            5   \n",
       "..             ...          ...   \n",
       "139            139            5   \n",
       "140            140            6   \n",
       "141            141            5   \n",
       "142            142            6   \n",
       "143            143            5   \n",
       "\n",
       "                                              geometry  \n",
       "0    POLYGON ((2.41169 48.84707, 2.41170 48.84705, ...  \n",
       "1    POLYGON ((2.36917 48.85403, 2.36917 48.85401, ...  \n",
       "2    POLYGON ((2.37251 48.84846, 2.37249 48.84846, ...  \n",
       "3    POLYGON ((2.31386 48.86467, 2.31386 48.86465, ...  \n",
       "4    POLYGON ((2.29898 48.86840, 2.29897 48.86839, ...  \n",
       "..                                                 ...  \n",
       "139  POLYGON ((2.37868 48.85880, 2.37869 48.85879, ...  \n",
       "140  POLYGON ((2.36493 48.85404, 2.36495 48.85404, ...  \n",
       "141  POLYGON ((2.35992 48.87225, 2.35993 48.87223, ...  \n",
       "142  POLYGON ((2.37064 48.89819, 2.37062 48.89819, ...  \n",
       "143  POLYGON ((2.39582 48.88951, 2.39580 48.88951, ...  \n",
       "\n",
       "[144 rows x 3 columns]"
      ]
     },
     "execution_count": 4,
     "metadata": {},
     "output_type": "execute_result"
    }
   ],
   "source": [
    "# get clusters\n",
    "cluster_polygons_file = \"../model/model_cluster/cluster_polygons.geojson\"\n",
    "gdf_cluster = gpd.read_file(cluster_polygons_file)\n",
    "display(gdf_cluster.head(2))\n",
    "\n",
    "# clusters with buffer\n",
    "orig_crs = 4326\n",
    "fr_crs = 2154\n",
    "gdf_cluster = gdf_cluster.to_crs(epsg=fr_crs)\n",
    "\n",
    "# crs\n",
    "buffer_m = 15\n",
    "gdf_cluster['geometry'] = gdf_cluster.geometry.buffer(buffer_m)\n",
    "#gdf_cluster = gdf_cluster.buffer(buffer_m)\n",
    "\n",
    "# set crs\n",
    "gdf_cluster = gdf_cluster.to_crs(epsg=orig_crs)\n",
    "\n",
    "type(gdf_cluster)\n",
    "gdf_cluster"
   ]
  },
  {
   "cell_type": "code",
   "execution_count": 5,
   "metadata": {
    "ExecuteTime": {
     "end_time": "2021-11-23T22:03:08.335035Z",
     "start_time": "2021-11-23T22:03:08.310793Z"
    }
   },
   "outputs": [
    {
     "data": {
      "text/html": [
       "<div>\n",
       "<style scoped>\n",
       "    .dataframe tbody tr th:only-of-type {\n",
       "        vertical-align: middle;\n",
       "    }\n",
       "\n",
       "    .dataframe tbody tr th {\n",
       "        vertical-align: top;\n",
       "    }\n",
       "\n",
       "    .dataframe thead th {\n",
       "        text-align: right;\n",
       "    }\n",
       "</style>\n",
       "<table border=\"1\" class=\"dataframe\">\n",
       "  <thead>\n",
       "    <tr style=\"text-align: right;\">\n",
       "      <th></th>\n",
       "      <th>lon</th>\n",
       "      <th>lat</th>\n",
       "      <th>geometry</th>\n",
       "    </tr>\n",
       "  </thead>\n",
       "  <tbody>\n",
       "    <tr>\n",
       "      <th>39</th>\n",
       "      <td>2.375197</td>\n",
       "      <td>48.860647</td>\n",
       "      <td>POINT (2.37520 48.86065)</td>\n",
       "    </tr>\n",
       "    <tr>\n",
       "      <th>110</th>\n",
       "      <td>2.395631</td>\n",
       "      <td>48.844942</td>\n",
       "      <td>POINT (2.39563 48.84494)</td>\n",
       "    </tr>\n",
       "  </tbody>\n",
       "</table>\n",
       "</div>"
      ],
      "text/plain": [
       "          lon        lat                  geometry\n",
       "39   2.375197  48.860647  POINT (2.37520 48.86065)\n",
       "110  2.395631  48.844942  POINT (2.39563 48.84494)"
      ]
     },
     "metadata": {},
     "output_type": "display_data"
    }
   ],
   "source": [
    "# user route to df\n",
    "user_line_coords = route['features'][0]['geometry']['coordinates']\n",
    "user_line_df = pd.DataFrame(user_line_coords,\n",
    "                            columns=[\"lon\", \"lat\"])\n",
    "\n",
    "# df to gdf\n",
    "user_line_gdf = gpd.GeoDataFrame(user_line_df, \n",
    "                    geometry=gpd.points_from_xy(user_line_df.lon, user_line_df.lat),\n",
    "                    crs=\"epsg:4326\")\n",
    "\n",
    "display(user_line_gdf.sample(2))"
   ]
  },
  {
   "cell_type": "code",
   "execution_count": 6,
   "metadata": {
    "ExecuteTime": {
     "end_time": "2021-11-23T22:03:08.992954Z",
     "start_time": "2021-11-23T22:03:08.965281Z"
    }
   },
   "outputs": [
    {
     "data": {
      "text/html": [
       "<div>\n",
       "<style scoped>\n",
       "    .dataframe tbody tr th:only-of-type {\n",
       "        vertical-align: middle;\n",
       "    }\n",
       "\n",
       "    .dataframe tbody tr th {\n",
       "        vertical-align: top;\n",
       "    }\n",
       "\n",
       "    .dataframe thead th {\n",
       "        text-align: right;\n",
       "    }\n",
       "</style>\n",
       "<table border=\"1\" class=\"dataframe\">\n",
       "  <thead>\n",
       "    <tr style=\"text-align: right;\">\n",
       "      <th></th>\n",
       "      <th>cluster_index</th>\n",
       "      <th>n_accidents</th>\n",
       "      <th>geometry</th>\n",
       "    </tr>\n",
       "  </thead>\n",
       "  <tbody>\n",
       "    <tr>\n",
       "      <th>139</th>\n",
       "      <td>139</td>\n",
       "      <td>5</td>\n",
       "      <td>POLYGON ((2.37868 48.85880, 2.37869 48.85879, ...</td>\n",
       "    </tr>\n",
       "    <tr>\n",
       "      <th>18</th>\n",
       "      <td>18</td>\n",
       "      <td>5</td>\n",
       "      <td>POLYGON ((2.40662 48.83522, 2.40660 48.83522, ...</td>\n",
       "    </tr>\n",
       "  </tbody>\n",
       "</table>\n",
       "</div>"
      ],
      "text/plain": [
       "     cluster_index  n_accidents  \\\n",
       "139            139            5   \n",
       "18              18            5   \n",
       "\n",
       "                                              geometry  \n",
       "139  POLYGON ((2.37868 48.85880, 2.37869 48.85879, ...  \n",
       "18   POLYGON ((2.40662 48.83522, 2.40660 48.83522, ...  "
      ]
     },
     "metadata": {},
     "output_type": "display_data"
    }
   ],
   "source": [
    "# intersect : spatial join\n",
    "cluster_on_route = gpd.sjoin(gdf_cluster, user_line_gdf)[gdf_cluster.columns]\n",
    "display(cluster_on_route.sample(2))"
   ]
  },
  {
   "cell_type": "code",
   "execution_count": 7,
   "metadata": {
    "ExecuteTime": {
     "end_time": "2021-11-23T22:13:46.477500Z",
     "start_time": "2021-11-23T22:13:45.944457Z"
    }
   },
   "outputs": [
    {
     "data": {
      "text/plain": [
       "<folium.vector_layers.PolyLine at 0x7ff131969310>"
      ]
     },
     "execution_count": 7,
     "metadata": {},
     "output_type": "execute_result"
    }
   ],
   "source": [
    "# localisation Paris\n",
    "m = folium.Map(location=[48.862, 2.346], tiles='cartodbpositron', zoom_start=12)\n",
    "\n",
    "# # cluster on map\n",
    "# gdf = gdf_cluster\n",
    "# for _, r in gdf.iterrows():\n",
    "#     # Without simplifying the representation of each borough,\n",
    "#     # the map might not be displayed\n",
    "#     sim_geo = gpd.GeoSeries(r['geometry']).simplify(tolerance=0.001)\n",
    "#     geo_j = sim_geo.to_json()\n",
    "#     geo_j = folium.GeoJson(data=geo_j,\n",
    "#                            style_function=lambda x: \n",
    "#                            {'fillColor': '#669bbc',\n",
    "#                             'color': '#669bbc'}\n",
    "#     )\n",
    "    \n",
    "#     folium.Popup(r['cluster_index']).add_to(geo_j)\n",
    "#     geo_j.add_to(m)\n",
    "    \n",
    "# cluster intersection map\n",
    "gdf = cluster_on_route\n",
    "for _, r in gdf.iterrows():\n",
    "    # Without simplifying the representation of each borough,\n",
    "    # the map might not be displayed\n",
    "    sim_geo = gpd.GeoSeries(r['geometry']).simplify(tolerance=0.001)\n",
    "    geo_j = sim_geo.to_json()\n",
    "    geo_j = folium.GeoJson(data=geo_j,\n",
    "                           style_function=lambda x: \n",
    "                           {'fillColor': '#eb353c',\n",
    "                            'color': '#eb353c',\n",
    "                            'weight':5,\n",
    "                            'stroke':False}\n",
    "    )\n",
    "    \n",
    "    folium.Popup(r['cluster_index']).add_to(geo_j)\n",
    "    geo_j.add_to(m)\n",
    "    \n",
    "# add user itinerary polyline\n",
    "folium.PolyLine(locations=[list(reversed(coord)) \n",
    "                           for coord in user_line_coords],\n",
    "                           color = '#84dcc6',\n",
    "                           smooth_factor=0.9,\n",
    "                           weight = 1.5\n",
    "\n",
    ").add_to(m)"
   ]
  },
  {
   "cell_type": "code",
   "execution_count": 8,
   "metadata": {
    "ExecuteTime": {
     "end_time": "2021-11-23T22:13:46.969675Z",
     "start_time": "2021-11-23T22:13:46.614097Z"
    }
   },
   "outputs": [
    {
     "data": {
      "text/html": [
       "<div style=\"width:100%;\"><div style=\"position:relative;width:100%;height:0;padding-bottom:60%;\"><span style=\"color:#565656\">Make this Notebook Trusted to load map: File -> Trust Notebook</span><iframe src=\"about:blank\" style=\"position:absolute;width:100%;height:100%;left:0;top:0;border:none !important;\" data-html=%3C%21DOCTYPE%20html%3E%0A%3Chead%3E%20%20%20%20%0A%20%20%20%20%3Cmeta%20http-equiv%3D%22content-type%22%20content%3D%22text/html%3B%20charset%3DUTF-8%22%20/%3E%0A%20%20%20%20%0A%20%20%20%20%20%20%20%20%3Cscript%3E%0A%20%20%20%20%20%20%20%20%20%20%20%20L_NO_TOUCH%20%3D%20false%3B%0A%20%20%20%20%20%20%20%20%20%20%20%20L_DISABLE_3D%20%3D%20false%3B%0A%20%20%20%20%20%20%20%20%3C/script%3E%0A%20%20%20%20%0A%20%20%20%20%3Cstyle%3Ehtml%2C%20body%20%7Bwidth%3A%20100%25%3Bheight%3A%20100%25%3Bmargin%3A%200%3Bpadding%3A%200%3B%7D%3C/style%3E%0A%20%20%20%20%3Cstyle%3E%23map%20%7Bposition%3Aabsolute%3Btop%3A0%3Bbottom%3A0%3Bright%3A0%3Bleft%3A0%3B%7D%3C/style%3E%0A%20%20%20%20%3Cscript%20src%3D%22https%3A//cdn.jsdelivr.net/npm/leaflet%401.6.0/dist/leaflet.js%22%3E%3C/script%3E%0A%20%20%20%20%3Cscript%20src%3D%22https%3A//code.jquery.com/jquery-1.12.4.min.js%22%3E%3C/script%3E%0A%20%20%20%20%3Cscript%20src%3D%22https%3A//maxcdn.bootstrapcdn.com/bootstrap/3.2.0/js/bootstrap.min.js%22%3E%3C/script%3E%0A%20%20%20%20%3Cscript%20src%3D%22https%3A//cdnjs.cloudflare.com/ajax/libs/Leaflet.awesome-markers/2.0.2/leaflet.awesome-markers.js%22%3E%3C/script%3E%0A%20%20%20%20%3Clink%20rel%3D%22stylesheet%22%20href%3D%22https%3A//cdn.jsdelivr.net/npm/leaflet%401.6.0/dist/leaflet.css%22/%3E%0A%20%20%20%20%3Clink%20rel%3D%22stylesheet%22%20href%3D%22https%3A//maxcdn.bootstrapcdn.com/bootstrap/3.2.0/css/bootstrap.min.css%22/%3E%0A%20%20%20%20%3Clink%20rel%3D%22stylesheet%22%20href%3D%22https%3A//maxcdn.bootstrapcdn.com/bootstrap/3.2.0/css/bootstrap-theme.min.css%22/%3E%0A%20%20%20%20%3Clink%20rel%3D%22stylesheet%22%20href%3D%22https%3A//maxcdn.bootstrapcdn.com/font-awesome/4.6.3/css/font-awesome.min.css%22/%3E%0A%20%20%20%20%3Clink%20rel%3D%22stylesheet%22%20href%3D%22https%3A//cdnjs.cloudflare.com/ajax/libs/Leaflet.awesome-markers/2.0.2/leaflet.awesome-markers.css%22/%3E%0A%20%20%20%20%3Clink%20rel%3D%22stylesheet%22%20href%3D%22https%3A//cdn.jsdelivr.net/gh/python-visualization/folium/folium/templates/leaflet.awesome.rotate.min.css%22/%3E%0A%20%20%20%20%0A%20%20%20%20%20%20%20%20%20%20%20%20%3Cmeta%20name%3D%22viewport%22%20content%3D%22width%3Ddevice-width%2C%0A%20%20%20%20%20%20%20%20%20%20%20%20%20%20%20%20initial-scale%3D1.0%2C%20maximum-scale%3D1.0%2C%20user-scalable%3Dno%22%20/%3E%0A%20%20%20%20%20%20%20%20%20%20%20%20%3Cstyle%3E%0A%20%20%20%20%20%20%20%20%20%20%20%20%20%20%20%20%23map_5649e442d8d842ceac723101fc6d5b7f%20%7B%0A%20%20%20%20%20%20%20%20%20%20%20%20%20%20%20%20%20%20%20%20position%3A%20relative%3B%0A%20%20%20%20%20%20%20%20%20%20%20%20%20%20%20%20%20%20%20%20width%3A%20100.0%25%3B%0A%20%20%20%20%20%20%20%20%20%20%20%20%20%20%20%20%20%20%20%20height%3A%20100.0%25%3B%0A%20%20%20%20%20%20%20%20%20%20%20%20%20%20%20%20%20%20%20%20left%3A%200.0%25%3B%0A%20%20%20%20%20%20%20%20%20%20%20%20%20%20%20%20%20%20%20%20top%3A%200.0%25%3B%0A%20%20%20%20%20%20%20%20%20%20%20%20%20%20%20%20%7D%0A%20%20%20%20%20%20%20%20%20%20%20%20%3C/style%3E%0A%20%20%20%20%20%20%20%20%0A%3C/head%3E%0A%3Cbody%3E%20%20%20%20%0A%20%20%20%20%0A%20%20%20%20%20%20%20%20%20%20%20%20%3Cdiv%20class%3D%22folium-map%22%20id%3D%22map_5649e442d8d842ceac723101fc6d5b7f%22%20%3E%3C/div%3E%0A%20%20%20%20%20%20%20%20%0A%3C/body%3E%0A%3Cscript%3E%20%20%20%20%0A%20%20%20%20%0A%20%20%20%20%20%20%20%20%20%20%20%20var%20map_5649e442d8d842ceac723101fc6d5b7f%20%3D%20L.map%28%0A%20%20%20%20%20%20%20%20%20%20%20%20%20%20%20%20%22map_5649e442d8d842ceac723101fc6d5b7f%22%2C%0A%20%20%20%20%20%20%20%20%20%20%20%20%20%20%20%20%7B%0A%20%20%20%20%20%20%20%20%20%20%20%20%20%20%20%20%20%20%20%20center%3A%20%5B48.862%2C%202.346%5D%2C%0A%20%20%20%20%20%20%20%20%20%20%20%20%20%20%20%20%20%20%20%20crs%3A%20L.CRS.EPSG3857%2C%0A%20%20%20%20%20%20%20%20%20%20%20%20%20%20%20%20%20%20%20%20zoom%3A%2012%2C%0A%20%20%20%20%20%20%20%20%20%20%20%20%20%20%20%20%20%20%20%20zoomControl%3A%20true%2C%0A%20%20%20%20%20%20%20%20%20%20%20%20%20%20%20%20%20%20%20%20preferCanvas%3A%20false%2C%0A%20%20%20%20%20%20%20%20%20%20%20%20%20%20%20%20%7D%0A%20%20%20%20%20%20%20%20%20%20%20%20%29%3B%0A%0A%20%20%20%20%20%20%20%20%20%20%20%20%0A%0A%20%20%20%20%20%20%20%20%0A%20%20%20%20%0A%20%20%20%20%20%20%20%20%20%20%20%20var%20tile_layer_fd927100d29a4019b713a17b237400fa%20%3D%20L.tileLayer%28%0A%20%20%20%20%20%20%20%20%20%20%20%20%20%20%20%20%22https%3A//cartodb-basemaps-%7Bs%7D.global.ssl.fastly.net/light_all/%7Bz%7D/%7Bx%7D/%7By%7D.png%22%2C%0A%20%20%20%20%20%20%20%20%20%20%20%20%20%20%20%20%7B%22attribution%22%3A%20%22%5Cu0026copy%3B%20%5Cu003ca%20href%3D%5C%22http%3A//www.openstreetmap.org/copyright%5C%22%5Cu003eOpenStreetMap%5Cu003c/a%5Cu003e%20contributors%20%5Cu0026copy%3B%20%5Cu003ca%20href%3D%5C%22http%3A//cartodb.com/attributions%5C%22%5Cu003eCartoDB%5Cu003c/a%5Cu003e%2C%20CartoDB%20%5Cu003ca%20href%20%3D%5C%22http%3A//cartodb.com/attributions%5C%22%5Cu003eattributions%5Cu003c/a%5Cu003e%22%2C%20%22detectRetina%22%3A%20false%2C%20%22maxNativeZoom%22%3A%2018%2C%20%22maxZoom%22%3A%2018%2C%20%22minZoom%22%3A%200%2C%20%22noWrap%22%3A%20false%2C%20%22opacity%22%3A%201%2C%20%22subdomains%22%3A%20%22abc%22%2C%20%22tms%22%3A%20false%7D%0A%20%20%20%20%20%20%20%20%20%20%20%20%29.addTo%28map_5649e442d8d842ceac723101fc6d5b7f%29%3B%0A%20%20%20%20%20%20%20%20%0A%20%20%20%20%0A%20%20%20%20%20%20%20%20function%20geo_json_15a0fc2ac1a94ccc97369c053a726011_styler%28feature%29%20%7B%0A%20%20%20%20%20%20%20%20%20%20%20%20switch%28feature.id%29%20%7B%0A%20%20%20%20%20%20%20%20%20%20%20%20%20%20%20%20default%3A%0A%20%20%20%20%20%20%20%20%20%20%20%20%20%20%20%20%20%20%20%20return%20%7B%22color%22%3A%20%22%23eb353c%22%2C%20%22fillColor%22%3A%20%22%23eb353c%22%2C%20%22stroke%22%3A%20false%2C%20%22weight%22%3A%205%7D%3B%0A%20%20%20%20%20%20%20%20%20%20%20%20%7D%0A%20%20%20%20%20%20%20%20%7D%0A%0A%20%20%20%20%20%20%20%20function%20geo_json_15a0fc2ac1a94ccc97369c053a726011_onEachFeature%28feature%2C%20layer%29%20%7B%0A%20%20%20%20%20%20%20%20%20%20%20%20layer.on%28%7B%0A%20%20%20%20%20%20%20%20%20%20%20%20%7D%29%3B%0A%20%20%20%20%20%20%20%20%7D%3B%0A%20%20%20%20%20%20%20%20var%20geo_json_15a0fc2ac1a94ccc97369c053a726011%20%3D%20L.geoJson%28null%2C%20%7B%0A%20%20%20%20%20%20%20%20%20%20%20%20%20%20%20%20onEachFeature%3A%20geo_json_15a0fc2ac1a94ccc97369c053a726011_onEachFeature%2C%0A%20%20%20%20%20%20%20%20%20%20%20%20%0A%20%20%20%20%20%20%20%20%20%20%20%20%20%20%20%20style%3A%20geo_json_15a0fc2ac1a94ccc97369c053a726011_styler%2C%0A%20%20%20%20%20%20%20%20%7D%29%3B%0A%0A%20%20%20%20%20%20%20%20function%20geo_json_15a0fc2ac1a94ccc97369c053a726011_add%20%28data%29%20%7B%0A%20%20%20%20%20%20%20%20%20%20%20%20geo_json_15a0fc2ac1a94ccc97369c053a726011%0A%20%20%20%20%20%20%20%20%20%20%20%20%20%20%20%20.addData%28data%29%0A%20%20%20%20%20%20%20%20%20%20%20%20%20%20%20%20.addTo%28map_5649e442d8d842ceac723101fc6d5b7f%29%3B%0A%20%20%20%20%20%20%20%20%7D%0A%20%20%20%20%20%20%20%20%20%20%20%20geo_json_15a0fc2ac1a94ccc97369c053a726011_add%28%7B%22bbox%22%3A%20%5B2.4063974457525528%2C%2048.83522387577493%2C%202.4071246820605974%2C%2048.83565613991338%5D%2C%20%22features%22%3A%20%5B%7B%22bbox%22%3A%20%5B2.4063974457525528%2C%2048.83522387577493%2C%202.4071246820605974%2C%2048.83565613991338%5D%2C%20%22geometry%22%3A%20%7B%22coordinates%22%3A%20%5B%5B%5B2.406624013578073%2C%2048.83522387577493%5D%2C%20%5B2.4063974457525528%2C%2048.83542060789595%5D%2C%20%5B2.4071246820605974%2C%2048.83565613991338%5D%2C%20%5B2.4071035270014614%2C%2048.8355077814805%5D%2C%20%5B2.406624013578073%2C%2048.83522387577493%5D%5D%5D%2C%20%22type%22%3A%20%22Polygon%22%7D%2C%20%22id%22%3A%20%220%22%2C%20%22properties%22%3A%20%7B%7D%2C%20%22type%22%3A%20%22Feature%22%7D%5D%2C%20%22type%22%3A%20%22FeatureCollection%22%7D%29%3B%0A%0A%20%20%20%20%20%20%20%20%0A%20%20%20%20%0A%20%20%20%20%20%20%20%20var%20popup_61818bed97604309806463ba8fde2fce%20%3D%20L.popup%28%7B%22maxWidth%22%3A%20%22100%25%22%7D%29%3B%0A%0A%20%20%20%20%20%20%20%20%0A%0A%20%20%20%20%20%20%20%20geo_json_15a0fc2ac1a94ccc97369c053a726011.bindPopup%28popup_61818bed97604309806463ba8fde2fce%29%0A%20%20%20%20%20%20%20%20%3B%0A%0A%20%20%20%20%20%20%20%20%0A%20%20%20%20%0A%20%20%20%20%0A%20%20%20%20%20%20%20%20function%20geo_json_9570027bd6054ada9e1e1eceb403df06_styler%28feature%29%20%7B%0A%20%20%20%20%20%20%20%20%20%20%20%20switch%28feature.id%29%20%7B%0A%20%20%20%20%20%20%20%20%20%20%20%20%20%20%20%20default%3A%0A%20%20%20%20%20%20%20%20%20%20%20%20%20%20%20%20%20%20%20%20return%20%7B%22color%22%3A%20%22%23eb353c%22%2C%20%22fillColor%22%3A%20%22%23eb353c%22%2C%20%22stroke%22%3A%20false%2C%20%22weight%22%3A%205%7D%3B%0A%20%20%20%20%20%20%20%20%20%20%20%20%7D%0A%20%20%20%20%20%20%20%20%7D%0A%0A%20%20%20%20%20%20%20%20function%20geo_json_9570027bd6054ada9e1e1eceb403df06_onEachFeature%28feature%2C%20layer%29%20%7B%0A%20%20%20%20%20%20%20%20%20%20%20%20layer.on%28%7B%0A%20%20%20%20%20%20%20%20%20%20%20%20%7D%29%3B%0A%20%20%20%20%20%20%20%20%7D%3B%0A%20%20%20%20%20%20%20%20var%20geo_json_9570027bd6054ada9e1e1eceb403df06%20%3D%20L.geoJson%28null%2C%20%7B%0A%20%20%20%20%20%20%20%20%20%20%20%20%20%20%20%20onEachFeature%3A%20geo_json_9570027bd6054ada9e1e1eceb403df06_onEachFeature%2C%0A%20%20%20%20%20%20%20%20%20%20%20%20%0A%20%20%20%20%20%20%20%20%20%20%20%20%20%20%20%20style%3A%20geo_json_9570027bd6054ada9e1e1eceb403df06_styler%2C%0A%20%20%20%20%20%20%20%20%7D%29%3B%0A%0A%20%20%20%20%20%20%20%20function%20geo_json_9570027bd6054ada9e1e1eceb403df06_add%20%28data%29%20%7B%0A%20%20%20%20%20%20%20%20%20%20%20%20geo_json_9570027bd6054ada9e1e1eceb403df06%0A%20%20%20%20%20%20%20%20%20%20%20%20%20%20%20%20.addData%28data%29%0A%20%20%20%20%20%20%20%20%20%20%20%20%20%20%20%20.addTo%28map_5649e442d8d842ceac723101fc6d5b7f%29%3B%0A%20%20%20%20%20%20%20%20%7D%0A%20%20%20%20%20%20%20%20%20%20%20%20geo_json_9570027bd6054ada9e1e1eceb403df06_add%28%7B%22bbox%22%3A%20%5B2.4063974457525528%2C%2048.83522387577493%2C%202.4071246820605974%2C%2048.83565613991338%5D%2C%20%22features%22%3A%20%5B%7B%22bbox%22%3A%20%5B2.4063974457525528%2C%2048.83522387577493%2C%202.4071246820605974%2C%2048.83565613991338%5D%2C%20%22geometry%22%3A%20%7B%22coordinates%22%3A%20%5B%5B%5B2.406624013578073%2C%2048.83522387577493%5D%2C%20%5B2.4063974457525528%2C%2048.83542060789595%5D%2C%20%5B2.4071246820605974%2C%2048.83565613991338%5D%2C%20%5B2.4071035270014614%2C%2048.8355077814805%5D%2C%20%5B2.406624013578073%2C%2048.83522387577493%5D%5D%5D%2C%20%22type%22%3A%20%22Polygon%22%7D%2C%20%22id%22%3A%20%220%22%2C%20%22properties%22%3A%20%7B%7D%2C%20%22type%22%3A%20%22Feature%22%7D%5D%2C%20%22type%22%3A%20%22FeatureCollection%22%7D%29%3B%0A%0A%20%20%20%20%20%20%20%20%0A%20%20%20%20%0A%20%20%20%20%20%20%20%20var%20popup_4ce6f9fbafa74b9ca0bd74b820274e28%20%3D%20L.popup%28%7B%22maxWidth%22%3A%20%22100%25%22%7D%29%3B%0A%0A%20%20%20%20%20%20%20%20%0A%0A%20%20%20%20%20%20%20%20geo_json_9570027bd6054ada9e1e1eceb403df06.bindPopup%28popup_4ce6f9fbafa74b9ca0bd74b820274e28%29%0A%20%20%20%20%20%20%20%20%3B%0A%0A%20%20%20%20%20%20%20%20%0A%20%20%20%20%0A%20%20%20%20%0A%20%20%20%20%20%20%20%20function%20geo_json_1cda9a6dd99b4830b72f7920329b6424_styler%28feature%29%20%7B%0A%20%20%20%20%20%20%20%20%20%20%20%20switch%28feature.id%29%20%7B%0A%20%20%20%20%20%20%20%20%20%20%20%20%20%20%20%20default%3A%0A%20%20%20%20%20%20%20%20%20%20%20%20%20%20%20%20%20%20%20%20return%20%7B%22color%22%3A%20%22%23eb353c%22%2C%20%22fillColor%22%3A%20%22%23eb353c%22%2C%20%22stroke%22%3A%20false%2C%20%22weight%22%3A%205%7D%3B%0A%20%20%20%20%20%20%20%20%20%20%20%20%7D%0A%20%20%20%20%20%20%20%20%7D%0A%0A%20%20%20%20%20%20%20%20function%20geo_json_1cda9a6dd99b4830b72f7920329b6424_onEachFeature%28feature%2C%20layer%29%20%7B%0A%20%20%20%20%20%20%20%20%20%20%20%20layer.on%28%7B%0A%20%20%20%20%20%20%20%20%20%20%20%20%7D%29%3B%0A%20%20%20%20%20%20%20%20%7D%3B%0A%20%20%20%20%20%20%20%20var%20geo_json_1cda9a6dd99b4830b72f7920329b6424%20%3D%20L.geoJson%28null%2C%20%7B%0A%20%20%20%20%20%20%20%20%20%20%20%20%20%20%20%20onEachFeature%3A%20geo_json_1cda9a6dd99b4830b72f7920329b6424_onEachFeature%2C%0A%20%20%20%20%20%20%20%20%20%20%20%20%0A%20%20%20%20%20%20%20%20%20%20%20%20%20%20%20%20style%3A%20geo_json_1cda9a6dd99b4830b72f7920329b6424_styler%2C%0A%20%20%20%20%20%20%20%20%7D%29%3B%0A%0A%20%20%20%20%20%20%20%20function%20geo_json_1cda9a6dd99b4830b72f7920329b6424_add%20%28data%29%20%7B%0A%20%20%20%20%20%20%20%20%20%20%20%20geo_json_1cda9a6dd99b4830b72f7920329b6424%0A%20%20%20%20%20%20%20%20%20%20%20%20%20%20%20%20.addData%28data%29%0A%20%20%20%20%20%20%20%20%20%20%20%20%20%20%20%20.addTo%28map_5649e442d8d842ceac723101fc6d5b7f%29%3B%0A%20%20%20%20%20%20%20%20%7D%0A%20%20%20%20%20%20%20%20%20%20%20%20geo_json_1cda9a6dd99b4830b72f7920329b6424_add%28%7B%22bbox%22%3A%20%5B2.4063974457525528%2C%2048.83522387577493%2C%202.4071246820605974%2C%2048.83565613991338%5D%2C%20%22features%22%3A%20%5B%7B%22bbox%22%3A%20%5B2.4063974457525528%2C%2048.83522387577493%2C%202.4071246820605974%2C%2048.83565613991338%5D%2C%20%22geometry%22%3A%20%7B%22coordinates%22%3A%20%5B%5B%5B2.406624013578073%2C%2048.83522387577493%5D%2C%20%5B2.4063974457525528%2C%2048.83542060789595%5D%2C%20%5B2.4071246820605974%2C%2048.83565613991338%5D%2C%20%5B2.4071035270014614%2C%2048.8355077814805%5D%2C%20%5B2.406624013578073%2C%2048.83522387577493%5D%5D%5D%2C%20%22type%22%3A%20%22Polygon%22%7D%2C%20%22id%22%3A%20%220%22%2C%20%22properties%22%3A%20%7B%7D%2C%20%22type%22%3A%20%22Feature%22%7D%5D%2C%20%22type%22%3A%20%22FeatureCollection%22%7D%29%3B%0A%0A%20%20%20%20%20%20%20%20%0A%20%20%20%20%0A%20%20%20%20%20%20%20%20var%20popup_c110c87bfdd0402c8563fece9b3beb52%20%3D%20L.popup%28%7B%22maxWidth%22%3A%20%22100%25%22%7D%29%3B%0A%0A%20%20%20%20%20%20%20%20%0A%0A%20%20%20%20%20%20%20%20geo_json_1cda9a6dd99b4830b72f7920329b6424.bindPopup%28popup_c110c87bfdd0402c8563fece9b3beb52%29%0A%20%20%20%20%20%20%20%20%3B%0A%0A%20%20%20%20%20%20%20%20%0A%20%20%20%20%0A%20%20%20%20%0A%20%20%20%20%20%20%20%20function%20geo_json_7d3f96da09734ed49c8338fdd3af9029_styler%28feature%29%20%7B%0A%20%20%20%20%20%20%20%20%20%20%20%20switch%28feature.id%29%20%7B%0A%20%20%20%20%20%20%20%20%20%20%20%20%20%20%20%20default%3A%0A%20%20%20%20%20%20%20%20%20%20%20%20%20%20%20%20%20%20%20%20return%20%7B%22color%22%3A%20%22%23eb353c%22%2C%20%22fillColor%22%3A%20%22%23eb353c%22%2C%20%22stroke%22%3A%20false%2C%20%22weight%22%3A%205%7D%3B%0A%20%20%20%20%20%20%20%20%20%20%20%20%7D%0A%20%20%20%20%20%20%20%20%7D%0A%0A%20%20%20%20%20%20%20%20function%20geo_json_7d3f96da09734ed49c8338fdd3af9029_onEachFeature%28feature%2C%20layer%29%20%7B%0A%20%20%20%20%20%20%20%20%20%20%20%20layer.on%28%7B%0A%20%20%20%20%20%20%20%20%20%20%20%20%7D%29%3B%0A%20%20%20%20%20%20%20%20%7D%3B%0A%20%20%20%20%20%20%20%20var%20geo_json_7d3f96da09734ed49c8338fdd3af9029%20%3D%20L.geoJson%28null%2C%20%7B%0A%20%20%20%20%20%20%20%20%20%20%20%20%20%20%20%20onEachFeature%3A%20geo_json_7d3f96da09734ed49c8338fdd3af9029_onEachFeature%2C%0A%20%20%20%20%20%20%20%20%20%20%20%20%0A%20%20%20%20%20%20%20%20%20%20%20%20%20%20%20%20style%3A%20geo_json_7d3f96da09734ed49c8338fdd3af9029_styler%2C%0A%20%20%20%20%20%20%20%20%7D%29%3B%0A%0A%20%20%20%20%20%20%20%20function%20geo_json_7d3f96da09734ed49c8338fdd3af9029_add%20%28data%29%20%7B%0A%20%20%20%20%20%20%20%20%20%20%20%20geo_json_7d3f96da09734ed49c8338fdd3af9029%0A%20%20%20%20%20%20%20%20%20%20%20%20%20%20%20%20.addData%28data%29%0A%20%20%20%20%20%20%20%20%20%20%20%20%20%20%20%20.addTo%28map_5649e442d8d842ceac723101fc6d5b7f%29%3B%0A%20%20%20%20%20%20%20%20%7D%0A%20%20%20%20%20%20%20%20%20%20%20%20geo_json_7d3f96da09734ed49c8338fdd3af9029_add%28%7B%22bbox%22%3A%20%5B2.4063974457525528%2C%2048.83522387577493%2C%202.4071246820605974%2C%2048.83565613991338%5D%2C%20%22features%22%3A%20%5B%7B%22bbox%22%3A%20%5B2.4063974457525528%2C%2048.83522387577493%2C%202.4071246820605974%2C%2048.83565613991338%5D%2C%20%22geometry%22%3A%20%7B%22coordinates%22%3A%20%5B%5B%5B2.406624013578073%2C%2048.83522387577493%5D%2C%20%5B2.4063974457525528%2C%2048.83542060789595%5D%2C%20%5B2.4071246820605974%2C%2048.83565613991338%5D%2C%20%5B2.4071035270014614%2C%2048.8355077814805%5D%2C%20%5B2.406624013578073%2C%2048.83522387577493%5D%5D%5D%2C%20%22type%22%3A%20%22Polygon%22%7D%2C%20%22id%22%3A%20%220%22%2C%20%22properties%22%3A%20%7B%7D%2C%20%22type%22%3A%20%22Feature%22%7D%5D%2C%20%22type%22%3A%20%22FeatureCollection%22%7D%29%3B%0A%0A%20%20%20%20%20%20%20%20%0A%20%20%20%20%0A%20%20%20%20%20%20%20%20var%20popup_326192a65b1f44678a698fe8b631101b%20%3D%20L.popup%28%7B%22maxWidth%22%3A%20%22100%25%22%7D%29%3B%0A%0A%20%20%20%20%20%20%20%20%0A%0A%20%20%20%20%20%20%20%20geo_json_7d3f96da09734ed49c8338fdd3af9029.bindPopup%28popup_326192a65b1f44678a698fe8b631101b%29%0A%20%20%20%20%20%20%20%20%3B%0A%0A%20%20%20%20%20%20%20%20%0A%20%20%20%20%0A%20%20%20%20%0A%20%20%20%20%20%20%20%20function%20geo_json_9374959c829f43f4af190fa168902dc6_styler%28feature%29%20%7B%0A%20%20%20%20%20%20%20%20%20%20%20%20switch%28feature.id%29%20%7B%0A%20%20%20%20%20%20%20%20%20%20%20%20%20%20%20%20default%3A%0A%20%20%20%20%20%20%20%20%20%20%20%20%20%20%20%20%20%20%20%20return%20%7B%22color%22%3A%20%22%23eb353c%22%2C%20%22fillColor%22%3A%20%22%23eb353c%22%2C%20%22stroke%22%3A%20false%2C%20%22weight%22%3A%205%7D%3B%0A%20%20%20%20%20%20%20%20%20%20%20%20%7D%0A%20%20%20%20%20%20%20%20%7D%0A%0A%20%20%20%20%20%20%20%20function%20geo_json_9374959c829f43f4af190fa168902dc6_onEachFeature%28feature%2C%20layer%29%20%7B%0A%20%20%20%20%20%20%20%20%20%20%20%20layer.on%28%7B%0A%20%20%20%20%20%20%20%20%20%20%20%20%7D%29%3B%0A%20%20%20%20%20%20%20%20%7D%3B%0A%20%20%20%20%20%20%20%20var%20geo_json_9374959c829f43f4af190fa168902dc6%20%3D%20L.geoJson%28null%2C%20%7B%0A%20%20%20%20%20%20%20%20%20%20%20%20%20%20%20%20onEachFeature%3A%20geo_json_9374959c829f43f4af190fa168902dc6_onEachFeature%2C%0A%20%20%20%20%20%20%20%20%20%20%20%20%0A%20%20%20%20%20%20%20%20%20%20%20%20%20%20%20%20style%3A%20geo_json_9374959c829f43f4af190fa168902dc6_styler%2C%0A%20%20%20%20%20%20%20%20%7D%29%3B%0A%0A%20%20%20%20%20%20%20%20function%20geo_json_9374959c829f43f4af190fa168902dc6_add%20%28data%29%20%7B%0A%20%20%20%20%20%20%20%20%20%20%20%20geo_json_9374959c829f43f4af190fa168902dc6%0A%20%20%20%20%20%20%20%20%20%20%20%20%20%20%20%20.addData%28data%29%0A%20%20%20%20%20%20%20%20%20%20%20%20%20%20%20%20.addTo%28map_5649e442d8d842ceac723101fc6d5b7f%29%3B%0A%20%20%20%20%20%20%20%20%7D%0A%20%20%20%20%20%20%20%20%20%20%20%20geo_json_9374959c829f43f4af190fa168902dc6_add%28%7B%22bbox%22%3A%20%5B2.4063974457525528%2C%2048.83522387577493%2C%202.4071246820605974%2C%2048.83565613991338%5D%2C%20%22features%22%3A%20%5B%7B%22bbox%22%3A%20%5B2.4063974457525528%2C%2048.83522387577493%2C%202.4071246820605974%2C%2048.83565613991338%5D%2C%20%22geometry%22%3A%20%7B%22coordinates%22%3A%20%5B%5B%5B2.406624013578073%2C%2048.83522387577493%5D%2C%20%5B2.4063974457525528%2C%2048.83542060789595%5D%2C%20%5B2.4071246820605974%2C%2048.83565613991338%5D%2C%20%5B2.4071035270014614%2C%2048.8355077814805%5D%2C%20%5B2.406624013578073%2C%2048.83522387577493%5D%5D%5D%2C%20%22type%22%3A%20%22Polygon%22%7D%2C%20%22id%22%3A%20%220%22%2C%20%22properties%22%3A%20%7B%7D%2C%20%22type%22%3A%20%22Feature%22%7D%5D%2C%20%22type%22%3A%20%22FeatureCollection%22%7D%29%3B%0A%0A%20%20%20%20%20%20%20%20%0A%20%20%20%20%0A%20%20%20%20%20%20%20%20var%20popup_f198896f3995436f9166267f289331c0%20%3D%20L.popup%28%7B%22maxWidth%22%3A%20%22100%25%22%7D%29%3B%0A%0A%20%20%20%20%20%20%20%20%0A%0A%20%20%20%20%20%20%20%20geo_json_9374959c829f43f4af190fa168902dc6.bindPopup%28popup_f198896f3995436f9166267f289331c0%29%0A%20%20%20%20%20%20%20%20%3B%0A%0A%20%20%20%20%20%20%20%20%0A%20%20%20%20%0A%20%20%20%20%0A%20%20%20%20%20%20%20%20function%20geo_json_08e38655e8b4413597308e70ddc69664_styler%28feature%29%20%7B%0A%20%20%20%20%20%20%20%20%20%20%20%20switch%28feature.id%29%20%7B%0A%20%20%20%20%20%20%20%20%20%20%20%20%20%20%20%20default%3A%0A%20%20%20%20%20%20%20%20%20%20%20%20%20%20%20%20%20%20%20%20return%20%7B%22color%22%3A%20%22%23eb353c%22%2C%20%22fillColor%22%3A%20%22%23eb353c%22%2C%20%22stroke%22%3A%20false%2C%20%22weight%22%3A%205%7D%3B%0A%20%20%20%20%20%20%20%20%20%20%20%20%7D%0A%20%20%20%20%20%20%20%20%7D%0A%0A%20%20%20%20%20%20%20%20function%20geo_json_08e38655e8b4413597308e70ddc69664_onEachFeature%28feature%2C%20layer%29%20%7B%0A%20%20%20%20%20%20%20%20%20%20%20%20layer.on%28%7B%0A%20%20%20%20%20%20%20%20%20%20%20%20%7D%29%3B%0A%20%20%20%20%20%20%20%20%7D%3B%0A%20%20%20%20%20%20%20%20var%20geo_json_08e38655e8b4413597308e70ddc69664%20%3D%20L.geoJson%28null%2C%20%7B%0A%20%20%20%20%20%20%20%20%20%20%20%20%20%20%20%20onEachFeature%3A%20geo_json_08e38655e8b4413597308e70ddc69664_onEachFeature%2C%0A%20%20%20%20%20%20%20%20%20%20%20%20%0A%20%20%20%20%20%20%20%20%20%20%20%20%20%20%20%20style%3A%20geo_json_08e38655e8b4413597308e70ddc69664_styler%2C%0A%20%20%20%20%20%20%20%20%7D%29%3B%0A%0A%20%20%20%20%20%20%20%20function%20geo_json_08e38655e8b4413597308e70ddc69664_add%20%28data%29%20%7B%0A%20%20%20%20%20%20%20%20%20%20%20%20geo_json_08e38655e8b4413597308e70ddc69664%0A%20%20%20%20%20%20%20%20%20%20%20%20%20%20%20%20.addData%28data%29%0A%20%20%20%20%20%20%20%20%20%20%20%20%20%20%20%20.addTo%28map_5649e442d8d842ceac723101fc6d5b7f%29%3B%0A%20%20%20%20%20%20%20%20%7D%0A%20%20%20%20%20%20%20%20%20%20%20%20geo_json_08e38655e8b4413597308e70ddc69664_add%28%7B%22bbox%22%3A%20%5B2.3699235489220647%2C%2048.86365671235039%2C%202.3713890427016273%2C%2048.864254299360006%5D%2C%20%22features%22%3A%20%5B%7B%22bbox%22%3A%20%5B2.3699235489220647%2C%2048.86365671235039%2C%202.3713890427016273%2C%2048.864254299360006%5D%2C%20%22geometry%22%3A%20%7B%22coordinates%22%3A%20%5B%5B%5B2.370223162683263%2C%2048.86365671235039%5D%2C%20%5B2.3699235489220647%2C%2048.86381566957308%5D%2C%20%5B2.3713890427016273%2C%2048.864254299360006%5D%2C%20%5B2.371320802955038%2C%2048.86410064315664%5D%2C%20%5B2.370223162683263%2C%2048.86365671235039%5D%5D%5D%2C%20%22type%22%3A%20%22Polygon%22%7D%2C%20%22id%22%3A%20%220%22%2C%20%22properties%22%3A%20%7B%7D%2C%20%22type%22%3A%20%22Feature%22%7D%5D%2C%20%22type%22%3A%20%22FeatureCollection%22%7D%29%3B%0A%0A%20%20%20%20%20%20%20%20%0A%20%20%20%20%0A%20%20%20%20%20%20%20%20var%20popup_254b9dd4a03e4d9ea42f331299b77cac%20%3D%20L.popup%28%7B%22maxWidth%22%3A%20%22100%25%22%7D%29%3B%0A%0A%20%20%20%20%20%20%20%20%0A%0A%20%20%20%20%20%20%20%20geo_json_08e38655e8b4413597308e70ddc69664.bindPopup%28popup_254b9dd4a03e4d9ea42f331299b77cac%29%0A%20%20%20%20%20%20%20%20%3B%0A%0A%20%20%20%20%20%20%20%20%0A%20%20%20%20%0A%20%20%20%20%0A%20%20%20%20%20%20%20%20function%20geo_json_fc84c913b8b64f7a894ddfb75e62512d_styler%28feature%29%20%7B%0A%20%20%20%20%20%20%20%20%20%20%20%20switch%28feature.id%29%20%7B%0A%20%20%20%20%20%20%20%20%20%20%20%20%20%20%20%20default%3A%0A%20%20%20%20%20%20%20%20%20%20%20%20%20%20%20%20%20%20%20%20return%20%7B%22color%22%3A%20%22%23eb353c%22%2C%20%22fillColor%22%3A%20%22%23eb353c%22%2C%20%22stroke%22%3A%20false%2C%20%22weight%22%3A%205%7D%3B%0A%20%20%20%20%20%20%20%20%20%20%20%20%7D%0A%20%20%20%20%20%20%20%20%7D%0A%0A%20%20%20%20%20%20%20%20function%20geo_json_fc84c913b8b64f7a894ddfb75e62512d_onEachFeature%28feature%2C%20layer%29%20%7B%0A%20%20%20%20%20%20%20%20%20%20%20%20layer.on%28%7B%0A%20%20%20%20%20%20%20%20%20%20%20%20%7D%29%3B%0A%20%20%20%20%20%20%20%20%7D%3B%0A%20%20%20%20%20%20%20%20var%20geo_json_fc84c913b8b64f7a894ddfb75e62512d%20%3D%20L.geoJson%28null%2C%20%7B%0A%20%20%20%20%20%20%20%20%20%20%20%20%20%20%20%20onEachFeature%3A%20geo_json_fc84c913b8b64f7a894ddfb75e62512d_onEachFeature%2C%0A%20%20%20%20%20%20%20%20%20%20%20%20%0A%20%20%20%20%20%20%20%20%20%20%20%20%20%20%20%20style%3A%20geo_json_fc84c913b8b64f7a894ddfb75e62512d_styler%2C%0A%20%20%20%20%20%20%20%20%7D%29%3B%0A%0A%20%20%20%20%20%20%20%20function%20geo_json_fc84c913b8b64f7a894ddfb75e62512d_add%20%28data%29%20%7B%0A%20%20%20%20%20%20%20%20%20%20%20%20geo_json_fc84c913b8b64f7a894ddfb75e62512d%0A%20%20%20%20%20%20%20%20%20%20%20%20%20%20%20%20.addData%28data%29%0A%20%20%20%20%20%20%20%20%20%20%20%20%20%20%20%20.addTo%28map_5649e442d8d842ceac723101fc6d5b7f%29%3B%0A%20%20%20%20%20%20%20%20%7D%0A%20%20%20%20%20%20%20%20%20%20%20%20geo_json_fc84c913b8b64f7a894ddfb75e62512d_add%28%7B%22bbox%22%3A%20%5B2.3699235489220647%2C%2048.86365671235039%2C%202.3713890427016273%2C%2048.864254299360006%5D%2C%20%22features%22%3A%20%5B%7B%22bbox%22%3A%20%5B2.3699235489220647%2C%2048.86365671235039%2C%202.3713890427016273%2C%2048.864254299360006%5D%2C%20%22geometry%22%3A%20%7B%22coordinates%22%3A%20%5B%5B%5B2.370223162683263%2C%2048.86365671235039%5D%2C%20%5B2.3699235489220647%2C%2048.86381566957308%5D%2C%20%5B2.3713890427016273%2C%2048.864254299360006%5D%2C%20%5B2.371320802955038%2C%2048.86410064315664%5D%2C%20%5B2.370223162683263%2C%2048.86365671235039%5D%5D%5D%2C%20%22type%22%3A%20%22Polygon%22%7D%2C%20%22id%22%3A%20%220%22%2C%20%22properties%22%3A%20%7B%7D%2C%20%22type%22%3A%20%22Feature%22%7D%5D%2C%20%22type%22%3A%20%22FeatureCollection%22%7D%29%3B%0A%0A%20%20%20%20%20%20%20%20%0A%20%20%20%20%0A%20%20%20%20%20%20%20%20var%20popup_91bef3e30b2c43d29dcc54fd7e86c668%20%3D%20L.popup%28%7B%22maxWidth%22%3A%20%22100%25%22%7D%29%3B%0A%0A%20%20%20%20%20%20%20%20%0A%0A%20%20%20%20%20%20%20%20geo_json_fc84c913b8b64f7a894ddfb75e62512d.bindPopup%28popup_91bef3e30b2c43d29dcc54fd7e86c668%29%0A%20%20%20%20%20%20%20%20%3B%0A%0A%20%20%20%20%20%20%20%20%0A%20%20%20%20%0A%20%20%20%20%0A%20%20%20%20%20%20%20%20function%20geo_json_72a24679805a4d84990a6073bda50776_styler%28feature%29%20%7B%0A%20%20%20%20%20%20%20%20%20%20%20%20switch%28feature.id%29%20%7B%0A%20%20%20%20%20%20%20%20%20%20%20%20%20%20%20%20default%3A%0A%20%20%20%20%20%20%20%20%20%20%20%20%20%20%20%20%20%20%20%20return%20%7B%22color%22%3A%20%22%23eb353c%22%2C%20%22fillColor%22%3A%20%22%23eb353c%22%2C%20%22stroke%22%3A%20false%2C%20%22weight%22%3A%205%7D%3B%0A%20%20%20%20%20%20%20%20%20%20%20%20%7D%0A%20%20%20%20%20%20%20%20%7D%0A%0A%20%20%20%20%20%20%20%20function%20geo_json_72a24679805a4d84990a6073bda50776_onEachFeature%28feature%2C%20layer%29%20%7B%0A%20%20%20%20%20%20%20%20%20%20%20%20layer.on%28%7B%0A%20%20%20%20%20%20%20%20%20%20%20%20%7D%29%3B%0A%20%20%20%20%20%20%20%20%7D%3B%0A%20%20%20%20%20%20%20%20var%20geo_json_72a24679805a4d84990a6073bda50776%20%3D%20L.geoJson%28null%2C%20%7B%0A%20%20%20%20%20%20%20%20%20%20%20%20%20%20%20%20onEachFeature%3A%20geo_json_72a24679805a4d84990a6073bda50776_onEachFeature%2C%0A%20%20%20%20%20%20%20%20%20%20%20%20%0A%20%20%20%20%20%20%20%20%20%20%20%20%20%20%20%20style%3A%20geo_json_72a24679805a4d84990a6073bda50776_styler%2C%0A%20%20%20%20%20%20%20%20%7D%29%3B%0A%0A%20%20%20%20%20%20%20%20function%20geo_json_72a24679805a4d84990a6073bda50776_add%20%28data%29%20%7B%0A%20%20%20%20%20%20%20%20%20%20%20%20geo_json_72a24679805a4d84990a6073bda50776%0A%20%20%20%20%20%20%20%20%20%20%20%20%20%20%20%20.addData%28data%29%0A%20%20%20%20%20%20%20%20%20%20%20%20%20%20%20%20.addTo%28map_5649e442d8d842ceac723101fc6d5b7f%29%3B%0A%20%20%20%20%20%20%20%20%7D%0A%20%20%20%20%20%20%20%20%20%20%20%20geo_json_72a24679805a4d84990a6073bda50776_add%28%7B%22bbox%22%3A%20%5B2.376650522189099%2C%2048.859642902270245%2C%202.3770157129678253%2C%2048.85986862191758%5D%2C%20%22features%22%3A%20%5B%7B%22bbox%22%3A%20%5B2.376650522189099%2C%2048.859642902270245%2C%202.3770157129678253%2C%2048.85986862191758%5D%2C%20%22geometry%22%3A%20%7B%22coordinates%22%3A%20%5B%5B%5B2.3769475067212964%2C%2048.85986862191758%5D%2C%20%5B2.3770157129678253%2C%2048.859642902270245%5D%2C%20%5B2.376650522189099%2C%2048.859700995066675%5D%2C%20%5B2.37671246172412%2C%2048.85985490110176%5D%2C%20%5B2.3769475067212964%2C%2048.85986862191758%5D%5D%5D%2C%20%22type%22%3A%20%22Polygon%22%7D%2C%20%22id%22%3A%20%220%22%2C%20%22properties%22%3A%20%7B%7D%2C%20%22type%22%3A%20%22Feature%22%7D%5D%2C%20%22type%22%3A%20%22FeatureCollection%22%7D%29%3B%0A%0A%20%20%20%20%20%20%20%20%0A%20%20%20%20%0A%20%20%20%20%20%20%20%20var%20popup_dd01d6ebef254ee7aa207664ec432adf%20%3D%20L.popup%28%7B%22maxWidth%22%3A%20%22100%25%22%7D%29%3B%0A%0A%20%20%20%20%20%20%20%20%0A%0A%20%20%20%20%20%20%20%20geo_json_72a24679805a4d84990a6073bda50776.bindPopup%28popup_dd01d6ebef254ee7aa207664ec432adf%29%0A%20%20%20%20%20%20%20%20%3B%0A%0A%20%20%20%20%20%20%20%20%0A%20%20%20%20%0A%20%20%20%20%0A%20%20%20%20%20%20%20%20function%20geo_json_7729ce9e8964440b84f3d1fb040dbfe7_styler%28feature%29%20%7B%0A%20%20%20%20%20%20%20%20%20%20%20%20switch%28feature.id%29%20%7B%0A%20%20%20%20%20%20%20%20%20%20%20%20%20%20%20%20default%3A%0A%20%20%20%20%20%20%20%20%20%20%20%20%20%20%20%20%20%20%20%20return%20%7B%22color%22%3A%20%22%23eb353c%22%2C%20%22fillColor%22%3A%20%22%23eb353c%22%2C%20%22stroke%22%3A%20false%2C%20%22weight%22%3A%205%7D%3B%0A%20%20%20%20%20%20%20%20%20%20%20%20%7D%0A%20%20%20%20%20%20%20%20%7D%0A%0A%20%20%20%20%20%20%20%20function%20geo_json_7729ce9e8964440b84f3d1fb040dbfe7_onEachFeature%28feature%2C%20layer%29%20%7B%0A%20%20%20%20%20%20%20%20%20%20%20%20layer.on%28%7B%0A%20%20%20%20%20%20%20%20%20%20%20%20%7D%29%3B%0A%20%20%20%20%20%20%20%20%7D%3B%0A%20%20%20%20%20%20%20%20var%20geo_json_7729ce9e8964440b84f3d1fb040dbfe7%20%3D%20L.geoJson%28null%2C%20%7B%0A%20%20%20%20%20%20%20%20%20%20%20%20%20%20%20%20onEachFeature%3A%20geo_json_7729ce9e8964440b84f3d1fb040dbfe7_onEachFeature%2C%0A%20%20%20%20%20%20%20%20%20%20%20%20%0A%20%20%20%20%20%20%20%20%20%20%20%20%20%20%20%20style%3A%20geo_json_7729ce9e8964440b84f3d1fb040dbfe7_styler%2C%0A%20%20%20%20%20%20%20%20%7D%29%3B%0A%0A%20%20%20%20%20%20%20%20function%20geo_json_7729ce9e8964440b84f3d1fb040dbfe7_add%20%28data%29%20%7B%0A%20%20%20%20%20%20%20%20%20%20%20%20geo_json_7729ce9e8964440b84f3d1fb040dbfe7%0A%20%20%20%20%20%20%20%20%20%20%20%20%20%20%20%20.addData%28data%29%0A%20%20%20%20%20%20%20%20%20%20%20%20%20%20%20%20.addTo%28map_5649e442d8d842ceac723101fc6d5b7f%29%3B%0A%20%20%20%20%20%20%20%20%7D%0A%20%20%20%20%20%20%20%20%20%20%20%20geo_json_7729ce9e8964440b84f3d1fb040dbfe7_add%28%7B%22bbox%22%3A%20%5B2.3846328653093196%2C%2048.854454758585945%2C%202.3856883070471784%2C%2048.85512846000987%5D%2C%20%22features%22%3A%20%5B%7B%22bbox%22%3A%20%5B2.3846328653093196%2C%2048.854454758585945%2C%202.3856883070471784%2C%2048.85512846000987%5D%2C%20%22geometry%22%3A%20%7B%22coordinates%22%3A%20%5B%5B%5B2.3856883070471784%2C%2048.8546579398117%5D%2C%20%5B2.38542826989542%2C%2048.854454758585945%5D%2C%20%5B2.3846328653093196%2C%2048.855039497168804%5D%2C%20%5B2.3849361664545476%2C%2048.85512846000987%5D%2C%20%5B2.3856883070471784%2C%2048.8546579398117%5D%5D%5D%2C%20%22type%22%3A%20%22Polygon%22%7D%2C%20%22id%22%3A%20%220%22%2C%20%22properties%22%3A%20%7B%7D%2C%20%22type%22%3A%20%22Feature%22%7D%5D%2C%20%22type%22%3A%20%22FeatureCollection%22%7D%29%3B%0A%0A%20%20%20%20%20%20%20%20%0A%20%20%20%20%0A%20%20%20%20%20%20%20%20var%20popup_b1d132980f324fcdb83b9ec0b194a9fb%20%3D%20L.popup%28%7B%22maxWidth%22%3A%20%22100%25%22%7D%29%3B%0A%0A%20%20%20%20%20%20%20%20%0A%0A%20%20%20%20%20%20%20%20geo_json_7729ce9e8964440b84f3d1fb040dbfe7.bindPopup%28popup_b1d132980f324fcdb83b9ec0b194a9fb%29%0A%20%20%20%20%20%20%20%20%3B%0A%0A%20%20%20%20%20%20%20%20%0A%20%20%20%20%0A%20%20%20%20%0A%20%20%20%20%20%20%20%20function%20geo_json_71cf776f5fdf4667a644eb8e0b0e31fc_styler%28feature%29%20%7B%0A%20%20%20%20%20%20%20%20%20%20%20%20switch%28feature.id%29%20%7B%0A%20%20%20%20%20%20%20%20%20%20%20%20%20%20%20%20default%3A%0A%20%20%20%20%20%20%20%20%20%20%20%20%20%20%20%20%20%20%20%20return%20%7B%22color%22%3A%20%22%23eb353c%22%2C%20%22fillColor%22%3A%20%22%23eb353c%22%2C%20%22stroke%22%3A%20false%2C%20%22weight%22%3A%205%7D%3B%0A%20%20%20%20%20%20%20%20%20%20%20%20%7D%0A%20%20%20%20%20%20%20%20%7D%0A%0A%20%20%20%20%20%20%20%20function%20geo_json_71cf776f5fdf4667a644eb8e0b0e31fc_onEachFeature%28feature%2C%20layer%29%20%7B%0A%20%20%20%20%20%20%20%20%20%20%20%20layer.on%28%7B%0A%20%20%20%20%20%20%20%20%20%20%20%20%7D%29%3B%0A%20%20%20%20%20%20%20%20%7D%3B%0A%20%20%20%20%20%20%20%20var%20geo_json_71cf776f5fdf4667a644eb8e0b0e31fc%20%3D%20L.geoJson%28null%2C%20%7B%0A%20%20%20%20%20%20%20%20%20%20%20%20%20%20%20%20onEachFeature%3A%20geo_json_71cf776f5fdf4667a644eb8e0b0e31fc_onEachFeature%2C%0A%20%20%20%20%20%20%20%20%20%20%20%20%0A%20%20%20%20%20%20%20%20%20%20%20%20%20%20%20%20style%3A%20geo_json_71cf776f5fdf4667a644eb8e0b0e31fc_styler%2C%0A%20%20%20%20%20%20%20%20%7D%29%3B%0A%0A%20%20%20%20%20%20%20%20function%20geo_json_71cf776f5fdf4667a644eb8e0b0e31fc_add%20%28data%29%20%7B%0A%20%20%20%20%20%20%20%20%20%20%20%20geo_json_71cf776f5fdf4667a644eb8e0b0e31fc%0A%20%20%20%20%20%20%20%20%20%20%20%20%20%20%20%20.addData%28data%29%0A%20%20%20%20%20%20%20%20%20%20%20%20%20%20%20%20.addTo%28map_5649e442d8d842ceac723101fc6d5b7f%29%3B%0A%20%20%20%20%20%20%20%20%7D%0A%20%20%20%20%20%20%20%20%20%20%20%20geo_json_71cf776f5fdf4667a644eb8e0b0e31fc_add%28%7B%22bbox%22%3A%20%5B2.3846328653093196%2C%2048.854454758585945%2C%202.3856883070471784%2C%2048.85512846000987%5D%2C%20%22features%22%3A%20%5B%7B%22bbox%22%3A%20%5B2.3846328653093196%2C%2048.854454758585945%2C%202.3856883070471784%2C%2048.85512846000987%5D%2C%20%22geometry%22%3A%20%7B%22coordinates%22%3A%20%5B%5B%5B2.3856883070471784%2C%2048.8546579398117%5D%2C%20%5B2.38542826989542%2C%2048.854454758585945%5D%2C%20%5B2.3846328653093196%2C%2048.855039497168804%5D%2C%20%5B2.3849361664545476%2C%2048.85512846000987%5D%2C%20%5B2.3856883070471784%2C%2048.8546579398117%5D%5D%5D%2C%20%22type%22%3A%20%22Polygon%22%7D%2C%20%22id%22%3A%20%220%22%2C%20%22properties%22%3A%20%7B%7D%2C%20%22type%22%3A%20%22Feature%22%7D%5D%2C%20%22type%22%3A%20%22FeatureCollection%22%7D%29%3B%0A%0A%20%20%20%20%20%20%20%20%0A%20%20%20%20%0A%20%20%20%20%20%20%20%20var%20popup_8020fa5a3861434e893208f5178bc152%20%3D%20L.popup%28%7B%22maxWidth%22%3A%20%22100%25%22%7D%29%3B%0A%0A%20%20%20%20%20%20%20%20%0A%0A%20%20%20%20%20%20%20%20geo_json_71cf776f5fdf4667a644eb8e0b0e31fc.bindPopup%28popup_8020fa5a3861434e893208f5178bc152%29%0A%20%20%20%20%20%20%20%20%3B%0A%0A%20%20%20%20%20%20%20%20%0A%20%20%20%20%0A%20%20%20%20%0A%20%20%20%20%20%20%20%20function%20geo_json_edf12cf9205b4cdbb044a5f7a8b77407_styler%28feature%29%20%7B%0A%20%20%20%20%20%20%20%20%20%20%20%20switch%28feature.id%29%20%7B%0A%20%20%20%20%20%20%20%20%20%20%20%20%20%20%20%20default%3A%0A%20%20%20%20%20%20%20%20%20%20%20%20%20%20%20%20%20%20%20%20return%20%7B%22color%22%3A%20%22%23eb353c%22%2C%20%22fillColor%22%3A%20%22%23eb353c%22%2C%20%22stroke%22%3A%20false%2C%20%22weight%22%3A%205%7D%3B%0A%20%20%20%20%20%20%20%20%20%20%20%20%7D%0A%20%20%20%20%20%20%20%20%7D%0A%0A%20%20%20%20%20%20%20%20function%20geo_json_edf12cf9205b4cdbb044a5f7a8b77407_onEachFeature%28feature%2C%20layer%29%20%7B%0A%20%20%20%20%20%20%20%20%20%20%20%20layer.on%28%7B%0A%20%20%20%20%20%20%20%20%20%20%20%20%7D%29%3B%0A%20%20%20%20%20%20%20%20%7D%3B%0A%20%20%20%20%20%20%20%20var%20geo_json_edf12cf9205b4cdbb044a5f7a8b77407%20%3D%20L.geoJson%28null%2C%20%7B%0A%20%20%20%20%20%20%20%20%20%20%20%20%20%20%20%20onEachFeature%3A%20geo_json_edf12cf9205b4cdbb044a5f7a8b77407_onEachFeature%2C%0A%20%20%20%20%20%20%20%20%20%20%20%20%0A%20%20%20%20%20%20%20%20%20%20%20%20%20%20%20%20style%3A%20geo_json_edf12cf9205b4cdbb044a5f7a8b77407_styler%2C%0A%20%20%20%20%20%20%20%20%7D%29%3B%0A%0A%20%20%20%20%20%20%20%20function%20geo_json_edf12cf9205b4cdbb044a5f7a8b77407_add%20%28data%29%20%7B%0A%20%20%20%20%20%20%20%20%20%20%20%20geo_json_edf12cf9205b4cdbb044a5f7a8b77407%0A%20%20%20%20%20%20%20%20%20%20%20%20%20%20%20%20.addData%28data%29%0A%20%20%20%20%20%20%20%20%20%20%20%20%20%20%20%20.addTo%28map_5649e442d8d842ceac723101fc6d5b7f%29%3B%0A%20%20%20%20%20%20%20%20%7D%0A%20%20%20%20%20%20%20%20%20%20%20%20geo_json_edf12cf9205b4cdbb044a5f7a8b77407_add%28%7B%22bbox%22%3A%20%5B2.3846328653093196%2C%2048.854454758585945%2C%202.3856883070471784%2C%2048.85512846000987%5D%2C%20%22features%22%3A%20%5B%7B%22bbox%22%3A%20%5B2.3846328653093196%2C%2048.854454758585945%2C%202.3856883070471784%2C%2048.85512846000987%5D%2C%20%22geometry%22%3A%20%7B%22coordinates%22%3A%20%5B%5B%5B2.3856883070471784%2C%2048.8546579398117%5D%2C%20%5B2.38542826989542%2C%2048.854454758585945%5D%2C%20%5B2.3846328653093196%2C%2048.855039497168804%5D%2C%20%5B2.3849361664545476%2C%2048.85512846000987%5D%2C%20%5B2.3856883070471784%2C%2048.8546579398117%5D%5D%5D%2C%20%22type%22%3A%20%22Polygon%22%7D%2C%20%22id%22%3A%20%220%22%2C%20%22properties%22%3A%20%7B%7D%2C%20%22type%22%3A%20%22Feature%22%7D%5D%2C%20%22type%22%3A%20%22FeatureCollection%22%7D%29%3B%0A%0A%20%20%20%20%20%20%20%20%0A%20%20%20%20%0A%20%20%20%20%20%20%20%20var%20popup_c11747dc8121454d8cbd3e64505ceca3%20%3D%20L.popup%28%7B%22maxWidth%22%3A%20%22100%25%22%7D%29%3B%0A%0A%20%20%20%20%20%20%20%20%0A%0A%20%20%20%20%20%20%20%20geo_json_edf12cf9205b4cdbb044a5f7a8b77407.bindPopup%28popup_c11747dc8121454d8cbd3e64505ceca3%29%0A%20%20%20%20%20%20%20%20%3B%0A%0A%20%20%20%20%20%20%20%20%0A%20%20%20%20%0A%20%20%20%20%0A%20%20%20%20%20%20%20%20function%20geo_json_129b55859d1842388dcd61deed05373b_styler%28feature%29%20%7B%0A%20%20%20%20%20%20%20%20%20%20%20%20switch%28feature.id%29%20%7B%0A%20%20%20%20%20%20%20%20%20%20%20%20%20%20%20%20default%3A%0A%20%20%20%20%20%20%20%20%20%20%20%20%20%20%20%20%20%20%20%20return%20%7B%22color%22%3A%20%22%23eb353c%22%2C%20%22fillColor%22%3A%20%22%23eb353c%22%2C%20%22stroke%22%3A%20false%2C%20%22weight%22%3A%205%7D%3B%0A%20%20%20%20%20%20%20%20%20%20%20%20%7D%0A%20%20%20%20%20%20%20%20%7D%0A%0A%20%20%20%20%20%20%20%20function%20geo_json_129b55859d1842388dcd61deed05373b_onEachFeature%28feature%2C%20layer%29%20%7B%0A%20%20%20%20%20%20%20%20%20%20%20%20layer.on%28%7B%0A%20%20%20%20%20%20%20%20%20%20%20%20%7D%29%3B%0A%20%20%20%20%20%20%20%20%7D%3B%0A%20%20%20%20%20%20%20%20var%20geo_json_129b55859d1842388dcd61deed05373b%20%3D%20L.geoJson%28null%2C%20%7B%0A%20%20%20%20%20%20%20%20%20%20%20%20%20%20%20%20onEachFeature%3A%20geo_json_129b55859d1842388dcd61deed05373b_onEachFeature%2C%0A%20%20%20%20%20%20%20%20%20%20%20%20%0A%20%20%20%20%20%20%20%20%20%20%20%20%20%20%20%20style%3A%20geo_json_129b55859d1842388dcd61deed05373b_styler%2C%0A%20%20%20%20%20%20%20%20%7D%29%3B%0A%0A%20%20%20%20%20%20%20%20function%20geo_json_129b55859d1842388dcd61deed05373b_add%20%28data%29%20%7B%0A%20%20%20%20%20%20%20%20%20%20%20%20geo_json_129b55859d1842388dcd61deed05373b%0A%20%20%20%20%20%20%20%20%20%20%20%20%20%20%20%20.addData%28data%29%0A%20%20%20%20%20%20%20%20%20%20%20%20%20%20%20%20.addTo%28map_5649e442d8d842ceac723101fc6d5b7f%29%3B%0A%20%20%20%20%20%20%20%20%7D%0A%20%20%20%20%20%20%20%20%20%20%20%20geo_json_129b55859d1842388dcd61deed05373b_add%28%7B%22bbox%22%3A%20%5B2.3775353635522016%2C%2048.85859462572471%2C%202.378675213208933%2C%2048.85933641087823%5D%2C%20%22features%22%3A%20%5B%7B%22bbox%22%3A%20%5B2.3775353635522016%2C%2048.85859462572471%2C%202.378675213208933%2C%2048.85933641087823%5D%2C%20%22geometry%22%3A%20%7B%22coordinates%22%3A%20%5B%5B%5B2.378675213208933%2C%2048.858798506353864%5D%2C%20%5B2.378411898293631%2C%2048.85859462572471%5D%2C%20%5B2.3775353635522016%2C%2048.85926416633462%5D%2C%20%5B2.377846271259447%2C%2048.85933641087823%5D%2C%20%5B2.378675213208933%2C%2048.858798506353864%5D%5D%5D%2C%20%22type%22%3A%20%22Polygon%22%7D%2C%20%22id%22%3A%20%220%22%2C%20%22properties%22%3A%20%7B%7D%2C%20%22type%22%3A%20%22Feature%22%7D%5D%2C%20%22type%22%3A%20%22FeatureCollection%22%7D%29%3B%0A%0A%20%20%20%20%20%20%20%20%0A%20%20%20%20%0A%20%20%20%20%20%20%20%20var%20popup_a9bb4cb3e526440d945c5991a438b04d%20%3D%20L.popup%28%7B%22maxWidth%22%3A%20%22100%25%22%7D%29%3B%0A%0A%20%20%20%20%20%20%20%20%0A%0A%20%20%20%20%20%20%20%20geo_json_129b55859d1842388dcd61deed05373b.bindPopup%28popup_a9bb4cb3e526440d945c5991a438b04d%29%0A%20%20%20%20%20%20%20%20%3B%0A%0A%20%20%20%20%20%20%20%20%0A%20%20%20%20%0A%20%20%20%20%0A%20%20%20%20%20%20%20%20%20%20%20%20var%20poly_line_5de9b74b27774de091fccd6cb815a0d9%20%3D%20L.polyline%28%0A%20%20%20%20%20%20%20%20%20%20%20%20%20%20%20%20%5B%5B48.861006%2C%202.36686%5D%2C%20%5B48.861313%2C%202.364678%5D%2C%20%5B48.861326%2C%202.364594%5D%2C%20%5B48.861389%2C%202.364598%5D%2C%20%5B48.861487%2C%202.364603%5D%2C%20%5B48.861528%2C%202.364699%5D%2C%20%5B48.861724%2C%202.365158%5D%2C%20%5B48.861762%2C%202.365248%5D%2C%20%5B48.861804%2C%202.365345%5D%2C%20%5B48.861899%2C%202.365568%5D%2C%20%5B48.862078%2C%202.365988%5D%2C%20%5B48.862382%2C%202.366702%5D%2C%20%5B48.862463%2C%202.366891%5D%2C%20%5B48.862598%2C%202.367196%5D%2C%20%5B48.862611%2C%202.367225%5D%2C%20%5B48.862649%2C%202.367312%5D%2C%20%5B48.862685%2C%202.367404%5D%2C%20%5B48.86298%2C%202.36815%5D%2C%20%5B48.863384%2C%202.369185%5D%2C%20%5B48.863407%2C%202.369245%5D%2C%20%5B48.863437%2C%202.36932%5D%2C%20%5B48.863696%2C%202.369964%5D%2C%20%5B48.863729%2C%202.37004%5D%2C%20%5B48.863027%2C%202.371217%5D%2C%20%5B48.862911%2C%202.371413%5D%2C%20%5B48.862798%2C%202.371602%5D%2C%20%5B48.862697%2C%202.371772%5D%2C%20%5B48.862599%2C%202.371938%5D%2C%20%5B48.862315%2C%202.372417%5D%2C%20%5B48.862237%2C%202.372547%5D%2C%20%5B48.862187%2C%202.372631%5D%2C%20%5B48.862116%2C%202.372751%5D%2C%20%5B48.862052%2C%202.372858%5D%2C%20%5B48.862027%2C%202.372898%5D%2C%20%5B48.861974%2C%202.372981%5D%2C%20%5B48.860966%2C%202.374674%5D%2C%20%5B48.860949%2C%202.374702%5D%2C%20%5B48.860926%2C%202.374742%5D%2C%20%5B48.860727%2C%202.375066%5D%2C%20%5B48.860647%2C%202.375197%5D%2C%20%5B48.860531%2C%202.375392%5D%2C%20%5B48.860484%2C%202.375468%5D%2C%20%5B48.860458%2C%202.37551%5D%2C%20%5B48.859725%2C%202.376768%5D%2C%20%5B48.85937%2C%202.377361%5D%2C%20%5B48.858679%2C%202.378509%5D%2C%20%5B48.85824%2C%202.379264%5D%2C%20%5B48.85787%2C%202.379879%5D%2C%20%5B48.857845%2C%202.379921%5D%2C%20%5B48.857828%2C%202.379911%5D%2C%20%5B48.857798%2C%202.379891%5D%2C%20%5B48.857701%2C%202.379906%5D%2C%20%5B48.857693%2C%202.379922%5D%2C%20%5B48.85764%2C%202.380015%5D%2C%20%5B48.857556%2C%202.380165%5D%2C%20%5B48.857564%2C%202.380364%5D%2C%20%5B48.857569%2C%202.380384%5D%2C%20%5B48.857554%2C%202.380408%5D%2C%20%5B48.857314%2C%202.380796%5D%2C%20%5B48.856641%2C%202.381932%5D%2C%20%5B48.856504%2C%202.382168%5D%2C%20%5B48.85616%2C%202.382741%5D%2C%20%5B48.855854%2C%202.383253%5D%2C%20%5B48.855276%2C%202.384228%5D%2C%20%5B48.854929%2C%202.384809%5D%2C%20%5B48.854681%2C%202.385213%5D%2C%20%5B48.854601%2C%202.385345%5D%2C%20%5B48.853302%2C%202.387522%5D%2C%20%5B48.853242%2C%202.387621%5D%2C%20%5B48.853169%2C%202.387744%5D%2C%20%5B48.852868%2C%202.388247%5D%2C%20%5B48.852844%2C%202.388289%5D%2C%20%5B48.852695%2C%202.388538%5D%2C%20%5B48.852394%2C%202.389044%5D%2C%20%5B48.852281%2C%202.389231%5D%2C%20%5B48.851135%2C%202.391151%5D%2C%20%5B48.850552%2C%202.392128%5D%2C%20%5B48.850515%2C%202.39219%5D%2C%20%5B48.850397%2C%202.392387%5D%2C%20%5B48.85032%2C%202.392518%5D%2C%20%5B48.849116%2C%202.394581%5D%2C%20%5B48.849093%2C%202.394733%5D%2C%20%5B48.848934%2C%202.395001%5D%2C%20%5B48.848855%2C%202.395131%5D%2C%20%5B48.84879%2C%202.395237%5D%2C%20%5B48.848728%2C%202.395162%5D%2C%20%5B48.848619%2C%202.395071%5D%2C%20%5B48.84859%2C%202.395054%5D%2C%20%5B48.848517%2C%202.395021%5D%2C%20%5B48.848403%2C%202.394999%5D%2C%20%5B48.848287%2C%202.39501%5D%2C%20%5B48.848184%2C%202.39505%5D%2C%20%5B48.848087%2C%202.395116%5D%2C%20%5B48.848%2C%202.395206%5D%2C%20%5B48.847932%2C%202.395304%5D%2C%20%5B48.84783%2C%202.395541%5D%2C%20%5B48.847798%2C%202.395674%5D%2C%20%5B48.847781%2C%202.395813%5D%2C%20%5B48.847684%2C%202.395795%5D%2C%20%5B48.847578%2C%202.395775%5D%2C%20%5B48.847443%2C%202.39575%5D%2C%20%5B48.847336%2C%202.39573%5D%2C%20%5B48.847247%2C%202.395709%5D%2C%20%5B48.845713%2C%202.395409%5D%2C%20%5B48.845547%2C%202.395381%5D%2C%20%5B48.845455%2C%202.395367%5D%2C%20%5B48.845292%2C%202.395339%5D%2C%20%5B48.845276%2C%202.395352%5D%2C%20%5B48.845228%2C%202.395392%5D%2C%20%5B48.844972%2C%202.395606%5D%2C%20%5B48.844942%2C%202.395631%5D%2C%20%5B48.84392%2C%202.396485%5D%2C%20%5B48.843826%2C%202.396563%5D%2C%20%5B48.843753%2C%202.396623%5D%2C%20%5B48.843637%2C%202.396718%5D%2C%20%5B48.843421%2C%202.396897%5D%2C%20%5B48.843319%2C%202.396985%5D%2C%20%5B48.842933%2C%202.397303%5D%2C%20%5B48.84277%2C%202.397438%5D%2C%20%5B48.842711%2C%202.397491%5D%2C%20%5B48.842648%2C%202.397545%5D%2C%20%5B48.842473%2C%202.397703%5D%2C%20%5B48.842344%2C%202.397817%5D%2C%20%5B48.842282%2C%202.397868%5D%2C%20%5B48.841249%2C%202.398782%5D%2C%20%5B48.841164%2C%202.398856%5D%2C%20%5B48.841103%2C%202.398909%5D%2C%20%5B48.841036%2C%202.398968%5D%2C%20%5B48.840694%2C%202.399264%5D%2C%20%5B48.840606%2C%202.399339%5D%2C%20%5B48.840502%2C%202.399431%5D%2C%20%5B48.840455%2C%202.399471%5D%2C%20%5B48.839988%2C%202.399877%5D%2C%20%5B48.839889%2C%202.399895%5D%2C%20%5B48.839743%2C%202.399926%5D%2C%20%5B48.839711%2C%202.399935%5D%2C%20%5B48.839642%2C%202.400033%5D%2C%20%5B48.839633%2C%202.400081%5D%2C%20%5B48.839635%2C%202.400141%5D%2C%20%5B48.83965%2C%202.400197%5D%2C%20%5B48.839563%2C%202.400285%5D%2C%20%5B48.839249%2C%202.400605%5D%2C%20%5B48.839192%2C%202.400664%5D%2C%20%5B48.83913%2C%202.400727%5D%2C%20%5B48.83886%2C%202.401017%5D%2C%20%5B48.838829%2C%202.401051%5D%2C%20%5B48.838612%2C%202.401268%5D%2C%20%5B48.837467%2C%202.402203%5D%2C%20%5B48.837358%2C%202.402247%5D%2C%20%5B48.837331%2C%202.402237%5D%2C%20%5B48.837154%2C%202.402172%5D%2C%20%5B48.837026%2C%202.402547%5D%2C%20%5B48.836751%2C%202.403333%5D%2C%20%5B48.836697%2C%202.403487%5D%2C%20%5B48.83665%2C%202.403614%5D%2C%20%5B48.836471%2C%202.404068%5D%2C%20%5B48.835923%2C%202.405565%5D%2C%20%5B48.835896%2C%202.405637%5D%2C%20%5B48.835877%2C%202.405694%5D%2C%20%5B48.835733%2C%202.406065%5D%2C%20%5B48.835702%2C%202.406115%5D%2C%20%5B48.835594%2C%202.406323%5D%2C%20%5B48.835486%2C%202.406434%5D%2C%20%5B48.83544%2C%202.406492%5D%2C%20%5B48.835412%2C%202.406527%5D%2C%20%5B48.83536%2C%202.406596%5D%2C%20%5B48.835304%2C%202.406569%5D%2C%20%5B48.835288%2C%202.406593%5D%2C%20%5B48.835197%2C%202.406855%5D%2C%20%5B48.835177%2C%202.40684%5D%2C%20%5B48.835033%2C%202.407237%5D%2C%20%5B48.8348%2C%202.407877%5D%2C%20%5B48.834775%2C%202.407942%5D%2C%20%5B48.834758%2C%202.407989%5D%2C%20%5B48.834758%2C%202.408%5D%2C%20%5B48.834758%2C%202.408014%5D%2C%20%5B48.834804%2C%202.40812%5D%2C%20%5B48.834816%2C%202.408188%5D%2C%20%5B48.834817%2C%202.408267%5D%2C%20%5B48.83435%2C%202.409537%5D%2C%20%5B48.83405%2C%202.410324%5D%2C%20%5B48.833994%2C%202.410527%5D%2C%20%5B48.833943%2C%202.410758%5D%2C%20%5B48.833916%2C%202.410897%5D%2C%20%5B48.833905%2C%202.411035%5D%2C%20%5B48.833847%2C%202.411462%5D%2C%20%5B48.833757%2C%202.412037%5D%2C%20%5B48.833703%2C%202.412235%5D%2C%20%5B48.833635%2C%202.412502%5D%2C%20%5B48.833568%2C%202.412662%5D%2C%20%5B48.833494%2C%202.412759%5D%2C%20%5B48.833551%2C%202.412849%5D%2C%20%5B48.83363%2C%202.412773%5D%2C%20%5B48.833771%2C%202.412632%5D%2C%20%5B48.833878%2C%202.412627%5D%5D%2C%0A%20%20%20%20%20%20%20%20%20%20%20%20%20%20%20%20%7B%22bubblingMouseEvents%22%3A%20true%2C%20%22color%22%3A%20%22%2384dcc6%22%2C%20%22dashArray%22%3A%20null%2C%20%22dashOffset%22%3A%20null%2C%20%22fill%22%3A%20false%2C%20%22fillColor%22%3A%20%22%2384dcc6%22%2C%20%22fillOpacity%22%3A%200.2%2C%20%22fillRule%22%3A%20%22evenodd%22%2C%20%22lineCap%22%3A%20%22round%22%2C%20%22lineJoin%22%3A%20%22round%22%2C%20%22noClip%22%3A%20false%2C%20%22opacity%22%3A%201.0%2C%20%22smoothFactor%22%3A%200.9%2C%20%22stroke%22%3A%20true%2C%20%22weight%22%3A%201.5%7D%0A%20%20%20%20%20%20%20%20%20%20%20%20%29.addTo%28map_5649e442d8d842ceac723101fc6d5b7f%29%3B%0A%20%20%20%20%20%20%20%20%0A%3C/script%3E onload=\"this.contentDocument.open();this.contentDocument.write(    decodeURIComponent(this.getAttribute('data-html')));this.contentDocument.close();\" allowfullscreen webkitallowfullscreen mozallowfullscreen></iframe></div></div>"
      ],
      "text/plain": [
       "<folium.folium.Map at 0x7ff131969370>"
      ]
     },
     "execution_count": 8,
     "metadata": {},
     "output_type": "execute_result"
    }
   ],
   "source": [
    "m"
   ]
  },
  {
   "cell_type": "code",
   "execution_count": 9,
   "metadata": {
    "ExecuteTime": {
     "end_time": "2021-11-23T22:06:59.537586Z",
     "start_time": "2021-11-23T22:06:59.499073Z"
    }
   },
   "outputs": [],
   "source": [
    "# export map\n",
    "m.save(\"./templates/map.html\")"
   ]
  },
  {
   "cell_type": "code",
   "execution_count": 10,
   "metadata": {},
   "outputs": [
    {
     "data": {
      "text/html": [
       "<div>\n",
       "<style scoped>\n",
       "    .dataframe tbody tr th:only-of-type {\n",
       "        vertical-align: middle;\n",
       "    }\n",
       "\n",
       "    .dataframe tbody tr th {\n",
       "        vertical-align: top;\n",
       "    }\n",
       "\n",
       "    .dataframe thead th {\n",
       "        text-align: right;\n",
       "    }\n",
       "</style>\n",
       "<table border=\"1\" class=\"dataframe\">\n",
       "  <thead>\n",
       "    <tr style=\"text-align: right;\">\n",
       "      <th></th>\n",
       "      <th>lon</th>\n",
       "      <th>lat</th>\n",
       "      <th>geometry</th>\n",
       "      <th>geofence</th>\n",
       "      <th>time</th>\n",
       "    </tr>\n",
       "  </thead>\n",
       "  <tbody>\n",
       "    <tr>\n",
       "      <th>0</th>\n",
       "      <td>2.366860</td>\n",
       "      <td>48.861006</td>\n",
       "      <td>POINT (2.36686 48.86101)</td>\n",
       "      <td>Out</td>\n",
       "      <td>2021-11-22</td>\n",
       "    </tr>\n",
       "    <tr>\n",
       "      <th>1</th>\n",
       "      <td>2.364678</td>\n",
       "      <td>48.861313</td>\n",
       "      <td>POINT (2.36468 48.86131)</td>\n",
       "      <td>Out</td>\n",
       "      <td>2021-11-23</td>\n",
       "    </tr>\n",
       "    <tr>\n",
       "      <th>2</th>\n",
       "      <td>2.364594</td>\n",
       "      <td>48.861326</td>\n",
       "      <td>POINT (2.36459 48.86133)</td>\n",
       "      <td>Out</td>\n",
       "      <td>2021-11-24</td>\n",
       "    </tr>\n",
       "    <tr>\n",
       "      <th>3</th>\n",
       "      <td>2.364598</td>\n",
       "      <td>48.861389</td>\n",
       "      <td>POINT (2.36460 48.86139)</td>\n",
       "      <td>Out</td>\n",
       "      <td>2021-11-25</td>\n",
       "    </tr>\n",
       "    <tr>\n",
       "      <th>4</th>\n",
       "      <td>2.364603</td>\n",
       "      <td>48.861487</td>\n",
       "      <td>POINT (2.36460 48.86149)</td>\n",
       "      <td>Out</td>\n",
       "      <td>2021-11-26</td>\n",
       "    </tr>\n",
       "    <tr>\n",
       "      <th>...</th>\n",
       "      <td>...</td>\n",
       "      <td>...</td>\n",
       "      <td>...</td>\n",
       "      <td>...</td>\n",
       "      <td>...</td>\n",
       "    </tr>\n",
       "    <tr>\n",
       "      <th>190</th>\n",
       "      <td>2.412759</td>\n",
       "      <td>48.833494</td>\n",
       "      <td>POINT (2.41276 48.83349)</td>\n",
       "      <td>Out</td>\n",
       "      <td>2022-05-31</td>\n",
       "    </tr>\n",
       "    <tr>\n",
       "      <th>191</th>\n",
       "      <td>2.412849</td>\n",
       "      <td>48.833551</td>\n",
       "      <td>POINT (2.41285 48.83355)</td>\n",
       "      <td>Out</td>\n",
       "      <td>2022-06-01</td>\n",
       "    </tr>\n",
       "    <tr>\n",
       "      <th>192</th>\n",
       "      <td>2.412773</td>\n",
       "      <td>48.833630</td>\n",
       "      <td>POINT (2.41277 48.83363)</td>\n",
       "      <td>Out</td>\n",
       "      <td>2022-06-02</td>\n",
       "    </tr>\n",
       "    <tr>\n",
       "      <th>193</th>\n",
       "      <td>2.412632</td>\n",
       "      <td>48.833771</td>\n",
       "      <td>POINT (2.41263 48.83377)</td>\n",
       "      <td>Out</td>\n",
       "      <td>2022-06-03</td>\n",
       "    </tr>\n",
       "    <tr>\n",
       "      <th>194</th>\n",
       "      <td>2.412627</td>\n",
       "      <td>48.833878</td>\n",
       "      <td>POINT (2.41263 48.83388)</td>\n",
       "      <td>Out</td>\n",
       "      <td>2022-06-04</td>\n",
       "    </tr>\n",
       "  </tbody>\n",
       "</table>\n",
       "<p>195 rows × 5 columns</p>\n",
       "</div>"
      ],
      "text/plain": [
       "          lon        lat                  geometry geofence        time\n",
       "0    2.366860  48.861006  POINT (2.36686 48.86101)      Out  2021-11-22\n",
       "1    2.364678  48.861313  POINT (2.36468 48.86131)      Out  2021-11-23\n",
       "2    2.364594  48.861326  POINT (2.36459 48.86133)      Out  2021-11-24\n",
       "3    2.364598  48.861389  POINT (2.36460 48.86139)      Out  2021-11-25\n",
       "4    2.364603  48.861487  POINT (2.36460 48.86149)      Out  2021-11-26\n",
       "..        ...        ...                       ...      ...         ...\n",
       "190  2.412759  48.833494  POINT (2.41276 48.83349)      Out  2022-05-31\n",
       "191  2.412849  48.833551  POINT (2.41285 48.83355)      Out  2022-06-01\n",
       "192  2.412773  48.833630  POINT (2.41277 48.83363)      Out  2022-06-02\n",
       "193  2.412632  48.833771  POINT (2.41263 48.83377)      Out  2022-06-03\n",
       "194  2.412627  48.833878  POINT (2.41263 48.83388)      Out  2022-06-04\n",
       "\n",
       "[195 rows x 5 columns]"
      ]
     },
     "execution_count": 10,
     "metadata": {},
     "output_type": "execute_result"
    }
   ],
   "source": [
    "## GEOFENCING\n",
    "# add time field in user route \n",
    "pip_mask_geofence = user_line_gdf.intersects(gdf_cluster.unary_union)\n",
    "\n",
    "# geofence column\n",
    "user_line_gdf[\"geofence\"] = pip_mask_geofence\n",
    "\n",
    "# add time\n",
    "number_of_points = user_line_gdf.shape[0]\n",
    "start_date = datetime(2021, 11, 22, 12, 10)\n",
    "date_range = pd.date_range(start=start_date, periods=number_of_points) #, freq=\"min\"\n",
    "\n",
    "# time column\n",
    "user_line_gdf[\"time\"] = date_range\n",
    "\n",
    "# transform time format to string for geofencing animation\n",
    "user_line_gdf[\"time\"] = user_line_gdf[\"time\"].apply(lambda x: x.strftime('%Y-%m-%d'))\n",
    "\n",
    "\n",
    "# replace gepfencing by In and Out\n",
    "user_line_gdf[\"geofence\"] = user_line_gdf[\"geofence\"].replace({True: \"In\", False: \"Out\"})\n",
    "\n",
    "user_line_gdf\n"
   ]
  },
  {
   "cell_type": "code",
   "execution_count": 11,
   "metadata": {},
   "outputs": [
    {
     "data": {
      "application/vnd.plotly.v1+json": {
       "config": {
        "plotlyServerURL": "https://plot.ly"
       },
       "data": [
        {
         "hovertemplate": "lat=%{lat}<br>lon=%{lon}<extra></extra>",
         "lat": [
          48.861006,
          48.861313,
          48.861326,
          48.861389,
          48.861487,
          48.861528,
          48.861724,
          48.861762,
          48.861804,
          48.861899,
          48.862078,
          48.862382,
          48.862463,
          48.862598,
          48.862611,
          48.862649,
          48.862685,
          48.86298,
          48.863384,
          48.863407,
          48.863437,
          48.863696,
          48.863729,
          48.863027,
          48.862911,
          48.862798,
          48.862697,
          48.862599,
          48.862315,
          48.862237,
          48.862187,
          48.862116,
          48.862052,
          48.862027,
          48.861974,
          48.860966,
          48.860949,
          48.860926,
          48.860727,
          48.860647,
          48.860531,
          48.860484,
          48.860458,
          48.859725,
          48.85937,
          48.858679,
          48.85824,
          48.85787,
          48.857845,
          48.857828,
          48.857798,
          48.857701,
          48.857693,
          48.85764,
          48.857556,
          48.857564,
          48.857569,
          48.857554,
          48.857314,
          48.856641,
          48.856504,
          48.85616,
          48.855854,
          48.855276,
          48.854929,
          48.854681,
          48.854601,
          48.853302,
          48.853242,
          48.853169,
          48.852868,
          48.852844,
          48.852695,
          48.852394,
          48.852281,
          48.851135,
          48.850552,
          48.850515,
          48.850397,
          48.85032,
          48.849116,
          48.849093,
          48.848934,
          48.848855,
          48.84879,
          48.848728,
          48.848619,
          48.84859,
          48.848517,
          48.848403,
          48.848287,
          48.848184,
          48.848087,
          48.848,
          48.847932,
          48.84783,
          48.847798,
          48.847781,
          48.847684,
          48.847578,
          48.847443,
          48.847336,
          48.847247,
          48.845713,
          48.845547,
          48.845455,
          48.845292,
          48.845276,
          48.845228,
          48.844972,
          48.844942,
          48.84392,
          48.843826,
          48.843753,
          48.843637,
          48.843421,
          48.843319,
          48.842933,
          48.84277,
          48.842711,
          48.842648,
          48.842473,
          48.842344,
          48.842282,
          48.841249,
          48.841164,
          48.841103,
          48.841036,
          48.840694,
          48.840606,
          48.840502,
          48.840455,
          48.839988,
          48.839889,
          48.839743,
          48.839711,
          48.839642,
          48.839633,
          48.839635,
          48.83965,
          48.839563,
          48.839249,
          48.839192,
          48.83913,
          48.83886,
          48.838829,
          48.838612,
          48.837467,
          48.837358,
          48.837331,
          48.837154,
          48.837026,
          48.836751,
          48.836697,
          48.83665,
          48.836471,
          48.835923,
          48.835896,
          48.835877,
          48.835733,
          48.835702,
          48.835594,
          48.835486,
          48.83544,
          48.835412,
          48.83536,
          48.835304,
          48.835288,
          48.835197,
          48.835177,
          48.835033,
          48.8348,
          48.834775,
          48.834758,
          48.834758,
          48.834758,
          48.834804,
          48.834816,
          48.834817,
          48.83435,
          48.83405,
          48.833994,
          48.833943,
          48.833916,
          48.833905,
          48.833847,
          48.833757,
          48.833703,
          48.833635,
          48.833568,
          48.833494,
          48.833551,
          48.83363,
          48.833771,
          48.833878
         ],
         "legendgroup": "",
         "lon": [
          2.36686,
          2.364678,
          2.364594,
          2.364598,
          2.364603,
          2.364699,
          2.365158,
          2.365248,
          2.365345,
          2.365568,
          2.365988,
          2.366702,
          2.366891,
          2.367196,
          2.367225,
          2.367312,
          2.367404,
          2.36815,
          2.369185,
          2.369245,
          2.36932,
          2.369964,
          2.37004,
          2.371217,
          2.371413,
          2.371602,
          2.371772,
          2.371938,
          2.372417,
          2.372547,
          2.372631,
          2.372751,
          2.372858,
          2.372898,
          2.372981,
          2.374674,
          2.374702,
          2.374742,
          2.375066,
          2.375197,
          2.375392,
          2.375468,
          2.37551,
          2.376768,
          2.377361,
          2.378509,
          2.379264,
          2.379879,
          2.379921,
          2.379911,
          2.379891,
          2.379906,
          2.379922,
          2.380015,
          2.380165,
          2.380364,
          2.380384,
          2.380408,
          2.380796,
          2.381932,
          2.382168,
          2.382741,
          2.383253,
          2.384228,
          2.384809,
          2.385213,
          2.385345,
          2.387522,
          2.387621,
          2.387744,
          2.388247,
          2.388289,
          2.388538,
          2.389044,
          2.389231,
          2.391151,
          2.392128,
          2.39219,
          2.392387,
          2.392518,
          2.394581,
          2.394733,
          2.395001,
          2.395131,
          2.395237,
          2.395162,
          2.395071,
          2.395054,
          2.395021,
          2.394999,
          2.39501,
          2.39505,
          2.395116,
          2.395206,
          2.395304,
          2.395541,
          2.395674,
          2.395813,
          2.395795,
          2.395775,
          2.39575,
          2.39573,
          2.395709,
          2.395409,
          2.395381,
          2.395367,
          2.395339,
          2.395352,
          2.395392,
          2.395606,
          2.395631,
          2.396485,
          2.396563,
          2.396623,
          2.396718,
          2.396897,
          2.396985,
          2.397303,
          2.397438,
          2.397491,
          2.397545,
          2.397703,
          2.397817,
          2.397868,
          2.398782,
          2.398856,
          2.398909,
          2.398968,
          2.399264,
          2.399339,
          2.399431,
          2.399471,
          2.399877,
          2.399895,
          2.399926,
          2.399935,
          2.400033,
          2.400081,
          2.400141,
          2.400197,
          2.400285,
          2.400605,
          2.400664,
          2.400727,
          2.401017,
          2.401051,
          2.401268,
          2.402203,
          2.402247,
          2.402237,
          2.402172,
          2.402547,
          2.403333,
          2.403487,
          2.403614,
          2.404068,
          2.405565,
          2.405637,
          2.405694,
          2.406065,
          2.406115,
          2.406323,
          2.406434,
          2.406492,
          2.406527,
          2.406596,
          2.406569,
          2.406593,
          2.406855,
          2.40684,
          2.407237,
          2.407877,
          2.407942,
          2.407989,
          2.408,
          2.408014,
          2.40812,
          2.408188,
          2.408267,
          2.409537,
          2.410324,
          2.410527,
          2.410758,
          2.410897,
          2.411035,
          2.411462,
          2.412037,
          2.412235,
          2.412502,
          2.412662,
          2.412759,
          2.412849,
          2.412773,
          2.412632,
          2.412627
         ],
         "marker": {
          "color": "#636efa"
         },
         "mode": "markers",
         "name": "",
         "showlegend": false,
         "subplot": "mapbox",
         "type": "scattermapbox"
        }
       ],
       "layout": {
        "height": 400,
        "legend": {
         "tracegroupgap": 0
        },
        "mapbox": {
         "accesstoken": "pk.eyJ1Ijoic2hha2Fzb20iLCJhIjoiY2plMWg1NGFpMXZ5NjJxbjhlM2ttN3AwbiJ9.RtGYHmreKiyBfHuElgYq_w",
         "center": {
          "lat": 48.84795028205128,
          "lon": 2.3913029384615383
         },
         "domain": {
          "x": [
           0,
           1
          ],
          "y": [
           0,
           1
          ]
         },
         "zoom": 10
        },
        "margin": {
         "t": 60
        },
        "template": {
         "data": {
          "bar": [
           {
            "error_x": {
             "color": "#2a3f5f"
            },
            "error_y": {
             "color": "#2a3f5f"
            },
            "marker": {
             "line": {
              "color": "#E5ECF6",
              "width": 0.5
             },
             "pattern": {
              "fillmode": "overlay",
              "size": 10,
              "solidity": 0.2
             }
            },
            "type": "bar"
           }
          ],
          "barpolar": [
           {
            "marker": {
             "line": {
              "color": "#E5ECF6",
              "width": 0.5
             },
             "pattern": {
              "fillmode": "overlay",
              "size": 10,
              "solidity": 0.2
             }
            },
            "type": "barpolar"
           }
          ],
          "carpet": [
           {
            "aaxis": {
             "endlinecolor": "#2a3f5f",
             "gridcolor": "white",
             "linecolor": "white",
             "minorgridcolor": "white",
             "startlinecolor": "#2a3f5f"
            },
            "baxis": {
             "endlinecolor": "#2a3f5f",
             "gridcolor": "white",
             "linecolor": "white",
             "minorgridcolor": "white",
             "startlinecolor": "#2a3f5f"
            },
            "type": "carpet"
           }
          ],
          "choropleth": [
           {
            "colorbar": {
             "outlinewidth": 0,
             "ticks": ""
            },
            "type": "choropleth"
           }
          ],
          "contour": [
           {
            "colorbar": {
             "outlinewidth": 0,
             "ticks": ""
            },
            "colorscale": [
             [
              0,
              "#0d0887"
             ],
             [
              0.1111111111111111,
              "#46039f"
             ],
             [
              0.2222222222222222,
              "#7201a8"
             ],
             [
              0.3333333333333333,
              "#9c179e"
             ],
             [
              0.4444444444444444,
              "#bd3786"
             ],
             [
              0.5555555555555556,
              "#d8576b"
             ],
             [
              0.6666666666666666,
              "#ed7953"
             ],
             [
              0.7777777777777778,
              "#fb9f3a"
             ],
             [
              0.8888888888888888,
              "#fdca26"
             ],
             [
              1,
              "#f0f921"
             ]
            ],
            "type": "contour"
           }
          ],
          "contourcarpet": [
           {
            "colorbar": {
             "outlinewidth": 0,
             "ticks": ""
            },
            "type": "contourcarpet"
           }
          ],
          "heatmap": [
           {
            "colorbar": {
             "outlinewidth": 0,
             "ticks": ""
            },
            "colorscale": [
             [
              0,
              "#0d0887"
             ],
             [
              0.1111111111111111,
              "#46039f"
             ],
             [
              0.2222222222222222,
              "#7201a8"
             ],
             [
              0.3333333333333333,
              "#9c179e"
             ],
             [
              0.4444444444444444,
              "#bd3786"
             ],
             [
              0.5555555555555556,
              "#d8576b"
             ],
             [
              0.6666666666666666,
              "#ed7953"
             ],
             [
              0.7777777777777778,
              "#fb9f3a"
             ],
             [
              0.8888888888888888,
              "#fdca26"
             ],
             [
              1,
              "#f0f921"
             ]
            ],
            "type": "heatmap"
           }
          ],
          "heatmapgl": [
           {
            "colorbar": {
             "outlinewidth": 0,
             "ticks": ""
            },
            "colorscale": [
             [
              0,
              "#0d0887"
             ],
             [
              0.1111111111111111,
              "#46039f"
             ],
             [
              0.2222222222222222,
              "#7201a8"
             ],
             [
              0.3333333333333333,
              "#9c179e"
             ],
             [
              0.4444444444444444,
              "#bd3786"
             ],
             [
              0.5555555555555556,
              "#d8576b"
             ],
             [
              0.6666666666666666,
              "#ed7953"
             ],
             [
              0.7777777777777778,
              "#fb9f3a"
             ],
             [
              0.8888888888888888,
              "#fdca26"
             ],
             [
              1,
              "#f0f921"
             ]
            ],
            "type": "heatmapgl"
           }
          ],
          "histogram": [
           {
            "marker": {
             "pattern": {
              "fillmode": "overlay",
              "size": 10,
              "solidity": 0.2
             }
            },
            "type": "histogram"
           }
          ],
          "histogram2d": [
           {
            "colorbar": {
             "outlinewidth": 0,
             "ticks": ""
            },
            "colorscale": [
             [
              0,
              "#0d0887"
             ],
             [
              0.1111111111111111,
              "#46039f"
             ],
             [
              0.2222222222222222,
              "#7201a8"
             ],
             [
              0.3333333333333333,
              "#9c179e"
             ],
             [
              0.4444444444444444,
              "#bd3786"
             ],
             [
              0.5555555555555556,
              "#d8576b"
             ],
             [
              0.6666666666666666,
              "#ed7953"
             ],
             [
              0.7777777777777778,
              "#fb9f3a"
             ],
             [
              0.8888888888888888,
              "#fdca26"
             ],
             [
              1,
              "#f0f921"
             ]
            ],
            "type": "histogram2d"
           }
          ],
          "histogram2dcontour": [
           {
            "colorbar": {
             "outlinewidth": 0,
             "ticks": ""
            },
            "colorscale": [
             [
              0,
              "#0d0887"
             ],
             [
              0.1111111111111111,
              "#46039f"
             ],
             [
              0.2222222222222222,
              "#7201a8"
             ],
             [
              0.3333333333333333,
              "#9c179e"
             ],
             [
              0.4444444444444444,
              "#bd3786"
             ],
             [
              0.5555555555555556,
              "#d8576b"
             ],
             [
              0.6666666666666666,
              "#ed7953"
             ],
             [
              0.7777777777777778,
              "#fb9f3a"
             ],
             [
              0.8888888888888888,
              "#fdca26"
             ],
             [
              1,
              "#f0f921"
             ]
            ],
            "type": "histogram2dcontour"
           }
          ],
          "mesh3d": [
           {
            "colorbar": {
             "outlinewidth": 0,
             "ticks": ""
            },
            "type": "mesh3d"
           }
          ],
          "parcoords": [
           {
            "line": {
             "colorbar": {
              "outlinewidth": 0,
              "ticks": ""
             }
            },
            "type": "parcoords"
           }
          ],
          "pie": [
           {
            "automargin": true,
            "type": "pie"
           }
          ],
          "scatter": [
           {
            "marker": {
             "colorbar": {
              "outlinewidth": 0,
              "ticks": ""
             }
            },
            "type": "scatter"
           }
          ],
          "scatter3d": [
           {
            "line": {
             "colorbar": {
              "outlinewidth": 0,
              "ticks": ""
             }
            },
            "marker": {
             "colorbar": {
              "outlinewidth": 0,
              "ticks": ""
             }
            },
            "type": "scatter3d"
           }
          ],
          "scattercarpet": [
           {
            "marker": {
             "colorbar": {
              "outlinewidth": 0,
              "ticks": ""
             }
            },
            "type": "scattercarpet"
           }
          ],
          "scattergeo": [
           {
            "marker": {
             "colorbar": {
              "outlinewidth": 0,
              "ticks": ""
             }
            },
            "type": "scattergeo"
           }
          ],
          "scattergl": [
           {
            "marker": {
             "colorbar": {
              "outlinewidth": 0,
              "ticks": ""
             }
            },
            "type": "scattergl"
           }
          ],
          "scattermapbox": [
           {
            "marker": {
             "colorbar": {
              "outlinewidth": 0,
              "ticks": ""
             }
            },
            "type": "scattermapbox"
           }
          ],
          "scatterpolar": [
           {
            "marker": {
             "colorbar": {
              "outlinewidth": 0,
              "ticks": ""
             }
            },
            "type": "scatterpolar"
           }
          ],
          "scatterpolargl": [
           {
            "marker": {
             "colorbar": {
              "outlinewidth": 0,
              "ticks": ""
             }
            },
            "type": "scatterpolargl"
           }
          ],
          "scatterternary": [
           {
            "marker": {
             "colorbar": {
              "outlinewidth": 0,
              "ticks": ""
             }
            },
            "type": "scatterternary"
           }
          ],
          "surface": [
           {
            "colorbar": {
             "outlinewidth": 0,
             "ticks": ""
            },
            "colorscale": [
             [
              0,
              "#0d0887"
             ],
             [
              0.1111111111111111,
              "#46039f"
             ],
             [
              0.2222222222222222,
              "#7201a8"
             ],
             [
              0.3333333333333333,
              "#9c179e"
             ],
             [
              0.4444444444444444,
              "#bd3786"
             ],
             [
              0.5555555555555556,
              "#d8576b"
             ],
             [
              0.6666666666666666,
              "#ed7953"
             ],
             [
              0.7777777777777778,
              "#fb9f3a"
             ],
             [
              0.8888888888888888,
              "#fdca26"
             ],
             [
              1,
              "#f0f921"
             ]
            ],
            "type": "surface"
           }
          ],
          "table": [
           {
            "cells": {
             "fill": {
              "color": "#EBF0F8"
             },
             "line": {
              "color": "white"
             }
            },
            "header": {
             "fill": {
              "color": "#C8D4E3"
             },
             "line": {
              "color": "white"
             }
            },
            "type": "table"
           }
          ]
         },
         "layout": {
          "annotationdefaults": {
           "arrowcolor": "#2a3f5f",
           "arrowhead": 0,
           "arrowwidth": 1
          },
          "autotypenumbers": "strict",
          "coloraxis": {
           "colorbar": {
            "outlinewidth": 0,
            "ticks": ""
           }
          },
          "colorscale": {
           "diverging": [
            [
             0,
             "#8e0152"
            ],
            [
             0.1,
             "#c51b7d"
            ],
            [
             0.2,
             "#de77ae"
            ],
            [
             0.3,
             "#f1b6da"
            ],
            [
             0.4,
             "#fde0ef"
            ],
            [
             0.5,
             "#f7f7f7"
            ],
            [
             0.6,
             "#e6f5d0"
            ],
            [
             0.7,
             "#b8e186"
            ],
            [
             0.8,
             "#7fbc41"
            ],
            [
             0.9,
             "#4d9221"
            ],
            [
             1,
             "#276419"
            ]
           ],
           "sequential": [
            [
             0,
             "#0d0887"
            ],
            [
             0.1111111111111111,
             "#46039f"
            ],
            [
             0.2222222222222222,
             "#7201a8"
            ],
            [
             0.3333333333333333,
             "#9c179e"
            ],
            [
             0.4444444444444444,
             "#bd3786"
            ],
            [
             0.5555555555555556,
             "#d8576b"
            ],
            [
             0.6666666666666666,
             "#ed7953"
            ],
            [
             0.7777777777777778,
             "#fb9f3a"
            ],
            [
             0.8888888888888888,
             "#fdca26"
            ],
            [
             1,
             "#f0f921"
            ]
           ],
           "sequentialminus": [
            [
             0,
             "#0d0887"
            ],
            [
             0.1111111111111111,
             "#46039f"
            ],
            [
             0.2222222222222222,
             "#7201a8"
            ],
            [
             0.3333333333333333,
             "#9c179e"
            ],
            [
             0.4444444444444444,
             "#bd3786"
            ],
            [
             0.5555555555555556,
             "#d8576b"
            ],
            [
             0.6666666666666666,
             "#ed7953"
            ],
            [
             0.7777777777777778,
             "#fb9f3a"
            ],
            [
             0.8888888888888888,
             "#fdca26"
            ],
            [
             1,
             "#f0f921"
            ]
           ]
          },
          "colorway": [
           "#636efa",
           "#EF553B",
           "#00cc96",
           "#ab63fa",
           "#FFA15A",
           "#19d3f3",
           "#FF6692",
           "#B6E880",
           "#FF97FF",
           "#FECB52"
          ],
          "font": {
           "color": "#2a3f5f"
          },
          "geo": {
           "bgcolor": "white",
           "lakecolor": "white",
           "landcolor": "#E5ECF6",
           "showlakes": true,
           "showland": true,
           "subunitcolor": "white"
          },
          "hoverlabel": {
           "align": "left"
          },
          "hovermode": "closest",
          "mapbox": {
           "style": "light"
          },
          "paper_bgcolor": "white",
          "plot_bgcolor": "#E5ECF6",
          "polar": {
           "angularaxis": {
            "gridcolor": "white",
            "linecolor": "white",
            "ticks": ""
           },
           "bgcolor": "#E5ECF6",
           "radialaxis": {
            "gridcolor": "white",
            "linecolor": "white",
            "ticks": ""
           }
          },
          "scene": {
           "xaxis": {
            "backgroundcolor": "#E5ECF6",
            "gridcolor": "white",
            "gridwidth": 2,
            "linecolor": "white",
            "showbackground": true,
            "ticks": "",
            "zerolinecolor": "white"
           },
           "yaxis": {
            "backgroundcolor": "#E5ECF6",
            "gridcolor": "white",
            "gridwidth": 2,
            "linecolor": "white",
            "showbackground": true,
            "ticks": "",
            "zerolinecolor": "white"
           },
           "zaxis": {
            "backgroundcolor": "#E5ECF6",
            "gridcolor": "white",
            "gridwidth": 2,
            "linecolor": "white",
            "showbackground": true,
            "ticks": "",
            "zerolinecolor": "white"
           }
          },
          "shapedefaults": {
           "line": {
            "color": "#2a3f5f"
           }
          },
          "ternary": {
           "aaxis": {
            "gridcolor": "white",
            "linecolor": "white",
            "ticks": ""
           },
           "baxis": {
            "gridcolor": "white",
            "linecolor": "white",
            "ticks": ""
           },
           "bgcolor": "#E5ECF6",
           "caxis": {
            "gridcolor": "white",
            "linecolor": "white",
            "ticks": ""
           }
          },
          "title": {
           "x": 0.05
          },
          "xaxis": {
           "automargin": true,
           "gridcolor": "white",
           "linecolor": "white",
           "ticks": "",
           "title": {
            "standoff": 15
           },
           "zerolinecolor": "white",
           "zerolinewidth": 2
          },
          "yaxis": {
           "automargin": true,
           "gridcolor": "white",
           "linecolor": "white",
           "ticks": "",
           "title": {
            "standoff": 15
           },
           "zerolinecolor": "white",
           "zerolinewidth": 2
          }
         }
        },
        "width": 700
       }
      }
     },
     "metadata": {},
     "output_type": "display_data"
    }
   ],
   "source": [
    "# geofencing\n",
    "px.set_mapbox_access_token(\"pk.eyJ1Ijoic2hha2Fzb20iLCJhIjoiY2plMWg1NGFpMXZ5NjJxbjhlM2ttN3AwbiJ9.RtGYHmreKiyBfHuElgYq_w\")\n",
    "fig = px.scatter_mapbox(\n",
    "    user_line_gdf, \n",
    "    lat=\"lat\", \n",
    "    lon=\"lon\" ,\n",
    "    size_max=6, \n",
    "    zoom=10, width=700, height=400)\n",
    "#fig.show(renderer=\"iframe\")\n",
    "fig.show()"
   ]
  },
  {
   "cell_type": "code",
   "execution_count": 12,
   "metadata": {},
   "outputs": [
    {
     "data": {
      "text/html": [
       "<iframe\n",
       "    scrolling=\"no\"\n",
       "    width=\"1220px\"\n",
       "    height=\"820\"\n",
       "    src=\"iframe_figures/figure_12.html\"\n",
       "    frameborder=\"0\"\n",
       "    allowfullscreen\n",
       "></iframe>\n"
      ]
     },
     "metadata": {},
     "output_type": "display_data"
    },
    {
     "data": {
      "application/vnd.plotly.v1+json": {
       "config": {
        "plotlyServerURL": "https://plot.ly"
       },
       "data": [
        {
         "hovertemplate": "geofence=Out<br>time=2021-11-22<br>lat=%{lat}<br>lon=%{lon}<extra></extra>",
         "lat": [
          48.861006
         ],
         "legendgroup": "Out",
         "lon": [
          2.36686
         ],
         "marker": {
          "color": "#636efa"
         },
         "mode": "markers",
         "name": "Out",
         "showlegend": true,
         "subplot": "mapbox",
         "type": "scattermapbox"
        }
       ],
       "frames": [
        {
         "data": [
          {
           "hovertemplate": "geofence=Out<br>time=2021-11-22<br>lat=%{lat}<br>lon=%{lon}<extra></extra>",
           "lat": [
            48.861006
           ],
           "legendgroup": "Out",
           "lon": [
            2.36686
           ],
           "marker": {
            "color": "#636efa"
           },
           "mode": "markers",
           "name": "Out",
           "showlegend": true,
           "subplot": "mapbox",
           "type": "scattermapbox"
          }
         ],
         "name": "2021-11-22"
        },
        {
         "data": [
          {
           "hovertemplate": "geofence=Out<br>time=2021-11-23<br>lat=%{lat}<br>lon=%{lon}<extra></extra>",
           "lat": [
            48.861313
           ],
           "legendgroup": "Out",
           "lon": [
            2.364678
           ],
           "marker": {
            "color": "#636efa"
           },
           "mode": "markers",
           "name": "Out",
           "showlegend": true,
           "subplot": "mapbox",
           "type": "scattermapbox"
          }
         ],
         "name": "2021-11-23"
        },
        {
         "data": [
          {
           "hovertemplate": "geofence=Out<br>time=2021-11-24<br>lat=%{lat}<br>lon=%{lon}<extra></extra>",
           "lat": [
            48.861326
           ],
           "legendgroup": "Out",
           "lon": [
            2.364594
           ],
           "marker": {
            "color": "#636efa"
           },
           "mode": "markers",
           "name": "Out",
           "showlegend": true,
           "subplot": "mapbox",
           "type": "scattermapbox"
          }
         ],
         "name": "2021-11-24"
        },
        {
         "data": [
          {
           "hovertemplate": "geofence=Out<br>time=2021-11-25<br>lat=%{lat}<br>lon=%{lon}<extra></extra>",
           "lat": [
            48.861389
           ],
           "legendgroup": "Out",
           "lon": [
            2.364598
           ],
           "marker": {
            "color": "#636efa"
           },
           "mode": "markers",
           "name": "Out",
           "showlegend": true,
           "subplot": "mapbox",
           "type": "scattermapbox"
          }
         ],
         "name": "2021-11-25"
        },
        {
         "data": [
          {
           "hovertemplate": "geofence=Out<br>time=2021-11-26<br>lat=%{lat}<br>lon=%{lon}<extra></extra>",
           "lat": [
            48.861487
           ],
           "legendgroup": "Out",
           "lon": [
            2.364603
           ],
           "marker": {
            "color": "#636efa"
           },
           "mode": "markers",
           "name": "Out",
           "showlegend": true,
           "subplot": "mapbox",
           "type": "scattermapbox"
          }
         ],
         "name": "2021-11-26"
        },
        {
         "data": [
          {
           "hovertemplate": "geofence=Out<br>time=2021-11-27<br>lat=%{lat}<br>lon=%{lon}<extra></extra>",
           "lat": [
            48.861528
           ],
           "legendgroup": "Out",
           "lon": [
            2.364699
           ],
           "marker": {
            "color": "#636efa"
           },
           "mode": "markers",
           "name": "Out",
           "showlegend": true,
           "subplot": "mapbox",
           "type": "scattermapbox"
          }
         ],
         "name": "2021-11-27"
        },
        {
         "data": [
          {
           "hovertemplate": "geofence=Out<br>time=2021-11-28<br>lat=%{lat}<br>lon=%{lon}<extra></extra>",
           "lat": [
            48.861724
           ],
           "legendgroup": "Out",
           "lon": [
            2.365158
           ],
           "marker": {
            "color": "#636efa"
           },
           "mode": "markers",
           "name": "Out",
           "showlegend": true,
           "subplot": "mapbox",
           "type": "scattermapbox"
          }
         ],
         "name": "2021-11-28"
        },
        {
         "data": [
          {
           "hovertemplate": "geofence=Out<br>time=2021-11-29<br>lat=%{lat}<br>lon=%{lon}<extra></extra>",
           "lat": [
            48.861762
           ],
           "legendgroup": "Out",
           "lon": [
            2.365248
           ],
           "marker": {
            "color": "#636efa"
           },
           "mode": "markers",
           "name": "Out",
           "showlegend": true,
           "subplot": "mapbox",
           "type": "scattermapbox"
          }
         ],
         "name": "2021-11-29"
        },
        {
         "data": [
          {
           "hovertemplate": "geofence=Out<br>time=2021-11-30<br>lat=%{lat}<br>lon=%{lon}<extra></extra>",
           "lat": [
            48.861804
           ],
           "legendgroup": "Out",
           "lon": [
            2.365345
           ],
           "marker": {
            "color": "#636efa"
           },
           "mode": "markers",
           "name": "Out",
           "showlegend": true,
           "subplot": "mapbox",
           "type": "scattermapbox"
          }
         ],
         "name": "2021-11-30"
        },
        {
         "data": [
          {
           "hovertemplate": "geofence=Out<br>time=2021-12-01<br>lat=%{lat}<br>lon=%{lon}<extra></extra>",
           "lat": [
            48.861899
           ],
           "legendgroup": "Out",
           "lon": [
            2.365568
           ],
           "marker": {
            "color": "#636efa"
           },
           "mode": "markers",
           "name": "Out",
           "showlegend": true,
           "subplot": "mapbox",
           "type": "scattermapbox"
          }
         ],
         "name": "2021-12-01"
        },
        {
         "data": [
          {
           "hovertemplate": "geofence=Out<br>time=2021-12-02<br>lat=%{lat}<br>lon=%{lon}<extra></extra>",
           "lat": [
            48.862078
           ],
           "legendgroup": "Out",
           "lon": [
            2.365988
           ],
           "marker": {
            "color": "#636efa"
           },
           "mode": "markers",
           "name": "Out",
           "showlegend": true,
           "subplot": "mapbox",
           "type": "scattermapbox"
          }
         ],
         "name": "2021-12-02"
        },
        {
         "data": [
          {
           "hovertemplate": "geofence=Out<br>time=2021-12-03<br>lat=%{lat}<br>lon=%{lon}<extra></extra>",
           "lat": [
            48.862382
           ],
           "legendgroup": "Out",
           "lon": [
            2.366702
           ],
           "marker": {
            "color": "#636efa"
           },
           "mode": "markers",
           "name": "Out",
           "showlegend": true,
           "subplot": "mapbox",
           "type": "scattermapbox"
          }
         ],
         "name": "2021-12-03"
        },
        {
         "data": [
          {
           "hovertemplate": "geofence=Out<br>time=2021-12-04<br>lat=%{lat}<br>lon=%{lon}<extra></extra>",
           "lat": [
            48.862463
           ],
           "legendgroup": "Out",
           "lon": [
            2.366891
           ],
           "marker": {
            "color": "#636efa"
           },
           "mode": "markers",
           "name": "Out",
           "showlegend": true,
           "subplot": "mapbox",
           "type": "scattermapbox"
          }
         ],
         "name": "2021-12-04"
        },
        {
         "data": [
          {
           "hovertemplate": "geofence=Out<br>time=2021-12-05<br>lat=%{lat}<br>lon=%{lon}<extra></extra>",
           "lat": [
            48.862598
           ],
           "legendgroup": "Out",
           "lon": [
            2.367196
           ],
           "marker": {
            "color": "#636efa"
           },
           "mode": "markers",
           "name": "Out",
           "showlegend": true,
           "subplot": "mapbox",
           "type": "scattermapbox"
          }
         ],
         "name": "2021-12-05"
        },
        {
         "data": [
          {
           "hovertemplate": "geofence=Out<br>time=2021-12-06<br>lat=%{lat}<br>lon=%{lon}<extra></extra>",
           "lat": [
            48.862611
           ],
           "legendgroup": "Out",
           "lon": [
            2.367225
           ],
           "marker": {
            "color": "#636efa"
           },
           "mode": "markers",
           "name": "Out",
           "showlegend": true,
           "subplot": "mapbox",
           "type": "scattermapbox"
          }
         ],
         "name": "2021-12-06"
        },
        {
         "data": [
          {
           "hovertemplate": "geofence=Out<br>time=2021-12-07<br>lat=%{lat}<br>lon=%{lon}<extra></extra>",
           "lat": [
            48.862649
           ],
           "legendgroup": "Out",
           "lon": [
            2.367312
           ],
           "marker": {
            "color": "#636efa"
           },
           "mode": "markers",
           "name": "Out",
           "showlegend": true,
           "subplot": "mapbox",
           "type": "scattermapbox"
          }
         ],
         "name": "2021-12-07"
        },
        {
         "data": [
          {
           "hovertemplate": "geofence=Out<br>time=2021-12-08<br>lat=%{lat}<br>lon=%{lon}<extra></extra>",
           "lat": [
            48.862685
           ],
           "legendgroup": "Out",
           "lon": [
            2.367404
           ],
           "marker": {
            "color": "#636efa"
           },
           "mode": "markers",
           "name": "Out",
           "showlegend": true,
           "subplot": "mapbox",
           "type": "scattermapbox"
          }
         ],
         "name": "2021-12-08"
        },
        {
         "data": [
          {
           "hovertemplate": "geofence=Out<br>time=2021-12-09<br>lat=%{lat}<br>lon=%{lon}<extra></extra>",
           "lat": [
            48.86298
           ],
           "legendgroup": "Out",
           "lon": [
            2.36815
           ],
           "marker": {
            "color": "#636efa"
           },
           "mode": "markers",
           "name": "Out",
           "showlegend": true,
           "subplot": "mapbox",
           "type": "scattermapbox"
          }
         ],
         "name": "2021-12-09"
        },
        {
         "data": [
          {
           "hovertemplate": "geofence=Out<br>time=2021-12-10<br>lat=%{lat}<br>lon=%{lon}<extra></extra>",
           "lat": [
            48.863384
           ],
           "legendgroup": "Out",
           "lon": [
            2.369185
           ],
           "marker": {
            "color": "#636efa"
           },
           "mode": "markers",
           "name": "Out",
           "showlegend": true,
           "subplot": "mapbox",
           "type": "scattermapbox"
          }
         ],
         "name": "2021-12-10"
        },
        {
         "data": [
          {
           "hovertemplate": "geofence=Out<br>time=2021-12-11<br>lat=%{lat}<br>lon=%{lon}<extra></extra>",
           "lat": [
            48.863407
           ],
           "legendgroup": "Out",
           "lon": [
            2.369245
           ],
           "marker": {
            "color": "#636efa"
           },
           "mode": "markers",
           "name": "Out",
           "showlegend": true,
           "subplot": "mapbox",
           "type": "scattermapbox"
          }
         ],
         "name": "2021-12-11"
        },
        {
         "data": [
          {
           "hovertemplate": "geofence=Out<br>time=2021-12-12<br>lat=%{lat}<br>lon=%{lon}<extra></extra>",
           "lat": [
            48.863437
           ],
           "legendgroup": "Out",
           "lon": [
            2.36932
           ],
           "marker": {
            "color": "#636efa"
           },
           "mode": "markers",
           "name": "Out",
           "showlegend": true,
           "subplot": "mapbox",
           "type": "scattermapbox"
          }
         ],
         "name": "2021-12-12"
        },
        {
         "data": [
          {
           "hovertemplate": "geofence=In<br>time=2021-12-13<br>lat=%{lat}<br>lon=%{lon}<extra></extra>",
           "lat": [
            48.863696
           ],
           "legendgroup": "In",
           "lon": [
            2.369964
           ],
           "marker": {
            "color": "#EF553B"
           },
           "mode": "markers",
           "name": "In",
           "showlegend": true,
           "subplot": "mapbox",
           "type": "scattermapbox"
          }
         ],
         "name": "2021-12-13"
        },
        {
         "data": [
          {
           "hovertemplate": "geofence=In<br>time=2021-12-14<br>lat=%{lat}<br>lon=%{lon}<extra></extra>",
           "lat": [
            48.863729
           ],
           "legendgroup": "In",
           "lon": [
            2.37004
           ],
           "marker": {
            "color": "#EF553B"
           },
           "mode": "markers",
           "name": "In",
           "showlegend": true,
           "subplot": "mapbox",
           "type": "scattermapbox"
          }
         ],
         "name": "2021-12-14"
        },
        {
         "data": [
          {
           "hovertemplate": "geofence=Out<br>time=2021-12-15<br>lat=%{lat}<br>lon=%{lon}<extra></extra>",
           "lat": [
            48.863027
           ],
           "legendgroup": "Out",
           "lon": [
            2.371217
           ],
           "marker": {
            "color": "#636efa"
           },
           "mode": "markers",
           "name": "Out",
           "showlegend": true,
           "subplot": "mapbox",
           "type": "scattermapbox"
          }
         ],
         "name": "2021-12-15"
        },
        {
         "data": [
          {
           "hovertemplate": "geofence=Out<br>time=2021-12-16<br>lat=%{lat}<br>lon=%{lon}<extra></extra>",
           "lat": [
            48.862911
           ],
           "legendgroup": "Out",
           "lon": [
            2.371413
           ],
           "marker": {
            "color": "#636efa"
           },
           "mode": "markers",
           "name": "Out",
           "showlegend": true,
           "subplot": "mapbox",
           "type": "scattermapbox"
          }
         ],
         "name": "2021-12-16"
        },
        {
         "data": [
          {
           "hovertemplate": "geofence=Out<br>time=2021-12-17<br>lat=%{lat}<br>lon=%{lon}<extra></extra>",
           "lat": [
            48.862798
           ],
           "legendgroup": "Out",
           "lon": [
            2.371602
           ],
           "marker": {
            "color": "#636efa"
           },
           "mode": "markers",
           "name": "Out",
           "showlegend": true,
           "subplot": "mapbox",
           "type": "scattermapbox"
          }
         ],
         "name": "2021-12-17"
        },
        {
         "data": [
          {
           "hovertemplate": "geofence=Out<br>time=2021-12-18<br>lat=%{lat}<br>lon=%{lon}<extra></extra>",
           "lat": [
            48.862697
           ],
           "legendgroup": "Out",
           "lon": [
            2.371772
           ],
           "marker": {
            "color": "#636efa"
           },
           "mode": "markers",
           "name": "Out",
           "showlegend": true,
           "subplot": "mapbox",
           "type": "scattermapbox"
          }
         ],
         "name": "2021-12-18"
        },
        {
         "data": [
          {
           "hovertemplate": "geofence=Out<br>time=2021-12-19<br>lat=%{lat}<br>lon=%{lon}<extra></extra>",
           "lat": [
            48.862599
           ],
           "legendgroup": "Out",
           "lon": [
            2.371938
           ],
           "marker": {
            "color": "#636efa"
           },
           "mode": "markers",
           "name": "Out",
           "showlegend": true,
           "subplot": "mapbox",
           "type": "scattermapbox"
          }
         ],
         "name": "2021-12-19"
        },
        {
         "data": [
          {
           "hovertemplate": "geofence=Out<br>time=2021-12-20<br>lat=%{lat}<br>lon=%{lon}<extra></extra>",
           "lat": [
            48.862315
           ],
           "legendgroup": "Out",
           "lon": [
            2.372417
           ],
           "marker": {
            "color": "#636efa"
           },
           "mode": "markers",
           "name": "Out",
           "showlegend": true,
           "subplot": "mapbox",
           "type": "scattermapbox"
          }
         ],
         "name": "2021-12-20"
        },
        {
         "data": [
          {
           "hovertemplate": "geofence=Out<br>time=2021-12-21<br>lat=%{lat}<br>lon=%{lon}<extra></extra>",
           "lat": [
            48.862237
           ],
           "legendgroup": "Out",
           "lon": [
            2.372547
           ],
           "marker": {
            "color": "#636efa"
           },
           "mode": "markers",
           "name": "Out",
           "showlegend": true,
           "subplot": "mapbox",
           "type": "scattermapbox"
          }
         ],
         "name": "2021-12-21"
        },
        {
         "data": [
          {
           "hovertemplate": "geofence=Out<br>time=2021-12-22<br>lat=%{lat}<br>lon=%{lon}<extra></extra>",
           "lat": [
            48.862187
           ],
           "legendgroup": "Out",
           "lon": [
            2.372631
           ],
           "marker": {
            "color": "#636efa"
           },
           "mode": "markers",
           "name": "Out",
           "showlegend": true,
           "subplot": "mapbox",
           "type": "scattermapbox"
          }
         ],
         "name": "2021-12-22"
        },
        {
         "data": [
          {
           "hovertemplate": "geofence=Out<br>time=2021-12-23<br>lat=%{lat}<br>lon=%{lon}<extra></extra>",
           "lat": [
            48.862116
           ],
           "legendgroup": "Out",
           "lon": [
            2.372751
           ],
           "marker": {
            "color": "#636efa"
           },
           "mode": "markers",
           "name": "Out",
           "showlegend": true,
           "subplot": "mapbox",
           "type": "scattermapbox"
          }
         ],
         "name": "2021-12-23"
        },
        {
         "data": [
          {
           "hovertemplate": "geofence=Out<br>time=2021-12-24<br>lat=%{lat}<br>lon=%{lon}<extra></extra>",
           "lat": [
            48.862052
           ],
           "legendgroup": "Out",
           "lon": [
            2.372858
           ],
           "marker": {
            "color": "#636efa"
           },
           "mode": "markers",
           "name": "Out",
           "showlegend": true,
           "subplot": "mapbox",
           "type": "scattermapbox"
          }
         ],
         "name": "2021-12-24"
        },
        {
         "data": [
          {
           "hovertemplate": "geofence=Out<br>time=2021-12-25<br>lat=%{lat}<br>lon=%{lon}<extra></extra>",
           "lat": [
            48.862027
           ],
           "legendgroup": "Out",
           "lon": [
            2.372898
           ],
           "marker": {
            "color": "#636efa"
           },
           "mode": "markers",
           "name": "Out",
           "showlegend": true,
           "subplot": "mapbox",
           "type": "scattermapbox"
          }
         ],
         "name": "2021-12-25"
        },
        {
         "data": [
          {
           "hovertemplate": "geofence=Out<br>time=2021-12-26<br>lat=%{lat}<br>lon=%{lon}<extra></extra>",
           "lat": [
            48.861974
           ],
           "legendgroup": "Out",
           "lon": [
            2.372981
           ],
           "marker": {
            "color": "#636efa"
           },
           "mode": "markers",
           "name": "Out",
           "showlegend": true,
           "subplot": "mapbox",
           "type": "scattermapbox"
          }
         ],
         "name": "2021-12-26"
        },
        {
         "data": [
          {
           "hovertemplate": "geofence=Out<br>time=2021-12-27<br>lat=%{lat}<br>lon=%{lon}<extra></extra>",
           "lat": [
            48.860966
           ],
           "legendgroup": "Out",
           "lon": [
            2.374674
           ],
           "marker": {
            "color": "#636efa"
           },
           "mode": "markers",
           "name": "Out",
           "showlegend": true,
           "subplot": "mapbox",
           "type": "scattermapbox"
          }
         ],
         "name": "2021-12-27"
        },
        {
         "data": [
          {
           "hovertemplate": "geofence=Out<br>time=2021-12-28<br>lat=%{lat}<br>lon=%{lon}<extra></extra>",
           "lat": [
            48.860949
           ],
           "legendgroup": "Out",
           "lon": [
            2.374702
           ],
           "marker": {
            "color": "#636efa"
           },
           "mode": "markers",
           "name": "Out",
           "showlegend": true,
           "subplot": "mapbox",
           "type": "scattermapbox"
          }
         ],
         "name": "2021-12-28"
        },
        {
         "data": [
          {
           "hovertemplate": "geofence=Out<br>time=2021-12-29<br>lat=%{lat}<br>lon=%{lon}<extra></extra>",
           "lat": [
            48.860926
           ],
           "legendgroup": "Out",
           "lon": [
            2.374742
           ],
           "marker": {
            "color": "#636efa"
           },
           "mode": "markers",
           "name": "Out",
           "showlegend": true,
           "subplot": "mapbox",
           "type": "scattermapbox"
          }
         ],
         "name": "2021-12-29"
        },
        {
         "data": [
          {
           "hovertemplate": "geofence=Out<br>time=2021-12-30<br>lat=%{lat}<br>lon=%{lon}<extra></extra>",
           "lat": [
            48.860727
           ],
           "legendgroup": "Out",
           "lon": [
            2.375066
           ],
           "marker": {
            "color": "#636efa"
           },
           "mode": "markers",
           "name": "Out",
           "showlegend": true,
           "subplot": "mapbox",
           "type": "scattermapbox"
          }
         ],
         "name": "2021-12-30"
        },
        {
         "data": [
          {
           "hovertemplate": "geofence=Out<br>time=2021-12-31<br>lat=%{lat}<br>lon=%{lon}<extra></extra>",
           "lat": [
            48.860647
           ],
           "legendgroup": "Out",
           "lon": [
            2.375197
           ],
           "marker": {
            "color": "#636efa"
           },
           "mode": "markers",
           "name": "Out",
           "showlegend": true,
           "subplot": "mapbox",
           "type": "scattermapbox"
          }
         ],
         "name": "2021-12-31"
        },
        {
         "data": [
          {
           "hovertemplate": "geofence=Out<br>time=2022-01-01<br>lat=%{lat}<br>lon=%{lon}<extra></extra>",
           "lat": [
            48.860531
           ],
           "legendgroup": "Out",
           "lon": [
            2.375392
           ],
           "marker": {
            "color": "#636efa"
           },
           "mode": "markers",
           "name": "Out",
           "showlegend": true,
           "subplot": "mapbox",
           "type": "scattermapbox"
          }
         ],
         "name": "2022-01-01"
        },
        {
         "data": [
          {
           "hovertemplate": "geofence=Out<br>time=2022-01-02<br>lat=%{lat}<br>lon=%{lon}<extra></extra>",
           "lat": [
            48.860484
           ],
           "legendgroup": "Out",
           "lon": [
            2.375468
           ],
           "marker": {
            "color": "#636efa"
           },
           "mode": "markers",
           "name": "Out",
           "showlegend": true,
           "subplot": "mapbox",
           "type": "scattermapbox"
          }
         ],
         "name": "2022-01-02"
        },
        {
         "data": [
          {
           "hovertemplate": "geofence=Out<br>time=2022-01-03<br>lat=%{lat}<br>lon=%{lon}<extra></extra>",
           "lat": [
            48.860458
           ],
           "legendgroup": "Out",
           "lon": [
            2.37551
           ],
           "marker": {
            "color": "#636efa"
           },
           "mode": "markers",
           "name": "Out",
           "showlegend": true,
           "subplot": "mapbox",
           "type": "scattermapbox"
          }
         ],
         "name": "2022-01-03"
        },
        {
         "data": [
          {
           "hovertemplate": "geofence=In<br>time=2022-01-04<br>lat=%{lat}<br>lon=%{lon}<extra></extra>",
           "lat": [
            48.859725
           ],
           "legendgroup": "In",
           "lon": [
            2.376768
           ],
           "marker": {
            "color": "#EF553B"
           },
           "mode": "markers",
           "name": "In",
           "showlegend": true,
           "subplot": "mapbox",
           "type": "scattermapbox"
          }
         ],
         "name": "2022-01-04"
        },
        {
         "data": [
          {
           "hovertemplate": "geofence=Out<br>time=2022-01-05<br>lat=%{lat}<br>lon=%{lon}<extra></extra>",
           "lat": [
            48.85937
           ],
           "legendgroup": "Out",
           "lon": [
            2.377361
           ],
           "marker": {
            "color": "#636efa"
           },
           "mode": "markers",
           "name": "Out",
           "showlegend": true,
           "subplot": "mapbox",
           "type": "scattermapbox"
          }
         ],
         "name": "2022-01-05"
        },
        {
         "data": [
          {
           "hovertemplate": "geofence=In<br>time=2022-01-06<br>lat=%{lat}<br>lon=%{lon}<extra></extra>",
           "lat": [
            48.858679
           ],
           "legendgroup": "In",
           "lon": [
            2.378509
           ],
           "marker": {
            "color": "#EF553B"
           },
           "mode": "markers",
           "name": "In",
           "showlegend": true,
           "subplot": "mapbox",
           "type": "scattermapbox"
          }
         ],
         "name": "2022-01-06"
        },
        {
         "data": [
          {
           "hovertemplate": "geofence=Out<br>time=2022-01-07<br>lat=%{lat}<br>lon=%{lon}<extra></extra>",
           "lat": [
            48.85824
           ],
           "legendgroup": "Out",
           "lon": [
            2.379264
           ],
           "marker": {
            "color": "#636efa"
           },
           "mode": "markers",
           "name": "Out",
           "showlegend": true,
           "subplot": "mapbox",
           "type": "scattermapbox"
          }
         ],
         "name": "2022-01-07"
        },
        {
         "data": [
          {
           "hovertemplate": "geofence=Out<br>time=2022-01-08<br>lat=%{lat}<br>lon=%{lon}<extra></extra>",
           "lat": [
            48.85787
           ],
           "legendgroup": "Out",
           "lon": [
            2.379879
           ],
           "marker": {
            "color": "#636efa"
           },
           "mode": "markers",
           "name": "Out",
           "showlegend": true,
           "subplot": "mapbox",
           "type": "scattermapbox"
          }
         ],
         "name": "2022-01-08"
        },
        {
         "data": [
          {
           "hovertemplate": "geofence=Out<br>time=2022-01-09<br>lat=%{lat}<br>lon=%{lon}<extra></extra>",
           "lat": [
            48.857845
           ],
           "legendgroup": "Out",
           "lon": [
            2.379921
           ],
           "marker": {
            "color": "#636efa"
           },
           "mode": "markers",
           "name": "Out",
           "showlegend": true,
           "subplot": "mapbox",
           "type": "scattermapbox"
          }
         ],
         "name": "2022-01-09"
        },
        {
         "data": [
          {
           "hovertemplate": "geofence=Out<br>time=2022-01-10<br>lat=%{lat}<br>lon=%{lon}<extra></extra>",
           "lat": [
            48.857828
           ],
           "legendgroup": "Out",
           "lon": [
            2.379911
           ],
           "marker": {
            "color": "#636efa"
           },
           "mode": "markers",
           "name": "Out",
           "showlegend": true,
           "subplot": "mapbox",
           "type": "scattermapbox"
          }
         ],
         "name": "2022-01-10"
        },
        {
         "data": [
          {
           "hovertemplate": "geofence=Out<br>time=2022-01-11<br>lat=%{lat}<br>lon=%{lon}<extra></extra>",
           "lat": [
            48.857798
           ],
           "legendgroup": "Out",
           "lon": [
            2.379891
           ],
           "marker": {
            "color": "#636efa"
           },
           "mode": "markers",
           "name": "Out",
           "showlegend": true,
           "subplot": "mapbox",
           "type": "scattermapbox"
          }
         ],
         "name": "2022-01-11"
        },
        {
         "data": [
          {
           "hovertemplate": "geofence=Out<br>time=2022-01-12<br>lat=%{lat}<br>lon=%{lon}<extra></extra>",
           "lat": [
            48.857701
           ],
           "legendgroup": "Out",
           "lon": [
            2.379906
           ],
           "marker": {
            "color": "#636efa"
           },
           "mode": "markers",
           "name": "Out",
           "showlegend": true,
           "subplot": "mapbox",
           "type": "scattermapbox"
          }
         ],
         "name": "2022-01-12"
        },
        {
         "data": [
          {
           "hovertemplate": "geofence=Out<br>time=2022-01-13<br>lat=%{lat}<br>lon=%{lon}<extra></extra>",
           "lat": [
            48.857693
           ],
           "legendgroup": "Out",
           "lon": [
            2.379922
           ],
           "marker": {
            "color": "#636efa"
           },
           "mode": "markers",
           "name": "Out",
           "showlegend": true,
           "subplot": "mapbox",
           "type": "scattermapbox"
          }
         ],
         "name": "2022-01-13"
        },
        {
         "data": [
          {
           "hovertemplate": "geofence=Out<br>time=2022-01-14<br>lat=%{lat}<br>lon=%{lon}<extra></extra>",
           "lat": [
            48.85764
           ],
           "legendgroup": "Out",
           "lon": [
            2.380015
           ],
           "marker": {
            "color": "#636efa"
           },
           "mode": "markers",
           "name": "Out",
           "showlegend": true,
           "subplot": "mapbox",
           "type": "scattermapbox"
          }
         ],
         "name": "2022-01-14"
        },
        {
         "data": [
          {
           "hovertemplate": "geofence=Out<br>time=2022-01-15<br>lat=%{lat}<br>lon=%{lon}<extra></extra>",
           "lat": [
            48.857556
           ],
           "legendgroup": "Out",
           "lon": [
            2.380165
           ],
           "marker": {
            "color": "#636efa"
           },
           "mode": "markers",
           "name": "Out",
           "showlegend": true,
           "subplot": "mapbox",
           "type": "scattermapbox"
          }
         ],
         "name": "2022-01-15"
        },
        {
         "data": [
          {
           "hovertemplate": "geofence=Out<br>time=2022-01-16<br>lat=%{lat}<br>lon=%{lon}<extra></extra>",
           "lat": [
            48.857564
           ],
           "legendgroup": "Out",
           "lon": [
            2.380364
           ],
           "marker": {
            "color": "#636efa"
           },
           "mode": "markers",
           "name": "Out",
           "showlegend": true,
           "subplot": "mapbox",
           "type": "scattermapbox"
          }
         ],
         "name": "2022-01-16"
        },
        {
         "data": [
          {
           "hovertemplate": "geofence=Out<br>time=2022-01-17<br>lat=%{lat}<br>lon=%{lon}<extra></extra>",
           "lat": [
            48.857569
           ],
           "legendgroup": "Out",
           "lon": [
            2.380384
           ],
           "marker": {
            "color": "#636efa"
           },
           "mode": "markers",
           "name": "Out",
           "showlegend": true,
           "subplot": "mapbox",
           "type": "scattermapbox"
          }
         ],
         "name": "2022-01-17"
        },
        {
         "data": [
          {
           "hovertemplate": "geofence=Out<br>time=2022-01-18<br>lat=%{lat}<br>lon=%{lon}<extra></extra>",
           "lat": [
            48.857554
           ],
           "legendgroup": "Out",
           "lon": [
            2.380408
           ],
           "marker": {
            "color": "#636efa"
           },
           "mode": "markers",
           "name": "Out",
           "showlegend": true,
           "subplot": "mapbox",
           "type": "scattermapbox"
          }
         ],
         "name": "2022-01-18"
        },
        {
         "data": [
          {
           "hovertemplate": "geofence=Out<br>time=2022-01-19<br>lat=%{lat}<br>lon=%{lon}<extra></extra>",
           "lat": [
            48.857314
           ],
           "legendgroup": "Out",
           "lon": [
            2.380796
           ],
           "marker": {
            "color": "#636efa"
           },
           "mode": "markers",
           "name": "Out",
           "showlegend": true,
           "subplot": "mapbox",
           "type": "scattermapbox"
          }
         ],
         "name": "2022-01-19"
        },
        {
         "data": [
          {
           "hovertemplate": "geofence=Out<br>time=2022-01-20<br>lat=%{lat}<br>lon=%{lon}<extra></extra>",
           "lat": [
            48.856641
           ],
           "legendgroup": "Out",
           "lon": [
            2.381932
           ],
           "marker": {
            "color": "#636efa"
           },
           "mode": "markers",
           "name": "Out",
           "showlegend": true,
           "subplot": "mapbox",
           "type": "scattermapbox"
          }
         ],
         "name": "2022-01-20"
        },
        {
         "data": [
          {
           "hovertemplate": "geofence=Out<br>time=2022-01-21<br>lat=%{lat}<br>lon=%{lon}<extra></extra>",
           "lat": [
            48.856504
           ],
           "legendgroup": "Out",
           "lon": [
            2.382168
           ],
           "marker": {
            "color": "#636efa"
           },
           "mode": "markers",
           "name": "Out",
           "showlegend": true,
           "subplot": "mapbox",
           "type": "scattermapbox"
          }
         ],
         "name": "2022-01-21"
        },
        {
         "data": [
          {
           "hovertemplate": "geofence=Out<br>time=2022-01-22<br>lat=%{lat}<br>lon=%{lon}<extra></extra>",
           "lat": [
            48.85616
           ],
           "legendgroup": "Out",
           "lon": [
            2.382741
           ],
           "marker": {
            "color": "#636efa"
           },
           "mode": "markers",
           "name": "Out",
           "showlegend": true,
           "subplot": "mapbox",
           "type": "scattermapbox"
          }
         ],
         "name": "2022-01-22"
        },
        {
         "data": [
          {
           "hovertemplate": "geofence=Out<br>time=2022-01-23<br>lat=%{lat}<br>lon=%{lon}<extra></extra>",
           "lat": [
            48.855854
           ],
           "legendgroup": "Out",
           "lon": [
            2.383253
           ],
           "marker": {
            "color": "#636efa"
           },
           "mode": "markers",
           "name": "Out",
           "showlegend": true,
           "subplot": "mapbox",
           "type": "scattermapbox"
          }
         ],
         "name": "2022-01-23"
        },
        {
         "data": [
          {
           "hovertemplate": "geofence=Out<br>time=2022-01-24<br>lat=%{lat}<br>lon=%{lon}<extra></extra>",
           "lat": [
            48.855276
           ],
           "legendgroup": "Out",
           "lon": [
            2.384228
           ],
           "marker": {
            "color": "#636efa"
           },
           "mode": "markers",
           "name": "Out",
           "showlegend": true,
           "subplot": "mapbox",
           "type": "scattermapbox"
          }
         ],
         "name": "2022-01-24"
        },
        {
         "data": [
          {
           "hovertemplate": "geofence=In<br>time=2022-01-25<br>lat=%{lat}<br>lon=%{lon}<extra></extra>",
           "lat": [
            48.854929
           ],
           "legendgroup": "In",
           "lon": [
            2.384809
           ],
           "marker": {
            "color": "#EF553B"
           },
           "mode": "markers",
           "name": "In",
           "showlegend": true,
           "subplot": "mapbox",
           "type": "scattermapbox"
          }
         ],
         "name": "2022-01-25"
        },
        {
         "data": [
          {
           "hovertemplate": "geofence=In<br>time=2022-01-26<br>lat=%{lat}<br>lon=%{lon}<extra></extra>",
           "lat": [
            48.854681
           ],
           "legendgroup": "In",
           "lon": [
            2.385213
           ],
           "marker": {
            "color": "#EF553B"
           },
           "mode": "markers",
           "name": "In",
           "showlegend": true,
           "subplot": "mapbox",
           "type": "scattermapbox"
          }
         ],
         "name": "2022-01-26"
        },
        {
         "data": [
          {
           "hovertemplate": "geofence=In<br>time=2022-01-27<br>lat=%{lat}<br>lon=%{lon}<extra></extra>",
           "lat": [
            48.854601
           ],
           "legendgroup": "In",
           "lon": [
            2.385345
           ],
           "marker": {
            "color": "#EF553B"
           },
           "mode": "markers",
           "name": "In",
           "showlegend": true,
           "subplot": "mapbox",
           "type": "scattermapbox"
          }
         ],
         "name": "2022-01-27"
        },
        {
         "data": [
          {
           "hovertemplate": "geofence=Out<br>time=2022-01-28<br>lat=%{lat}<br>lon=%{lon}<extra></extra>",
           "lat": [
            48.853302
           ],
           "legendgroup": "Out",
           "lon": [
            2.387522
           ],
           "marker": {
            "color": "#636efa"
           },
           "mode": "markers",
           "name": "Out",
           "showlegend": true,
           "subplot": "mapbox",
           "type": "scattermapbox"
          }
         ],
         "name": "2022-01-28"
        },
        {
         "data": [
          {
           "hovertemplate": "geofence=Out<br>time=2022-01-29<br>lat=%{lat}<br>lon=%{lon}<extra></extra>",
           "lat": [
            48.853242
           ],
           "legendgroup": "Out",
           "lon": [
            2.387621
           ],
           "marker": {
            "color": "#636efa"
           },
           "mode": "markers",
           "name": "Out",
           "showlegend": true,
           "subplot": "mapbox",
           "type": "scattermapbox"
          }
         ],
         "name": "2022-01-29"
        },
        {
         "data": [
          {
           "hovertemplate": "geofence=Out<br>time=2022-01-30<br>lat=%{lat}<br>lon=%{lon}<extra></extra>",
           "lat": [
            48.853169
           ],
           "legendgroup": "Out",
           "lon": [
            2.387744
           ],
           "marker": {
            "color": "#636efa"
           },
           "mode": "markers",
           "name": "Out",
           "showlegend": true,
           "subplot": "mapbox",
           "type": "scattermapbox"
          }
         ],
         "name": "2022-01-30"
        },
        {
         "data": [
          {
           "hovertemplate": "geofence=Out<br>time=2022-01-31<br>lat=%{lat}<br>lon=%{lon}<extra></extra>",
           "lat": [
            48.852868
           ],
           "legendgroup": "Out",
           "lon": [
            2.388247
           ],
           "marker": {
            "color": "#636efa"
           },
           "mode": "markers",
           "name": "Out",
           "showlegend": true,
           "subplot": "mapbox",
           "type": "scattermapbox"
          }
         ],
         "name": "2022-01-31"
        },
        {
         "data": [
          {
           "hovertemplate": "geofence=Out<br>time=2022-02-01<br>lat=%{lat}<br>lon=%{lon}<extra></extra>",
           "lat": [
            48.852844
           ],
           "legendgroup": "Out",
           "lon": [
            2.388289
           ],
           "marker": {
            "color": "#636efa"
           },
           "mode": "markers",
           "name": "Out",
           "showlegend": true,
           "subplot": "mapbox",
           "type": "scattermapbox"
          }
         ],
         "name": "2022-02-01"
        },
        {
         "data": [
          {
           "hovertemplate": "geofence=Out<br>time=2022-02-02<br>lat=%{lat}<br>lon=%{lon}<extra></extra>",
           "lat": [
            48.852695
           ],
           "legendgroup": "Out",
           "lon": [
            2.388538
           ],
           "marker": {
            "color": "#636efa"
           },
           "mode": "markers",
           "name": "Out",
           "showlegend": true,
           "subplot": "mapbox",
           "type": "scattermapbox"
          }
         ],
         "name": "2022-02-02"
        },
        {
         "data": [
          {
           "hovertemplate": "geofence=Out<br>time=2022-02-03<br>lat=%{lat}<br>lon=%{lon}<extra></extra>",
           "lat": [
            48.852394
           ],
           "legendgroup": "Out",
           "lon": [
            2.389044
           ],
           "marker": {
            "color": "#636efa"
           },
           "mode": "markers",
           "name": "Out",
           "showlegend": true,
           "subplot": "mapbox",
           "type": "scattermapbox"
          }
         ],
         "name": "2022-02-03"
        },
        {
         "data": [
          {
           "hovertemplate": "geofence=Out<br>time=2022-02-04<br>lat=%{lat}<br>lon=%{lon}<extra></extra>",
           "lat": [
            48.852281
           ],
           "legendgroup": "Out",
           "lon": [
            2.389231
           ],
           "marker": {
            "color": "#636efa"
           },
           "mode": "markers",
           "name": "Out",
           "showlegend": true,
           "subplot": "mapbox",
           "type": "scattermapbox"
          }
         ],
         "name": "2022-02-04"
        },
        {
         "data": [
          {
           "hovertemplate": "geofence=Out<br>time=2022-02-05<br>lat=%{lat}<br>lon=%{lon}<extra></extra>",
           "lat": [
            48.851135
           ],
           "legendgroup": "Out",
           "lon": [
            2.391151
           ],
           "marker": {
            "color": "#636efa"
           },
           "mode": "markers",
           "name": "Out",
           "showlegend": true,
           "subplot": "mapbox",
           "type": "scattermapbox"
          }
         ],
         "name": "2022-02-05"
        },
        {
         "data": [
          {
           "hovertemplate": "geofence=Out<br>time=2022-02-06<br>lat=%{lat}<br>lon=%{lon}<extra></extra>",
           "lat": [
            48.850552
           ],
           "legendgroup": "Out",
           "lon": [
            2.392128
           ],
           "marker": {
            "color": "#636efa"
           },
           "mode": "markers",
           "name": "Out",
           "showlegend": true,
           "subplot": "mapbox",
           "type": "scattermapbox"
          }
         ],
         "name": "2022-02-06"
        },
        {
         "data": [
          {
           "hovertemplate": "geofence=Out<br>time=2022-02-07<br>lat=%{lat}<br>lon=%{lon}<extra></extra>",
           "lat": [
            48.850515
           ],
           "legendgroup": "Out",
           "lon": [
            2.39219
           ],
           "marker": {
            "color": "#636efa"
           },
           "mode": "markers",
           "name": "Out",
           "showlegend": true,
           "subplot": "mapbox",
           "type": "scattermapbox"
          }
         ],
         "name": "2022-02-07"
        },
        {
         "data": [
          {
           "hovertemplate": "geofence=Out<br>time=2022-02-08<br>lat=%{lat}<br>lon=%{lon}<extra></extra>",
           "lat": [
            48.850397
           ],
           "legendgroup": "Out",
           "lon": [
            2.392387
           ],
           "marker": {
            "color": "#636efa"
           },
           "mode": "markers",
           "name": "Out",
           "showlegend": true,
           "subplot": "mapbox",
           "type": "scattermapbox"
          }
         ],
         "name": "2022-02-08"
        },
        {
         "data": [
          {
           "hovertemplate": "geofence=Out<br>time=2022-02-09<br>lat=%{lat}<br>lon=%{lon}<extra></extra>",
           "lat": [
            48.85032
           ],
           "legendgroup": "Out",
           "lon": [
            2.392518
           ],
           "marker": {
            "color": "#636efa"
           },
           "mode": "markers",
           "name": "Out",
           "showlegend": true,
           "subplot": "mapbox",
           "type": "scattermapbox"
          }
         ],
         "name": "2022-02-09"
        },
        {
         "data": [
          {
           "hovertemplate": "geofence=Out<br>time=2022-02-10<br>lat=%{lat}<br>lon=%{lon}<extra></extra>",
           "lat": [
            48.849116
           ],
           "legendgroup": "Out",
           "lon": [
            2.394581
           ],
           "marker": {
            "color": "#636efa"
           },
           "mode": "markers",
           "name": "Out",
           "showlegend": true,
           "subplot": "mapbox",
           "type": "scattermapbox"
          }
         ],
         "name": "2022-02-10"
        },
        {
         "data": [
          {
           "hovertemplate": "geofence=Out<br>time=2022-02-11<br>lat=%{lat}<br>lon=%{lon}<extra></extra>",
           "lat": [
            48.849093
           ],
           "legendgroup": "Out",
           "lon": [
            2.394733
           ],
           "marker": {
            "color": "#636efa"
           },
           "mode": "markers",
           "name": "Out",
           "showlegend": true,
           "subplot": "mapbox",
           "type": "scattermapbox"
          }
         ],
         "name": "2022-02-11"
        },
        {
         "data": [
          {
           "hovertemplate": "geofence=Out<br>time=2022-02-12<br>lat=%{lat}<br>lon=%{lon}<extra></extra>",
           "lat": [
            48.848934
           ],
           "legendgroup": "Out",
           "lon": [
            2.395001
           ],
           "marker": {
            "color": "#636efa"
           },
           "mode": "markers",
           "name": "Out",
           "showlegend": true,
           "subplot": "mapbox",
           "type": "scattermapbox"
          }
         ],
         "name": "2022-02-12"
        },
        {
         "data": [
          {
           "hovertemplate": "geofence=Out<br>time=2022-02-13<br>lat=%{lat}<br>lon=%{lon}<extra></extra>",
           "lat": [
            48.848855
           ],
           "legendgroup": "Out",
           "lon": [
            2.395131
           ],
           "marker": {
            "color": "#636efa"
           },
           "mode": "markers",
           "name": "Out",
           "showlegend": true,
           "subplot": "mapbox",
           "type": "scattermapbox"
          }
         ],
         "name": "2022-02-13"
        },
        {
         "data": [
          {
           "hovertemplate": "geofence=Out<br>time=2022-02-14<br>lat=%{lat}<br>lon=%{lon}<extra></extra>",
           "lat": [
            48.84879
           ],
           "legendgroup": "Out",
           "lon": [
            2.395237
           ],
           "marker": {
            "color": "#636efa"
           },
           "mode": "markers",
           "name": "Out",
           "showlegend": true,
           "subplot": "mapbox",
           "type": "scattermapbox"
          }
         ],
         "name": "2022-02-14"
        },
        {
         "data": [
          {
           "hovertemplate": "geofence=Out<br>time=2022-02-15<br>lat=%{lat}<br>lon=%{lon}<extra></extra>",
           "lat": [
            48.848728
           ],
           "legendgroup": "Out",
           "lon": [
            2.395162
           ],
           "marker": {
            "color": "#636efa"
           },
           "mode": "markers",
           "name": "Out",
           "showlegend": true,
           "subplot": "mapbox",
           "type": "scattermapbox"
          }
         ],
         "name": "2022-02-15"
        },
        {
         "data": [
          {
           "hovertemplate": "geofence=Out<br>time=2022-02-16<br>lat=%{lat}<br>lon=%{lon}<extra></extra>",
           "lat": [
            48.848619
           ],
           "legendgroup": "Out",
           "lon": [
            2.395071
           ],
           "marker": {
            "color": "#636efa"
           },
           "mode": "markers",
           "name": "Out",
           "showlegend": true,
           "subplot": "mapbox",
           "type": "scattermapbox"
          }
         ],
         "name": "2022-02-16"
        },
        {
         "data": [
          {
           "hovertemplate": "geofence=Out<br>time=2022-02-17<br>lat=%{lat}<br>lon=%{lon}<extra></extra>",
           "lat": [
            48.84859
           ],
           "legendgroup": "Out",
           "lon": [
            2.395054
           ],
           "marker": {
            "color": "#636efa"
           },
           "mode": "markers",
           "name": "Out",
           "showlegend": true,
           "subplot": "mapbox",
           "type": "scattermapbox"
          }
         ],
         "name": "2022-02-17"
        },
        {
         "data": [
          {
           "hovertemplate": "geofence=Out<br>time=2022-02-18<br>lat=%{lat}<br>lon=%{lon}<extra></extra>",
           "lat": [
            48.848517
           ],
           "legendgroup": "Out",
           "lon": [
            2.395021
           ],
           "marker": {
            "color": "#636efa"
           },
           "mode": "markers",
           "name": "Out",
           "showlegend": true,
           "subplot": "mapbox",
           "type": "scattermapbox"
          }
         ],
         "name": "2022-02-18"
        },
        {
         "data": [
          {
           "hovertemplate": "geofence=Out<br>time=2022-02-19<br>lat=%{lat}<br>lon=%{lon}<extra></extra>",
           "lat": [
            48.848403
           ],
           "legendgroup": "Out",
           "lon": [
            2.394999
           ],
           "marker": {
            "color": "#636efa"
           },
           "mode": "markers",
           "name": "Out",
           "showlegend": true,
           "subplot": "mapbox",
           "type": "scattermapbox"
          }
         ],
         "name": "2022-02-19"
        },
        {
         "data": [
          {
           "hovertemplate": "geofence=Out<br>time=2022-02-20<br>lat=%{lat}<br>lon=%{lon}<extra></extra>",
           "lat": [
            48.848287
           ],
           "legendgroup": "Out",
           "lon": [
            2.39501
           ],
           "marker": {
            "color": "#636efa"
           },
           "mode": "markers",
           "name": "Out",
           "showlegend": true,
           "subplot": "mapbox",
           "type": "scattermapbox"
          }
         ],
         "name": "2022-02-20"
        },
        {
         "data": [
          {
           "hovertemplate": "geofence=Out<br>time=2022-02-21<br>lat=%{lat}<br>lon=%{lon}<extra></extra>",
           "lat": [
            48.848184
           ],
           "legendgroup": "Out",
           "lon": [
            2.39505
           ],
           "marker": {
            "color": "#636efa"
           },
           "mode": "markers",
           "name": "Out",
           "showlegend": true,
           "subplot": "mapbox",
           "type": "scattermapbox"
          }
         ],
         "name": "2022-02-21"
        },
        {
         "data": [
          {
           "hovertemplate": "geofence=Out<br>time=2022-02-22<br>lat=%{lat}<br>lon=%{lon}<extra></extra>",
           "lat": [
            48.848087
           ],
           "legendgroup": "Out",
           "lon": [
            2.395116
           ],
           "marker": {
            "color": "#636efa"
           },
           "mode": "markers",
           "name": "Out",
           "showlegend": true,
           "subplot": "mapbox",
           "type": "scattermapbox"
          }
         ],
         "name": "2022-02-22"
        },
        {
         "data": [
          {
           "hovertemplate": "geofence=Out<br>time=2022-02-23<br>lat=%{lat}<br>lon=%{lon}<extra></extra>",
           "lat": [
            48.848
           ],
           "legendgroup": "Out",
           "lon": [
            2.395206
           ],
           "marker": {
            "color": "#636efa"
           },
           "mode": "markers",
           "name": "Out",
           "showlegend": true,
           "subplot": "mapbox",
           "type": "scattermapbox"
          }
         ],
         "name": "2022-02-23"
        },
        {
         "data": [
          {
           "hovertemplate": "geofence=Out<br>time=2022-02-24<br>lat=%{lat}<br>lon=%{lon}<extra></extra>",
           "lat": [
            48.847932
           ],
           "legendgroup": "Out",
           "lon": [
            2.395304
           ],
           "marker": {
            "color": "#636efa"
           },
           "mode": "markers",
           "name": "Out",
           "showlegend": true,
           "subplot": "mapbox",
           "type": "scattermapbox"
          }
         ],
         "name": "2022-02-24"
        },
        {
         "data": [
          {
           "hovertemplate": "geofence=Out<br>time=2022-02-25<br>lat=%{lat}<br>lon=%{lon}<extra></extra>",
           "lat": [
            48.84783
           ],
           "legendgroup": "Out",
           "lon": [
            2.395541
           ],
           "marker": {
            "color": "#636efa"
           },
           "mode": "markers",
           "name": "Out",
           "showlegend": true,
           "subplot": "mapbox",
           "type": "scattermapbox"
          }
         ],
         "name": "2022-02-25"
        },
        {
         "data": [
          {
           "hovertemplate": "geofence=Out<br>time=2022-02-26<br>lat=%{lat}<br>lon=%{lon}<extra></extra>",
           "lat": [
            48.847798
           ],
           "legendgroup": "Out",
           "lon": [
            2.395674
           ],
           "marker": {
            "color": "#636efa"
           },
           "mode": "markers",
           "name": "Out",
           "showlegend": true,
           "subplot": "mapbox",
           "type": "scattermapbox"
          }
         ],
         "name": "2022-02-26"
        },
        {
         "data": [
          {
           "hovertemplate": "geofence=Out<br>time=2022-02-27<br>lat=%{lat}<br>lon=%{lon}<extra></extra>",
           "lat": [
            48.847781
           ],
           "legendgroup": "Out",
           "lon": [
            2.395813
           ],
           "marker": {
            "color": "#636efa"
           },
           "mode": "markers",
           "name": "Out",
           "showlegend": true,
           "subplot": "mapbox",
           "type": "scattermapbox"
          }
         ],
         "name": "2022-02-27"
        },
        {
         "data": [
          {
           "hovertemplate": "geofence=Out<br>time=2022-02-28<br>lat=%{lat}<br>lon=%{lon}<extra></extra>",
           "lat": [
            48.847684
           ],
           "legendgroup": "Out",
           "lon": [
            2.395795
           ],
           "marker": {
            "color": "#636efa"
           },
           "mode": "markers",
           "name": "Out",
           "showlegend": true,
           "subplot": "mapbox",
           "type": "scattermapbox"
          }
         ],
         "name": "2022-02-28"
        },
        {
         "data": [
          {
           "hovertemplate": "geofence=Out<br>time=2022-03-01<br>lat=%{lat}<br>lon=%{lon}<extra></extra>",
           "lat": [
            48.847578
           ],
           "legendgroup": "Out",
           "lon": [
            2.395775
           ],
           "marker": {
            "color": "#636efa"
           },
           "mode": "markers",
           "name": "Out",
           "showlegend": true,
           "subplot": "mapbox",
           "type": "scattermapbox"
          }
         ],
         "name": "2022-03-01"
        },
        {
         "data": [
          {
           "hovertemplate": "geofence=Out<br>time=2022-03-02<br>lat=%{lat}<br>lon=%{lon}<extra></extra>",
           "lat": [
            48.847443
           ],
           "legendgroup": "Out",
           "lon": [
            2.39575
           ],
           "marker": {
            "color": "#636efa"
           },
           "mode": "markers",
           "name": "Out",
           "showlegend": true,
           "subplot": "mapbox",
           "type": "scattermapbox"
          }
         ],
         "name": "2022-03-02"
        },
        {
         "data": [
          {
           "hovertemplate": "geofence=Out<br>time=2022-03-03<br>lat=%{lat}<br>lon=%{lon}<extra></extra>",
           "lat": [
            48.847336
           ],
           "legendgroup": "Out",
           "lon": [
            2.39573
           ],
           "marker": {
            "color": "#636efa"
           },
           "mode": "markers",
           "name": "Out",
           "showlegend": true,
           "subplot": "mapbox",
           "type": "scattermapbox"
          }
         ],
         "name": "2022-03-03"
        },
        {
         "data": [
          {
           "hovertemplate": "geofence=Out<br>time=2022-03-04<br>lat=%{lat}<br>lon=%{lon}<extra></extra>",
           "lat": [
            48.847247
           ],
           "legendgroup": "Out",
           "lon": [
            2.395709
           ],
           "marker": {
            "color": "#636efa"
           },
           "mode": "markers",
           "name": "Out",
           "showlegend": true,
           "subplot": "mapbox",
           "type": "scattermapbox"
          }
         ],
         "name": "2022-03-04"
        },
        {
         "data": [
          {
           "hovertemplate": "geofence=Out<br>time=2022-03-05<br>lat=%{lat}<br>lon=%{lon}<extra></extra>",
           "lat": [
            48.845713
           ],
           "legendgroup": "Out",
           "lon": [
            2.395409
           ],
           "marker": {
            "color": "#636efa"
           },
           "mode": "markers",
           "name": "Out",
           "showlegend": true,
           "subplot": "mapbox",
           "type": "scattermapbox"
          }
         ],
         "name": "2022-03-05"
        },
        {
         "data": [
          {
           "hovertemplate": "geofence=Out<br>time=2022-03-06<br>lat=%{lat}<br>lon=%{lon}<extra></extra>",
           "lat": [
            48.845547
           ],
           "legendgroup": "Out",
           "lon": [
            2.395381
           ],
           "marker": {
            "color": "#636efa"
           },
           "mode": "markers",
           "name": "Out",
           "showlegend": true,
           "subplot": "mapbox",
           "type": "scattermapbox"
          }
         ],
         "name": "2022-03-06"
        },
        {
         "data": [
          {
           "hovertemplate": "geofence=Out<br>time=2022-03-07<br>lat=%{lat}<br>lon=%{lon}<extra></extra>",
           "lat": [
            48.845455
           ],
           "legendgroup": "Out",
           "lon": [
            2.395367
           ],
           "marker": {
            "color": "#636efa"
           },
           "mode": "markers",
           "name": "Out",
           "showlegend": true,
           "subplot": "mapbox",
           "type": "scattermapbox"
          }
         ],
         "name": "2022-03-07"
        },
        {
         "data": [
          {
           "hovertemplate": "geofence=Out<br>time=2022-03-08<br>lat=%{lat}<br>lon=%{lon}<extra></extra>",
           "lat": [
            48.845292
           ],
           "legendgroup": "Out",
           "lon": [
            2.395339
           ],
           "marker": {
            "color": "#636efa"
           },
           "mode": "markers",
           "name": "Out",
           "showlegend": true,
           "subplot": "mapbox",
           "type": "scattermapbox"
          }
         ],
         "name": "2022-03-08"
        },
        {
         "data": [
          {
           "hovertemplate": "geofence=Out<br>time=2022-03-09<br>lat=%{lat}<br>lon=%{lon}<extra></extra>",
           "lat": [
            48.845276
           ],
           "legendgroup": "Out",
           "lon": [
            2.395352
           ],
           "marker": {
            "color": "#636efa"
           },
           "mode": "markers",
           "name": "Out",
           "showlegend": true,
           "subplot": "mapbox",
           "type": "scattermapbox"
          }
         ],
         "name": "2022-03-09"
        },
        {
         "data": [
          {
           "hovertemplate": "geofence=Out<br>time=2022-03-10<br>lat=%{lat}<br>lon=%{lon}<extra></extra>",
           "lat": [
            48.845228
           ],
           "legendgroup": "Out",
           "lon": [
            2.395392
           ],
           "marker": {
            "color": "#636efa"
           },
           "mode": "markers",
           "name": "Out",
           "showlegend": true,
           "subplot": "mapbox",
           "type": "scattermapbox"
          }
         ],
         "name": "2022-03-10"
        },
        {
         "data": [
          {
           "hovertemplate": "geofence=Out<br>time=2022-03-11<br>lat=%{lat}<br>lon=%{lon}<extra></extra>",
           "lat": [
            48.844972
           ],
           "legendgroup": "Out",
           "lon": [
            2.395606
           ],
           "marker": {
            "color": "#636efa"
           },
           "mode": "markers",
           "name": "Out",
           "showlegend": true,
           "subplot": "mapbox",
           "type": "scattermapbox"
          }
         ],
         "name": "2022-03-11"
        },
        {
         "data": [
          {
           "hovertemplate": "geofence=Out<br>time=2022-03-12<br>lat=%{lat}<br>lon=%{lon}<extra></extra>",
           "lat": [
            48.844942
           ],
           "legendgroup": "Out",
           "lon": [
            2.395631
           ],
           "marker": {
            "color": "#636efa"
           },
           "mode": "markers",
           "name": "Out",
           "showlegend": true,
           "subplot": "mapbox",
           "type": "scattermapbox"
          }
         ],
         "name": "2022-03-12"
        },
        {
         "data": [
          {
           "hovertemplate": "geofence=Out<br>time=2022-03-13<br>lat=%{lat}<br>lon=%{lon}<extra></extra>",
           "lat": [
            48.84392
           ],
           "legendgroup": "Out",
           "lon": [
            2.396485
           ],
           "marker": {
            "color": "#636efa"
           },
           "mode": "markers",
           "name": "Out",
           "showlegend": true,
           "subplot": "mapbox",
           "type": "scattermapbox"
          }
         ],
         "name": "2022-03-13"
        },
        {
         "data": [
          {
           "hovertemplate": "geofence=Out<br>time=2022-03-14<br>lat=%{lat}<br>lon=%{lon}<extra></extra>",
           "lat": [
            48.843826
           ],
           "legendgroup": "Out",
           "lon": [
            2.396563
           ],
           "marker": {
            "color": "#636efa"
           },
           "mode": "markers",
           "name": "Out",
           "showlegend": true,
           "subplot": "mapbox",
           "type": "scattermapbox"
          }
         ],
         "name": "2022-03-14"
        },
        {
         "data": [
          {
           "hovertemplate": "geofence=Out<br>time=2022-03-15<br>lat=%{lat}<br>lon=%{lon}<extra></extra>",
           "lat": [
            48.843753
           ],
           "legendgroup": "Out",
           "lon": [
            2.396623
           ],
           "marker": {
            "color": "#636efa"
           },
           "mode": "markers",
           "name": "Out",
           "showlegend": true,
           "subplot": "mapbox",
           "type": "scattermapbox"
          }
         ],
         "name": "2022-03-15"
        },
        {
         "data": [
          {
           "hovertemplate": "geofence=Out<br>time=2022-03-16<br>lat=%{lat}<br>lon=%{lon}<extra></extra>",
           "lat": [
            48.843637
           ],
           "legendgroup": "Out",
           "lon": [
            2.396718
           ],
           "marker": {
            "color": "#636efa"
           },
           "mode": "markers",
           "name": "Out",
           "showlegend": true,
           "subplot": "mapbox",
           "type": "scattermapbox"
          }
         ],
         "name": "2022-03-16"
        },
        {
         "data": [
          {
           "hovertemplate": "geofence=Out<br>time=2022-03-17<br>lat=%{lat}<br>lon=%{lon}<extra></extra>",
           "lat": [
            48.843421
           ],
           "legendgroup": "Out",
           "lon": [
            2.396897
           ],
           "marker": {
            "color": "#636efa"
           },
           "mode": "markers",
           "name": "Out",
           "showlegend": true,
           "subplot": "mapbox",
           "type": "scattermapbox"
          }
         ],
         "name": "2022-03-17"
        },
        {
         "data": [
          {
           "hovertemplate": "geofence=Out<br>time=2022-03-18<br>lat=%{lat}<br>lon=%{lon}<extra></extra>",
           "lat": [
            48.843319
           ],
           "legendgroup": "Out",
           "lon": [
            2.396985
           ],
           "marker": {
            "color": "#636efa"
           },
           "mode": "markers",
           "name": "Out",
           "showlegend": true,
           "subplot": "mapbox",
           "type": "scattermapbox"
          }
         ],
         "name": "2022-03-18"
        },
        {
         "data": [
          {
           "hovertemplate": "geofence=Out<br>time=2022-03-19<br>lat=%{lat}<br>lon=%{lon}<extra></extra>",
           "lat": [
            48.842933
           ],
           "legendgroup": "Out",
           "lon": [
            2.397303
           ],
           "marker": {
            "color": "#636efa"
           },
           "mode": "markers",
           "name": "Out",
           "showlegend": true,
           "subplot": "mapbox",
           "type": "scattermapbox"
          }
         ],
         "name": "2022-03-19"
        },
        {
         "data": [
          {
           "hovertemplate": "geofence=Out<br>time=2022-03-20<br>lat=%{lat}<br>lon=%{lon}<extra></extra>",
           "lat": [
            48.84277
           ],
           "legendgroup": "Out",
           "lon": [
            2.397438
           ],
           "marker": {
            "color": "#636efa"
           },
           "mode": "markers",
           "name": "Out",
           "showlegend": true,
           "subplot": "mapbox",
           "type": "scattermapbox"
          }
         ],
         "name": "2022-03-20"
        },
        {
         "data": [
          {
           "hovertemplate": "geofence=Out<br>time=2022-03-21<br>lat=%{lat}<br>lon=%{lon}<extra></extra>",
           "lat": [
            48.842711
           ],
           "legendgroup": "Out",
           "lon": [
            2.397491
           ],
           "marker": {
            "color": "#636efa"
           },
           "mode": "markers",
           "name": "Out",
           "showlegend": true,
           "subplot": "mapbox",
           "type": "scattermapbox"
          }
         ],
         "name": "2022-03-21"
        },
        {
         "data": [
          {
           "hovertemplate": "geofence=Out<br>time=2022-03-22<br>lat=%{lat}<br>lon=%{lon}<extra></extra>",
           "lat": [
            48.842648
           ],
           "legendgroup": "Out",
           "lon": [
            2.397545
           ],
           "marker": {
            "color": "#636efa"
           },
           "mode": "markers",
           "name": "Out",
           "showlegend": true,
           "subplot": "mapbox",
           "type": "scattermapbox"
          }
         ],
         "name": "2022-03-22"
        },
        {
         "data": [
          {
           "hovertemplate": "geofence=Out<br>time=2022-03-23<br>lat=%{lat}<br>lon=%{lon}<extra></extra>",
           "lat": [
            48.842473
           ],
           "legendgroup": "Out",
           "lon": [
            2.397703
           ],
           "marker": {
            "color": "#636efa"
           },
           "mode": "markers",
           "name": "Out",
           "showlegend": true,
           "subplot": "mapbox",
           "type": "scattermapbox"
          }
         ],
         "name": "2022-03-23"
        },
        {
         "data": [
          {
           "hovertemplate": "geofence=Out<br>time=2022-03-24<br>lat=%{lat}<br>lon=%{lon}<extra></extra>",
           "lat": [
            48.842344
           ],
           "legendgroup": "Out",
           "lon": [
            2.397817
           ],
           "marker": {
            "color": "#636efa"
           },
           "mode": "markers",
           "name": "Out",
           "showlegend": true,
           "subplot": "mapbox",
           "type": "scattermapbox"
          }
         ],
         "name": "2022-03-24"
        },
        {
         "data": [
          {
           "hovertemplate": "geofence=Out<br>time=2022-03-25<br>lat=%{lat}<br>lon=%{lon}<extra></extra>",
           "lat": [
            48.842282
           ],
           "legendgroup": "Out",
           "lon": [
            2.397868
           ],
           "marker": {
            "color": "#636efa"
           },
           "mode": "markers",
           "name": "Out",
           "showlegend": true,
           "subplot": "mapbox",
           "type": "scattermapbox"
          }
         ],
         "name": "2022-03-25"
        },
        {
         "data": [
          {
           "hovertemplate": "geofence=Out<br>time=2022-03-26<br>lat=%{lat}<br>lon=%{lon}<extra></extra>",
           "lat": [
            48.841249
           ],
           "legendgroup": "Out",
           "lon": [
            2.398782
           ],
           "marker": {
            "color": "#636efa"
           },
           "mode": "markers",
           "name": "Out",
           "showlegend": true,
           "subplot": "mapbox",
           "type": "scattermapbox"
          }
         ],
         "name": "2022-03-26"
        },
        {
         "data": [
          {
           "hovertemplate": "geofence=Out<br>time=2022-03-27<br>lat=%{lat}<br>lon=%{lon}<extra></extra>",
           "lat": [
            48.841164
           ],
           "legendgroup": "Out",
           "lon": [
            2.398856
           ],
           "marker": {
            "color": "#636efa"
           },
           "mode": "markers",
           "name": "Out",
           "showlegend": true,
           "subplot": "mapbox",
           "type": "scattermapbox"
          }
         ],
         "name": "2022-03-27"
        },
        {
         "data": [
          {
           "hovertemplate": "geofence=Out<br>time=2022-03-28<br>lat=%{lat}<br>lon=%{lon}<extra></extra>",
           "lat": [
            48.841103
           ],
           "legendgroup": "Out",
           "lon": [
            2.398909
           ],
           "marker": {
            "color": "#636efa"
           },
           "mode": "markers",
           "name": "Out",
           "showlegend": true,
           "subplot": "mapbox",
           "type": "scattermapbox"
          }
         ],
         "name": "2022-03-28"
        },
        {
         "data": [
          {
           "hovertemplate": "geofence=Out<br>time=2022-03-29<br>lat=%{lat}<br>lon=%{lon}<extra></extra>",
           "lat": [
            48.841036
           ],
           "legendgroup": "Out",
           "lon": [
            2.398968
           ],
           "marker": {
            "color": "#636efa"
           },
           "mode": "markers",
           "name": "Out",
           "showlegend": true,
           "subplot": "mapbox",
           "type": "scattermapbox"
          }
         ],
         "name": "2022-03-29"
        },
        {
         "data": [
          {
           "hovertemplate": "geofence=Out<br>time=2022-03-30<br>lat=%{lat}<br>lon=%{lon}<extra></extra>",
           "lat": [
            48.840694
           ],
           "legendgroup": "Out",
           "lon": [
            2.399264
           ],
           "marker": {
            "color": "#636efa"
           },
           "mode": "markers",
           "name": "Out",
           "showlegend": true,
           "subplot": "mapbox",
           "type": "scattermapbox"
          }
         ],
         "name": "2022-03-30"
        },
        {
         "data": [
          {
           "hovertemplate": "geofence=Out<br>time=2022-03-31<br>lat=%{lat}<br>lon=%{lon}<extra></extra>",
           "lat": [
            48.840606
           ],
           "legendgroup": "Out",
           "lon": [
            2.399339
           ],
           "marker": {
            "color": "#636efa"
           },
           "mode": "markers",
           "name": "Out",
           "showlegend": true,
           "subplot": "mapbox",
           "type": "scattermapbox"
          }
         ],
         "name": "2022-03-31"
        },
        {
         "data": [
          {
           "hovertemplate": "geofence=Out<br>time=2022-04-01<br>lat=%{lat}<br>lon=%{lon}<extra></extra>",
           "lat": [
            48.840502
           ],
           "legendgroup": "Out",
           "lon": [
            2.399431
           ],
           "marker": {
            "color": "#636efa"
           },
           "mode": "markers",
           "name": "Out",
           "showlegend": true,
           "subplot": "mapbox",
           "type": "scattermapbox"
          }
         ],
         "name": "2022-04-01"
        },
        {
         "data": [
          {
           "hovertemplate": "geofence=Out<br>time=2022-04-02<br>lat=%{lat}<br>lon=%{lon}<extra></extra>",
           "lat": [
            48.840455
           ],
           "legendgroup": "Out",
           "lon": [
            2.399471
           ],
           "marker": {
            "color": "#636efa"
           },
           "mode": "markers",
           "name": "Out",
           "showlegend": true,
           "subplot": "mapbox",
           "type": "scattermapbox"
          }
         ],
         "name": "2022-04-02"
        },
        {
         "data": [
          {
           "hovertemplate": "geofence=Out<br>time=2022-04-03<br>lat=%{lat}<br>lon=%{lon}<extra></extra>",
           "lat": [
            48.839988
           ],
           "legendgroup": "Out",
           "lon": [
            2.399877
           ],
           "marker": {
            "color": "#636efa"
           },
           "mode": "markers",
           "name": "Out",
           "showlegend": true,
           "subplot": "mapbox",
           "type": "scattermapbox"
          }
         ],
         "name": "2022-04-03"
        },
        {
         "data": [
          {
           "hovertemplate": "geofence=Out<br>time=2022-04-04<br>lat=%{lat}<br>lon=%{lon}<extra></extra>",
           "lat": [
            48.839889
           ],
           "legendgroup": "Out",
           "lon": [
            2.399895
           ],
           "marker": {
            "color": "#636efa"
           },
           "mode": "markers",
           "name": "Out",
           "showlegend": true,
           "subplot": "mapbox",
           "type": "scattermapbox"
          }
         ],
         "name": "2022-04-04"
        },
        {
         "data": [
          {
           "hovertemplate": "geofence=Out<br>time=2022-04-05<br>lat=%{lat}<br>lon=%{lon}<extra></extra>",
           "lat": [
            48.839743
           ],
           "legendgroup": "Out",
           "lon": [
            2.399926
           ],
           "marker": {
            "color": "#636efa"
           },
           "mode": "markers",
           "name": "Out",
           "showlegend": true,
           "subplot": "mapbox",
           "type": "scattermapbox"
          }
         ],
         "name": "2022-04-05"
        },
        {
         "data": [
          {
           "hovertemplate": "geofence=Out<br>time=2022-04-06<br>lat=%{lat}<br>lon=%{lon}<extra></extra>",
           "lat": [
            48.839711
           ],
           "legendgroup": "Out",
           "lon": [
            2.399935
           ],
           "marker": {
            "color": "#636efa"
           },
           "mode": "markers",
           "name": "Out",
           "showlegend": true,
           "subplot": "mapbox",
           "type": "scattermapbox"
          }
         ],
         "name": "2022-04-06"
        },
        {
         "data": [
          {
           "hovertemplate": "geofence=Out<br>time=2022-04-07<br>lat=%{lat}<br>lon=%{lon}<extra></extra>",
           "lat": [
            48.839642
           ],
           "legendgroup": "Out",
           "lon": [
            2.400033
           ],
           "marker": {
            "color": "#636efa"
           },
           "mode": "markers",
           "name": "Out",
           "showlegend": true,
           "subplot": "mapbox",
           "type": "scattermapbox"
          }
         ],
         "name": "2022-04-07"
        },
        {
         "data": [
          {
           "hovertemplate": "geofence=Out<br>time=2022-04-08<br>lat=%{lat}<br>lon=%{lon}<extra></extra>",
           "lat": [
            48.839633
           ],
           "legendgroup": "Out",
           "lon": [
            2.400081
           ],
           "marker": {
            "color": "#636efa"
           },
           "mode": "markers",
           "name": "Out",
           "showlegend": true,
           "subplot": "mapbox",
           "type": "scattermapbox"
          }
         ],
         "name": "2022-04-08"
        },
        {
         "data": [
          {
           "hovertemplate": "geofence=Out<br>time=2022-04-09<br>lat=%{lat}<br>lon=%{lon}<extra></extra>",
           "lat": [
            48.839635
           ],
           "legendgroup": "Out",
           "lon": [
            2.400141
           ],
           "marker": {
            "color": "#636efa"
           },
           "mode": "markers",
           "name": "Out",
           "showlegend": true,
           "subplot": "mapbox",
           "type": "scattermapbox"
          }
         ],
         "name": "2022-04-09"
        },
        {
         "data": [
          {
           "hovertemplate": "geofence=Out<br>time=2022-04-10<br>lat=%{lat}<br>lon=%{lon}<extra></extra>",
           "lat": [
            48.83965
           ],
           "legendgroup": "Out",
           "lon": [
            2.400197
           ],
           "marker": {
            "color": "#636efa"
           },
           "mode": "markers",
           "name": "Out",
           "showlegend": true,
           "subplot": "mapbox",
           "type": "scattermapbox"
          }
         ],
         "name": "2022-04-10"
        },
        {
         "data": [
          {
           "hovertemplate": "geofence=Out<br>time=2022-04-11<br>lat=%{lat}<br>lon=%{lon}<extra></extra>",
           "lat": [
            48.839563
           ],
           "legendgroup": "Out",
           "lon": [
            2.400285
           ],
           "marker": {
            "color": "#636efa"
           },
           "mode": "markers",
           "name": "Out",
           "showlegend": true,
           "subplot": "mapbox",
           "type": "scattermapbox"
          }
         ],
         "name": "2022-04-11"
        },
        {
         "data": [
          {
           "hovertemplate": "geofence=Out<br>time=2022-04-12<br>lat=%{lat}<br>lon=%{lon}<extra></extra>",
           "lat": [
            48.839249
           ],
           "legendgroup": "Out",
           "lon": [
            2.400605
           ],
           "marker": {
            "color": "#636efa"
           },
           "mode": "markers",
           "name": "Out",
           "showlegend": true,
           "subplot": "mapbox",
           "type": "scattermapbox"
          }
         ],
         "name": "2022-04-12"
        },
        {
         "data": [
          {
           "hovertemplate": "geofence=Out<br>time=2022-04-13<br>lat=%{lat}<br>lon=%{lon}<extra></extra>",
           "lat": [
            48.839192
           ],
           "legendgroup": "Out",
           "lon": [
            2.400664
           ],
           "marker": {
            "color": "#636efa"
           },
           "mode": "markers",
           "name": "Out",
           "showlegend": true,
           "subplot": "mapbox",
           "type": "scattermapbox"
          }
         ],
         "name": "2022-04-13"
        },
        {
         "data": [
          {
           "hovertemplate": "geofence=Out<br>time=2022-04-14<br>lat=%{lat}<br>lon=%{lon}<extra></extra>",
           "lat": [
            48.83913
           ],
           "legendgroup": "Out",
           "lon": [
            2.400727
           ],
           "marker": {
            "color": "#636efa"
           },
           "mode": "markers",
           "name": "Out",
           "showlegend": true,
           "subplot": "mapbox",
           "type": "scattermapbox"
          }
         ],
         "name": "2022-04-14"
        },
        {
         "data": [
          {
           "hovertemplate": "geofence=Out<br>time=2022-04-15<br>lat=%{lat}<br>lon=%{lon}<extra></extra>",
           "lat": [
            48.83886
           ],
           "legendgroup": "Out",
           "lon": [
            2.401017
           ],
           "marker": {
            "color": "#636efa"
           },
           "mode": "markers",
           "name": "Out",
           "showlegend": true,
           "subplot": "mapbox",
           "type": "scattermapbox"
          }
         ],
         "name": "2022-04-15"
        },
        {
         "data": [
          {
           "hovertemplate": "geofence=Out<br>time=2022-04-16<br>lat=%{lat}<br>lon=%{lon}<extra></extra>",
           "lat": [
            48.838829
           ],
           "legendgroup": "Out",
           "lon": [
            2.401051
           ],
           "marker": {
            "color": "#636efa"
           },
           "mode": "markers",
           "name": "Out",
           "showlegend": true,
           "subplot": "mapbox",
           "type": "scattermapbox"
          }
         ],
         "name": "2022-04-16"
        },
        {
         "data": [
          {
           "hovertemplate": "geofence=Out<br>time=2022-04-17<br>lat=%{lat}<br>lon=%{lon}<extra></extra>",
           "lat": [
            48.838612
           ],
           "legendgroup": "Out",
           "lon": [
            2.401268
           ],
           "marker": {
            "color": "#636efa"
           },
           "mode": "markers",
           "name": "Out",
           "showlegend": true,
           "subplot": "mapbox",
           "type": "scattermapbox"
          }
         ],
         "name": "2022-04-17"
        },
        {
         "data": [
          {
           "hovertemplate": "geofence=Out<br>time=2022-04-18<br>lat=%{lat}<br>lon=%{lon}<extra></extra>",
           "lat": [
            48.837467
           ],
           "legendgroup": "Out",
           "lon": [
            2.402203
           ],
           "marker": {
            "color": "#636efa"
           },
           "mode": "markers",
           "name": "Out",
           "showlegend": true,
           "subplot": "mapbox",
           "type": "scattermapbox"
          }
         ],
         "name": "2022-04-18"
        },
        {
         "data": [
          {
           "hovertemplate": "geofence=Out<br>time=2022-04-19<br>lat=%{lat}<br>lon=%{lon}<extra></extra>",
           "lat": [
            48.837358
           ],
           "legendgroup": "Out",
           "lon": [
            2.402247
           ],
           "marker": {
            "color": "#636efa"
           },
           "mode": "markers",
           "name": "Out",
           "showlegend": true,
           "subplot": "mapbox",
           "type": "scattermapbox"
          }
         ],
         "name": "2022-04-19"
        },
        {
         "data": [
          {
           "hovertemplate": "geofence=Out<br>time=2022-04-20<br>lat=%{lat}<br>lon=%{lon}<extra></extra>",
           "lat": [
            48.837331
           ],
           "legendgroup": "Out",
           "lon": [
            2.402237
           ],
           "marker": {
            "color": "#636efa"
           },
           "mode": "markers",
           "name": "Out",
           "showlegend": true,
           "subplot": "mapbox",
           "type": "scattermapbox"
          }
         ],
         "name": "2022-04-20"
        },
        {
         "data": [
          {
           "hovertemplate": "geofence=Out<br>time=2022-04-21<br>lat=%{lat}<br>lon=%{lon}<extra></extra>",
           "lat": [
            48.837154
           ],
           "legendgroup": "Out",
           "lon": [
            2.402172
           ],
           "marker": {
            "color": "#636efa"
           },
           "mode": "markers",
           "name": "Out",
           "showlegend": true,
           "subplot": "mapbox",
           "type": "scattermapbox"
          }
         ],
         "name": "2022-04-21"
        },
        {
         "data": [
          {
           "hovertemplate": "geofence=Out<br>time=2022-04-22<br>lat=%{lat}<br>lon=%{lon}<extra></extra>",
           "lat": [
            48.837026
           ],
           "legendgroup": "Out",
           "lon": [
            2.402547
           ],
           "marker": {
            "color": "#636efa"
           },
           "mode": "markers",
           "name": "Out",
           "showlegend": true,
           "subplot": "mapbox",
           "type": "scattermapbox"
          }
         ],
         "name": "2022-04-22"
        },
        {
         "data": [
          {
           "hovertemplate": "geofence=Out<br>time=2022-04-23<br>lat=%{lat}<br>lon=%{lon}<extra></extra>",
           "lat": [
            48.836751
           ],
           "legendgroup": "Out",
           "lon": [
            2.403333
           ],
           "marker": {
            "color": "#636efa"
           },
           "mode": "markers",
           "name": "Out",
           "showlegend": true,
           "subplot": "mapbox",
           "type": "scattermapbox"
          }
         ],
         "name": "2022-04-23"
        },
        {
         "data": [
          {
           "hovertemplate": "geofence=Out<br>time=2022-04-24<br>lat=%{lat}<br>lon=%{lon}<extra></extra>",
           "lat": [
            48.836697
           ],
           "legendgroup": "Out",
           "lon": [
            2.403487
           ],
           "marker": {
            "color": "#636efa"
           },
           "mode": "markers",
           "name": "Out",
           "showlegend": true,
           "subplot": "mapbox",
           "type": "scattermapbox"
          }
         ],
         "name": "2022-04-24"
        },
        {
         "data": [
          {
           "hovertemplate": "geofence=Out<br>time=2022-04-25<br>lat=%{lat}<br>lon=%{lon}<extra></extra>",
           "lat": [
            48.83665
           ],
           "legendgroup": "Out",
           "lon": [
            2.403614
           ],
           "marker": {
            "color": "#636efa"
           },
           "mode": "markers",
           "name": "Out",
           "showlegend": true,
           "subplot": "mapbox",
           "type": "scattermapbox"
          }
         ],
         "name": "2022-04-25"
        },
        {
         "data": [
          {
           "hovertemplate": "geofence=Out<br>time=2022-04-26<br>lat=%{lat}<br>lon=%{lon}<extra></extra>",
           "lat": [
            48.836471
           ],
           "legendgroup": "Out",
           "lon": [
            2.404068
           ],
           "marker": {
            "color": "#636efa"
           },
           "mode": "markers",
           "name": "Out",
           "showlegend": true,
           "subplot": "mapbox",
           "type": "scattermapbox"
          }
         ],
         "name": "2022-04-26"
        },
        {
         "data": [
          {
           "hovertemplate": "geofence=Out<br>time=2022-04-27<br>lat=%{lat}<br>lon=%{lon}<extra></extra>",
           "lat": [
            48.835923
           ],
           "legendgroup": "Out",
           "lon": [
            2.405565
           ],
           "marker": {
            "color": "#636efa"
           },
           "mode": "markers",
           "name": "Out",
           "showlegend": true,
           "subplot": "mapbox",
           "type": "scattermapbox"
          }
         ],
         "name": "2022-04-27"
        },
        {
         "data": [
          {
           "hovertemplate": "geofence=Out<br>time=2022-04-28<br>lat=%{lat}<br>lon=%{lon}<extra></extra>",
           "lat": [
            48.835896
           ],
           "legendgroup": "Out",
           "lon": [
            2.405637
           ],
           "marker": {
            "color": "#636efa"
           },
           "mode": "markers",
           "name": "Out",
           "showlegend": true,
           "subplot": "mapbox",
           "type": "scattermapbox"
          }
         ],
         "name": "2022-04-28"
        },
        {
         "data": [
          {
           "hovertemplate": "geofence=Out<br>time=2022-04-29<br>lat=%{lat}<br>lon=%{lon}<extra></extra>",
           "lat": [
            48.835877
           ],
           "legendgroup": "Out",
           "lon": [
            2.405694
           ],
           "marker": {
            "color": "#636efa"
           },
           "mode": "markers",
           "name": "Out",
           "showlegend": true,
           "subplot": "mapbox",
           "type": "scattermapbox"
          }
         ],
         "name": "2022-04-29"
        },
        {
         "data": [
          {
           "hovertemplate": "geofence=Out<br>time=2022-04-30<br>lat=%{lat}<br>lon=%{lon}<extra></extra>",
           "lat": [
            48.835733
           ],
           "legendgroup": "Out",
           "lon": [
            2.406065
           ],
           "marker": {
            "color": "#636efa"
           },
           "mode": "markers",
           "name": "Out",
           "showlegend": true,
           "subplot": "mapbox",
           "type": "scattermapbox"
          }
         ],
         "name": "2022-04-30"
        },
        {
         "data": [
          {
           "hovertemplate": "geofence=Out<br>time=2022-05-01<br>lat=%{lat}<br>lon=%{lon}<extra></extra>",
           "lat": [
            48.835702
           ],
           "legendgroup": "Out",
           "lon": [
            2.406115
           ],
           "marker": {
            "color": "#636efa"
           },
           "mode": "markers",
           "name": "Out",
           "showlegend": true,
           "subplot": "mapbox",
           "type": "scattermapbox"
          }
         ],
         "name": "2022-05-01"
        },
        {
         "data": [
          {
           "hovertemplate": "geofence=Out<br>time=2022-05-02<br>lat=%{lat}<br>lon=%{lon}<extra></extra>",
           "lat": [
            48.835594
           ],
           "legendgroup": "Out",
           "lon": [
            2.406323
           ],
           "marker": {
            "color": "#636efa"
           },
           "mode": "markers",
           "name": "Out",
           "showlegend": true,
           "subplot": "mapbox",
           "type": "scattermapbox"
          }
         ],
         "name": "2022-05-02"
        },
        {
         "data": [
          {
           "hovertemplate": "geofence=Out<br>time=2022-05-03<br>lat=%{lat}<br>lon=%{lon}<extra></extra>",
           "lat": [
            48.835486
           ],
           "legendgroup": "Out",
           "lon": [
            2.406434
           ],
           "marker": {
            "color": "#636efa"
           },
           "mode": "markers",
           "name": "Out",
           "showlegend": true,
           "subplot": "mapbox",
           "type": "scattermapbox"
          }
         ],
         "name": "2022-05-03"
        },
        {
         "data": [
          {
           "hovertemplate": "geofence=In<br>time=2022-05-04<br>lat=%{lat}<br>lon=%{lon}<extra></extra>",
           "lat": [
            48.83544
           ],
           "legendgroup": "In",
           "lon": [
            2.406492
           ],
           "marker": {
            "color": "#EF553B"
           },
           "mode": "markers",
           "name": "In",
           "showlegend": true,
           "subplot": "mapbox",
           "type": "scattermapbox"
          }
         ],
         "name": "2022-05-04"
        },
        {
         "data": [
          {
           "hovertemplate": "geofence=In<br>time=2022-05-05<br>lat=%{lat}<br>lon=%{lon}<extra></extra>",
           "lat": [
            48.835412
           ],
           "legendgroup": "In",
           "lon": [
            2.406527
           ],
           "marker": {
            "color": "#EF553B"
           },
           "mode": "markers",
           "name": "In",
           "showlegend": true,
           "subplot": "mapbox",
           "type": "scattermapbox"
          }
         ],
         "name": "2022-05-05"
        },
        {
         "data": [
          {
           "hovertemplate": "geofence=In<br>time=2022-05-06<br>lat=%{lat}<br>lon=%{lon}<extra></extra>",
           "lat": [
            48.83536
           ],
           "legendgroup": "In",
           "lon": [
            2.406596
           ],
           "marker": {
            "color": "#EF553B"
           },
           "mode": "markers",
           "name": "In",
           "showlegend": true,
           "subplot": "mapbox",
           "type": "scattermapbox"
          }
         ],
         "name": "2022-05-06"
        },
        {
         "data": [
          {
           "hovertemplate": "geofence=In<br>time=2022-05-07<br>lat=%{lat}<br>lon=%{lon}<extra></extra>",
           "lat": [
            48.835304
           ],
           "legendgroup": "In",
           "lon": [
            2.406569
           ],
           "marker": {
            "color": "#EF553B"
           },
           "mode": "markers",
           "name": "In",
           "showlegend": true,
           "subplot": "mapbox",
           "type": "scattermapbox"
          }
         ],
         "name": "2022-05-07"
        },
        {
         "data": [
          {
           "hovertemplate": "geofence=In<br>time=2022-05-08<br>lat=%{lat}<br>lon=%{lon}<extra></extra>",
           "lat": [
            48.835288
           ],
           "legendgroup": "In",
           "lon": [
            2.406593
           ],
           "marker": {
            "color": "#EF553B"
           },
           "mode": "markers",
           "name": "In",
           "showlegend": true,
           "subplot": "mapbox",
           "type": "scattermapbox"
          }
         ],
         "name": "2022-05-08"
        },
        {
         "data": [
          {
           "hovertemplate": "geofence=Out<br>time=2022-05-09<br>lat=%{lat}<br>lon=%{lon}<extra></extra>",
           "lat": [
            48.835197
           ],
           "legendgroup": "Out",
           "lon": [
            2.406855
           ],
           "marker": {
            "color": "#636efa"
           },
           "mode": "markers",
           "name": "Out",
           "showlegend": true,
           "subplot": "mapbox",
           "type": "scattermapbox"
          }
         ],
         "name": "2022-05-09"
        },
        {
         "data": [
          {
           "hovertemplate": "geofence=Out<br>time=2022-05-10<br>lat=%{lat}<br>lon=%{lon}<extra></extra>",
           "lat": [
            48.835177
           ],
           "legendgroup": "Out",
           "lon": [
            2.40684
           ],
           "marker": {
            "color": "#636efa"
           },
           "mode": "markers",
           "name": "Out",
           "showlegend": true,
           "subplot": "mapbox",
           "type": "scattermapbox"
          }
         ],
         "name": "2022-05-10"
        },
        {
         "data": [
          {
           "hovertemplate": "geofence=Out<br>time=2022-05-11<br>lat=%{lat}<br>lon=%{lon}<extra></extra>",
           "lat": [
            48.835033
           ],
           "legendgroup": "Out",
           "lon": [
            2.407237
           ],
           "marker": {
            "color": "#636efa"
           },
           "mode": "markers",
           "name": "Out",
           "showlegend": true,
           "subplot": "mapbox",
           "type": "scattermapbox"
          }
         ],
         "name": "2022-05-11"
        },
        {
         "data": [
          {
           "hovertemplate": "geofence=Out<br>time=2022-05-12<br>lat=%{lat}<br>lon=%{lon}<extra></extra>",
           "lat": [
            48.8348
           ],
           "legendgroup": "Out",
           "lon": [
            2.407877
           ],
           "marker": {
            "color": "#636efa"
           },
           "mode": "markers",
           "name": "Out",
           "showlegend": true,
           "subplot": "mapbox",
           "type": "scattermapbox"
          }
         ],
         "name": "2022-05-12"
        },
        {
         "data": [
          {
           "hovertemplate": "geofence=Out<br>time=2022-05-13<br>lat=%{lat}<br>lon=%{lon}<extra></extra>",
           "lat": [
            48.834775
           ],
           "legendgroup": "Out",
           "lon": [
            2.407942
           ],
           "marker": {
            "color": "#636efa"
           },
           "mode": "markers",
           "name": "Out",
           "showlegend": true,
           "subplot": "mapbox",
           "type": "scattermapbox"
          }
         ],
         "name": "2022-05-13"
        },
        {
         "data": [
          {
           "hovertemplate": "geofence=Out<br>time=2022-05-14<br>lat=%{lat}<br>lon=%{lon}<extra></extra>",
           "lat": [
            48.834758
           ],
           "legendgroup": "Out",
           "lon": [
            2.407989
           ],
           "marker": {
            "color": "#636efa"
           },
           "mode": "markers",
           "name": "Out",
           "showlegend": true,
           "subplot": "mapbox",
           "type": "scattermapbox"
          }
         ],
         "name": "2022-05-14"
        },
        {
         "data": [
          {
           "hovertemplate": "geofence=Out<br>time=2022-05-15<br>lat=%{lat}<br>lon=%{lon}<extra></extra>",
           "lat": [
            48.834758
           ],
           "legendgroup": "Out",
           "lon": [
            2.408
           ],
           "marker": {
            "color": "#636efa"
           },
           "mode": "markers",
           "name": "Out",
           "showlegend": true,
           "subplot": "mapbox",
           "type": "scattermapbox"
          }
         ],
         "name": "2022-05-15"
        },
        {
         "data": [
          {
           "hovertemplate": "geofence=Out<br>time=2022-05-16<br>lat=%{lat}<br>lon=%{lon}<extra></extra>",
           "lat": [
            48.834758
           ],
           "legendgroup": "Out",
           "lon": [
            2.408014
           ],
           "marker": {
            "color": "#636efa"
           },
           "mode": "markers",
           "name": "Out",
           "showlegend": true,
           "subplot": "mapbox",
           "type": "scattermapbox"
          }
         ],
         "name": "2022-05-16"
        },
        {
         "data": [
          {
           "hovertemplate": "geofence=Out<br>time=2022-05-17<br>lat=%{lat}<br>lon=%{lon}<extra></extra>",
           "lat": [
            48.834804
           ],
           "legendgroup": "Out",
           "lon": [
            2.40812
           ],
           "marker": {
            "color": "#636efa"
           },
           "mode": "markers",
           "name": "Out",
           "showlegend": true,
           "subplot": "mapbox",
           "type": "scattermapbox"
          }
         ],
         "name": "2022-05-17"
        },
        {
         "data": [
          {
           "hovertemplate": "geofence=Out<br>time=2022-05-18<br>lat=%{lat}<br>lon=%{lon}<extra></extra>",
           "lat": [
            48.834816
           ],
           "legendgroup": "Out",
           "lon": [
            2.408188
           ],
           "marker": {
            "color": "#636efa"
           },
           "mode": "markers",
           "name": "Out",
           "showlegend": true,
           "subplot": "mapbox",
           "type": "scattermapbox"
          }
         ],
         "name": "2022-05-18"
        },
        {
         "data": [
          {
           "hovertemplate": "geofence=Out<br>time=2022-05-19<br>lat=%{lat}<br>lon=%{lon}<extra></extra>",
           "lat": [
            48.834817
           ],
           "legendgroup": "Out",
           "lon": [
            2.408267
           ],
           "marker": {
            "color": "#636efa"
           },
           "mode": "markers",
           "name": "Out",
           "showlegend": true,
           "subplot": "mapbox",
           "type": "scattermapbox"
          }
         ],
         "name": "2022-05-19"
        },
        {
         "data": [
          {
           "hovertemplate": "geofence=Out<br>time=2022-05-20<br>lat=%{lat}<br>lon=%{lon}<extra></extra>",
           "lat": [
            48.83435
           ],
           "legendgroup": "Out",
           "lon": [
            2.409537
           ],
           "marker": {
            "color": "#636efa"
           },
           "mode": "markers",
           "name": "Out",
           "showlegend": true,
           "subplot": "mapbox",
           "type": "scattermapbox"
          }
         ],
         "name": "2022-05-20"
        },
        {
         "data": [
          {
           "hovertemplate": "geofence=Out<br>time=2022-05-21<br>lat=%{lat}<br>lon=%{lon}<extra></extra>",
           "lat": [
            48.83405
           ],
           "legendgroup": "Out",
           "lon": [
            2.410324
           ],
           "marker": {
            "color": "#636efa"
           },
           "mode": "markers",
           "name": "Out",
           "showlegend": true,
           "subplot": "mapbox",
           "type": "scattermapbox"
          }
         ],
         "name": "2022-05-21"
        },
        {
         "data": [
          {
           "hovertemplate": "geofence=Out<br>time=2022-05-22<br>lat=%{lat}<br>lon=%{lon}<extra></extra>",
           "lat": [
            48.833994
           ],
           "legendgroup": "Out",
           "lon": [
            2.410527
           ],
           "marker": {
            "color": "#636efa"
           },
           "mode": "markers",
           "name": "Out",
           "showlegend": true,
           "subplot": "mapbox",
           "type": "scattermapbox"
          }
         ],
         "name": "2022-05-22"
        },
        {
         "data": [
          {
           "hovertemplate": "geofence=Out<br>time=2022-05-23<br>lat=%{lat}<br>lon=%{lon}<extra></extra>",
           "lat": [
            48.833943
           ],
           "legendgroup": "Out",
           "lon": [
            2.410758
           ],
           "marker": {
            "color": "#636efa"
           },
           "mode": "markers",
           "name": "Out",
           "showlegend": true,
           "subplot": "mapbox",
           "type": "scattermapbox"
          }
         ],
         "name": "2022-05-23"
        },
        {
         "data": [
          {
           "hovertemplate": "geofence=Out<br>time=2022-05-24<br>lat=%{lat}<br>lon=%{lon}<extra></extra>",
           "lat": [
            48.833916
           ],
           "legendgroup": "Out",
           "lon": [
            2.410897
           ],
           "marker": {
            "color": "#636efa"
           },
           "mode": "markers",
           "name": "Out",
           "showlegend": true,
           "subplot": "mapbox",
           "type": "scattermapbox"
          }
         ],
         "name": "2022-05-24"
        },
        {
         "data": [
          {
           "hovertemplate": "geofence=Out<br>time=2022-05-25<br>lat=%{lat}<br>lon=%{lon}<extra></extra>",
           "lat": [
            48.833905
           ],
           "legendgroup": "Out",
           "lon": [
            2.411035
           ],
           "marker": {
            "color": "#636efa"
           },
           "mode": "markers",
           "name": "Out",
           "showlegend": true,
           "subplot": "mapbox",
           "type": "scattermapbox"
          }
         ],
         "name": "2022-05-25"
        },
        {
         "data": [
          {
           "hovertemplate": "geofence=Out<br>time=2022-05-26<br>lat=%{lat}<br>lon=%{lon}<extra></extra>",
           "lat": [
            48.833847
           ],
           "legendgroup": "Out",
           "lon": [
            2.411462
           ],
           "marker": {
            "color": "#636efa"
           },
           "mode": "markers",
           "name": "Out",
           "showlegend": true,
           "subplot": "mapbox",
           "type": "scattermapbox"
          }
         ],
         "name": "2022-05-26"
        },
        {
         "data": [
          {
           "hovertemplate": "geofence=Out<br>time=2022-05-27<br>lat=%{lat}<br>lon=%{lon}<extra></extra>",
           "lat": [
            48.833757
           ],
           "legendgroup": "Out",
           "lon": [
            2.412037
           ],
           "marker": {
            "color": "#636efa"
           },
           "mode": "markers",
           "name": "Out",
           "showlegend": true,
           "subplot": "mapbox",
           "type": "scattermapbox"
          }
         ],
         "name": "2022-05-27"
        },
        {
         "data": [
          {
           "hovertemplate": "geofence=Out<br>time=2022-05-28<br>lat=%{lat}<br>lon=%{lon}<extra></extra>",
           "lat": [
            48.833703
           ],
           "legendgroup": "Out",
           "lon": [
            2.412235
           ],
           "marker": {
            "color": "#636efa"
           },
           "mode": "markers",
           "name": "Out",
           "showlegend": true,
           "subplot": "mapbox",
           "type": "scattermapbox"
          }
         ],
         "name": "2022-05-28"
        },
        {
         "data": [
          {
           "hovertemplate": "geofence=Out<br>time=2022-05-29<br>lat=%{lat}<br>lon=%{lon}<extra></extra>",
           "lat": [
            48.833635
           ],
           "legendgroup": "Out",
           "lon": [
            2.412502
           ],
           "marker": {
            "color": "#636efa"
           },
           "mode": "markers",
           "name": "Out",
           "showlegend": true,
           "subplot": "mapbox",
           "type": "scattermapbox"
          }
         ],
         "name": "2022-05-29"
        },
        {
         "data": [
          {
           "hovertemplate": "geofence=Out<br>time=2022-05-30<br>lat=%{lat}<br>lon=%{lon}<extra></extra>",
           "lat": [
            48.833568
           ],
           "legendgroup": "Out",
           "lon": [
            2.412662
           ],
           "marker": {
            "color": "#636efa"
           },
           "mode": "markers",
           "name": "Out",
           "showlegend": true,
           "subplot": "mapbox",
           "type": "scattermapbox"
          }
         ],
         "name": "2022-05-30"
        },
        {
         "data": [
          {
           "hovertemplate": "geofence=Out<br>time=2022-05-31<br>lat=%{lat}<br>lon=%{lon}<extra></extra>",
           "lat": [
            48.833494
           ],
           "legendgroup": "Out",
           "lon": [
            2.412759
           ],
           "marker": {
            "color": "#636efa"
           },
           "mode": "markers",
           "name": "Out",
           "showlegend": true,
           "subplot": "mapbox",
           "type": "scattermapbox"
          }
         ],
         "name": "2022-05-31"
        },
        {
         "data": [
          {
           "hovertemplate": "geofence=Out<br>time=2022-06-01<br>lat=%{lat}<br>lon=%{lon}<extra></extra>",
           "lat": [
            48.833551
           ],
           "legendgroup": "Out",
           "lon": [
            2.412849
           ],
           "marker": {
            "color": "#636efa"
           },
           "mode": "markers",
           "name": "Out",
           "showlegend": true,
           "subplot": "mapbox",
           "type": "scattermapbox"
          }
         ],
         "name": "2022-06-01"
        },
        {
         "data": [
          {
           "hovertemplate": "geofence=Out<br>time=2022-06-02<br>lat=%{lat}<br>lon=%{lon}<extra></extra>",
           "lat": [
            48.83363
           ],
           "legendgroup": "Out",
           "lon": [
            2.412773
           ],
           "marker": {
            "color": "#636efa"
           },
           "mode": "markers",
           "name": "Out",
           "showlegend": true,
           "subplot": "mapbox",
           "type": "scattermapbox"
          }
         ],
         "name": "2022-06-02"
        },
        {
         "data": [
          {
           "hovertemplate": "geofence=Out<br>time=2022-06-03<br>lat=%{lat}<br>lon=%{lon}<extra></extra>",
           "lat": [
            48.833771
           ],
           "legendgroup": "Out",
           "lon": [
            2.412632
           ],
           "marker": {
            "color": "#636efa"
           },
           "mode": "markers",
           "name": "Out",
           "showlegend": true,
           "subplot": "mapbox",
           "type": "scattermapbox"
          }
         ],
         "name": "2022-06-03"
        },
        {
         "data": [
          {
           "hovertemplate": "geofence=Out<br>time=2022-06-04<br>lat=%{lat}<br>lon=%{lon}<extra></extra>",
           "lat": [
            48.833878
           ],
           "legendgroup": "Out",
           "lon": [
            2.412627
           ],
           "marker": {
            "color": "#636efa"
           },
           "mode": "markers",
           "name": "Out",
           "showlegend": true,
           "subplot": "mapbox",
           "type": "scattermapbox"
          }
         ],
         "name": "2022-06-04"
        }
       ],
       "layout": {
        "height": 800,
        "legend": {
         "title": {
          "text": "geofence"
         },
         "tracegroupgap": 0
        },
        "mapbox": {
         "accesstoken": "pk.eyJ1Ijoic2hha2Fzb20iLCJhIjoiY2plMWg1NGFpMXZ5NjJxbjhlM2ttN3AwbiJ9.RtGYHmreKiyBfHuElgYq_w",
         "center": {
          "lat": 48.84795028205128,
          "lon": 2.3913029384615383
         },
         "domain": {
          "x": [
           0,
           1
          ],
          "y": [
           0,
           1
          ]
         },
         "zoom": 12
        },
        "margin": {
         "t": 60
        },
        "sliders": [
         {
          "active": 0,
          "currentvalue": {
           "prefix": "time="
          },
          "len": 0.9,
          "pad": {
           "b": 10,
           "t": 60
          },
          "steps": [
           {
            "args": [
             [
              "2021-11-22"
             ],
             {
              "frame": {
               "duration": 0,
               "redraw": true
              },
              "fromcurrent": true,
              "mode": "immediate",
              "transition": {
               "duration": 0,
               "easing": "linear"
              }
             }
            ],
            "label": "2021-11-22",
            "method": "animate"
           },
           {
            "args": [
             [
              "2021-11-23"
             ],
             {
              "frame": {
               "duration": 0,
               "redraw": true
              },
              "fromcurrent": true,
              "mode": "immediate",
              "transition": {
               "duration": 0,
               "easing": "linear"
              }
             }
            ],
            "label": "2021-11-23",
            "method": "animate"
           },
           {
            "args": [
             [
              "2021-11-24"
             ],
             {
              "frame": {
               "duration": 0,
               "redraw": true
              },
              "fromcurrent": true,
              "mode": "immediate",
              "transition": {
               "duration": 0,
               "easing": "linear"
              }
             }
            ],
            "label": "2021-11-24",
            "method": "animate"
           },
           {
            "args": [
             [
              "2021-11-25"
             ],
             {
              "frame": {
               "duration": 0,
               "redraw": true
              },
              "fromcurrent": true,
              "mode": "immediate",
              "transition": {
               "duration": 0,
               "easing": "linear"
              }
             }
            ],
            "label": "2021-11-25",
            "method": "animate"
           },
           {
            "args": [
             [
              "2021-11-26"
             ],
             {
              "frame": {
               "duration": 0,
               "redraw": true
              },
              "fromcurrent": true,
              "mode": "immediate",
              "transition": {
               "duration": 0,
               "easing": "linear"
              }
             }
            ],
            "label": "2021-11-26",
            "method": "animate"
           },
           {
            "args": [
             [
              "2021-11-27"
             ],
             {
              "frame": {
               "duration": 0,
               "redraw": true
              },
              "fromcurrent": true,
              "mode": "immediate",
              "transition": {
               "duration": 0,
               "easing": "linear"
              }
             }
            ],
            "label": "2021-11-27",
            "method": "animate"
           },
           {
            "args": [
             [
              "2021-11-28"
             ],
             {
              "frame": {
               "duration": 0,
               "redraw": true
              },
              "fromcurrent": true,
              "mode": "immediate",
              "transition": {
               "duration": 0,
               "easing": "linear"
              }
             }
            ],
            "label": "2021-11-28",
            "method": "animate"
           },
           {
            "args": [
             [
              "2021-11-29"
             ],
             {
              "frame": {
               "duration": 0,
               "redraw": true
              },
              "fromcurrent": true,
              "mode": "immediate",
              "transition": {
               "duration": 0,
               "easing": "linear"
              }
             }
            ],
            "label": "2021-11-29",
            "method": "animate"
           },
           {
            "args": [
             [
              "2021-11-30"
             ],
             {
              "frame": {
               "duration": 0,
               "redraw": true
              },
              "fromcurrent": true,
              "mode": "immediate",
              "transition": {
               "duration": 0,
               "easing": "linear"
              }
             }
            ],
            "label": "2021-11-30",
            "method": "animate"
           },
           {
            "args": [
             [
              "2021-12-01"
             ],
             {
              "frame": {
               "duration": 0,
               "redraw": true
              },
              "fromcurrent": true,
              "mode": "immediate",
              "transition": {
               "duration": 0,
               "easing": "linear"
              }
             }
            ],
            "label": "2021-12-01",
            "method": "animate"
           },
           {
            "args": [
             [
              "2021-12-02"
             ],
             {
              "frame": {
               "duration": 0,
               "redraw": true
              },
              "fromcurrent": true,
              "mode": "immediate",
              "transition": {
               "duration": 0,
               "easing": "linear"
              }
             }
            ],
            "label": "2021-12-02",
            "method": "animate"
           },
           {
            "args": [
             [
              "2021-12-03"
             ],
             {
              "frame": {
               "duration": 0,
               "redraw": true
              },
              "fromcurrent": true,
              "mode": "immediate",
              "transition": {
               "duration": 0,
               "easing": "linear"
              }
             }
            ],
            "label": "2021-12-03",
            "method": "animate"
           },
           {
            "args": [
             [
              "2021-12-04"
             ],
             {
              "frame": {
               "duration": 0,
               "redraw": true
              },
              "fromcurrent": true,
              "mode": "immediate",
              "transition": {
               "duration": 0,
               "easing": "linear"
              }
             }
            ],
            "label": "2021-12-04",
            "method": "animate"
           },
           {
            "args": [
             [
              "2021-12-05"
             ],
             {
              "frame": {
               "duration": 0,
               "redraw": true
              },
              "fromcurrent": true,
              "mode": "immediate",
              "transition": {
               "duration": 0,
               "easing": "linear"
              }
             }
            ],
            "label": "2021-12-05",
            "method": "animate"
           },
           {
            "args": [
             [
              "2021-12-06"
             ],
             {
              "frame": {
               "duration": 0,
               "redraw": true
              },
              "fromcurrent": true,
              "mode": "immediate",
              "transition": {
               "duration": 0,
               "easing": "linear"
              }
             }
            ],
            "label": "2021-12-06",
            "method": "animate"
           },
           {
            "args": [
             [
              "2021-12-07"
             ],
             {
              "frame": {
               "duration": 0,
               "redraw": true
              },
              "fromcurrent": true,
              "mode": "immediate",
              "transition": {
               "duration": 0,
               "easing": "linear"
              }
             }
            ],
            "label": "2021-12-07",
            "method": "animate"
           },
           {
            "args": [
             [
              "2021-12-08"
             ],
             {
              "frame": {
               "duration": 0,
               "redraw": true
              },
              "fromcurrent": true,
              "mode": "immediate",
              "transition": {
               "duration": 0,
               "easing": "linear"
              }
             }
            ],
            "label": "2021-12-08",
            "method": "animate"
           },
           {
            "args": [
             [
              "2021-12-09"
             ],
             {
              "frame": {
               "duration": 0,
               "redraw": true
              },
              "fromcurrent": true,
              "mode": "immediate",
              "transition": {
               "duration": 0,
               "easing": "linear"
              }
             }
            ],
            "label": "2021-12-09",
            "method": "animate"
           },
           {
            "args": [
             [
              "2021-12-10"
             ],
             {
              "frame": {
               "duration": 0,
               "redraw": true
              },
              "fromcurrent": true,
              "mode": "immediate",
              "transition": {
               "duration": 0,
               "easing": "linear"
              }
             }
            ],
            "label": "2021-12-10",
            "method": "animate"
           },
           {
            "args": [
             [
              "2021-12-11"
             ],
             {
              "frame": {
               "duration": 0,
               "redraw": true
              },
              "fromcurrent": true,
              "mode": "immediate",
              "transition": {
               "duration": 0,
               "easing": "linear"
              }
             }
            ],
            "label": "2021-12-11",
            "method": "animate"
           },
           {
            "args": [
             [
              "2021-12-12"
             ],
             {
              "frame": {
               "duration": 0,
               "redraw": true
              },
              "fromcurrent": true,
              "mode": "immediate",
              "transition": {
               "duration": 0,
               "easing": "linear"
              }
             }
            ],
            "label": "2021-12-12",
            "method": "animate"
           },
           {
            "args": [
             [
              "2021-12-13"
             ],
             {
              "frame": {
               "duration": 0,
               "redraw": true
              },
              "fromcurrent": true,
              "mode": "immediate",
              "transition": {
               "duration": 0,
               "easing": "linear"
              }
             }
            ],
            "label": "2021-12-13",
            "method": "animate"
           },
           {
            "args": [
             [
              "2021-12-14"
             ],
             {
              "frame": {
               "duration": 0,
               "redraw": true
              },
              "fromcurrent": true,
              "mode": "immediate",
              "transition": {
               "duration": 0,
               "easing": "linear"
              }
             }
            ],
            "label": "2021-12-14",
            "method": "animate"
           },
           {
            "args": [
             [
              "2021-12-15"
             ],
             {
              "frame": {
               "duration": 0,
               "redraw": true
              },
              "fromcurrent": true,
              "mode": "immediate",
              "transition": {
               "duration": 0,
               "easing": "linear"
              }
             }
            ],
            "label": "2021-12-15",
            "method": "animate"
           },
           {
            "args": [
             [
              "2021-12-16"
             ],
             {
              "frame": {
               "duration": 0,
               "redraw": true
              },
              "fromcurrent": true,
              "mode": "immediate",
              "transition": {
               "duration": 0,
               "easing": "linear"
              }
             }
            ],
            "label": "2021-12-16",
            "method": "animate"
           },
           {
            "args": [
             [
              "2021-12-17"
             ],
             {
              "frame": {
               "duration": 0,
               "redraw": true
              },
              "fromcurrent": true,
              "mode": "immediate",
              "transition": {
               "duration": 0,
               "easing": "linear"
              }
             }
            ],
            "label": "2021-12-17",
            "method": "animate"
           },
           {
            "args": [
             [
              "2021-12-18"
             ],
             {
              "frame": {
               "duration": 0,
               "redraw": true
              },
              "fromcurrent": true,
              "mode": "immediate",
              "transition": {
               "duration": 0,
               "easing": "linear"
              }
             }
            ],
            "label": "2021-12-18",
            "method": "animate"
           },
           {
            "args": [
             [
              "2021-12-19"
             ],
             {
              "frame": {
               "duration": 0,
               "redraw": true
              },
              "fromcurrent": true,
              "mode": "immediate",
              "transition": {
               "duration": 0,
               "easing": "linear"
              }
             }
            ],
            "label": "2021-12-19",
            "method": "animate"
           },
           {
            "args": [
             [
              "2021-12-20"
             ],
             {
              "frame": {
               "duration": 0,
               "redraw": true
              },
              "fromcurrent": true,
              "mode": "immediate",
              "transition": {
               "duration": 0,
               "easing": "linear"
              }
             }
            ],
            "label": "2021-12-20",
            "method": "animate"
           },
           {
            "args": [
             [
              "2021-12-21"
             ],
             {
              "frame": {
               "duration": 0,
               "redraw": true
              },
              "fromcurrent": true,
              "mode": "immediate",
              "transition": {
               "duration": 0,
               "easing": "linear"
              }
             }
            ],
            "label": "2021-12-21",
            "method": "animate"
           },
           {
            "args": [
             [
              "2021-12-22"
             ],
             {
              "frame": {
               "duration": 0,
               "redraw": true
              },
              "fromcurrent": true,
              "mode": "immediate",
              "transition": {
               "duration": 0,
               "easing": "linear"
              }
             }
            ],
            "label": "2021-12-22",
            "method": "animate"
           },
           {
            "args": [
             [
              "2021-12-23"
             ],
             {
              "frame": {
               "duration": 0,
               "redraw": true
              },
              "fromcurrent": true,
              "mode": "immediate",
              "transition": {
               "duration": 0,
               "easing": "linear"
              }
             }
            ],
            "label": "2021-12-23",
            "method": "animate"
           },
           {
            "args": [
             [
              "2021-12-24"
             ],
             {
              "frame": {
               "duration": 0,
               "redraw": true
              },
              "fromcurrent": true,
              "mode": "immediate",
              "transition": {
               "duration": 0,
               "easing": "linear"
              }
             }
            ],
            "label": "2021-12-24",
            "method": "animate"
           },
           {
            "args": [
             [
              "2021-12-25"
             ],
             {
              "frame": {
               "duration": 0,
               "redraw": true
              },
              "fromcurrent": true,
              "mode": "immediate",
              "transition": {
               "duration": 0,
               "easing": "linear"
              }
             }
            ],
            "label": "2021-12-25",
            "method": "animate"
           },
           {
            "args": [
             [
              "2021-12-26"
             ],
             {
              "frame": {
               "duration": 0,
               "redraw": true
              },
              "fromcurrent": true,
              "mode": "immediate",
              "transition": {
               "duration": 0,
               "easing": "linear"
              }
             }
            ],
            "label": "2021-12-26",
            "method": "animate"
           },
           {
            "args": [
             [
              "2021-12-27"
             ],
             {
              "frame": {
               "duration": 0,
               "redraw": true
              },
              "fromcurrent": true,
              "mode": "immediate",
              "transition": {
               "duration": 0,
               "easing": "linear"
              }
             }
            ],
            "label": "2021-12-27",
            "method": "animate"
           },
           {
            "args": [
             [
              "2021-12-28"
             ],
             {
              "frame": {
               "duration": 0,
               "redraw": true
              },
              "fromcurrent": true,
              "mode": "immediate",
              "transition": {
               "duration": 0,
               "easing": "linear"
              }
             }
            ],
            "label": "2021-12-28",
            "method": "animate"
           },
           {
            "args": [
             [
              "2021-12-29"
             ],
             {
              "frame": {
               "duration": 0,
               "redraw": true
              },
              "fromcurrent": true,
              "mode": "immediate",
              "transition": {
               "duration": 0,
               "easing": "linear"
              }
             }
            ],
            "label": "2021-12-29",
            "method": "animate"
           },
           {
            "args": [
             [
              "2021-12-30"
             ],
             {
              "frame": {
               "duration": 0,
               "redraw": true
              },
              "fromcurrent": true,
              "mode": "immediate",
              "transition": {
               "duration": 0,
               "easing": "linear"
              }
             }
            ],
            "label": "2021-12-30",
            "method": "animate"
           },
           {
            "args": [
             [
              "2021-12-31"
             ],
             {
              "frame": {
               "duration": 0,
               "redraw": true
              },
              "fromcurrent": true,
              "mode": "immediate",
              "transition": {
               "duration": 0,
               "easing": "linear"
              }
             }
            ],
            "label": "2021-12-31",
            "method": "animate"
           },
           {
            "args": [
             [
              "2022-01-01"
             ],
             {
              "frame": {
               "duration": 0,
               "redraw": true
              },
              "fromcurrent": true,
              "mode": "immediate",
              "transition": {
               "duration": 0,
               "easing": "linear"
              }
             }
            ],
            "label": "2022-01-01",
            "method": "animate"
           },
           {
            "args": [
             [
              "2022-01-02"
             ],
             {
              "frame": {
               "duration": 0,
               "redraw": true
              },
              "fromcurrent": true,
              "mode": "immediate",
              "transition": {
               "duration": 0,
               "easing": "linear"
              }
             }
            ],
            "label": "2022-01-02",
            "method": "animate"
           },
           {
            "args": [
             [
              "2022-01-03"
             ],
             {
              "frame": {
               "duration": 0,
               "redraw": true
              },
              "fromcurrent": true,
              "mode": "immediate",
              "transition": {
               "duration": 0,
               "easing": "linear"
              }
             }
            ],
            "label": "2022-01-03",
            "method": "animate"
           },
           {
            "args": [
             [
              "2022-01-04"
             ],
             {
              "frame": {
               "duration": 0,
               "redraw": true
              },
              "fromcurrent": true,
              "mode": "immediate",
              "transition": {
               "duration": 0,
               "easing": "linear"
              }
             }
            ],
            "label": "2022-01-04",
            "method": "animate"
           },
           {
            "args": [
             [
              "2022-01-05"
             ],
             {
              "frame": {
               "duration": 0,
               "redraw": true
              },
              "fromcurrent": true,
              "mode": "immediate",
              "transition": {
               "duration": 0,
               "easing": "linear"
              }
             }
            ],
            "label": "2022-01-05",
            "method": "animate"
           },
           {
            "args": [
             [
              "2022-01-06"
             ],
             {
              "frame": {
               "duration": 0,
               "redraw": true
              },
              "fromcurrent": true,
              "mode": "immediate",
              "transition": {
               "duration": 0,
               "easing": "linear"
              }
             }
            ],
            "label": "2022-01-06",
            "method": "animate"
           },
           {
            "args": [
             [
              "2022-01-07"
             ],
             {
              "frame": {
               "duration": 0,
               "redraw": true
              },
              "fromcurrent": true,
              "mode": "immediate",
              "transition": {
               "duration": 0,
               "easing": "linear"
              }
             }
            ],
            "label": "2022-01-07",
            "method": "animate"
           },
           {
            "args": [
             [
              "2022-01-08"
             ],
             {
              "frame": {
               "duration": 0,
               "redraw": true
              },
              "fromcurrent": true,
              "mode": "immediate",
              "transition": {
               "duration": 0,
               "easing": "linear"
              }
             }
            ],
            "label": "2022-01-08",
            "method": "animate"
           },
           {
            "args": [
             [
              "2022-01-09"
             ],
             {
              "frame": {
               "duration": 0,
               "redraw": true
              },
              "fromcurrent": true,
              "mode": "immediate",
              "transition": {
               "duration": 0,
               "easing": "linear"
              }
             }
            ],
            "label": "2022-01-09",
            "method": "animate"
           },
           {
            "args": [
             [
              "2022-01-10"
             ],
             {
              "frame": {
               "duration": 0,
               "redraw": true
              },
              "fromcurrent": true,
              "mode": "immediate",
              "transition": {
               "duration": 0,
               "easing": "linear"
              }
             }
            ],
            "label": "2022-01-10",
            "method": "animate"
           },
           {
            "args": [
             [
              "2022-01-11"
             ],
             {
              "frame": {
               "duration": 0,
               "redraw": true
              },
              "fromcurrent": true,
              "mode": "immediate",
              "transition": {
               "duration": 0,
               "easing": "linear"
              }
             }
            ],
            "label": "2022-01-11",
            "method": "animate"
           },
           {
            "args": [
             [
              "2022-01-12"
             ],
             {
              "frame": {
               "duration": 0,
               "redraw": true
              },
              "fromcurrent": true,
              "mode": "immediate",
              "transition": {
               "duration": 0,
               "easing": "linear"
              }
             }
            ],
            "label": "2022-01-12",
            "method": "animate"
           },
           {
            "args": [
             [
              "2022-01-13"
             ],
             {
              "frame": {
               "duration": 0,
               "redraw": true
              },
              "fromcurrent": true,
              "mode": "immediate",
              "transition": {
               "duration": 0,
               "easing": "linear"
              }
             }
            ],
            "label": "2022-01-13",
            "method": "animate"
           },
           {
            "args": [
             [
              "2022-01-14"
             ],
             {
              "frame": {
               "duration": 0,
               "redraw": true
              },
              "fromcurrent": true,
              "mode": "immediate",
              "transition": {
               "duration": 0,
               "easing": "linear"
              }
             }
            ],
            "label": "2022-01-14",
            "method": "animate"
           },
           {
            "args": [
             [
              "2022-01-15"
             ],
             {
              "frame": {
               "duration": 0,
               "redraw": true
              },
              "fromcurrent": true,
              "mode": "immediate",
              "transition": {
               "duration": 0,
               "easing": "linear"
              }
             }
            ],
            "label": "2022-01-15",
            "method": "animate"
           },
           {
            "args": [
             [
              "2022-01-16"
             ],
             {
              "frame": {
               "duration": 0,
               "redraw": true
              },
              "fromcurrent": true,
              "mode": "immediate",
              "transition": {
               "duration": 0,
               "easing": "linear"
              }
             }
            ],
            "label": "2022-01-16",
            "method": "animate"
           },
           {
            "args": [
             [
              "2022-01-17"
             ],
             {
              "frame": {
               "duration": 0,
               "redraw": true
              },
              "fromcurrent": true,
              "mode": "immediate",
              "transition": {
               "duration": 0,
               "easing": "linear"
              }
             }
            ],
            "label": "2022-01-17",
            "method": "animate"
           },
           {
            "args": [
             [
              "2022-01-18"
             ],
             {
              "frame": {
               "duration": 0,
               "redraw": true
              },
              "fromcurrent": true,
              "mode": "immediate",
              "transition": {
               "duration": 0,
               "easing": "linear"
              }
             }
            ],
            "label": "2022-01-18",
            "method": "animate"
           },
           {
            "args": [
             [
              "2022-01-19"
             ],
             {
              "frame": {
               "duration": 0,
               "redraw": true
              },
              "fromcurrent": true,
              "mode": "immediate",
              "transition": {
               "duration": 0,
               "easing": "linear"
              }
             }
            ],
            "label": "2022-01-19",
            "method": "animate"
           },
           {
            "args": [
             [
              "2022-01-20"
             ],
             {
              "frame": {
               "duration": 0,
               "redraw": true
              },
              "fromcurrent": true,
              "mode": "immediate",
              "transition": {
               "duration": 0,
               "easing": "linear"
              }
             }
            ],
            "label": "2022-01-20",
            "method": "animate"
           },
           {
            "args": [
             [
              "2022-01-21"
             ],
             {
              "frame": {
               "duration": 0,
               "redraw": true
              },
              "fromcurrent": true,
              "mode": "immediate",
              "transition": {
               "duration": 0,
               "easing": "linear"
              }
             }
            ],
            "label": "2022-01-21",
            "method": "animate"
           },
           {
            "args": [
             [
              "2022-01-22"
             ],
             {
              "frame": {
               "duration": 0,
               "redraw": true
              },
              "fromcurrent": true,
              "mode": "immediate",
              "transition": {
               "duration": 0,
               "easing": "linear"
              }
             }
            ],
            "label": "2022-01-22",
            "method": "animate"
           },
           {
            "args": [
             [
              "2022-01-23"
             ],
             {
              "frame": {
               "duration": 0,
               "redraw": true
              },
              "fromcurrent": true,
              "mode": "immediate",
              "transition": {
               "duration": 0,
               "easing": "linear"
              }
             }
            ],
            "label": "2022-01-23",
            "method": "animate"
           },
           {
            "args": [
             [
              "2022-01-24"
             ],
             {
              "frame": {
               "duration": 0,
               "redraw": true
              },
              "fromcurrent": true,
              "mode": "immediate",
              "transition": {
               "duration": 0,
               "easing": "linear"
              }
             }
            ],
            "label": "2022-01-24",
            "method": "animate"
           },
           {
            "args": [
             [
              "2022-01-25"
             ],
             {
              "frame": {
               "duration": 0,
               "redraw": true
              },
              "fromcurrent": true,
              "mode": "immediate",
              "transition": {
               "duration": 0,
               "easing": "linear"
              }
             }
            ],
            "label": "2022-01-25",
            "method": "animate"
           },
           {
            "args": [
             [
              "2022-01-26"
             ],
             {
              "frame": {
               "duration": 0,
               "redraw": true
              },
              "fromcurrent": true,
              "mode": "immediate",
              "transition": {
               "duration": 0,
               "easing": "linear"
              }
             }
            ],
            "label": "2022-01-26",
            "method": "animate"
           },
           {
            "args": [
             [
              "2022-01-27"
             ],
             {
              "frame": {
               "duration": 0,
               "redraw": true
              },
              "fromcurrent": true,
              "mode": "immediate",
              "transition": {
               "duration": 0,
               "easing": "linear"
              }
             }
            ],
            "label": "2022-01-27",
            "method": "animate"
           },
           {
            "args": [
             [
              "2022-01-28"
             ],
             {
              "frame": {
               "duration": 0,
               "redraw": true
              },
              "fromcurrent": true,
              "mode": "immediate",
              "transition": {
               "duration": 0,
               "easing": "linear"
              }
             }
            ],
            "label": "2022-01-28",
            "method": "animate"
           },
           {
            "args": [
             [
              "2022-01-29"
             ],
             {
              "frame": {
               "duration": 0,
               "redraw": true
              },
              "fromcurrent": true,
              "mode": "immediate",
              "transition": {
               "duration": 0,
               "easing": "linear"
              }
             }
            ],
            "label": "2022-01-29",
            "method": "animate"
           },
           {
            "args": [
             [
              "2022-01-30"
             ],
             {
              "frame": {
               "duration": 0,
               "redraw": true
              },
              "fromcurrent": true,
              "mode": "immediate",
              "transition": {
               "duration": 0,
               "easing": "linear"
              }
             }
            ],
            "label": "2022-01-30",
            "method": "animate"
           },
           {
            "args": [
             [
              "2022-01-31"
             ],
             {
              "frame": {
               "duration": 0,
               "redraw": true
              },
              "fromcurrent": true,
              "mode": "immediate",
              "transition": {
               "duration": 0,
               "easing": "linear"
              }
             }
            ],
            "label": "2022-01-31",
            "method": "animate"
           },
           {
            "args": [
             [
              "2022-02-01"
             ],
             {
              "frame": {
               "duration": 0,
               "redraw": true
              },
              "fromcurrent": true,
              "mode": "immediate",
              "transition": {
               "duration": 0,
               "easing": "linear"
              }
             }
            ],
            "label": "2022-02-01",
            "method": "animate"
           },
           {
            "args": [
             [
              "2022-02-02"
             ],
             {
              "frame": {
               "duration": 0,
               "redraw": true
              },
              "fromcurrent": true,
              "mode": "immediate",
              "transition": {
               "duration": 0,
               "easing": "linear"
              }
             }
            ],
            "label": "2022-02-02",
            "method": "animate"
           },
           {
            "args": [
             [
              "2022-02-03"
             ],
             {
              "frame": {
               "duration": 0,
               "redraw": true
              },
              "fromcurrent": true,
              "mode": "immediate",
              "transition": {
               "duration": 0,
               "easing": "linear"
              }
             }
            ],
            "label": "2022-02-03",
            "method": "animate"
           },
           {
            "args": [
             [
              "2022-02-04"
             ],
             {
              "frame": {
               "duration": 0,
               "redraw": true
              },
              "fromcurrent": true,
              "mode": "immediate",
              "transition": {
               "duration": 0,
               "easing": "linear"
              }
             }
            ],
            "label": "2022-02-04",
            "method": "animate"
           },
           {
            "args": [
             [
              "2022-02-05"
             ],
             {
              "frame": {
               "duration": 0,
               "redraw": true
              },
              "fromcurrent": true,
              "mode": "immediate",
              "transition": {
               "duration": 0,
               "easing": "linear"
              }
             }
            ],
            "label": "2022-02-05",
            "method": "animate"
           },
           {
            "args": [
             [
              "2022-02-06"
             ],
             {
              "frame": {
               "duration": 0,
               "redraw": true
              },
              "fromcurrent": true,
              "mode": "immediate",
              "transition": {
               "duration": 0,
               "easing": "linear"
              }
             }
            ],
            "label": "2022-02-06",
            "method": "animate"
           },
           {
            "args": [
             [
              "2022-02-07"
             ],
             {
              "frame": {
               "duration": 0,
               "redraw": true
              },
              "fromcurrent": true,
              "mode": "immediate",
              "transition": {
               "duration": 0,
               "easing": "linear"
              }
             }
            ],
            "label": "2022-02-07",
            "method": "animate"
           },
           {
            "args": [
             [
              "2022-02-08"
             ],
             {
              "frame": {
               "duration": 0,
               "redraw": true
              },
              "fromcurrent": true,
              "mode": "immediate",
              "transition": {
               "duration": 0,
               "easing": "linear"
              }
             }
            ],
            "label": "2022-02-08",
            "method": "animate"
           },
           {
            "args": [
             [
              "2022-02-09"
             ],
             {
              "frame": {
               "duration": 0,
               "redraw": true
              },
              "fromcurrent": true,
              "mode": "immediate",
              "transition": {
               "duration": 0,
               "easing": "linear"
              }
             }
            ],
            "label": "2022-02-09",
            "method": "animate"
           },
           {
            "args": [
             [
              "2022-02-10"
             ],
             {
              "frame": {
               "duration": 0,
               "redraw": true
              },
              "fromcurrent": true,
              "mode": "immediate",
              "transition": {
               "duration": 0,
               "easing": "linear"
              }
             }
            ],
            "label": "2022-02-10",
            "method": "animate"
           },
           {
            "args": [
             [
              "2022-02-11"
             ],
             {
              "frame": {
               "duration": 0,
               "redraw": true
              },
              "fromcurrent": true,
              "mode": "immediate",
              "transition": {
               "duration": 0,
               "easing": "linear"
              }
             }
            ],
            "label": "2022-02-11",
            "method": "animate"
           },
           {
            "args": [
             [
              "2022-02-12"
             ],
             {
              "frame": {
               "duration": 0,
               "redraw": true
              },
              "fromcurrent": true,
              "mode": "immediate",
              "transition": {
               "duration": 0,
               "easing": "linear"
              }
             }
            ],
            "label": "2022-02-12",
            "method": "animate"
           },
           {
            "args": [
             [
              "2022-02-13"
             ],
             {
              "frame": {
               "duration": 0,
               "redraw": true
              },
              "fromcurrent": true,
              "mode": "immediate",
              "transition": {
               "duration": 0,
               "easing": "linear"
              }
             }
            ],
            "label": "2022-02-13",
            "method": "animate"
           },
           {
            "args": [
             [
              "2022-02-14"
             ],
             {
              "frame": {
               "duration": 0,
               "redraw": true
              },
              "fromcurrent": true,
              "mode": "immediate",
              "transition": {
               "duration": 0,
               "easing": "linear"
              }
             }
            ],
            "label": "2022-02-14",
            "method": "animate"
           },
           {
            "args": [
             [
              "2022-02-15"
             ],
             {
              "frame": {
               "duration": 0,
               "redraw": true
              },
              "fromcurrent": true,
              "mode": "immediate",
              "transition": {
               "duration": 0,
               "easing": "linear"
              }
             }
            ],
            "label": "2022-02-15",
            "method": "animate"
           },
           {
            "args": [
             [
              "2022-02-16"
             ],
             {
              "frame": {
               "duration": 0,
               "redraw": true
              },
              "fromcurrent": true,
              "mode": "immediate",
              "transition": {
               "duration": 0,
               "easing": "linear"
              }
             }
            ],
            "label": "2022-02-16",
            "method": "animate"
           },
           {
            "args": [
             [
              "2022-02-17"
             ],
             {
              "frame": {
               "duration": 0,
               "redraw": true
              },
              "fromcurrent": true,
              "mode": "immediate",
              "transition": {
               "duration": 0,
               "easing": "linear"
              }
             }
            ],
            "label": "2022-02-17",
            "method": "animate"
           },
           {
            "args": [
             [
              "2022-02-18"
             ],
             {
              "frame": {
               "duration": 0,
               "redraw": true
              },
              "fromcurrent": true,
              "mode": "immediate",
              "transition": {
               "duration": 0,
               "easing": "linear"
              }
             }
            ],
            "label": "2022-02-18",
            "method": "animate"
           },
           {
            "args": [
             [
              "2022-02-19"
             ],
             {
              "frame": {
               "duration": 0,
               "redraw": true
              },
              "fromcurrent": true,
              "mode": "immediate",
              "transition": {
               "duration": 0,
               "easing": "linear"
              }
             }
            ],
            "label": "2022-02-19",
            "method": "animate"
           },
           {
            "args": [
             [
              "2022-02-20"
             ],
             {
              "frame": {
               "duration": 0,
               "redraw": true
              },
              "fromcurrent": true,
              "mode": "immediate",
              "transition": {
               "duration": 0,
               "easing": "linear"
              }
             }
            ],
            "label": "2022-02-20",
            "method": "animate"
           },
           {
            "args": [
             [
              "2022-02-21"
             ],
             {
              "frame": {
               "duration": 0,
               "redraw": true
              },
              "fromcurrent": true,
              "mode": "immediate",
              "transition": {
               "duration": 0,
               "easing": "linear"
              }
             }
            ],
            "label": "2022-02-21",
            "method": "animate"
           },
           {
            "args": [
             [
              "2022-02-22"
             ],
             {
              "frame": {
               "duration": 0,
               "redraw": true
              },
              "fromcurrent": true,
              "mode": "immediate",
              "transition": {
               "duration": 0,
               "easing": "linear"
              }
             }
            ],
            "label": "2022-02-22",
            "method": "animate"
           },
           {
            "args": [
             [
              "2022-02-23"
             ],
             {
              "frame": {
               "duration": 0,
               "redraw": true
              },
              "fromcurrent": true,
              "mode": "immediate",
              "transition": {
               "duration": 0,
               "easing": "linear"
              }
             }
            ],
            "label": "2022-02-23",
            "method": "animate"
           },
           {
            "args": [
             [
              "2022-02-24"
             ],
             {
              "frame": {
               "duration": 0,
               "redraw": true
              },
              "fromcurrent": true,
              "mode": "immediate",
              "transition": {
               "duration": 0,
               "easing": "linear"
              }
             }
            ],
            "label": "2022-02-24",
            "method": "animate"
           },
           {
            "args": [
             [
              "2022-02-25"
             ],
             {
              "frame": {
               "duration": 0,
               "redraw": true
              },
              "fromcurrent": true,
              "mode": "immediate",
              "transition": {
               "duration": 0,
               "easing": "linear"
              }
             }
            ],
            "label": "2022-02-25",
            "method": "animate"
           },
           {
            "args": [
             [
              "2022-02-26"
             ],
             {
              "frame": {
               "duration": 0,
               "redraw": true
              },
              "fromcurrent": true,
              "mode": "immediate",
              "transition": {
               "duration": 0,
               "easing": "linear"
              }
             }
            ],
            "label": "2022-02-26",
            "method": "animate"
           },
           {
            "args": [
             [
              "2022-02-27"
             ],
             {
              "frame": {
               "duration": 0,
               "redraw": true
              },
              "fromcurrent": true,
              "mode": "immediate",
              "transition": {
               "duration": 0,
               "easing": "linear"
              }
             }
            ],
            "label": "2022-02-27",
            "method": "animate"
           },
           {
            "args": [
             [
              "2022-02-28"
             ],
             {
              "frame": {
               "duration": 0,
               "redraw": true
              },
              "fromcurrent": true,
              "mode": "immediate",
              "transition": {
               "duration": 0,
               "easing": "linear"
              }
             }
            ],
            "label": "2022-02-28",
            "method": "animate"
           },
           {
            "args": [
             [
              "2022-03-01"
             ],
             {
              "frame": {
               "duration": 0,
               "redraw": true
              },
              "fromcurrent": true,
              "mode": "immediate",
              "transition": {
               "duration": 0,
               "easing": "linear"
              }
             }
            ],
            "label": "2022-03-01",
            "method": "animate"
           },
           {
            "args": [
             [
              "2022-03-02"
             ],
             {
              "frame": {
               "duration": 0,
               "redraw": true
              },
              "fromcurrent": true,
              "mode": "immediate",
              "transition": {
               "duration": 0,
               "easing": "linear"
              }
             }
            ],
            "label": "2022-03-02",
            "method": "animate"
           },
           {
            "args": [
             [
              "2022-03-03"
             ],
             {
              "frame": {
               "duration": 0,
               "redraw": true
              },
              "fromcurrent": true,
              "mode": "immediate",
              "transition": {
               "duration": 0,
               "easing": "linear"
              }
             }
            ],
            "label": "2022-03-03",
            "method": "animate"
           },
           {
            "args": [
             [
              "2022-03-04"
             ],
             {
              "frame": {
               "duration": 0,
               "redraw": true
              },
              "fromcurrent": true,
              "mode": "immediate",
              "transition": {
               "duration": 0,
               "easing": "linear"
              }
             }
            ],
            "label": "2022-03-04",
            "method": "animate"
           },
           {
            "args": [
             [
              "2022-03-05"
             ],
             {
              "frame": {
               "duration": 0,
               "redraw": true
              },
              "fromcurrent": true,
              "mode": "immediate",
              "transition": {
               "duration": 0,
               "easing": "linear"
              }
             }
            ],
            "label": "2022-03-05",
            "method": "animate"
           },
           {
            "args": [
             [
              "2022-03-06"
             ],
             {
              "frame": {
               "duration": 0,
               "redraw": true
              },
              "fromcurrent": true,
              "mode": "immediate",
              "transition": {
               "duration": 0,
               "easing": "linear"
              }
             }
            ],
            "label": "2022-03-06",
            "method": "animate"
           },
           {
            "args": [
             [
              "2022-03-07"
             ],
             {
              "frame": {
               "duration": 0,
               "redraw": true
              },
              "fromcurrent": true,
              "mode": "immediate",
              "transition": {
               "duration": 0,
               "easing": "linear"
              }
             }
            ],
            "label": "2022-03-07",
            "method": "animate"
           },
           {
            "args": [
             [
              "2022-03-08"
             ],
             {
              "frame": {
               "duration": 0,
               "redraw": true
              },
              "fromcurrent": true,
              "mode": "immediate",
              "transition": {
               "duration": 0,
               "easing": "linear"
              }
             }
            ],
            "label": "2022-03-08",
            "method": "animate"
           },
           {
            "args": [
             [
              "2022-03-09"
             ],
             {
              "frame": {
               "duration": 0,
               "redraw": true
              },
              "fromcurrent": true,
              "mode": "immediate",
              "transition": {
               "duration": 0,
               "easing": "linear"
              }
             }
            ],
            "label": "2022-03-09",
            "method": "animate"
           },
           {
            "args": [
             [
              "2022-03-10"
             ],
             {
              "frame": {
               "duration": 0,
               "redraw": true
              },
              "fromcurrent": true,
              "mode": "immediate",
              "transition": {
               "duration": 0,
               "easing": "linear"
              }
             }
            ],
            "label": "2022-03-10",
            "method": "animate"
           },
           {
            "args": [
             [
              "2022-03-11"
             ],
             {
              "frame": {
               "duration": 0,
               "redraw": true
              },
              "fromcurrent": true,
              "mode": "immediate",
              "transition": {
               "duration": 0,
               "easing": "linear"
              }
             }
            ],
            "label": "2022-03-11",
            "method": "animate"
           },
           {
            "args": [
             [
              "2022-03-12"
             ],
             {
              "frame": {
               "duration": 0,
               "redraw": true
              },
              "fromcurrent": true,
              "mode": "immediate",
              "transition": {
               "duration": 0,
               "easing": "linear"
              }
             }
            ],
            "label": "2022-03-12",
            "method": "animate"
           },
           {
            "args": [
             [
              "2022-03-13"
             ],
             {
              "frame": {
               "duration": 0,
               "redraw": true
              },
              "fromcurrent": true,
              "mode": "immediate",
              "transition": {
               "duration": 0,
               "easing": "linear"
              }
             }
            ],
            "label": "2022-03-13",
            "method": "animate"
           },
           {
            "args": [
             [
              "2022-03-14"
             ],
             {
              "frame": {
               "duration": 0,
               "redraw": true
              },
              "fromcurrent": true,
              "mode": "immediate",
              "transition": {
               "duration": 0,
               "easing": "linear"
              }
             }
            ],
            "label": "2022-03-14",
            "method": "animate"
           },
           {
            "args": [
             [
              "2022-03-15"
             ],
             {
              "frame": {
               "duration": 0,
               "redraw": true
              },
              "fromcurrent": true,
              "mode": "immediate",
              "transition": {
               "duration": 0,
               "easing": "linear"
              }
             }
            ],
            "label": "2022-03-15",
            "method": "animate"
           },
           {
            "args": [
             [
              "2022-03-16"
             ],
             {
              "frame": {
               "duration": 0,
               "redraw": true
              },
              "fromcurrent": true,
              "mode": "immediate",
              "transition": {
               "duration": 0,
               "easing": "linear"
              }
             }
            ],
            "label": "2022-03-16",
            "method": "animate"
           },
           {
            "args": [
             [
              "2022-03-17"
             ],
             {
              "frame": {
               "duration": 0,
               "redraw": true
              },
              "fromcurrent": true,
              "mode": "immediate",
              "transition": {
               "duration": 0,
               "easing": "linear"
              }
             }
            ],
            "label": "2022-03-17",
            "method": "animate"
           },
           {
            "args": [
             [
              "2022-03-18"
             ],
             {
              "frame": {
               "duration": 0,
               "redraw": true
              },
              "fromcurrent": true,
              "mode": "immediate",
              "transition": {
               "duration": 0,
               "easing": "linear"
              }
             }
            ],
            "label": "2022-03-18",
            "method": "animate"
           },
           {
            "args": [
             [
              "2022-03-19"
             ],
             {
              "frame": {
               "duration": 0,
               "redraw": true
              },
              "fromcurrent": true,
              "mode": "immediate",
              "transition": {
               "duration": 0,
               "easing": "linear"
              }
             }
            ],
            "label": "2022-03-19",
            "method": "animate"
           },
           {
            "args": [
             [
              "2022-03-20"
             ],
             {
              "frame": {
               "duration": 0,
               "redraw": true
              },
              "fromcurrent": true,
              "mode": "immediate",
              "transition": {
               "duration": 0,
               "easing": "linear"
              }
             }
            ],
            "label": "2022-03-20",
            "method": "animate"
           },
           {
            "args": [
             [
              "2022-03-21"
             ],
             {
              "frame": {
               "duration": 0,
               "redraw": true
              },
              "fromcurrent": true,
              "mode": "immediate",
              "transition": {
               "duration": 0,
               "easing": "linear"
              }
             }
            ],
            "label": "2022-03-21",
            "method": "animate"
           },
           {
            "args": [
             [
              "2022-03-22"
             ],
             {
              "frame": {
               "duration": 0,
               "redraw": true
              },
              "fromcurrent": true,
              "mode": "immediate",
              "transition": {
               "duration": 0,
               "easing": "linear"
              }
             }
            ],
            "label": "2022-03-22",
            "method": "animate"
           },
           {
            "args": [
             [
              "2022-03-23"
             ],
             {
              "frame": {
               "duration": 0,
               "redraw": true
              },
              "fromcurrent": true,
              "mode": "immediate",
              "transition": {
               "duration": 0,
               "easing": "linear"
              }
             }
            ],
            "label": "2022-03-23",
            "method": "animate"
           },
           {
            "args": [
             [
              "2022-03-24"
             ],
             {
              "frame": {
               "duration": 0,
               "redraw": true
              },
              "fromcurrent": true,
              "mode": "immediate",
              "transition": {
               "duration": 0,
               "easing": "linear"
              }
             }
            ],
            "label": "2022-03-24",
            "method": "animate"
           },
           {
            "args": [
             [
              "2022-03-25"
             ],
             {
              "frame": {
               "duration": 0,
               "redraw": true
              },
              "fromcurrent": true,
              "mode": "immediate",
              "transition": {
               "duration": 0,
               "easing": "linear"
              }
             }
            ],
            "label": "2022-03-25",
            "method": "animate"
           },
           {
            "args": [
             [
              "2022-03-26"
             ],
             {
              "frame": {
               "duration": 0,
               "redraw": true
              },
              "fromcurrent": true,
              "mode": "immediate",
              "transition": {
               "duration": 0,
               "easing": "linear"
              }
             }
            ],
            "label": "2022-03-26",
            "method": "animate"
           },
           {
            "args": [
             [
              "2022-03-27"
             ],
             {
              "frame": {
               "duration": 0,
               "redraw": true
              },
              "fromcurrent": true,
              "mode": "immediate",
              "transition": {
               "duration": 0,
               "easing": "linear"
              }
             }
            ],
            "label": "2022-03-27",
            "method": "animate"
           },
           {
            "args": [
             [
              "2022-03-28"
             ],
             {
              "frame": {
               "duration": 0,
               "redraw": true
              },
              "fromcurrent": true,
              "mode": "immediate",
              "transition": {
               "duration": 0,
               "easing": "linear"
              }
             }
            ],
            "label": "2022-03-28",
            "method": "animate"
           },
           {
            "args": [
             [
              "2022-03-29"
             ],
             {
              "frame": {
               "duration": 0,
               "redraw": true
              },
              "fromcurrent": true,
              "mode": "immediate",
              "transition": {
               "duration": 0,
               "easing": "linear"
              }
             }
            ],
            "label": "2022-03-29",
            "method": "animate"
           },
           {
            "args": [
             [
              "2022-03-30"
             ],
             {
              "frame": {
               "duration": 0,
               "redraw": true
              },
              "fromcurrent": true,
              "mode": "immediate",
              "transition": {
               "duration": 0,
               "easing": "linear"
              }
             }
            ],
            "label": "2022-03-30",
            "method": "animate"
           },
           {
            "args": [
             [
              "2022-03-31"
             ],
             {
              "frame": {
               "duration": 0,
               "redraw": true
              },
              "fromcurrent": true,
              "mode": "immediate",
              "transition": {
               "duration": 0,
               "easing": "linear"
              }
             }
            ],
            "label": "2022-03-31",
            "method": "animate"
           },
           {
            "args": [
             [
              "2022-04-01"
             ],
             {
              "frame": {
               "duration": 0,
               "redraw": true
              },
              "fromcurrent": true,
              "mode": "immediate",
              "transition": {
               "duration": 0,
               "easing": "linear"
              }
             }
            ],
            "label": "2022-04-01",
            "method": "animate"
           },
           {
            "args": [
             [
              "2022-04-02"
             ],
             {
              "frame": {
               "duration": 0,
               "redraw": true
              },
              "fromcurrent": true,
              "mode": "immediate",
              "transition": {
               "duration": 0,
               "easing": "linear"
              }
             }
            ],
            "label": "2022-04-02",
            "method": "animate"
           },
           {
            "args": [
             [
              "2022-04-03"
             ],
             {
              "frame": {
               "duration": 0,
               "redraw": true
              },
              "fromcurrent": true,
              "mode": "immediate",
              "transition": {
               "duration": 0,
               "easing": "linear"
              }
             }
            ],
            "label": "2022-04-03",
            "method": "animate"
           },
           {
            "args": [
             [
              "2022-04-04"
             ],
             {
              "frame": {
               "duration": 0,
               "redraw": true
              },
              "fromcurrent": true,
              "mode": "immediate",
              "transition": {
               "duration": 0,
               "easing": "linear"
              }
             }
            ],
            "label": "2022-04-04",
            "method": "animate"
           },
           {
            "args": [
             [
              "2022-04-05"
             ],
             {
              "frame": {
               "duration": 0,
               "redraw": true
              },
              "fromcurrent": true,
              "mode": "immediate",
              "transition": {
               "duration": 0,
               "easing": "linear"
              }
             }
            ],
            "label": "2022-04-05",
            "method": "animate"
           },
           {
            "args": [
             [
              "2022-04-06"
             ],
             {
              "frame": {
               "duration": 0,
               "redraw": true
              },
              "fromcurrent": true,
              "mode": "immediate",
              "transition": {
               "duration": 0,
               "easing": "linear"
              }
             }
            ],
            "label": "2022-04-06",
            "method": "animate"
           },
           {
            "args": [
             [
              "2022-04-07"
             ],
             {
              "frame": {
               "duration": 0,
               "redraw": true
              },
              "fromcurrent": true,
              "mode": "immediate",
              "transition": {
               "duration": 0,
               "easing": "linear"
              }
             }
            ],
            "label": "2022-04-07",
            "method": "animate"
           },
           {
            "args": [
             [
              "2022-04-08"
             ],
             {
              "frame": {
               "duration": 0,
               "redraw": true
              },
              "fromcurrent": true,
              "mode": "immediate",
              "transition": {
               "duration": 0,
               "easing": "linear"
              }
             }
            ],
            "label": "2022-04-08",
            "method": "animate"
           },
           {
            "args": [
             [
              "2022-04-09"
             ],
             {
              "frame": {
               "duration": 0,
               "redraw": true
              },
              "fromcurrent": true,
              "mode": "immediate",
              "transition": {
               "duration": 0,
               "easing": "linear"
              }
             }
            ],
            "label": "2022-04-09",
            "method": "animate"
           },
           {
            "args": [
             [
              "2022-04-10"
             ],
             {
              "frame": {
               "duration": 0,
               "redraw": true
              },
              "fromcurrent": true,
              "mode": "immediate",
              "transition": {
               "duration": 0,
               "easing": "linear"
              }
             }
            ],
            "label": "2022-04-10",
            "method": "animate"
           },
           {
            "args": [
             [
              "2022-04-11"
             ],
             {
              "frame": {
               "duration": 0,
               "redraw": true
              },
              "fromcurrent": true,
              "mode": "immediate",
              "transition": {
               "duration": 0,
               "easing": "linear"
              }
             }
            ],
            "label": "2022-04-11",
            "method": "animate"
           },
           {
            "args": [
             [
              "2022-04-12"
             ],
             {
              "frame": {
               "duration": 0,
               "redraw": true
              },
              "fromcurrent": true,
              "mode": "immediate",
              "transition": {
               "duration": 0,
               "easing": "linear"
              }
             }
            ],
            "label": "2022-04-12",
            "method": "animate"
           },
           {
            "args": [
             [
              "2022-04-13"
             ],
             {
              "frame": {
               "duration": 0,
               "redraw": true
              },
              "fromcurrent": true,
              "mode": "immediate",
              "transition": {
               "duration": 0,
               "easing": "linear"
              }
             }
            ],
            "label": "2022-04-13",
            "method": "animate"
           },
           {
            "args": [
             [
              "2022-04-14"
             ],
             {
              "frame": {
               "duration": 0,
               "redraw": true
              },
              "fromcurrent": true,
              "mode": "immediate",
              "transition": {
               "duration": 0,
               "easing": "linear"
              }
             }
            ],
            "label": "2022-04-14",
            "method": "animate"
           },
           {
            "args": [
             [
              "2022-04-15"
             ],
             {
              "frame": {
               "duration": 0,
               "redraw": true
              },
              "fromcurrent": true,
              "mode": "immediate",
              "transition": {
               "duration": 0,
               "easing": "linear"
              }
             }
            ],
            "label": "2022-04-15",
            "method": "animate"
           },
           {
            "args": [
             [
              "2022-04-16"
             ],
             {
              "frame": {
               "duration": 0,
               "redraw": true
              },
              "fromcurrent": true,
              "mode": "immediate",
              "transition": {
               "duration": 0,
               "easing": "linear"
              }
             }
            ],
            "label": "2022-04-16",
            "method": "animate"
           },
           {
            "args": [
             [
              "2022-04-17"
             ],
             {
              "frame": {
               "duration": 0,
               "redraw": true
              },
              "fromcurrent": true,
              "mode": "immediate",
              "transition": {
               "duration": 0,
               "easing": "linear"
              }
             }
            ],
            "label": "2022-04-17",
            "method": "animate"
           },
           {
            "args": [
             [
              "2022-04-18"
             ],
             {
              "frame": {
               "duration": 0,
               "redraw": true
              },
              "fromcurrent": true,
              "mode": "immediate",
              "transition": {
               "duration": 0,
               "easing": "linear"
              }
             }
            ],
            "label": "2022-04-18",
            "method": "animate"
           },
           {
            "args": [
             [
              "2022-04-19"
             ],
             {
              "frame": {
               "duration": 0,
               "redraw": true
              },
              "fromcurrent": true,
              "mode": "immediate",
              "transition": {
               "duration": 0,
               "easing": "linear"
              }
             }
            ],
            "label": "2022-04-19",
            "method": "animate"
           },
           {
            "args": [
             [
              "2022-04-20"
             ],
             {
              "frame": {
               "duration": 0,
               "redraw": true
              },
              "fromcurrent": true,
              "mode": "immediate",
              "transition": {
               "duration": 0,
               "easing": "linear"
              }
             }
            ],
            "label": "2022-04-20",
            "method": "animate"
           },
           {
            "args": [
             [
              "2022-04-21"
             ],
             {
              "frame": {
               "duration": 0,
               "redraw": true
              },
              "fromcurrent": true,
              "mode": "immediate",
              "transition": {
               "duration": 0,
               "easing": "linear"
              }
             }
            ],
            "label": "2022-04-21",
            "method": "animate"
           },
           {
            "args": [
             [
              "2022-04-22"
             ],
             {
              "frame": {
               "duration": 0,
               "redraw": true
              },
              "fromcurrent": true,
              "mode": "immediate",
              "transition": {
               "duration": 0,
               "easing": "linear"
              }
             }
            ],
            "label": "2022-04-22",
            "method": "animate"
           },
           {
            "args": [
             [
              "2022-04-23"
             ],
             {
              "frame": {
               "duration": 0,
               "redraw": true
              },
              "fromcurrent": true,
              "mode": "immediate",
              "transition": {
               "duration": 0,
               "easing": "linear"
              }
             }
            ],
            "label": "2022-04-23",
            "method": "animate"
           },
           {
            "args": [
             [
              "2022-04-24"
             ],
             {
              "frame": {
               "duration": 0,
               "redraw": true
              },
              "fromcurrent": true,
              "mode": "immediate",
              "transition": {
               "duration": 0,
               "easing": "linear"
              }
             }
            ],
            "label": "2022-04-24",
            "method": "animate"
           },
           {
            "args": [
             [
              "2022-04-25"
             ],
             {
              "frame": {
               "duration": 0,
               "redraw": true
              },
              "fromcurrent": true,
              "mode": "immediate",
              "transition": {
               "duration": 0,
               "easing": "linear"
              }
             }
            ],
            "label": "2022-04-25",
            "method": "animate"
           },
           {
            "args": [
             [
              "2022-04-26"
             ],
             {
              "frame": {
               "duration": 0,
               "redraw": true
              },
              "fromcurrent": true,
              "mode": "immediate",
              "transition": {
               "duration": 0,
               "easing": "linear"
              }
             }
            ],
            "label": "2022-04-26",
            "method": "animate"
           },
           {
            "args": [
             [
              "2022-04-27"
             ],
             {
              "frame": {
               "duration": 0,
               "redraw": true
              },
              "fromcurrent": true,
              "mode": "immediate",
              "transition": {
               "duration": 0,
               "easing": "linear"
              }
             }
            ],
            "label": "2022-04-27",
            "method": "animate"
           },
           {
            "args": [
             [
              "2022-04-28"
             ],
             {
              "frame": {
               "duration": 0,
               "redraw": true
              },
              "fromcurrent": true,
              "mode": "immediate",
              "transition": {
               "duration": 0,
               "easing": "linear"
              }
             }
            ],
            "label": "2022-04-28",
            "method": "animate"
           },
           {
            "args": [
             [
              "2022-04-29"
             ],
             {
              "frame": {
               "duration": 0,
               "redraw": true
              },
              "fromcurrent": true,
              "mode": "immediate",
              "transition": {
               "duration": 0,
               "easing": "linear"
              }
             }
            ],
            "label": "2022-04-29",
            "method": "animate"
           },
           {
            "args": [
             [
              "2022-04-30"
             ],
             {
              "frame": {
               "duration": 0,
               "redraw": true
              },
              "fromcurrent": true,
              "mode": "immediate",
              "transition": {
               "duration": 0,
               "easing": "linear"
              }
             }
            ],
            "label": "2022-04-30",
            "method": "animate"
           },
           {
            "args": [
             [
              "2022-05-01"
             ],
             {
              "frame": {
               "duration": 0,
               "redraw": true
              },
              "fromcurrent": true,
              "mode": "immediate",
              "transition": {
               "duration": 0,
               "easing": "linear"
              }
             }
            ],
            "label": "2022-05-01",
            "method": "animate"
           },
           {
            "args": [
             [
              "2022-05-02"
             ],
             {
              "frame": {
               "duration": 0,
               "redraw": true
              },
              "fromcurrent": true,
              "mode": "immediate",
              "transition": {
               "duration": 0,
               "easing": "linear"
              }
             }
            ],
            "label": "2022-05-02",
            "method": "animate"
           },
           {
            "args": [
             [
              "2022-05-03"
             ],
             {
              "frame": {
               "duration": 0,
               "redraw": true
              },
              "fromcurrent": true,
              "mode": "immediate",
              "transition": {
               "duration": 0,
               "easing": "linear"
              }
             }
            ],
            "label": "2022-05-03",
            "method": "animate"
           },
           {
            "args": [
             [
              "2022-05-04"
             ],
             {
              "frame": {
               "duration": 0,
               "redraw": true
              },
              "fromcurrent": true,
              "mode": "immediate",
              "transition": {
               "duration": 0,
               "easing": "linear"
              }
             }
            ],
            "label": "2022-05-04",
            "method": "animate"
           },
           {
            "args": [
             [
              "2022-05-05"
             ],
             {
              "frame": {
               "duration": 0,
               "redraw": true
              },
              "fromcurrent": true,
              "mode": "immediate",
              "transition": {
               "duration": 0,
               "easing": "linear"
              }
             }
            ],
            "label": "2022-05-05",
            "method": "animate"
           },
           {
            "args": [
             [
              "2022-05-06"
             ],
             {
              "frame": {
               "duration": 0,
               "redraw": true
              },
              "fromcurrent": true,
              "mode": "immediate",
              "transition": {
               "duration": 0,
               "easing": "linear"
              }
             }
            ],
            "label": "2022-05-06",
            "method": "animate"
           },
           {
            "args": [
             [
              "2022-05-07"
             ],
             {
              "frame": {
               "duration": 0,
               "redraw": true
              },
              "fromcurrent": true,
              "mode": "immediate",
              "transition": {
               "duration": 0,
               "easing": "linear"
              }
             }
            ],
            "label": "2022-05-07",
            "method": "animate"
           },
           {
            "args": [
             [
              "2022-05-08"
             ],
             {
              "frame": {
               "duration": 0,
               "redraw": true
              },
              "fromcurrent": true,
              "mode": "immediate",
              "transition": {
               "duration": 0,
               "easing": "linear"
              }
             }
            ],
            "label": "2022-05-08",
            "method": "animate"
           },
           {
            "args": [
             [
              "2022-05-09"
             ],
             {
              "frame": {
               "duration": 0,
               "redraw": true
              },
              "fromcurrent": true,
              "mode": "immediate",
              "transition": {
               "duration": 0,
               "easing": "linear"
              }
             }
            ],
            "label": "2022-05-09",
            "method": "animate"
           },
           {
            "args": [
             [
              "2022-05-10"
             ],
             {
              "frame": {
               "duration": 0,
               "redraw": true
              },
              "fromcurrent": true,
              "mode": "immediate",
              "transition": {
               "duration": 0,
               "easing": "linear"
              }
             }
            ],
            "label": "2022-05-10",
            "method": "animate"
           },
           {
            "args": [
             [
              "2022-05-11"
             ],
             {
              "frame": {
               "duration": 0,
               "redraw": true
              },
              "fromcurrent": true,
              "mode": "immediate",
              "transition": {
               "duration": 0,
               "easing": "linear"
              }
             }
            ],
            "label": "2022-05-11",
            "method": "animate"
           },
           {
            "args": [
             [
              "2022-05-12"
             ],
             {
              "frame": {
               "duration": 0,
               "redraw": true
              },
              "fromcurrent": true,
              "mode": "immediate",
              "transition": {
               "duration": 0,
               "easing": "linear"
              }
             }
            ],
            "label": "2022-05-12",
            "method": "animate"
           },
           {
            "args": [
             [
              "2022-05-13"
             ],
             {
              "frame": {
               "duration": 0,
               "redraw": true
              },
              "fromcurrent": true,
              "mode": "immediate",
              "transition": {
               "duration": 0,
               "easing": "linear"
              }
             }
            ],
            "label": "2022-05-13",
            "method": "animate"
           },
           {
            "args": [
             [
              "2022-05-14"
             ],
             {
              "frame": {
               "duration": 0,
               "redraw": true
              },
              "fromcurrent": true,
              "mode": "immediate",
              "transition": {
               "duration": 0,
               "easing": "linear"
              }
             }
            ],
            "label": "2022-05-14",
            "method": "animate"
           },
           {
            "args": [
             [
              "2022-05-15"
             ],
             {
              "frame": {
               "duration": 0,
               "redraw": true
              },
              "fromcurrent": true,
              "mode": "immediate",
              "transition": {
               "duration": 0,
               "easing": "linear"
              }
             }
            ],
            "label": "2022-05-15",
            "method": "animate"
           },
           {
            "args": [
             [
              "2022-05-16"
             ],
             {
              "frame": {
               "duration": 0,
               "redraw": true
              },
              "fromcurrent": true,
              "mode": "immediate",
              "transition": {
               "duration": 0,
               "easing": "linear"
              }
             }
            ],
            "label": "2022-05-16",
            "method": "animate"
           },
           {
            "args": [
             [
              "2022-05-17"
             ],
             {
              "frame": {
               "duration": 0,
               "redraw": true
              },
              "fromcurrent": true,
              "mode": "immediate",
              "transition": {
               "duration": 0,
               "easing": "linear"
              }
             }
            ],
            "label": "2022-05-17",
            "method": "animate"
           },
           {
            "args": [
             [
              "2022-05-18"
             ],
             {
              "frame": {
               "duration": 0,
               "redraw": true
              },
              "fromcurrent": true,
              "mode": "immediate",
              "transition": {
               "duration": 0,
               "easing": "linear"
              }
             }
            ],
            "label": "2022-05-18",
            "method": "animate"
           },
           {
            "args": [
             [
              "2022-05-19"
             ],
             {
              "frame": {
               "duration": 0,
               "redraw": true
              },
              "fromcurrent": true,
              "mode": "immediate",
              "transition": {
               "duration": 0,
               "easing": "linear"
              }
             }
            ],
            "label": "2022-05-19",
            "method": "animate"
           },
           {
            "args": [
             [
              "2022-05-20"
             ],
             {
              "frame": {
               "duration": 0,
               "redraw": true
              },
              "fromcurrent": true,
              "mode": "immediate",
              "transition": {
               "duration": 0,
               "easing": "linear"
              }
             }
            ],
            "label": "2022-05-20",
            "method": "animate"
           },
           {
            "args": [
             [
              "2022-05-21"
             ],
             {
              "frame": {
               "duration": 0,
               "redraw": true
              },
              "fromcurrent": true,
              "mode": "immediate",
              "transition": {
               "duration": 0,
               "easing": "linear"
              }
             }
            ],
            "label": "2022-05-21",
            "method": "animate"
           },
           {
            "args": [
             [
              "2022-05-22"
             ],
             {
              "frame": {
               "duration": 0,
               "redraw": true
              },
              "fromcurrent": true,
              "mode": "immediate",
              "transition": {
               "duration": 0,
               "easing": "linear"
              }
             }
            ],
            "label": "2022-05-22",
            "method": "animate"
           },
           {
            "args": [
             [
              "2022-05-23"
             ],
             {
              "frame": {
               "duration": 0,
               "redraw": true
              },
              "fromcurrent": true,
              "mode": "immediate",
              "transition": {
               "duration": 0,
               "easing": "linear"
              }
             }
            ],
            "label": "2022-05-23",
            "method": "animate"
           },
           {
            "args": [
             [
              "2022-05-24"
             ],
             {
              "frame": {
               "duration": 0,
               "redraw": true
              },
              "fromcurrent": true,
              "mode": "immediate",
              "transition": {
               "duration": 0,
               "easing": "linear"
              }
             }
            ],
            "label": "2022-05-24",
            "method": "animate"
           },
           {
            "args": [
             [
              "2022-05-25"
             ],
             {
              "frame": {
               "duration": 0,
               "redraw": true
              },
              "fromcurrent": true,
              "mode": "immediate",
              "transition": {
               "duration": 0,
               "easing": "linear"
              }
             }
            ],
            "label": "2022-05-25",
            "method": "animate"
           },
           {
            "args": [
             [
              "2022-05-26"
             ],
             {
              "frame": {
               "duration": 0,
               "redraw": true
              },
              "fromcurrent": true,
              "mode": "immediate",
              "transition": {
               "duration": 0,
               "easing": "linear"
              }
             }
            ],
            "label": "2022-05-26",
            "method": "animate"
           },
           {
            "args": [
             [
              "2022-05-27"
             ],
             {
              "frame": {
               "duration": 0,
               "redraw": true
              },
              "fromcurrent": true,
              "mode": "immediate",
              "transition": {
               "duration": 0,
               "easing": "linear"
              }
             }
            ],
            "label": "2022-05-27",
            "method": "animate"
           },
           {
            "args": [
             [
              "2022-05-28"
             ],
             {
              "frame": {
               "duration": 0,
               "redraw": true
              },
              "fromcurrent": true,
              "mode": "immediate",
              "transition": {
               "duration": 0,
               "easing": "linear"
              }
             }
            ],
            "label": "2022-05-28",
            "method": "animate"
           },
           {
            "args": [
             [
              "2022-05-29"
             ],
             {
              "frame": {
               "duration": 0,
               "redraw": true
              },
              "fromcurrent": true,
              "mode": "immediate",
              "transition": {
               "duration": 0,
               "easing": "linear"
              }
             }
            ],
            "label": "2022-05-29",
            "method": "animate"
           },
           {
            "args": [
             [
              "2022-05-30"
             ],
             {
              "frame": {
               "duration": 0,
               "redraw": true
              },
              "fromcurrent": true,
              "mode": "immediate",
              "transition": {
               "duration": 0,
               "easing": "linear"
              }
             }
            ],
            "label": "2022-05-30",
            "method": "animate"
           },
           {
            "args": [
             [
              "2022-05-31"
             ],
             {
              "frame": {
               "duration": 0,
               "redraw": true
              },
              "fromcurrent": true,
              "mode": "immediate",
              "transition": {
               "duration": 0,
               "easing": "linear"
              }
             }
            ],
            "label": "2022-05-31",
            "method": "animate"
           },
           {
            "args": [
             [
              "2022-06-01"
             ],
             {
              "frame": {
               "duration": 0,
               "redraw": true
              },
              "fromcurrent": true,
              "mode": "immediate",
              "transition": {
               "duration": 0,
               "easing": "linear"
              }
             }
            ],
            "label": "2022-06-01",
            "method": "animate"
           },
           {
            "args": [
             [
              "2022-06-02"
             ],
             {
              "frame": {
               "duration": 0,
               "redraw": true
              },
              "fromcurrent": true,
              "mode": "immediate",
              "transition": {
               "duration": 0,
               "easing": "linear"
              }
             }
            ],
            "label": "2022-06-02",
            "method": "animate"
           },
           {
            "args": [
             [
              "2022-06-03"
             ],
             {
              "frame": {
               "duration": 0,
               "redraw": true
              },
              "fromcurrent": true,
              "mode": "immediate",
              "transition": {
               "duration": 0,
               "easing": "linear"
              }
             }
            ],
            "label": "2022-06-03",
            "method": "animate"
           },
           {
            "args": [
             [
              "2022-06-04"
             ],
             {
              "frame": {
               "duration": 0,
               "redraw": true
              },
              "fromcurrent": true,
              "mode": "immediate",
              "transition": {
               "duration": 0,
               "easing": "linear"
              }
             }
            ],
            "label": "2022-06-04",
            "method": "animate"
           }
          ],
          "x": 0.1,
          "xanchor": "left",
          "y": 0,
          "yanchor": "top"
         }
        ],
        "template": {
         "data": {
          "bar": [
           {
            "error_x": {
             "color": "#2a3f5f"
            },
            "error_y": {
             "color": "#2a3f5f"
            },
            "marker": {
             "line": {
              "color": "#E5ECF6",
              "width": 0.5
             },
             "pattern": {
              "fillmode": "overlay",
              "size": 10,
              "solidity": 0.2
             }
            },
            "type": "bar"
           }
          ],
          "barpolar": [
           {
            "marker": {
             "line": {
              "color": "#E5ECF6",
              "width": 0.5
             },
             "pattern": {
              "fillmode": "overlay",
              "size": 10,
              "solidity": 0.2
             }
            },
            "type": "barpolar"
           }
          ],
          "carpet": [
           {
            "aaxis": {
             "endlinecolor": "#2a3f5f",
             "gridcolor": "white",
             "linecolor": "white",
             "minorgridcolor": "white",
             "startlinecolor": "#2a3f5f"
            },
            "baxis": {
             "endlinecolor": "#2a3f5f",
             "gridcolor": "white",
             "linecolor": "white",
             "minorgridcolor": "white",
             "startlinecolor": "#2a3f5f"
            },
            "type": "carpet"
           }
          ],
          "choropleth": [
           {
            "colorbar": {
             "outlinewidth": 0,
             "ticks": ""
            },
            "type": "choropleth"
           }
          ],
          "contour": [
           {
            "colorbar": {
             "outlinewidth": 0,
             "ticks": ""
            },
            "colorscale": [
             [
              0,
              "#0d0887"
             ],
             [
              0.1111111111111111,
              "#46039f"
             ],
             [
              0.2222222222222222,
              "#7201a8"
             ],
             [
              0.3333333333333333,
              "#9c179e"
             ],
             [
              0.4444444444444444,
              "#bd3786"
             ],
             [
              0.5555555555555556,
              "#d8576b"
             ],
             [
              0.6666666666666666,
              "#ed7953"
             ],
             [
              0.7777777777777778,
              "#fb9f3a"
             ],
             [
              0.8888888888888888,
              "#fdca26"
             ],
             [
              1,
              "#f0f921"
             ]
            ],
            "type": "contour"
           }
          ],
          "contourcarpet": [
           {
            "colorbar": {
             "outlinewidth": 0,
             "ticks": ""
            },
            "type": "contourcarpet"
           }
          ],
          "heatmap": [
           {
            "colorbar": {
             "outlinewidth": 0,
             "ticks": ""
            },
            "colorscale": [
             [
              0,
              "#0d0887"
             ],
             [
              0.1111111111111111,
              "#46039f"
             ],
             [
              0.2222222222222222,
              "#7201a8"
             ],
             [
              0.3333333333333333,
              "#9c179e"
             ],
             [
              0.4444444444444444,
              "#bd3786"
             ],
             [
              0.5555555555555556,
              "#d8576b"
             ],
             [
              0.6666666666666666,
              "#ed7953"
             ],
             [
              0.7777777777777778,
              "#fb9f3a"
             ],
             [
              0.8888888888888888,
              "#fdca26"
             ],
             [
              1,
              "#f0f921"
             ]
            ],
            "type": "heatmap"
           }
          ],
          "heatmapgl": [
           {
            "colorbar": {
             "outlinewidth": 0,
             "ticks": ""
            },
            "colorscale": [
             [
              0,
              "#0d0887"
             ],
             [
              0.1111111111111111,
              "#46039f"
             ],
             [
              0.2222222222222222,
              "#7201a8"
             ],
             [
              0.3333333333333333,
              "#9c179e"
             ],
             [
              0.4444444444444444,
              "#bd3786"
             ],
             [
              0.5555555555555556,
              "#d8576b"
             ],
             [
              0.6666666666666666,
              "#ed7953"
             ],
             [
              0.7777777777777778,
              "#fb9f3a"
             ],
             [
              0.8888888888888888,
              "#fdca26"
             ],
             [
              1,
              "#f0f921"
             ]
            ],
            "type": "heatmapgl"
           }
          ],
          "histogram": [
           {
            "marker": {
             "pattern": {
              "fillmode": "overlay",
              "size": 10,
              "solidity": 0.2
             }
            },
            "type": "histogram"
           }
          ],
          "histogram2d": [
           {
            "colorbar": {
             "outlinewidth": 0,
             "ticks": ""
            },
            "colorscale": [
             [
              0,
              "#0d0887"
             ],
             [
              0.1111111111111111,
              "#46039f"
             ],
             [
              0.2222222222222222,
              "#7201a8"
             ],
             [
              0.3333333333333333,
              "#9c179e"
             ],
             [
              0.4444444444444444,
              "#bd3786"
             ],
             [
              0.5555555555555556,
              "#d8576b"
             ],
             [
              0.6666666666666666,
              "#ed7953"
             ],
             [
              0.7777777777777778,
              "#fb9f3a"
             ],
             [
              0.8888888888888888,
              "#fdca26"
             ],
             [
              1,
              "#f0f921"
             ]
            ],
            "type": "histogram2d"
           }
          ],
          "histogram2dcontour": [
           {
            "colorbar": {
             "outlinewidth": 0,
             "ticks": ""
            },
            "colorscale": [
             [
              0,
              "#0d0887"
             ],
             [
              0.1111111111111111,
              "#46039f"
             ],
             [
              0.2222222222222222,
              "#7201a8"
             ],
             [
              0.3333333333333333,
              "#9c179e"
             ],
             [
              0.4444444444444444,
              "#bd3786"
             ],
             [
              0.5555555555555556,
              "#d8576b"
             ],
             [
              0.6666666666666666,
              "#ed7953"
             ],
             [
              0.7777777777777778,
              "#fb9f3a"
             ],
             [
              0.8888888888888888,
              "#fdca26"
             ],
             [
              1,
              "#f0f921"
             ]
            ],
            "type": "histogram2dcontour"
           }
          ],
          "mesh3d": [
           {
            "colorbar": {
             "outlinewidth": 0,
             "ticks": ""
            },
            "type": "mesh3d"
           }
          ],
          "parcoords": [
           {
            "line": {
             "colorbar": {
              "outlinewidth": 0,
              "ticks": ""
             }
            },
            "type": "parcoords"
           }
          ],
          "pie": [
           {
            "automargin": true,
            "type": "pie"
           }
          ],
          "scatter": [
           {
            "marker": {
             "colorbar": {
              "outlinewidth": 0,
              "ticks": ""
             }
            },
            "type": "scatter"
           }
          ],
          "scatter3d": [
           {
            "line": {
             "colorbar": {
              "outlinewidth": 0,
              "ticks": ""
             }
            },
            "marker": {
             "colorbar": {
              "outlinewidth": 0,
              "ticks": ""
             }
            },
            "type": "scatter3d"
           }
          ],
          "scattercarpet": [
           {
            "marker": {
             "colorbar": {
              "outlinewidth": 0,
              "ticks": ""
             }
            },
            "type": "scattercarpet"
           }
          ],
          "scattergeo": [
           {
            "marker": {
             "colorbar": {
              "outlinewidth": 0,
              "ticks": ""
             }
            },
            "type": "scattergeo"
           }
          ],
          "scattergl": [
           {
            "marker": {
             "colorbar": {
              "outlinewidth": 0,
              "ticks": ""
             }
            },
            "type": "scattergl"
           }
          ],
          "scattermapbox": [
           {
            "marker": {
             "colorbar": {
              "outlinewidth": 0,
              "ticks": ""
             }
            },
            "type": "scattermapbox"
           }
          ],
          "scatterpolar": [
           {
            "marker": {
             "colorbar": {
              "outlinewidth": 0,
              "ticks": ""
             }
            },
            "type": "scatterpolar"
           }
          ],
          "scatterpolargl": [
           {
            "marker": {
             "colorbar": {
              "outlinewidth": 0,
              "ticks": ""
             }
            },
            "type": "scatterpolargl"
           }
          ],
          "scatterternary": [
           {
            "marker": {
             "colorbar": {
              "outlinewidth": 0,
              "ticks": ""
             }
            },
            "type": "scatterternary"
           }
          ],
          "surface": [
           {
            "colorbar": {
             "outlinewidth": 0,
             "ticks": ""
            },
            "colorscale": [
             [
              0,
              "#0d0887"
             ],
             [
              0.1111111111111111,
              "#46039f"
             ],
             [
              0.2222222222222222,
              "#7201a8"
             ],
             [
              0.3333333333333333,
              "#9c179e"
             ],
             [
              0.4444444444444444,
              "#bd3786"
             ],
             [
              0.5555555555555556,
              "#d8576b"
             ],
             [
              0.6666666666666666,
              "#ed7953"
             ],
             [
              0.7777777777777778,
              "#fb9f3a"
             ],
             [
              0.8888888888888888,
              "#fdca26"
             ],
             [
              1,
              "#f0f921"
             ]
            ],
            "type": "surface"
           }
          ],
          "table": [
           {
            "cells": {
             "fill": {
              "color": "#EBF0F8"
             },
             "line": {
              "color": "white"
             }
            },
            "header": {
             "fill": {
              "color": "#C8D4E3"
             },
             "line": {
              "color": "white"
             }
            },
            "type": "table"
           }
          ]
         },
         "layout": {
          "annotationdefaults": {
           "arrowcolor": "#2a3f5f",
           "arrowhead": 0,
           "arrowwidth": 1
          },
          "autotypenumbers": "strict",
          "coloraxis": {
           "colorbar": {
            "outlinewidth": 0,
            "ticks": ""
           }
          },
          "colorscale": {
           "diverging": [
            [
             0,
             "#8e0152"
            ],
            [
             0.1,
             "#c51b7d"
            ],
            [
             0.2,
             "#de77ae"
            ],
            [
             0.3,
             "#f1b6da"
            ],
            [
             0.4,
             "#fde0ef"
            ],
            [
             0.5,
             "#f7f7f7"
            ],
            [
             0.6,
             "#e6f5d0"
            ],
            [
             0.7,
             "#b8e186"
            ],
            [
             0.8,
             "#7fbc41"
            ],
            [
             0.9,
             "#4d9221"
            ],
            [
             1,
             "#276419"
            ]
           ],
           "sequential": [
            [
             0,
             "#0d0887"
            ],
            [
             0.1111111111111111,
             "#46039f"
            ],
            [
             0.2222222222222222,
             "#7201a8"
            ],
            [
             0.3333333333333333,
             "#9c179e"
            ],
            [
             0.4444444444444444,
             "#bd3786"
            ],
            [
             0.5555555555555556,
             "#d8576b"
            ],
            [
             0.6666666666666666,
             "#ed7953"
            ],
            [
             0.7777777777777778,
             "#fb9f3a"
            ],
            [
             0.8888888888888888,
             "#fdca26"
            ],
            [
             1,
             "#f0f921"
            ]
           ],
           "sequentialminus": [
            [
             0,
             "#0d0887"
            ],
            [
             0.1111111111111111,
             "#46039f"
            ],
            [
             0.2222222222222222,
             "#7201a8"
            ],
            [
             0.3333333333333333,
             "#9c179e"
            ],
            [
             0.4444444444444444,
             "#bd3786"
            ],
            [
             0.5555555555555556,
             "#d8576b"
            ],
            [
             0.6666666666666666,
             "#ed7953"
            ],
            [
             0.7777777777777778,
             "#fb9f3a"
            ],
            [
             0.8888888888888888,
             "#fdca26"
            ],
            [
             1,
             "#f0f921"
            ]
           ]
          },
          "colorway": [
           "#636efa",
           "#EF553B",
           "#00cc96",
           "#ab63fa",
           "#FFA15A",
           "#19d3f3",
           "#FF6692",
           "#B6E880",
           "#FF97FF",
           "#FECB52"
          ],
          "font": {
           "color": "#2a3f5f"
          },
          "geo": {
           "bgcolor": "white",
           "lakecolor": "white",
           "landcolor": "#E5ECF6",
           "showlakes": true,
           "showland": true,
           "subunitcolor": "white"
          },
          "hoverlabel": {
           "align": "left"
          },
          "hovermode": "closest",
          "mapbox": {
           "style": "light"
          },
          "paper_bgcolor": "white",
          "plot_bgcolor": "#E5ECF6",
          "polar": {
           "angularaxis": {
            "gridcolor": "white",
            "linecolor": "white",
            "ticks": ""
           },
           "bgcolor": "#E5ECF6",
           "radialaxis": {
            "gridcolor": "white",
            "linecolor": "white",
            "ticks": ""
           }
          },
          "scene": {
           "xaxis": {
            "backgroundcolor": "#E5ECF6",
            "gridcolor": "white",
            "gridwidth": 2,
            "linecolor": "white",
            "showbackground": true,
            "ticks": "",
            "zerolinecolor": "white"
           },
           "yaxis": {
            "backgroundcolor": "#E5ECF6",
            "gridcolor": "white",
            "gridwidth": 2,
            "linecolor": "white",
            "showbackground": true,
            "ticks": "",
            "zerolinecolor": "white"
           },
           "zaxis": {
            "backgroundcolor": "#E5ECF6",
            "gridcolor": "white",
            "gridwidth": 2,
            "linecolor": "white",
            "showbackground": true,
            "ticks": "",
            "zerolinecolor": "white"
           }
          },
          "shapedefaults": {
           "line": {
            "color": "#2a3f5f"
           }
          },
          "ternary": {
           "aaxis": {
            "gridcolor": "white",
            "linecolor": "white",
            "ticks": ""
           },
           "baxis": {
            "gridcolor": "white",
            "linecolor": "white",
            "ticks": ""
           },
           "bgcolor": "#E5ECF6",
           "caxis": {
            "gridcolor": "white",
            "linecolor": "white",
            "ticks": ""
           }
          },
          "title": {
           "x": 0.05
          },
          "xaxis": {
           "automargin": true,
           "gridcolor": "white",
           "linecolor": "white",
           "ticks": "",
           "title": {
            "standoff": 15
           },
           "zerolinecolor": "white",
           "zerolinewidth": 2
          },
          "yaxis": {
           "automargin": true,
           "gridcolor": "white",
           "linecolor": "white",
           "ticks": "",
           "title": {
            "standoff": 15
           },
           "zerolinecolor": "white",
           "zerolinewidth": 2
          }
         }
        },
        "updatemenus": [
         {
          "buttons": [
           {
            "args": [
             null,
             {
              "frame": {
               "duration": 500,
               "redraw": true
              },
              "fromcurrent": true,
              "mode": "immediate",
              "transition": {
               "duration": 500,
               "easing": "linear"
              }
             }
            ],
            "label": "&#9654;",
            "method": "animate"
           },
           {
            "args": [
             [
              null
             ],
             {
              "frame": {
               "duration": 0,
               "redraw": true
              },
              "fromcurrent": true,
              "mode": "immediate",
              "transition": {
               "duration": 0,
               "easing": "linear"
              }
             }
            ],
            "label": "&#9724;",
            "method": "animate"
           }
          ],
          "direction": "left",
          "pad": {
           "r": 10,
           "t": 70
          },
          "showactive": false,
          "type": "buttons",
          "x": 0.1,
          "xanchor": "right",
          "y": 0,
          "yanchor": "top"
         }
        ],
        "width": 1200
       }
      }
     },
     "metadata": {},
     "output_type": "display_data"
    }
   ],
   "source": [
    "px.set_mapbox_access_token(\"pk.eyJ1Ijoic2hha2Fzb20iLCJhIjoiY2plMWg1NGFpMXZ5NjJxbjhlM2ttN3AwbiJ9.RtGYHmreKiyBfHuElgYq_w\")\n",
    "fig_3 = px.scatter_mapbox(\n",
    "    user_line_gdf, \n",
    "    lat=\"lat\", \n",
    "    lon=\"lon\", \n",
    "    color=\"geofence\", \n",
    "    #size=\"track_id\", \n",
    "    animation_frame=\"time\", \n",
    "    size_max=100, \n",
    "    zoom=12, \n",
    "    width=1200, \n",
    "    height=800,\n",
    "    #mapbox_style=\"dark\"\n",
    ")\n",
    "fig_3.show(renderer=\"iframe\")\n",
    "fig_3.show()"
   ]
  }
 ],
 "metadata": {
  "interpreter": {
   "hash": "982905b65b5f75b92a9ba9d4e9278911d600b6ec40333eb59f4e1881aba0ac28"
  },
  "kernelspec": {
   "display_name": "env",
   "language": "python",
   "name": "python3"
  },
  "language_info": {
   "codemirror_mode": {
    "name": "ipython",
    "version": 3
   },
   "file_extension": ".py",
   "mimetype": "text/x-python",
   "name": "python",
   "nbconvert_exporter": "python",
   "pygments_lexer": "ipython3",
   "version": "3.8.3"
  },
  "toc": {
   "base_numbering": 1,
   "nav_menu": {},
   "number_sections": true,
   "sideBar": true,
   "skip_h1_title": false,
   "title_cell": "Table of Contents",
   "title_sidebar": "Contents",
   "toc_cell": false,
   "toc_position": {},
   "toc_section_display": true,
   "toc_window_display": false
  }
 },
 "nbformat": 4,
 "nbformat_minor": 2
}
